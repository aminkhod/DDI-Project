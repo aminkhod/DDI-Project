{
 "cells": [
  {
   "cell_type": "code",
   "execution_count": 1,
   "metadata": {},
   "outputs": [],
   "source": [
    "import pandas as pd"
   ]
  },
  {
   "cell_type": "code",
   "execution_count": 2,
   "metadata": {},
   "outputs": [
    {
     "data": {
      "text/html": [
       "<div>\n",
       "<style scoped>\n",
       "    .dataframe tbody tr th:only-of-type {\n",
       "        vertical-align: middle;\n",
       "    }\n",
       "\n",
       "    .dataframe tbody tr th {\n",
       "        vertical-align: top;\n",
       "    }\n",
       "\n",
       "    .dataframe thead th {\n",
       "        text-align: right;\n",
       "    }\n",
       "</style>\n",
       "<table border=\"1\" class=\"dataframe\">\n",
       "  <thead>\n",
       "    <tr style=\"text-align: right;\">\n",
       "      <th></th>\n",
       "      <th>drugbank-id</th>\n",
       "      <th>name</th>\n",
       "      <th>groups</th>\n",
       "      <th>drug-interactions</th>\n",
       "      <th>pathways</th>\n",
       "      <th>snp-adverse-drug-reactions</th>\n",
       "      <th>targets</th>\n",
       "      <th>enzymes</th>\n",
       "      <th>carriers</th>\n",
       "      <th>transporters</th>\n",
       "    </tr>\n",
       "  </thead>\n",
       "  <tbody>\n",
       "    <tr>\n",
       "      <th>0</th>\n",
       "      <td>DB00001</td>\n",
       "      <td>Lepirudin</td>\n",
       "      <td>approved</td>\n",
       "      <td>DB06605ApixabanApixaban may increase the antic...</td>\n",
       "      <td>SMP0000278Lepirudin Action Pathwaydrug_actionD...</td>\n",
       "      <td>NaN</td>\n",
       "      <td>BE0000048ProthrombinHumansinhibitorA1703105055...</td>\n",
       "      <td>NaN</td>\n",
       "      <td>NaN</td>\n",
       "      <td>NaN</td>\n",
       "    </tr>\n",
       "    <tr>\n",
       "      <th>1</th>\n",
       "      <td>DB00002</td>\n",
       "      <td>Cetuximab</td>\n",
       "      <td>approved</td>\n",
       "      <td>DB00012Darbepoetin alfaThe risk or severity of...</td>\n",
       "      <td>SMP0000474Cetuximab Action Pathwaydrug_actionD...</td>\n",
       "      <td>NaN</td>\n",
       "      <td>BE0000767Epidermal growth factor receptorHuman...</td>\n",
       "      <td>NaN</td>\n",
       "      <td>NaN</td>\n",
       "      <td>NaN</td>\n",
       "    </tr>\n",
       "    <tr>\n",
       "      <th>2</th>\n",
       "      <td>DB00003</td>\n",
       "      <td>Dornase alfa</td>\n",
       "      <td>approved</td>\n",
       "      <td>NaN</td>\n",
       "      <td>NaN</td>\n",
       "      <td>NaN</td>\n",
       "      <td>BE0004796DNAHumansA128792953Cramer GW, Bosso J...</td>\n",
       "      <td>NaN</td>\n",
       "      <td>NaN</td>\n",
       "      <td>NaN</td>\n",
       "    </tr>\n",
       "    <tr>\n",
       "      <th>3</th>\n",
       "      <td>DB00009</td>\n",
       "      <td>Alteplase</td>\n",
       "      <td>approved</td>\n",
       "      <td>DB06605ApixabanApixaban may increase the antic...</td>\n",
       "      <td>SMP0000280Alteplase Action Pathwaydrug_actionD...</td>\n",
       "      <td>NaN</td>\n",
       "      <td>BE0000211PlasminogenHumansactivatorA6689186732...</td>\n",
       "      <td>NaN</td>\n",
       "      <td>NaN</td>\n",
       "      <td>NaN</td>\n",
       "    </tr>\n",
       "    <tr>\n",
       "      <th>4</th>\n",
       "      <td>DB00014</td>\n",
       "      <td>Goserelin</td>\n",
       "      <td>approved</td>\n",
       "      <td>DB09066Corifollitropin alfaThe therapeutic eff...</td>\n",
       "      <td>NaN</td>\n",
       "      <td>NaN</td>\n",
       "      <td>BE0000134Lutropin-choriogonadotropic hormone r...</td>\n",
       "      <td>NaN</td>\n",
       "      <td>NaN</td>\n",
       "      <td>NaN</td>\n",
       "    </tr>\n",
       "  </tbody>\n",
       "</table>\n",
       "</div>"
      ],
      "text/plain": [
       "  drugbank-id          name    groups  \\\n",
       "0     DB00001     Lepirudin  approved   \n",
       "1     DB00002     Cetuximab  approved   \n",
       "2     DB00003  Dornase alfa  approved   \n",
       "3     DB00009     Alteplase  approved   \n",
       "4     DB00014     Goserelin  approved   \n",
       "\n",
       "                                   drug-interactions  \\\n",
       "0  DB06605ApixabanApixaban may increase the antic...   \n",
       "1  DB00012Darbepoetin alfaThe risk or severity of...   \n",
       "2                                                NaN   \n",
       "3  DB06605ApixabanApixaban may increase the antic...   \n",
       "4  DB09066Corifollitropin alfaThe therapeutic eff...   \n",
       "\n",
       "                                            pathways  \\\n",
       "0  SMP0000278Lepirudin Action Pathwaydrug_actionD...   \n",
       "1  SMP0000474Cetuximab Action Pathwaydrug_actionD...   \n",
       "2                                                NaN   \n",
       "3  SMP0000280Alteplase Action Pathwaydrug_actionD...   \n",
       "4                                                NaN   \n",
       "\n",
       "  snp-adverse-drug-reactions  \\\n",
       "0                        NaN   \n",
       "1                        NaN   \n",
       "2                        NaN   \n",
       "3                        NaN   \n",
       "4                        NaN   \n",
       "\n",
       "                                             targets enzymes carriers  \\\n",
       "0  BE0000048ProthrombinHumansinhibitorA1703105055...     NaN      NaN   \n",
       "1  BE0000767Epidermal growth factor receptorHuman...     NaN      NaN   \n",
       "2  BE0004796DNAHumansA128792953Cramer GW, Bosso J...     NaN      NaN   \n",
       "3  BE0000211PlasminogenHumansactivatorA6689186732...     NaN      NaN   \n",
       "4  BE0000134Lutropin-choriogonadotropic hormone r...     NaN      NaN   \n",
       "\n",
       "  transporters  \n",
       "0          NaN  \n",
       "1          NaN  \n",
       "2          NaN  \n",
       "3          NaN  \n",
       "4          NaN  "
      ]
     },
     "execution_count": 2,
     "metadata": {},
     "output_type": "execute_result"
    }
   ],
   "source": [
    "DrugBankData = pd.read_csv('../../Drug bank version/summrizedApprovedDB 5.1.6.csv')\n",
    "DrugBankData.head()"
   ]
  },
  {
   "cell_type": "code",
   "execution_count": 3,
   "metadata": {},
   "outputs": [],
   "source": [
    "DrugName = list(pd.read_csv('Drug Names.csv')['0'])"
   ]
  },
  {
   "cell_type": "code",
   "execution_count": 4,
   "metadata": {},
   "outputs": [],
   "source": [
    "# DrugBankData['int'] = list(range(len(DrugBankData.values[:,1])))"
   ]
  },
  {
   "cell_type": "code",
   "execution_count": 5,
   "metadata": {},
   "outputs": [],
   "source": [
    "# DrugBankData = DrugBankData.set_index('drugbank-id')"
   ]
  },
  {
   "cell_type": "code",
   "execution_count": 6,
   "metadata": {},
   "outputs": [],
   "source": [
    "newDB = []\n",
    "for x in range(len(DrugBankData.iloc[:,0])):\n",
    "    if DrugBankData.iloc[x,0] in DrugName:\n",
    "        newDB.append(DrugBankData.iloc[x,:])\n",
    "\n",
    "newDB = pd.DataFrame(newDB)"
   ]
  },
  {
   "cell_type": "code",
   "execution_count": null,
   "metadata": {},
   "outputs": [],
   "source": [
    "curpps = ''\n",
    "for x in range(len(newDB.iloc[:,0])):\n",
    "    try:\n",
    "        curpps += newDB.iloc[x,3]\n",
    "    except:\n",
    "        print(x)\n",
    "len(curpps)"
   ]
  },
  {
   "cell_type": "code",
   "execution_count": 7,
   "metadata": {},
   "outputs": [
    {
     "name": "stdout",
     "output_type": "stream",
     "text": [
      "40\n",
      "104\n",
      "190\n",
      "220\n",
      "228\n",
      "341\n",
      "374\n",
      "516\n",
      "540\n",
      "542\n",
      "592\n",
      "610\n",
      "620\n",
      "646\n"
     ]
    },
    {
     "data": {
      "text/plain": [
       "68749975"
      ]
     },
     "execution_count": 7,
     "metadata": {},
     "output_type": "execute_result"
    }
   ],
   "source": [
    "curpps = ''\n",
    "for x in range(len(newDB.iloc[:,0])):\n",
    "    try:\n",
    "        curpps += newDB.iloc[x,3]\n",
    "    except:\n",
    "        print(x)\n",
    "len(curpps)"
   ]
  },
  {
   "cell_type": "code",
   "execution_count": 37,
   "metadata": {},
   "outputs": [
    {
     "data": {
      "text/plain": [
       "589822"
      ]
     },
     "execution_count": 37,
     "metadata": {},
     "output_type": "execute_result"
    }
   ],
   "source": [
    "listtext = curpps.split('DB')\n",
    "len(listtext)"
   ]
  },
  {
   "cell_type": "code",
   "execution_count": 45,
   "metadata": {},
   "outputs": [
    {
     "name": "stdout",
     "output_type": "stream",
     "text": [
      "44 265237 324585\n"
     ]
    }
   ],
   "source": [
    "inctext = []\n",
    "dectext = []\n",
    "i=0\n",
    "for x in listtext:\n",
    "    if 'decrease' in x:\n",
    "        dectext.append(x)\n",
    "    elif 'increase' in x:\n",
    "        inctext.append(x)\n",
    "    else:\n",
    "        dectext.append(x)\n",
    "        i+=1\n",
    "        ### ESTESNA BARAYEH 652 DAROU  \n",
    "#         print(x)\n",
    "print(i, len(dectext) , len(inctext))"
   ]
  },
  {
   "cell_type": "code",
   "execution_count": 44,
   "metadata": {},
   "outputs": [
    {
     "name": "stdout",
     "output_type": "stream",
     "text": [
      "0.4496899064463516\n"
     ]
    }
   ],
   "source": [
    "print(len(dectext)/(len(inctext)+len(dectext)))"
   ]
  },
  {
   "cell_type": "code",
   "execution_count": 40,
   "metadata": {},
   "outputs": [],
   "source": [
    "from collections import defaultdict, Counter"
   ]
  },
  {
   "cell_type": "code",
   "execution_count": 53,
   "metadata": {},
   "outputs": [
    {
     "name": "stdout",
     "output_type": "stream",
     "text": [
      "33\n"
     ]
    }
   ],
   "source": [
    "counter = Counter()\n",
    "dd = inctext.copy()\n",
    "dd.extend(dectext)\n",
    "for x  in dd:    \n",
    "    counter[len(x.split(' '))] += 1\n",
    "#     if len(x)<80:\n",
    "#         print(x.split(' '))\n",
    "\n",
    "print(len(counter))"
   ]
  },
  {
   "cell_type": "code",
   "execution_count": 54,
   "metadata": {},
   "outputs": [
    {
     "data": {
      "text/plain": [
       "(652, 10)"
      ]
     },
     "execution_count": 54,
     "metadata": {},
     "output_type": "execute_result"
    }
   ],
   "source": [
    "newDB.shape"
   ]
  },
  {
   "cell_type": "code",
   "execution_count": 55,
   "metadata": {},
   "outputs": [
    {
     "data": {
      "text/plain": [
       "424452"
      ]
     },
     "execution_count": 55,
     "metadata": {},
     "output_type": "execute_result"
    }
   ],
   "source": [
    "(652*651)"
   ]
  },
  {
   "cell_type": "code",
   "execution_count": 56,
   "metadata": {},
   "outputs": [
    {
     "data": {
      "text/plain": [
       "294911.0"
      ]
     },
     "execution_count": 56,
     "metadata": {},
     "output_type": "execute_result"
    }
   ],
   "source": [
    "589822/2"
   ]
  },
  {
   "cell_type": "code",
   "execution_count": null,
   "metadata": {},
   "outputs": [],
   "source": []
  }
 ],
 "metadata": {
  "kernelspec": {
   "display_name": "Python 3",
   "language": "python",
   "name": "python3"
  },
  "language_info": {
   "codemirror_mode": {
    "name": "ipython",
    "version": 3
   },
   "file_extension": ".py",
   "mimetype": "text/x-python",
   "name": "python",
   "nbconvert_exporter": "python",
   "pygments_lexer": "ipython3",
   "version": "3.6.9"
  }
 },
 "nbformat": 4,
 "nbformat_minor": 4
}
