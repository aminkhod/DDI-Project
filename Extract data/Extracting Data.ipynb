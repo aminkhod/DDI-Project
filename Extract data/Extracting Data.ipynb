{
 "cells": [
  {
   "cell_type": "code",
   "execution_count": 1,
   "metadata": {},
   "outputs": [],
   "source": [
    "import pandas as pd"
   ]
  },
  {
   "cell_type": "code",
   "execution_count": 2,
   "metadata": {},
   "outputs": [
    {
     "data": {
      "text/html": [
       "<div>\n",
       "<style scoped>\n",
       "    .dataframe tbody tr th:only-of-type {\n",
       "        vertical-align: middle;\n",
       "    }\n",
       "\n",
       "    .dataframe tbody tr th {\n",
       "        vertical-align: top;\n",
       "    }\n",
       "\n",
       "    .dataframe thead th {\n",
       "        text-align: right;\n",
       "    }\n",
       "</style>\n",
       "<table border=\"1\" class=\"dataframe\">\n",
       "  <thead>\n",
       "    <tr style=\"text-align: right;\">\n",
       "      <th></th>\n",
       "      <th>drugbank-id</th>\n",
       "      <th>name</th>\n",
       "      <th>groups</th>\n",
       "      <th>drug-interactions</th>\n",
       "      <th>pathways</th>\n",
       "      <th>snp-adverse-drug-reactions</th>\n",
       "      <th>targets</th>\n",
       "      <th>enzymes</th>\n",
       "      <th>carriers</th>\n",
       "      <th>transporters</th>\n",
       "    </tr>\n",
       "  </thead>\n",
       "  <tbody>\n",
       "    <tr>\n",
       "      <th>0</th>\n",
       "      <td>DB00001</td>\n",
       "      <td>Lepirudin</td>\n",
       "      <td>approved</td>\n",
       "      <td>DB06605ApixabanApixaban may increase the antic...</td>\n",
       "      <td>SMP0000278Lepirudin Action Pathwaydrug_actionD...</td>\n",
       "      <td>NaN</td>\n",
       "      <td>BE0000048ProthrombinHumansinhibitorA1703105055...</td>\n",
       "      <td>NaN</td>\n",
       "      <td>NaN</td>\n",
       "      <td>NaN</td>\n",
       "    </tr>\n",
       "    <tr>\n",
       "      <th>1</th>\n",
       "      <td>DB00002</td>\n",
       "      <td>Cetuximab</td>\n",
       "      <td>approved</td>\n",
       "      <td>DB00012Darbepoetin alfaThe risk or severity of...</td>\n",
       "      <td>SMP0000474Cetuximab Action Pathwaydrug_actionD...</td>\n",
       "      <td>NaN</td>\n",
       "      <td>BE0000767Epidermal growth factor receptorHuman...</td>\n",
       "      <td>NaN</td>\n",
       "      <td>NaN</td>\n",
       "      <td>NaN</td>\n",
       "    </tr>\n",
       "    <tr>\n",
       "      <th>2</th>\n",
       "      <td>DB00003</td>\n",
       "      <td>Dornase alfa</td>\n",
       "      <td>approved</td>\n",
       "      <td>NaN</td>\n",
       "      <td>NaN</td>\n",
       "      <td>NaN</td>\n",
       "      <td>BE0004796DNAHumansA128792953Cramer GW, Bosso J...</td>\n",
       "      <td>NaN</td>\n",
       "      <td>NaN</td>\n",
       "      <td>NaN</td>\n",
       "    </tr>\n",
       "    <tr>\n",
       "      <th>3</th>\n",
       "      <td>DB00009</td>\n",
       "      <td>Alteplase</td>\n",
       "      <td>approved</td>\n",
       "      <td>DB06605ApixabanApixaban may increase the antic...</td>\n",
       "      <td>SMP0000280Alteplase Action Pathwaydrug_actionD...</td>\n",
       "      <td>NaN</td>\n",
       "      <td>BE0000211PlasminogenHumansactivatorA6689186732...</td>\n",
       "      <td>NaN</td>\n",
       "      <td>NaN</td>\n",
       "      <td>NaN</td>\n",
       "    </tr>\n",
       "    <tr>\n",
       "      <th>4</th>\n",
       "      <td>DB00014</td>\n",
       "      <td>Goserelin</td>\n",
       "      <td>approved</td>\n",
       "      <td>DB09066Corifollitropin alfaThe therapeutic eff...</td>\n",
       "      <td>NaN</td>\n",
       "      <td>NaN</td>\n",
       "      <td>BE0000134Lutropin-choriogonadotropic hormone r...</td>\n",
       "      <td>NaN</td>\n",
       "      <td>NaN</td>\n",
       "      <td>NaN</td>\n",
       "    </tr>\n",
       "  </tbody>\n",
       "</table>\n",
       "</div>"
      ],
      "text/plain": [
       "  drugbank-id          name    groups  \\\n",
       "0     DB00001     Lepirudin  approved   \n",
       "1     DB00002     Cetuximab  approved   \n",
       "2     DB00003  Dornase alfa  approved   \n",
       "3     DB00009     Alteplase  approved   \n",
       "4     DB00014     Goserelin  approved   \n",
       "\n",
       "                                   drug-interactions  \\\n",
       "0  DB06605ApixabanApixaban may increase the antic...   \n",
       "1  DB00012Darbepoetin alfaThe risk or severity of...   \n",
       "2                                                NaN   \n",
       "3  DB06605ApixabanApixaban may increase the antic...   \n",
       "4  DB09066Corifollitropin alfaThe therapeutic eff...   \n",
       "\n",
       "                                            pathways  \\\n",
       "0  SMP0000278Lepirudin Action Pathwaydrug_actionD...   \n",
       "1  SMP0000474Cetuximab Action Pathwaydrug_actionD...   \n",
       "2                                                NaN   \n",
       "3  SMP0000280Alteplase Action Pathwaydrug_actionD...   \n",
       "4                                                NaN   \n",
       "\n",
       "  snp-adverse-drug-reactions  \\\n",
       "0                        NaN   \n",
       "1                        NaN   \n",
       "2                        NaN   \n",
       "3                        NaN   \n",
       "4                        NaN   \n",
       "\n",
       "                                             targets enzymes carriers  \\\n",
       "0  BE0000048ProthrombinHumansinhibitorA1703105055...     NaN      NaN   \n",
       "1  BE0000767Epidermal growth factor receptorHuman...     NaN      NaN   \n",
       "2  BE0004796DNAHumansA128792953Cramer GW, Bosso J...     NaN      NaN   \n",
       "3  BE0000211PlasminogenHumansactivatorA6689186732...     NaN      NaN   \n",
       "4  BE0000134Lutropin-choriogonadotropic hormone r...     NaN      NaN   \n",
       "\n",
       "  transporters  \n",
       "0          NaN  \n",
       "1          NaN  \n",
       "2          NaN  \n",
       "3          NaN  \n",
       "4          NaN  "
      ]
     },
     "execution_count": 2,
     "metadata": {},
     "output_type": "execute_result"
    }
   ],
   "source": [
    "DrugBankData = pd.read_csv('../../Drug bank version/summrizedApprovedDB 5.1.6.csv')\n",
    "DrugBankData.head()"
   ]
  },
  {
   "cell_type": "code",
   "execution_count": 3,
   "metadata": {},
   "outputs": [],
   "source": [
    "DrugName = list(pd.read_csv('Drug Names.csv')['0'])"
   ]
  },
  {
   "cell_type": "code",
   "execution_count": 4,
   "metadata": {},
   "outputs": [],
   "source": [
    "# DrugBankData['int'] = list(range(len(DrugBankData.values[:,1])))"
   ]
  },
  {
   "cell_type": "code",
   "execution_count": 5,
   "metadata": {},
   "outputs": [],
   "source": [
    "# DrugBankData = DrugBankData.set_index('drugbank-id')"
   ]
  },
  {
   "cell_type": "code",
   "execution_count": 6,
   "metadata": {},
   "outputs": [],
   "source": [
    "newDB = []\n",
    "for x in range(len(DrugBankData.iloc[:,0])):\n",
    "    if DrugBankData.iloc[x,0] in DrugName:\n",
    "        newDB.append(DrugBankData.iloc[x,:])\n",
    "\n",
    "newDB = pd.DataFrame(newDB)"
   ]
  },
  {
   "cell_type": "code",
   "execution_count": 7,
   "metadata": {},
   "outputs": [
    {
     "data": {
      "text/html": [
       "<div>\n",
       "<style scoped>\n",
       "    .dataframe tbody tr th:only-of-type {\n",
       "        vertical-align: middle;\n",
       "    }\n",
       "\n",
       "    .dataframe tbody tr th {\n",
       "        vertical-align: top;\n",
       "    }\n",
       "\n",
       "    .dataframe thead th {\n",
       "        text-align: right;\n",
       "    }\n",
       "</style>\n",
       "<table border=\"1\" class=\"dataframe\">\n",
       "  <thead>\n",
       "    <tr style=\"text-align: right;\">\n",
       "      <th></th>\n",
       "      <th>drugbank-id</th>\n",
       "      <th>name</th>\n",
       "      <th>groups</th>\n",
       "      <th>drug-interactions</th>\n",
       "      <th>pathways</th>\n",
       "      <th>snp-adverse-drug-reactions</th>\n",
       "      <th>targets</th>\n",
       "      <th>enzymes</th>\n",
       "      <th>carriers</th>\n",
       "      <th>transporters</th>\n",
       "    </tr>\n",
       "  </thead>\n",
       "  <tbody>\n",
       "    <tr>\n",
       "      <th>0</th>\n",
       "      <td>DB00014</td>\n",
       "      <td>Goserelin</td>\n",
       "      <td>approved</td>\n",
       "      <td>DB09066Corifollitropin alfaThe therapeutic eff...</td>\n",
       "      <td>NaN</td>\n",
       "      <td>NaN</td>\n",
       "      <td>BE0000134Lutropin-choriogonadotropic hormone r...</td>\n",
       "      <td>NaN</td>\n",
       "      <td>NaN</td>\n",
       "      <td>NaN</td>\n",
       "    </tr>\n",
       "    <tr>\n",
       "      <th>1</th>\n",
       "      <td>DB00035</td>\n",
       "      <td>Desmopressin</td>\n",
       "      <td>approved</td>\n",
       "      <td>DB00564CarbamazepineThe risk or severity of ad...</td>\n",
       "      <td>NaN</td>\n",
       "      <td>NaN</td>\n",
       "      <td>BE0000293Vasopressin V2 receptorHumansagonistA...</td>\n",
       "      <td>BE0000017Prostaglandin G/H synthase 1Humansind...</td>\n",
       "      <td>NaN</td>\n",
       "      <td>NaN</td>\n",
       "    </tr>\n",
       "    <tr>\n",
       "      <th>2</th>\n",
       "      <td>DB00175</td>\n",
       "      <td>Pravastatin</td>\n",
       "      <td>approved</td>\n",
       "      <td>DB00197TroglitazoneTroglitazone may decrease t...</td>\n",
       "      <td>SMP0000089Pravastatin Action Pathwaydrug_actio...</td>\n",
       "      <td>NaN</td>\n",
       "      <td>BE00005743-hydroxy-3-methylglutaryl-coenzyme A...</td>\n",
       "      <td>NaN</td>\n",
       "      <td>NaN</td>\n",
       "      <td>BE0001004Solute carrier organic anion transpor...</td>\n",
       "    </tr>\n",
       "    <tr>\n",
       "      <th>3</th>\n",
       "      <td>DB00178</td>\n",
       "      <td>Ramipril</td>\n",
       "      <td>approved</td>\n",
       "      <td>DB00476DuloxetineThe risk or severity of ortho...</td>\n",
       "      <td>SMP0000154Ramipril Action Pathwaydrug_actionDB...</td>\n",
       "      <td>NaN</td>\n",
       "      <td>BE0000221Angiotensin-converting enzymeHumansin...</td>\n",
       "      <td>BE0002180CholinesteraseHumansinhibitorA1781210...</td>\n",
       "      <td>NaN</td>\n",
       "      <td>BE0001018Solute carrier family 15 member 1Huma...</td>\n",
       "    </tr>\n",
       "    <tr>\n",
       "      <th>4</th>\n",
       "      <td>DB00181</td>\n",
       "      <td>Baclofen</td>\n",
       "      <td>approved</td>\n",
       "      <td>DB00921BuprenorphineBaclofen may increase the ...</td>\n",
       "      <td>NaN</td>\n",
       "      <td>NaN</td>\n",
       "      <td>BE0000217Gamma-aminobutyric acid type B recept...</td>\n",
       "      <td>NaN</td>\n",
       "      <td>NaN</td>\n",
       "      <td>NaN</td>\n",
       "    </tr>\n",
       "    <tr>\n",
       "      <th>...</th>\n",
       "      <td>...</td>\n",
       "      <td>...</td>\n",
       "      <td>...</td>\n",
       "      <td>...</td>\n",
       "      <td>...</td>\n",
       "      <td>...</td>\n",
       "      <td>...</td>\n",
       "      <td>...</td>\n",
       "      <td>...</td>\n",
       "      <td>...</td>\n",
       "    </tr>\n",
       "    <tr>\n",
       "      <th>647</th>\n",
       "      <td>DB11362</td>\n",
       "      <td>Selexipag</td>\n",
       "      <td>approved</td>\n",
       "      <td>DB00346AlfuzosinAlfuzosin may increase the hyp...</td>\n",
       "      <td>NaN</td>\n",
       "      <td>NaN</td>\n",
       "      <td>BE0000475Prostacyclin receptorHumansagonistA79...</td>\n",
       "      <td>BE0002705Liver carboxylesterase 1Humanssubstra...</td>\n",
       "      <td>NaN</td>\n",
       "      <td>BE0001004Solute carrier organic anion transpor...</td>\n",
       "    </tr>\n",
       "    <tr>\n",
       "      <th>648</th>\n",
       "      <td>DB11574</td>\n",
       "      <td>Elbasvir</td>\n",
       "      <td>approved</td>\n",
       "      <td>DB09039EliglustatThe metabolism of Eliglustat ...</td>\n",
       "      <td>NaN</td>\n",
       "      <td>NaN</td>\n",
       "      <td>BE0008651Nonstructural protein 5AHepatitis C V...</td>\n",
       "      <td>BE0002638Cytochrome P450 3A4Humanssubstrateinh...</td>\n",
       "      <td>NaN</td>\n",
       "      <td>BE0001032P-glycoprotein 1Humanssubstrateinhibi...</td>\n",
       "    </tr>\n",
       "    <tr>\n",
       "      <th>649</th>\n",
       "      <td>DB11575</td>\n",
       "      <td>Grazoprevir</td>\n",
       "      <td>approved</td>\n",
       "      <td>DB02659Cholic AcidThe excretion of Grazoprevir...</td>\n",
       "      <td>NaN</td>\n",
       "      <td>NaN</td>\n",
       "      <td>BE0004701NS3/4A proteinHepatitis C Virusantago...</td>\n",
       "      <td>BE0002638Cytochrome P450 3A4HumanssubstrateL10...</td>\n",
       "      <td>BE0000530Serum albuminHumanssubstratenoSerum a...</td>\n",
       "      <td>BE0001032P-glycoprotein 1HumanssubstratenoMult...</td>\n",
       "    </tr>\n",
       "    <tr>\n",
       "      <th>650</th>\n",
       "      <td>DB11619</td>\n",
       "      <td>Gestrinone</td>\n",
       "      <td>approved</td>\n",
       "      <td>DB00459AcitretinThe therapeutic efficacy of Ge...</td>\n",
       "      <td>NaN</td>\n",
       "      <td>NaN</td>\n",
       "      <td>BE0000685Sex hormone-binding globulinHumansant...</td>\n",
       "      <td>BE0002638Cytochrome P450 3A4HumanssubstrateT10...</td>\n",
       "      <td>NaN</td>\n",
       "      <td>NaN</td>\n",
       "    </tr>\n",
       "    <tr>\n",
       "      <th>651</th>\n",
       "      <td>DB13142</td>\n",
       "      <td>Calcium glubionate anhydrous</td>\n",
       "      <td>approved</td>\n",
       "      <td>DB01212CeftriaxoneThe risk or severity of adve...</td>\n",
       "      <td>NaN</td>\n",
       "      <td>NaN</td>\n",
       "      <td>NaN</td>\n",
       "      <td>NaN</td>\n",
       "      <td>NaN</td>\n",
       "      <td>NaN</td>\n",
       "    </tr>\n",
       "  </tbody>\n",
       "</table>\n",
       "<p>652 rows × 10 columns</p>\n",
       "</div>"
      ],
      "text/plain": [
       "    drugbank-id                          name    groups  \\\n",
       "0       DB00014                     Goserelin  approved   \n",
       "1       DB00035                  Desmopressin  approved   \n",
       "2       DB00175                   Pravastatin  approved   \n",
       "3       DB00178                      Ramipril  approved   \n",
       "4       DB00181                      Baclofen  approved   \n",
       "..          ...                           ...       ...   \n",
       "647     DB11362                     Selexipag  approved   \n",
       "648     DB11574                      Elbasvir  approved   \n",
       "649     DB11575                   Grazoprevir  approved   \n",
       "650     DB11619                    Gestrinone  approved   \n",
       "651     DB13142  Calcium glubionate anhydrous  approved   \n",
       "\n",
       "                                     drug-interactions  \\\n",
       "0    DB09066Corifollitropin alfaThe therapeutic eff...   \n",
       "1    DB00564CarbamazepineThe risk or severity of ad...   \n",
       "2    DB00197TroglitazoneTroglitazone may decrease t...   \n",
       "3    DB00476DuloxetineThe risk or severity of ortho...   \n",
       "4    DB00921BuprenorphineBaclofen may increase the ...   \n",
       "..                                                 ...   \n",
       "647  DB00346AlfuzosinAlfuzosin may increase the hyp...   \n",
       "648  DB09039EliglustatThe metabolism of Eliglustat ...   \n",
       "649  DB02659Cholic AcidThe excretion of Grazoprevir...   \n",
       "650  DB00459AcitretinThe therapeutic efficacy of Ge...   \n",
       "651  DB01212CeftriaxoneThe risk or severity of adve...   \n",
       "\n",
       "                                              pathways  \\\n",
       "0                                                  NaN   \n",
       "1                                                  NaN   \n",
       "2    SMP0000089Pravastatin Action Pathwaydrug_actio...   \n",
       "3    SMP0000154Ramipril Action Pathwaydrug_actionDB...   \n",
       "4                                                  NaN   \n",
       "..                                                 ...   \n",
       "647                                                NaN   \n",
       "648                                                NaN   \n",
       "649                                                NaN   \n",
       "650                                                NaN   \n",
       "651                                                NaN   \n",
       "\n",
       "    snp-adverse-drug-reactions  \\\n",
       "0                          NaN   \n",
       "1                          NaN   \n",
       "2                          NaN   \n",
       "3                          NaN   \n",
       "4                          NaN   \n",
       "..                         ...   \n",
       "647                        NaN   \n",
       "648                        NaN   \n",
       "649                        NaN   \n",
       "650                        NaN   \n",
       "651                        NaN   \n",
       "\n",
       "                                               targets  \\\n",
       "0    BE0000134Lutropin-choriogonadotropic hormone r...   \n",
       "1    BE0000293Vasopressin V2 receptorHumansagonistA...   \n",
       "2    BE00005743-hydroxy-3-methylglutaryl-coenzyme A...   \n",
       "3    BE0000221Angiotensin-converting enzymeHumansin...   \n",
       "4    BE0000217Gamma-aminobutyric acid type B recept...   \n",
       "..                                                 ...   \n",
       "647  BE0000475Prostacyclin receptorHumansagonistA79...   \n",
       "648  BE0008651Nonstructural protein 5AHepatitis C V...   \n",
       "649  BE0004701NS3/4A proteinHepatitis C Virusantago...   \n",
       "650  BE0000685Sex hormone-binding globulinHumansant...   \n",
       "651                                                NaN   \n",
       "\n",
       "                                               enzymes  \\\n",
       "0                                                  NaN   \n",
       "1    BE0000017Prostaglandin G/H synthase 1Humansind...   \n",
       "2                                                  NaN   \n",
       "3    BE0002180CholinesteraseHumansinhibitorA1781210...   \n",
       "4                                                  NaN   \n",
       "..                                                 ...   \n",
       "647  BE0002705Liver carboxylesterase 1Humanssubstra...   \n",
       "648  BE0002638Cytochrome P450 3A4Humanssubstrateinh...   \n",
       "649  BE0002638Cytochrome P450 3A4HumanssubstrateL10...   \n",
       "650  BE0002638Cytochrome P450 3A4HumanssubstrateT10...   \n",
       "651                                                NaN   \n",
       "\n",
       "                                              carriers  \\\n",
       "0                                                  NaN   \n",
       "1                                                  NaN   \n",
       "2                                                  NaN   \n",
       "3                                                  NaN   \n",
       "4                                                  NaN   \n",
       "..                                                 ...   \n",
       "647                                                NaN   \n",
       "648                                                NaN   \n",
       "649  BE0000530Serum albuminHumanssubstratenoSerum a...   \n",
       "650                                                NaN   \n",
       "651                                                NaN   \n",
       "\n",
       "                                          transporters  \n",
       "0                                                  NaN  \n",
       "1                                                  NaN  \n",
       "2    BE0001004Solute carrier organic anion transpor...  \n",
       "3    BE0001018Solute carrier family 15 member 1Huma...  \n",
       "4                                                  NaN  \n",
       "..                                                 ...  \n",
       "647  BE0001004Solute carrier organic anion transpor...  \n",
       "648  BE0001032P-glycoprotein 1Humanssubstrateinhibi...  \n",
       "649  BE0001032P-glycoprotein 1HumanssubstratenoMult...  \n",
       "650                                                NaN  \n",
       "651                                                NaN  \n",
       "\n",
       "[652 rows x 10 columns]"
      ]
     },
     "execution_count": 7,
     "metadata": {},
     "output_type": "execute_result"
    }
   ],
   "source": [
    "newDB.reset_index(drop=True, inplace=True)\n",
    "newDB"
   ]
  },
  {
   "cell_type": "code",
   "execution_count": 15,
   "metadata": {},
   "outputs": [
    {
     "name": "stdout",
     "output_type": "stream",
     "text": [
      "(638, 10)\n"
     ]
    },
    {
     "data": {
      "text/plain": [
       "(638, 10)"
      ]
     },
     "execution_count": 15,
     "metadata": {},
     "output_type": "execute_result"
    }
   ],
   "source": [
    "print(newDB.shape)\n",
    "droplist = []\n",
    "for x in range(len(newDB.iloc[:,0])):\n",
    "    try:\n",
    "        text = newDB.iloc[x,3].split('.DB')\n",
    "        for y in text:\n",
    "\n",
    "            if ('DB' + y[:5] not in DrugName):\n",
    "                newDB.iloc[x,3] = str(newDB.iloc[x,3]).replace('.DB'+y,'')\n",
    "            elif (y[:7] not in DrugName):\n",
    "                newDB.iloc[x,3] = str(newDB.iloc[x,3]).replace(y,'')\n",
    "    except:\n",
    "          droplist.append(x)\n",
    "newDB = newDB.drop(droplist) \n",
    "newDB.shape"
   ]
  },
  {
   "cell_type": "code",
   "execution_count": 16,
   "metadata": {},
   "outputs": [
    {
     "name": "stdout",
     "output_type": "stream",
     "text": [
      "(638, 10)\n",
      "(638, 10) 0\n"
     ]
    }
   ],
   "source": [
    "curpps = ''\n",
    "droplist = []\n",
    "print(newDB.shape)\n",
    "for x in range(len(newDB.iloc[:,0])):\n",
    "    curpps = ''\n",
    "    try:\n",
    "        curpps += newDB.iloc[x,3]\n",
    "        \n",
    "    except:\n",
    "        droplist.append(x)\n",
    "\n",
    "newDB = newDB.drop(droplist)         \n",
    "print(newDB.shape,len(curpps))\n",
    "# newDB.head()\n",
    "\n",
    "# newDB.iloc[40]\n",
    "# curpps"
   ]
  },
  {
   "cell_type": "code",
   "execution_count": 17,
   "metadata": {},
   "outputs": [
    {
     "data": {
      "text/plain": [
       "1"
      ]
     },
     "execution_count": 17,
     "metadata": {},
     "output_type": "execute_result"
    }
   ],
   "source": [
    "listtext = curpps.split('.DB')\n",
    "len(listtext)"
   ]
  },
  {
   "cell_type": "code",
   "execution_count": 18,
   "metadata": {},
   "outputs": [
    {
     "data": {
      "text/plain": [
       "['']"
      ]
     },
     "execution_count": 18,
     "metadata": {},
     "output_type": "execute_result"
    }
   ],
   "source": [
    "listtext[:10]"
   ]
  },
  {
   "cell_type": "code",
   "execution_count": 19,
   "metadata": {},
   "outputs": [
    {
     "name": "stdout",
     "output_type": "stream",
     "text": [
      "1 1 0\n"
     ]
    }
   ],
   "source": [
    "inctext = []\n",
    "dectext = []\n",
    "i=0\n",
    "for x in listtext:\n",
    "    if 'decrease' in x:\n",
    "        dectext.append(x)\n",
    "    elif 'increase' in x:\n",
    "        inctext.append(x)\n",
    "    else:\n",
    "        dectext.append(x)\n",
    "        i+=1\n",
    "        ### ESTESNA BARAYEH 652 DAROU  \n",
    "#         print(x)\n",
    "print(i, len(dectext) , len(inctext))"
   ]
  },
  {
   "cell_type": "code",
   "execution_count": 20,
   "metadata": {},
   "outputs": [
    {
     "name": "stdout",
     "output_type": "stream",
     "text": [
      "1.0\n"
     ]
    }
   ],
   "source": [
    "print(len(dectext)/(len(inctext)+len(dectext)))"
   ]
  },
  {
   "cell_type": "code",
   "execution_count": 21,
   "metadata": {},
   "outputs": [],
   "source": [
    "from collections import defaultdict, Counter"
   ]
  },
  {
   "cell_type": "code",
   "execution_count": 22,
   "metadata": {},
   "outputs": [
    {
     "name": "stdout",
     "output_type": "stream",
     "text": [
      "1\n"
     ]
    }
   ],
   "source": [
    "counter = Counter()\n",
    "dd = inctext.copy()\n",
    "dd.extend(dectext)\n",
    "for x  in dd:    \n",
    "    counter[len(x.split(' '))] += 1\n",
    "#     if len(x)<80:\n",
    "#         print(x.split(' '))\n",
    "\n",
    "print(len(counter))"
   ]
  },
  {
   "cell_type": "code",
   "execution_count": 23,
   "metadata": {},
   "outputs": [
    {
     "data": {
      "text/plain": [
       "(638, 10)"
      ]
     },
     "execution_count": 23,
     "metadata": {},
     "output_type": "execute_result"
    }
   ],
   "source": [
    "newDB.shape"
   ]
  },
  {
   "cell_type": "code",
   "execution_count": 24,
   "metadata": {},
   "outputs": [
    {
     "data": {
      "text/plain": [
       "424452"
      ]
     },
     "execution_count": 24,
     "metadata": {},
     "output_type": "execute_result"
    }
   ],
   "source": [
    "(652*651)"
   ]
  },
  {
   "cell_type": "code",
   "execution_count": 25,
   "metadata": {},
   "outputs": [
    {
     "data": {
      "text/plain": [
       "294911.0"
      ]
     },
     "execution_count": 25,
     "metadata": {},
     "output_type": "execute_result"
    }
   ],
   "source": [
    "589822/2"
   ]
  },
  {
   "cell_type": "code",
   "execution_count": null,
   "metadata": {},
   "outputs": [],
   "source": []
  }
 ],
 "metadata": {
  "kernelspec": {
   "display_name": "Python 3",
   "language": "python",
   "name": "python3"
  },
  "language_info": {
   "codemirror_mode": {
    "name": "ipython",
    "version": 3
   },
   "file_extension": ".py",
   "mimetype": "text/x-python",
   "name": "python",
   "nbconvert_exporter": "python",
   "pygments_lexer": "ipython3",
   "version": "3.6.9"
  }
 },
 "nbformat": 4,
 "nbformat_minor": 4
}
