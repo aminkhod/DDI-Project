{
 "cells": [
  {
   "cell_type": "code",
   "execution_count": 1,
   "metadata": {},
   "outputs": [],
   "source": [
    "import pandas as pd"
   ]
  },
  {
   "cell_type": "code",
   "execution_count": 50,
   "metadata": {},
   "outputs": [
    {
     "data": {
      "text/html": [
       "<div>\n",
       "<style scoped>\n",
       "    .dataframe tbody tr th:only-of-type {\n",
       "        vertical-align: middle;\n",
       "    }\n",
       "\n",
       "    .dataframe tbody tr th {\n",
       "        vertical-align: top;\n",
       "    }\n",
       "\n",
       "    .dataframe thead th {\n",
       "        text-align: right;\n",
       "    }\n",
       "</style>\n",
       "<table border=\"1\" class=\"dataframe\">\n",
       "  <thead>\n",
       "    <tr style=\"text-align: right;\">\n",
       "      <th></th>\n",
       "      <th>drugbank-id</th>\n",
       "      <th>name</th>\n",
       "      <th>groups</th>\n",
       "      <th>drug-interactions</th>\n",
       "      <th>pathways</th>\n",
       "      <th>snp-adverse-drug-reactions</th>\n",
       "      <th>targets</th>\n",
       "      <th>enzymes</th>\n",
       "      <th>carriers</th>\n",
       "      <th>transporters</th>\n",
       "    </tr>\n",
       "  </thead>\n",
       "  <tbody>\n",
       "    <tr>\n",
       "      <th>0</th>\n",
       "      <td>DB00001</td>\n",
       "      <td>Lepirudin</td>\n",
       "      <td>approved</td>\n",
       "      <td>DB06605ApixabanApixaban may increase the antic...</td>\n",
       "      <td>SMP0000278Lepirudin Action Pathwaydrug_actionD...</td>\n",
       "      <td>NaN</td>\n",
       "      <td>BE0000048ProthrombinHumansinhibitorA1703105055...</td>\n",
       "      <td>NaN</td>\n",
       "      <td>NaN</td>\n",
       "      <td>NaN</td>\n",
       "    </tr>\n",
       "    <tr>\n",
       "      <th>1</th>\n",
       "      <td>DB00002</td>\n",
       "      <td>Cetuximab</td>\n",
       "      <td>approved</td>\n",
       "      <td>DB00012Darbepoetin alfaThe risk or severity of...</td>\n",
       "      <td>SMP0000474Cetuximab Action Pathwaydrug_actionD...</td>\n",
       "      <td>NaN</td>\n",
       "      <td>BE0000767Epidermal growth factor receptorHuman...</td>\n",
       "      <td>NaN</td>\n",
       "      <td>NaN</td>\n",
       "      <td>NaN</td>\n",
       "    </tr>\n",
       "    <tr>\n",
       "      <th>2</th>\n",
       "      <td>DB00003</td>\n",
       "      <td>Dornase alfa</td>\n",
       "      <td>approved</td>\n",
       "      <td>NaN</td>\n",
       "      <td>NaN</td>\n",
       "      <td>NaN</td>\n",
       "      <td>BE0004796DNAHumansA128792953Cramer GW, Bosso J...</td>\n",
       "      <td>NaN</td>\n",
       "      <td>NaN</td>\n",
       "      <td>NaN</td>\n",
       "    </tr>\n",
       "    <tr>\n",
       "      <th>3</th>\n",
       "      <td>DB00009</td>\n",
       "      <td>Alteplase</td>\n",
       "      <td>approved</td>\n",
       "      <td>DB06605ApixabanApixaban may increase the antic...</td>\n",
       "      <td>SMP0000280Alteplase Action Pathwaydrug_actionD...</td>\n",
       "      <td>NaN</td>\n",
       "      <td>BE0000211PlasminogenHumansactivatorA6689186732...</td>\n",
       "      <td>NaN</td>\n",
       "      <td>NaN</td>\n",
       "      <td>NaN</td>\n",
       "    </tr>\n",
       "    <tr>\n",
       "      <th>4</th>\n",
       "      <td>DB00014</td>\n",
       "      <td>Goserelin</td>\n",
       "      <td>approved</td>\n",
       "      <td>DB09066Corifollitropin alfaThe therapeutic eff...</td>\n",
       "      <td>NaN</td>\n",
       "      <td>NaN</td>\n",
       "      <td>BE0000134Lutropin-choriogonadotropic hormone r...</td>\n",
       "      <td>NaN</td>\n",
       "      <td>NaN</td>\n",
       "      <td>NaN</td>\n",
       "    </tr>\n",
       "  </tbody>\n",
       "</table>\n",
       "</div>"
      ],
      "text/plain": [
       "  drugbank-id          name    groups  \\\n",
       "0     DB00001     Lepirudin  approved   \n",
       "1     DB00002     Cetuximab  approved   \n",
       "2     DB00003  Dornase alfa  approved   \n",
       "3     DB00009     Alteplase  approved   \n",
       "4     DB00014     Goserelin  approved   \n",
       "\n",
       "                                   drug-interactions  \\\n",
       "0  DB06605ApixabanApixaban may increase the antic...   \n",
       "1  DB00012Darbepoetin alfaThe risk or severity of...   \n",
       "2                                                NaN   \n",
       "3  DB06605ApixabanApixaban may increase the antic...   \n",
       "4  DB09066Corifollitropin alfaThe therapeutic eff...   \n",
       "\n",
       "                                            pathways  \\\n",
       "0  SMP0000278Lepirudin Action Pathwaydrug_actionD...   \n",
       "1  SMP0000474Cetuximab Action Pathwaydrug_actionD...   \n",
       "2                                                NaN   \n",
       "3  SMP0000280Alteplase Action Pathwaydrug_actionD...   \n",
       "4                                                NaN   \n",
       "\n",
       "  snp-adverse-drug-reactions  \\\n",
       "0                        NaN   \n",
       "1                        NaN   \n",
       "2                        NaN   \n",
       "3                        NaN   \n",
       "4                        NaN   \n",
       "\n",
       "                                             targets enzymes carriers  \\\n",
       "0  BE0000048ProthrombinHumansinhibitorA1703105055...     NaN      NaN   \n",
       "1  BE0000767Epidermal growth factor receptorHuman...     NaN      NaN   \n",
       "2  BE0004796DNAHumansA128792953Cramer GW, Bosso J...     NaN      NaN   \n",
       "3  BE0000211PlasminogenHumansactivatorA6689186732...     NaN      NaN   \n",
       "4  BE0000134Lutropin-choriogonadotropic hormone r...     NaN      NaN   \n",
       "\n",
       "  transporters  \n",
       "0          NaN  \n",
       "1          NaN  \n",
       "2          NaN  \n",
       "3          NaN  \n",
       "4          NaN  "
      ]
     },
     "execution_count": 50,
     "metadata": {},
     "output_type": "execute_result"
    }
   ],
   "source": [
    "DrugBankData = pd.read_csv('../../Drug bank version/summrizedApprovedDB 5.1.6.csv')\n",
    "DrugBankData.head()"
   ]
  },
  {
   "cell_type": "code",
   "execution_count": 51,
   "metadata": {},
   "outputs": [],
   "source": [
    "DrugName = list(pd.read_csv('Drug Names.csv')['0'])"
   ]
  },
  {
   "cell_type": "code",
   "execution_count": 60,
   "metadata": {},
   "outputs": [],
   "source": [
    "DrugBankData['int'] = list(range(len(DrugBankData.values[:,1])))"
   ]
  },
  {
   "cell_type": "code",
   "execution_count": 61,
   "metadata": {},
   "outputs": [],
   "source": [
    "DrugBankData = DrugBankData.set_index('drugbank-id')"
   ]
  },
  {
   "cell_type": "code",
   "execution_count": 62,
   "metadata": {},
   "outputs": [
    {
     "ename": "AttributeError",
     "evalue": "'DataFrame' object has no attribute 'ix'",
     "output_type": "error",
     "traceback": [
      "\u001b[0;31m---------------------------------------------------------------------------\u001b[0m",
      "\u001b[0;31mAttributeError\u001b[0m                            Traceback (most recent call last)",
      "\u001b[0;32m<ipython-input-62-2f6292f2a950>\u001b[0m in \u001b[0;36m<module>\u001b[0;34m\u001b[0m\n\u001b[0;32m----> 1\u001b[0;31m \u001b[0mDrugBankData\u001b[0m\u001b[0;34m.\u001b[0m\u001b[0mix\u001b[0m\u001b[0;34m[\u001b[0m\u001b[0mDrugName\u001b[0m\u001b[0;34m]\u001b[0m\u001b[0;34m\u001b[0m\u001b[0;34m\u001b[0m\u001b[0m\n\u001b[0m",
      "\u001b[0;32m~/.local/lib/python3.6/site-packages/pandas/core/generic.py\u001b[0m in \u001b[0;36m__getattr__\u001b[0;34m(self, name)\u001b[0m\n\u001b[1;32m   5272\u001b[0m             \u001b[0;32mif\u001b[0m \u001b[0mself\u001b[0m\u001b[0;34m.\u001b[0m\u001b[0m_info_axis\u001b[0m\u001b[0;34m.\u001b[0m\u001b[0m_can_hold_identifiers_and_holds_name\u001b[0m\u001b[0;34m(\u001b[0m\u001b[0mname\u001b[0m\u001b[0;34m)\u001b[0m\u001b[0;34m:\u001b[0m\u001b[0;34m\u001b[0m\u001b[0;34m\u001b[0m\u001b[0m\n\u001b[1;32m   5273\u001b[0m                 \u001b[0;32mreturn\u001b[0m \u001b[0mself\u001b[0m\u001b[0;34m[\u001b[0m\u001b[0mname\u001b[0m\u001b[0;34m]\u001b[0m\u001b[0;34m\u001b[0m\u001b[0;34m\u001b[0m\u001b[0m\n\u001b[0;32m-> 5274\u001b[0;31m             \u001b[0;32mreturn\u001b[0m \u001b[0mobject\u001b[0m\u001b[0;34m.\u001b[0m\u001b[0m__getattribute__\u001b[0m\u001b[0;34m(\u001b[0m\u001b[0mself\u001b[0m\u001b[0;34m,\u001b[0m \u001b[0mname\u001b[0m\u001b[0;34m)\u001b[0m\u001b[0;34m\u001b[0m\u001b[0;34m\u001b[0m\u001b[0m\n\u001b[0m\u001b[1;32m   5275\u001b[0m \u001b[0;34m\u001b[0m\u001b[0m\n\u001b[1;32m   5276\u001b[0m     \u001b[0;32mdef\u001b[0m \u001b[0m__setattr__\u001b[0m\u001b[0;34m(\u001b[0m\u001b[0mself\u001b[0m\u001b[0;34m,\u001b[0m \u001b[0mname\u001b[0m\u001b[0;34m:\u001b[0m \u001b[0mstr\u001b[0m\u001b[0;34m,\u001b[0m \u001b[0mvalue\u001b[0m\u001b[0;34m)\u001b[0m \u001b[0;34m->\u001b[0m \u001b[0;32mNone\u001b[0m\u001b[0;34m:\u001b[0m\u001b[0;34m\u001b[0m\u001b[0;34m\u001b[0m\u001b[0m\n",
      "\u001b[0;31mAttributeError\u001b[0m: 'DataFrame' object has no attribute 'ix'"
     ]
    }
   ],
   "source": [
    "DrugBankData.ix[DrugName]"
   ]
  },
  {
   "cell_type": "code",
   "execution_count": 59,
   "metadata": {},
   "outputs": [
    {
     "data": {
      "text/plain": [
       "0       DB00001\n",
       "1       DB00002\n",
       "2       DB00003\n",
       "3       DB00009\n",
       "4       DB00014\n",
       "         ...   \n",
       "2094    DB15612\n",
       "2095    DB15613\n",
       "2096    DB15617\n",
       "2097    DB15620\n",
       "2098    DB15621\n",
       "Name: drugbank-id, Length: 2099, dtype: object"
      ]
     },
     "execution_count": 59,
     "metadata": {},
     "output_type": "execute_result"
    }
   ],
   "source": [
    "DrugBankData['drugbank-id'] "
   ]
  },
  {
   "cell_type": "code",
   "execution_count": null,
   "metadata": {},
   "outputs": [],
   "source": []
  }
 ],
 "metadata": {
  "kernelspec": {
   "display_name": "Python 3",
   "language": "python",
   "name": "python3"
  },
  "language_info": {
   "codemirror_mode": {
    "name": "ipython",
    "version": 3
   },
   "file_extension": ".py",
   "mimetype": "text/x-python",
   "name": "python",
   "nbconvert_exporter": "python",
   "pygments_lexer": "ipython3",
   "version": "3.6.9"
  }
 },
 "nbformat": 4,
 "nbformat_minor": 4
}
