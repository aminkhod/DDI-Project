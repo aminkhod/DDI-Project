{
 "cells": [
  {
   "cell_type": "code",
   "execution_count": 1,
   "metadata": {},
   "outputs": [],
   "source": [
    "import pandas as pd\n",
    "import numpy as np\n",
    "import random"
   ]
  },
  {
   "cell_type": "code",
   "execution_count": 2,
   "metadata": {},
   "outputs": [],
   "source": [
    "def reduceList( DrugPairs):\n",
    "#     print(dPairs.head())\n",
    "    i = 0\n",
    "    newList = []\n",
    "    seenList = []\n",
    "    while i < len(DrugPairs.iloc[:,0]):\n",
    "        d1, d2 = DrugPairs.iloc[i][1], DrugPairs.iloc[i][2]\n",
    "        buf = DrugPairs[DrugPairs[1]==d2][DrugPairs[2]==d1]\n",
    "#         print(buf)\n",
    "        if len(buf) == 1 and (i not in seenList) and (list(buf.index)[0] not in seenList):\n",
    "            newList.append(i)\n",
    "            newList.append(list(buf.index)[0])\n",
    "            seenList.append(list(buf.index)[0])\n",
    "            seenList.append(i)\n",
    "        else:\n",
    "            seenList.append(i)\n",
    "        i += 1\n",
    "    return newList"
   ]
  },
  {
   "cell_type": "code",
   "execution_count": 3,
   "metadata": {},
   "outputs": [],
   "source": [
    "data = pd.read_csv('../../triple_cosineSNF(zeros).csv')"
   ]
  },
  {
   "cell_type": "code",
   "execution_count": 4,
   "metadata": {},
   "outputs": [
    {
     "data": {
      "text/html": [
       "<div>\n",
       "<style scoped>\n",
       "    .dataframe tbody tr th:only-of-type {\n",
       "        vertical-align: middle;\n",
       "    }\n",
       "\n",
       "    .dataframe tbody tr th {\n",
       "        vertical-align: top;\n",
       "    }\n",
       "\n",
       "    .dataframe thead th {\n",
       "        text-align: right;\n",
       "    }\n",
       "</style>\n",
       "<table border=\"1\" class=\"dataframe\">\n",
       "  <thead>\n",
       "    <tr style=\"text-align: right;\">\n",
       "      <th></th>\n",
       "      <th>0</th>\n",
       "      <th>1</th>\n",
       "      <th>2</th>\n",
       "      <th>3</th>\n",
       "      <th>4</th>\n",
       "      <th>5</th>\n",
       "      <th>6</th>\n",
       "      <th>7</th>\n",
       "      <th>8</th>\n",
       "      <th>9</th>\n",
       "      <th>...</th>\n",
       "      <th>1131</th>\n",
       "      <th>1132</th>\n",
       "      <th>1133</th>\n",
       "      <th>1134</th>\n",
       "      <th>1135</th>\n",
       "      <th>1136</th>\n",
       "      <th>1137</th>\n",
       "      <th>1138</th>\n",
       "      <th>1139</th>\n",
       "      <th>1140</th>\n",
       "    </tr>\n",
       "  </thead>\n",
       "  <tbody>\n",
       "    <tr>\n",
       "      <th>0</th>\n",
       "      <td>DB00115</td>\n",
       "      <td>DB00130</td>\n",
       "      <td>0</td>\n",
       "      <td>0.539895</td>\n",
       "      <td>0.001721</td>\n",
       "      <td>0.001658</td>\n",
       "      <td>0.001866</td>\n",
       "      <td>0.001864</td>\n",
       "      <td>0.001663</td>\n",
       "      <td>0.001717</td>\n",
       "      <td>...</td>\n",
       "      <td>0.001595</td>\n",
       "      <td>0.001615</td>\n",
       "      <td>0.001657</td>\n",
       "      <td>0.001689</td>\n",
       "      <td>0.001606</td>\n",
       "      <td>0.001651</td>\n",
       "      <td>0.001613</td>\n",
       "      <td>0.001657</td>\n",
       "      <td>0.001611</td>\n",
       "      <td>0.001602</td>\n",
       "    </tr>\n",
       "    <tr>\n",
       "      <th>1</th>\n",
       "      <td>DB00115</td>\n",
       "      <td>DB00136</td>\n",
       "      <td>0</td>\n",
       "      <td>0.539895</td>\n",
       "      <td>0.001721</td>\n",
       "      <td>0.001658</td>\n",
       "      <td>0.001866</td>\n",
       "      <td>0.001864</td>\n",
       "      <td>0.001663</td>\n",
       "      <td>0.001717</td>\n",
       "      <td>...</td>\n",
       "      <td>0.001616</td>\n",
       "      <td>0.001607</td>\n",
       "      <td>0.001619</td>\n",
       "      <td>0.002201</td>\n",
       "      <td>0.001610</td>\n",
       "      <td>0.002125</td>\n",
       "      <td>0.002078</td>\n",
       "      <td>0.001598</td>\n",
       "      <td>0.001643</td>\n",
       "      <td>0.001603</td>\n",
       "    </tr>\n",
       "    <tr>\n",
       "      <th>2</th>\n",
       "      <td>DB00115</td>\n",
       "      <td>DB00153</td>\n",
       "      <td>0</td>\n",
       "      <td>0.539895</td>\n",
       "      <td>0.001721</td>\n",
       "      <td>0.001658</td>\n",
       "      <td>0.001866</td>\n",
       "      <td>0.001864</td>\n",
       "      <td>0.001663</td>\n",
       "      <td>0.001717</td>\n",
       "      <td>...</td>\n",
       "      <td>0.001598</td>\n",
       "      <td>0.001646</td>\n",
       "      <td>0.001726</td>\n",
       "      <td>0.002786</td>\n",
       "      <td>0.001594</td>\n",
       "      <td>0.002029</td>\n",
       "      <td>0.002060</td>\n",
       "      <td>0.001631</td>\n",
       "      <td>0.001598</td>\n",
       "      <td>0.001635</td>\n",
       "    </tr>\n",
       "    <tr>\n",
       "      <th>3</th>\n",
       "      <td>DB00115</td>\n",
       "      <td>DB00158</td>\n",
       "      <td>0</td>\n",
       "      <td>0.539895</td>\n",
       "      <td>0.001721</td>\n",
       "      <td>0.001658</td>\n",
       "      <td>0.001866</td>\n",
       "      <td>0.001864</td>\n",
       "      <td>0.001663</td>\n",
       "      <td>0.001717</td>\n",
       "      <td>...</td>\n",
       "      <td>0.001692</td>\n",
       "      <td>0.001592</td>\n",
       "      <td>0.001666</td>\n",
       "      <td>0.001667</td>\n",
       "      <td>0.001591</td>\n",
       "      <td>0.001575</td>\n",
       "      <td>0.001588</td>\n",
       "      <td>0.001675</td>\n",
       "      <td>0.001594</td>\n",
       "      <td>0.001637</td>\n",
       "    </tr>\n",
       "    <tr>\n",
       "      <th>4</th>\n",
       "      <td>DB00115</td>\n",
       "      <td>DB00162</td>\n",
       "      <td>0</td>\n",
       "      <td>0.539895</td>\n",
       "      <td>0.001721</td>\n",
       "      <td>0.001658</td>\n",
       "      <td>0.001866</td>\n",
       "      <td>0.001864</td>\n",
       "      <td>0.001663</td>\n",
       "      <td>0.001717</td>\n",
       "      <td>...</td>\n",
       "      <td>0.001620</td>\n",
       "      <td>0.001622</td>\n",
       "      <td>0.001777</td>\n",
       "      <td>0.002357</td>\n",
       "      <td>0.001600</td>\n",
       "      <td>0.001918</td>\n",
       "      <td>0.001962</td>\n",
       "      <td>0.001606</td>\n",
       "      <td>0.001590</td>\n",
       "      <td>0.001616</td>\n",
       "    </tr>\n",
       "  </tbody>\n",
       "</table>\n",
       "<p>5 rows × 1139 columns</p>\n",
       "</div>"
      ],
      "text/plain": [
       "         0        1  2         3         4         5         6         7  \\\n",
       "0  DB00115  DB00130  0  0.539895  0.001721  0.001658  0.001866  0.001864   \n",
       "1  DB00115  DB00136  0  0.539895  0.001721  0.001658  0.001866  0.001864   \n",
       "2  DB00115  DB00153  0  0.539895  0.001721  0.001658  0.001866  0.001864   \n",
       "3  DB00115  DB00158  0  0.539895  0.001721  0.001658  0.001866  0.001864   \n",
       "4  DB00115  DB00162  0  0.539895  0.001721  0.001658  0.001866  0.001864   \n",
       "\n",
       "          8         9  ...      1131      1132      1133      1134      1135  \\\n",
       "0  0.001663  0.001717  ...  0.001595  0.001615  0.001657  0.001689  0.001606   \n",
       "1  0.001663  0.001717  ...  0.001616  0.001607  0.001619  0.002201  0.001610   \n",
       "2  0.001663  0.001717  ...  0.001598  0.001646  0.001726  0.002786  0.001594   \n",
       "3  0.001663  0.001717  ...  0.001692  0.001592  0.001666  0.001667  0.001591   \n",
       "4  0.001663  0.001717  ...  0.001620  0.001622  0.001777  0.002357  0.001600   \n",
       "\n",
       "       1136      1137      1138      1139      1140  \n",
       "0  0.001651  0.001613  0.001657  0.001611  0.001602  \n",
       "1  0.002125  0.002078  0.001598  0.001643  0.001603  \n",
       "2  0.002029  0.002060  0.001631  0.001598  0.001635  \n",
       "3  0.001575  0.001588  0.001675  0.001594  0.001637  \n",
       "4  0.001918  0.001962  0.001606  0.001590  0.001616  \n",
       "\n",
       "[5 rows x 1139 columns]"
      ]
     },
     "execution_count": 4,
     "metadata": {},
     "output_type": "execute_result"
    }
   ],
   "source": [
    "data.head()"
   ]
  },
  {
   "cell_type": "code",
   "execution_count": 5,
   "metadata": {
    "scrolled": true
   },
   "outputs": [
    {
     "data": {
      "text/html": [
       "<div>\n",
       "<style scoped>\n",
       "    .dataframe tbody tr th:only-of-type {\n",
       "        vertical-align: middle;\n",
       "    }\n",
       "\n",
       "    .dataframe tbody tr th {\n",
       "        vertical-align: top;\n",
       "    }\n",
       "\n",
       "    .dataframe thead th {\n",
       "        text-align: right;\n",
       "    }\n",
       "</style>\n",
       "<table border=\"1\" class=\"dataframe\">\n",
       "  <thead>\n",
       "    <tr style=\"text-align: right;\">\n",
       "      <th></th>\n",
       "      <th>0</th>\n",
       "      <th>1</th>\n",
       "    </tr>\n",
       "  </thead>\n",
       "  <tbody>\n",
       "    <tr>\n",
       "      <th>0</th>\n",
       "      <td>0.573989</td>\n",
       "      <td>0.331035</td>\n",
       "    </tr>\n",
       "    <tr>\n",
       "      <th>1</th>\n",
       "      <td>0.672577</td>\n",
       "      <td>0.415239</td>\n",
       "    </tr>\n",
       "    <tr>\n",
       "      <th>2</th>\n",
       "      <td>0.382096</td>\n",
       "      <td>0.521595</td>\n",
       "    </tr>\n",
       "    <tr>\n",
       "      <th>3</th>\n",
       "      <td>0.632586</td>\n",
       "      <td>0.135914</td>\n",
       "    </tr>\n",
       "    <tr>\n",
       "      <th>4</th>\n",
       "      <td>0.748400</td>\n",
       "      <td>0.185273</td>\n",
       "    </tr>\n",
       "  </tbody>\n",
       "</table>\n",
       "</div>"
      ],
      "text/plain": [
       "          0         1\n",
       "0  0.573989  0.331035\n",
       "1  0.672577  0.415239\n",
       "2  0.382096  0.521595\n",
       "3  0.632586  0.135914\n",
       "4  0.748400  0.185273"
      ]
     },
     "execution_count": 5,
     "metadata": {},
     "output_type": "execute_result"
    }
   ],
   "source": [
    "predict = pd.read_csv('predict_(-1 and +1 model)all.csv')\n",
    "predict.head()"
   ]
  },
  {
   "cell_type": "code",
   "execution_count": null,
   "metadata": {},
   "outputs": [],
   "source": [
    "zeroList = list(predict[predict['0']<0.4][predict['1']<0.4].index)\n",
    "len(zeroList)"
   ]
  },
  {
   "cell_type": "code",
   "execution_count": null,
   "metadata": {},
   "outputs": [],
   "source": [
    "probZeroDrug = data.iloc[zeroList,:]\n",
    "probZeroDrug.head()\n",
    "print(probZeroDrug.shape)"
   ]
  },
  {
   "cell_type": "code",
   "execution_count": null,
   "metadata": {},
   "outputs": [],
   "source": [
    "probZeroDrug.iloc[:,0:3].to_csv('probZeroDrugpairs.csv',header = False)\n",
    "drugsPairs = pd.read_csv('probZeroDrugpairs.csv',header=None)\n",
    "r, c = drugsPairs.shape\n",
    "print(r, c)\n",
    "drugsPairs.head()"
   ]
  },
  {
   "cell_type": "code",
   "execution_count": null,
   "metadata": {},
   "outputs": [],
   "source": [
    "newList = reduceList(drugsPairs.copy())\n",
    "# print(newDegList)\n",
    "len(newList)"
   ]
  },
  {
   "cell_type": "code",
   "execution_count": null,
   "metadata": {},
   "outputs": [],
   "source": [
    "probZeroDrug.iloc[newList,:].to_csv('probZeroDrugBothPair.csv',index=False)"
   ]
  },
  {
   "cell_type": "code",
   "execution_count": null,
   "metadata": {},
   "outputs": [],
   "source": [
    "probZeroDrugBothPair = pd.read_csv('probZeroDrugBothPair.csv')"
   ]
  },
  {
   "cell_type": "code",
   "execution_count": null,
   "metadata": {},
   "outputs": [],
   "source": [
    "drugsPairs = probZeroDrugBothPair.iloc[:,0:3]\n",
    "r, c = drugsPairs.shape\n",
    "print(r, c)\n",
    "drugsPairs.head()"
   ]
  },
  {
   "cell_type": "code",
   "execution_count": null,
   "metadata": {},
   "outputs": [],
   "source": [
    "indexes = []\n",
    "bufpairs = []\n",
    "for i in range(int(15000)):\n",
    "    candInd = np.random.randint(r/2)\n",
    "\n",
    "    while (int(2 * candInd) in indexes):\n",
    "        candInd = np.random.randint(r/2)\n",
    "    indexes.append(int(2 * candInd))\n",
    "    indexes.append(int(2 * candInd + 1))\n",
    "\n",
    "print(len(indexes))\n"
   ]
  },
  {
   "cell_type": "code",
   "execution_count": null,
   "metadata": {},
   "outputs": [],
   "source": [
    "drugsPairs.iloc[indexes,:]"
   ]
  },
  {
   "cell_type": "code",
   "execution_count": null,
   "metadata": {},
   "outputs": [],
   "source": [
    "index = drugsPairs.values[:,0]\n",
    "random.shuffle(index)\n",
    "drugsPairsShuffled = drugsPairs.iloc[index]"
   ]
  },
  {
   "cell_type": "code",
   "execution_count": null,
   "metadata": {
    "scrolled": true
   },
   "outputs": [],
   "source": [
    "checked = False\n",
    "problems = []\n",
    "i = 0\n",
    "while(i +1 < len(indexes)):\n",
    "\n",
    "    if (drugsPairs.iloc[indexes[i],0]==drugsPairs.iloc[indexes[i+1],1])and(drugsPairs.iloc[indexes[i],1]==drugsPairs.iloc[indexes[i+1],0]):\n",
    "        i += 2\n",
    "\n",
    "    else:        \n",
    "        problems.append([i,drugsPairs.iloc[i,:]])\n",
    "\n",
    "        del indexes[i]\n",
    "\n",
    "print('Number of pairs that do not have a dual which is significantly a zero pair: ', len(problems))"
   ]
  },
  {
   "cell_type": "code",
   "execution_count": null,
   "metadata": {},
   "outputs": [],
   "source": [
    "probZeroDrug.iloc[indexes,:].to_csv('probZeroDrug30000.csv',index=False)"
   ]
  },
  {
   "cell_type": "code",
   "execution_count": null,
   "metadata": {},
   "outputs": [],
   "source": [
    "probZeroDrug.iloc[indexes,:].iloc[:18000,:].to_csv('probZeroDrugTrain.csv',index=False)"
   ]
  },
  {
   "cell_type": "code",
   "execution_count": null,
   "metadata": {},
   "outputs": [],
   "source": [
    "probZeroDrug.iloc[indexes,:].iloc[18000:,:].to_csv('probZeroDrugTest.csv',index=False)"
   ]
  },
  {
   "cell_type": "code",
   "execution_count": null,
   "metadata": {},
   "outputs": [],
   "source": []
  }
 ],
 "metadata": {
  "kernelspec": {
   "display_name": "Python 3 (ipykernel)",
   "language": "python",
   "name": "python3"
  },
  "language_info": {
   "codemirror_mode": {
    "name": "ipython",
    "version": 3
   },
   "file_extension": ".py",
   "mimetype": "text/x-python",
   "name": "python",
   "nbconvert_exporter": "python",
   "pygments_lexer": "ipython3",
   "version": "3.8.10"
  }
 },
 "nbformat": 4,
 "nbformat_minor": 4
}
