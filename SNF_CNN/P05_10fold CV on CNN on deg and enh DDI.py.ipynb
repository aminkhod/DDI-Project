{
 "cells": [
  {
   "cell_type": "code",
   "execution_count": 1,
   "metadata": {},
   "outputs": [],
   "source": [
    "import pandas as pd \n",
    "import numpy as np\n",
    "\n",
    "import seaborn as sn\n",
    "import confusion_matrix_pretty_print\n",
    "from confusion_matrix_pretty_print import plot_confusion_matrix_from_data\n",
    "from sklearn import tree\n",
    "from sklearn.ensemble import ExtraTreesClassifier\n",
    "from sklearn.metrics import confusion_matrix,classification_report,precision_score\n",
    "import keras\n",
    "\n",
    "from keras.utils import to_categorical\n",
    "from keras.models import Sequential\n",
    "from keras.layers import Dense, Conv2D, Flatten, Softmax, Dropout"
   ]
  },
  {
   "cell_type": "code",
   "execution_count": 2,
   "metadata": {},
   "outputs": [],
   "source": [
    "tripleData = pd.read_csv('../../triple42702_ShuffledPaired.csv')"
   ]
  },
  {
   "cell_type": "code",
   "execution_count": 3,
   "metadata": {},
   "outputs": [],
   "source": [
    "fold = 10 \n",
    "interval = int(42702/fold)\n",
    "auprListpositive1 = []\n",
    "aucListpositive1 = []\n",
    "\n",
    "auprListmines1 = []\n",
    "aucListmines1 = []"
   ]
  },
  {
   "cell_type": "code",
   "execution_count": 13,
   "metadata": {},
   "outputs": [
    {
     "name": "stdout",
     "output_type": "stream",
     "text": [
      "0 4269\n"
     ]
    },
    {
     "name": "stderr",
     "output_type": "stream",
     "text": [
      "WARNING:absl:`lr` is deprecated in Keras optimizer, please use `learning_rate` or use the legacy optimizer, e.g.,tf.keras.optimizers.legacy.Adam.\n"
     ]
    },
    {
     "name": "stdout",
     "output_type": "stream",
     "text": [
      "Epoch 1/10\n",
      "1201/1201 [==============================] - 195s 162ms/step - loss: 0.3375 - accuracy: 0.8507 - val_loss: 0.2515 - val_accuracy: 0.8937\n",
      "Epoch 2/10\n",
      "1201/1201 [==============================] - 177s 148ms/step - loss: 0.1960 - accuracy: 0.9194 - val_loss: 0.1983 - val_accuracy: 0.9272\n",
      "Epoch 3/10\n",
      "1201/1201 [==============================] - 169s 141ms/step - loss: 0.1292 - accuracy: 0.9478 - val_loss: 0.1576 - val_accuracy: 0.9440\n",
      "Epoch 4/10\n",
      "1201/1201 [==============================] - 168s 140ms/step - loss: 0.0946 - accuracy: 0.9615 - val_loss: 0.1474 - val_accuracy: 0.9459\n",
      "Epoch 5/10\n",
      "1201/1201 [==============================] - 167s 139ms/step - loss: 0.0731 - accuracy: 0.9701 - val_loss: 0.1512 - val_accuracy: 0.9471\n",
      "Epoch 6/10\n",
      "1201/1201 [==============================] - 166s 139ms/step - loss: 0.0603 - accuracy: 0.9747 - val_loss: 0.1799 - val_accuracy: 0.9518\n",
      "Epoch 7/10\n",
      "1201/1201 [==============================] - 167s 139ms/step - loss: 0.0526 - accuracy: 0.9778 - val_loss: 0.1817 - val_accuracy: 0.9473\n",
      "Epoch 8/10\n",
      "1201/1201 [==============================] - 166s 138ms/step - loss: 0.0484 - accuracy: 0.9794 - val_loss: 0.1901 - val_accuracy: 0.9513\n",
      "Epoch 9/10\n",
      "1201/1201 [==============================] - 165s 138ms/step - loss: 0.0436 - accuracy: 0.9812 - val_loss: 0.2033 - val_accuracy: 0.9562\n",
      "Epoch 10/10\n",
      "1201/1201 [==============================] - 167s 139ms/step - loss: 0.0408 - accuracy: 0.9836 - val_loss: 0.1580 - val_accuracy: 0.9581\n",
      "134/134 [==============================] - 3s 22ms/step\n",
      "[[9.9967921e-01 3.2078783e-04]\n",
      " [9.9959141e-01 4.0854717e-04]\n",
      " [8.1977412e-08 9.9999988e-01]\n",
      " [3.3435288e-05 9.9996662e-01]]\n",
      "0.951186588702273 0.9809723714433906\n",
      "0.9940175526195074 0.980969890549581\n",
      "4270 8539\n"
     ]
    },
    {
     "name": "stderr",
     "output_type": "stream",
     "text": [
      "WARNING:absl:`lr` is deprecated in Keras optimizer, please use `learning_rate` or use the legacy optimizer, e.g.,tf.keras.optimizers.legacy.Adam.\n"
     ]
    },
    {
     "name": "stdout",
     "output_type": "stream",
     "text": [
      "Epoch 1/10\n",
      "1201/1201 [==============================] - 168s 139ms/step - loss: 0.3465 - accuracy: 0.8444 - val_loss: 0.3053 - val_accuracy: 0.8618\n",
      "Epoch 2/10\n",
      "1201/1201 [==============================] - 167s 139ms/step - loss: 0.1980 - accuracy: 0.9167 - val_loss: 0.2096 - val_accuracy: 0.9211\n",
      "Epoch 3/10\n",
      "1201/1201 [==============================] - 166s 138ms/step - loss: 0.1140 - accuracy: 0.9531 - val_loss: 0.1807 - val_accuracy: 0.9356\n",
      "Epoch 4/10\n",
      "1201/1201 [==============================] - 168s 140ms/step - loss: 0.0731 - accuracy: 0.9711 - val_loss: 0.1779 - val_accuracy: 0.9396\n",
      "Epoch 5/10\n",
      "1201/1201 [==============================] - 167s 139ms/step - loss: 0.0498 - accuracy: 0.9798 - val_loss: 0.1942 - val_accuracy: 0.9482\n",
      "Epoch 6/10\n",
      "1201/1201 [==============================] - 166s 138ms/step - loss: 0.0354 - accuracy: 0.9862 - val_loss: 0.2273 - val_accuracy: 0.9457\n",
      "Epoch 7/10\n",
      "1201/1201 [==============================] - 166s 138ms/step - loss: 0.0288 - accuracy: 0.9891 - val_loss: 0.2021 - val_accuracy: 0.9473\n",
      "Epoch 8/10\n",
      "1201/1201 [==============================] - 165s 137ms/step - loss: 0.0233 - accuracy: 0.9909 - val_loss: 0.2844 - val_accuracy: 0.9489\n",
      "Epoch 9/10\n",
      "1201/1201 [==============================] - 168s 140ms/step - loss: 0.0215 - accuracy: 0.9918 - val_loss: 0.1962 - val_accuracy: 0.9525\n",
      "Epoch 10/10\n",
      "1201/1201 [==============================] - 167s 139ms/step - loss: 0.0154 - accuracy: 0.9941 - val_loss: 0.2575 - val_accuracy: 0.9518\n",
      "134/134 [==============================] - 3s 23ms/step\n",
      "[[1.7108044e-09 1.0000000e+00]\n",
      " [4.3766608e-11 1.0000000e+00]\n",
      " [1.0000000e+00 2.0925560e-11]\n",
      " [1.0000000e+00 1.2623490e-09]]\n",
      "0.9501910385437777 0.9825937870146416\n",
      "0.9943937943401921 0.9824028039057602\n",
      "8540 12809\n"
     ]
    },
    {
     "name": "stderr",
     "output_type": "stream",
     "text": [
      "WARNING:absl:`lr` is deprecated in Keras optimizer, please use `learning_rate` or use the legacy optimizer, e.g.,tf.keras.optimizers.legacy.Adam.\n"
     ]
    },
    {
     "name": "stdout",
     "output_type": "stream",
     "text": [
      "Epoch 1/10\n",
      "1201/1201 [==============================] - 168s 139ms/step - loss: 0.4007 - accuracy: 0.8270 - val_loss: 0.3387 - val_accuracy: 0.8501\n",
      "Epoch 2/10\n",
      "1201/1201 [==============================] - 167s 139ms/step - loss: 0.3216 - accuracy: 0.8660 - val_loss: 0.3244 - val_accuracy: 0.8644\n",
      "Epoch 3/10\n",
      "1201/1201 [==============================] - 168s 140ms/step - loss: 0.3004 - accuracy: 0.8774 - val_loss: 0.3206 - val_accuracy: 0.8611\n",
      "Epoch 4/10\n",
      "1201/1201 [==============================] - 168s 140ms/step - loss: 0.2808 - accuracy: 0.8850 - val_loss: 0.3188 - val_accuracy: 0.8691\n",
      "Epoch 5/10\n",
      "1201/1201 [==============================] - 167s 139ms/step - loss: 0.2669 - accuracy: 0.8915 - val_loss: 0.3143 - val_accuracy: 0.8726\n",
      "Epoch 6/10\n",
      "1201/1201 [==============================] - 169s 140ms/step - loss: 0.2594 - accuracy: 0.8979 - val_loss: 0.3111 - val_accuracy: 0.8756\n",
      "Epoch 7/10\n",
      "1201/1201 [==============================] - 179s 149ms/step - loss: 0.2534 - accuracy: 0.9017 - val_loss: 0.3182 - val_accuracy: 0.8770\n",
      "Epoch 8/10\n",
      "1201/1201 [==============================] - 179s 149ms/step - loss: 0.2499 - accuracy: 0.9068 - val_loss: 0.3143 - val_accuracy: 0.8808\n",
      "Epoch 9/10\n",
      "1201/1201 [==============================] - 188s 156ms/step - loss: 0.2466 - accuracy: 0.9066 - val_loss: 0.3079 - val_accuracy: 0.8775\n",
      "Epoch 10/10\n",
      "1201/1201 [==============================] - 184s 153ms/step - loss: 0.2448 - accuracy: 0.9110 - val_loss: 0.3258 - val_accuracy: 0.8820\n",
      "134/134 [==============================] - 3s 23ms/step\n",
      "[[2.4059161e-03 9.9759406e-01]\n",
      " [1.6083553e-03 9.9839157e-01]\n",
      " [3.1500730e-07 9.9999964e-01]\n",
      " [3.5217500e-09 1.0000000e+00]]\n",
      "0.7759177538311717 0.9112094113981175\n",
      "0.9752743341197494 0.9112062215261959\n",
      "12810 17079\n"
     ]
    },
    {
     "name": "stderr",
     "output_type": "stream",
     "text": [
      "WARNING:absl:`lr` is deprecated in Keras optimizer, please use `learning_rate` or use the legacy optimizer, e.g.,tf.keras.optimizers.legacy.Adam.\n"
     ]
    },
    {
     "name": "stdout",
     "output_type": "stream",
     "text": [
      "Epoch 1/10\n",
      "1201/1201 [==============================] - 174s 145ms/step - loss: 0.3926 - accuracy: 0.8293 - val_loss: 0.3064 - val_accuracy: 0.8602\n",
      "Epoch 2/10\n",
      "1201/1201 [==============================] - 192s 160ms/step - loss: 0.2949 - accuracy: 0.8772 - val_loss: 0.2878 - val_accuracy: 0.8754\n",
      "Epoch 3/10\n",
      "1201/1201 [==============================] - 198s 165ms/step - loss: 0.2652 - accuracy: 0.8959 - val_loss: 0.2641 - val_accuracy: 0.8963\n",
      "Epoch 4/10\n",
      "1201/1201 [==============================] - 192s 160ms/step - loss: 0.2401 - accuracy: 0.9091 - val_loss: 0.2571 - val_accuracy: 0.9019\n",
      "Epoch 5/10\n",
      "1201/1201 [==============================] - 192s 160ms/step - loss: 0.1596 - accuracy: 0.9262 - val_loss: 0.1836 - val_accuracy: 0.9124\n",
      "Epoch 6/10\n",
      "1201/1201 [==============================] - 318s 265ms/step - loss: 0.0987 - accuracy: 0.9403 - val_loss: 0.1619 - val_accuracy: 0.9244\n",
      "Epoch 7/10\n",
      "1201/1201 [==============================] - 440s 366ms/step - loss: 0.0788 - accuracy: 0.9543 - val_loss: 0.1692 - val_accuracy: 0.9396\n",
      "Epoch 8/10\n",
      "1201/1201 [==============================] - 693s 577ms/step - loss: 0.0561 - accuracy: 0.9753 - val_loss: 0.1813 - val_accuracy: 0.9443\n",
      "Epoch 9/10\n",
      "1201/1201 [==============================] - 686s 571ms/step - loss: 0.0423 - accuracy: 0.9821 - val_loss: 0.1607 - val_accuracy: 0.9527\n",
      "Epoch 10/10\n",
      "1201/1201 [==============================] - 658s 548ms/step - loss: 0.0354 - accuracy: 0.9857 - val_loss: 0.1656 - val_accuracy: 0.9520\n",
      "134/134 [==============================] - 10s 70ms/step\n",
      "[[1.9741915e-03 9.9802589e-01]\n",
      " [1.1249387e-02 9.8875064e-01]\n",
      " [1.8285851e-04 9.9981719e-01]\n",
      " [1.9706033e-05 9.9998033e-01]]\n",
      "0.9482545156461234 0.9851843077023626\n",
      "0.996141011698499 0.9851844779037722\n",
      "17080 21349\n"
     ]
    },
    {
     "name": "stderr",
     "output_type": "stream",
     "text": [
      "WARNING:absl:`lr` is deprecated in Keras optimizer, please use `learning_rate` or use the legacy optimizer, e.g.,tf.keras.optimizers.legacy.Adam.\n"
     ]
    },
    {
     "name": "stdout",
     "output_type": "stream",
     "text": [
      "Epoch 1/10\n",
      "1201/1201 [==============================] - 691s 568ms/step - loss: 0.3523 - accuracy: 0.8408 - val_loss: 0.2783 - val_accuracy: 0.8696\n",
      "Epoch 2/10\n",
      "1201/1201 [==============================] - 460s 383ms/step - loss: 0.2147 - accuracy: 0.8970 - val_loss: 0.2443 - val_accuracy: 0.8883\n",
      "Epoch 3/10\n",
      "1201/1201 [==============================] - 368s 306ms/step - loss: 0.1375 - accuracy: 0.9413 - val_loss: 0.2264 - val_accuracy: 0.9185\n",
      "Epoch 4/10\n",
      "1201/1201 [==============================] - 255s 212ms/step - loss: 0.0925 - accuracy: 0.9624 - val_loss: 0.2096 - val_accuracy: 0.9302\n",
      "Epoch 5/10\n",
      "1201/1201 [==============================] - 175s 146ms/step - loss: 0.0731 - accuracy: 0.9703 - val_loss: 0.1742 - val_accuracy: 0.9375\n",
      "Epoch 6/10\n",
      "1201/1201 [==============================] - 172s 144ms/step - loss: 0.0614 - accuracy: 0.9749 - val_loss: 0.1799 - val_accuracy: 0.9361\n",
      "Epoch 7/10\n",
      "1201/1201 [==============================] - 170s 142ms/step - loss: 0.0541 - accuracy: 0.9774 - val_loss: 0.1858 - val_accuracy: 0.9433\n",
      "Epoch 8/10\n",
      "1201/1201 [==============================] - 171s 142ms/step - loss: 0.0510 - accuracy: 0.9783 - val_loss: 0.2447 - val_accuracy: 0.9351\n",
      "Epoch 9/10\n",
      "1201/1201 [==============================] - 171s 142ms/step - loss: 0.0474 - accuracy: 0.9789 - val_loss: 0.2716 - val_accuracy: 0.9248\n",
      "Epoch 10/10\n",
      "1201/1201 [==============================] - 170s 142ms/step - loss: 0.0462 - accuracy: 0.9787 - val_loss: 0.2046 - val_accuracy: 0.9461\n",
      "134/134 [==============================] - 3s 22ms/step\n",
      "[[1.6739277e-05 9.9998331e-01]\n",
      " [2.3761926e-07 9.9999976e-01]\n",
      " [4.1883909e-03 9.9581158e-01]\n",
      " [1.8735873e-02 9.8126411e-01]]\n",
      "0.9436914923452603 0.9798013761133472\n",
      "0.9935144552305265 0.9797154318768588\n",
      "21350 25619\n"
     ]
    },
    {
     "name": "stderr",
     "output_type": "stream",
     "text": [
      "WARNING:absl:`lr` is deprecated in Keras optimizer, please use `learning_rate` or use the legacy optimizer, e.g.,tf.keras.optimizers.legacy.Adam.\n"
     ]
    },
    {
     "name": "stdout",
     "output_type": "stream",
     "text": [
      "Epoch 1/10\n",
      "1201/1201 [==============================] - 173s 144ms/step - loss: 0.3617 - accuracy: 0.8386 - val_loss: 0.2802 - val_accuracy: 0.8754\n",
      "Epoch 2/10\n",
      "1201/1201 [==============================] - 174s 145ms/step - loss: 0.2393 - accuracy: 0.8958 - val_loss: 0.2144 - val_accuracy: 0.9138\n",
      "Epoch 3/10\n",
      "1201/1201 [==============================] - 178s 148ms/step - loss: 0.1705 - accuracy: 0.9291 - val_loss: 0.1940 - val_accuracy: 0.9272\n",
      "Epoch 4/10\n",
      "1201/1201 [==============================] - 189s 157ms/step - loss: 0.1193 - accuracy: 0.9507 - val_loss: 0.1529 - val_accuracy: 0.9424\n",
      "Epoch 5/10\n",
      "1201/1201 [==============================] - 197s 164ms/step - loss: 0.0799 - accuracy: 0.9659 - val_loss: 0.1531 - val_accuracy: 0.9445\n",
      "Epoch 6/10\n",
      "1201/1201 [==============================] - 214s 178ms/step - loss: 0.0559 - accuracy: 0.9771 - val_loss: 0.1609 - val_accuracy: 0.9543\n",
      "Epoch 7/10\n",
      "1201/1201 [==============================] - 208s 173ms/step - loss: 0.0416 - accuracy: 0.9825 - val_loss: 0.1603 - val_accuracy: 0.9543\n",
      "Epoch 8/10\n",
      "1201/1201 [==============================] - 203s 169ms/step - loss: 0.0296 - accuracy: 0.9875 - val_loss: 0.1683 - val_accuracy: 0.9557\n",
      "Epoch 9/10\n",
      "1201/1201 [==============================] - 216s 180ms/step - loss: 0.0244 - accuracy: 0.9898 - val_loss: 0.1709 - val_accuracy: 0.9595\n",
      "Epoch 10/10\n",
      "1201/1201 [==============================] - 207s 172ms/step - loss: 0.0187 - accuracy: 0.9921 - val_loss: 0.1514 - val_accuracy: 0.9564\n",
      "134/134 [==============================] - 4s 31ms/step\n",
      "[[9.9909663e-01 9.0337108e-04]\n",
      " [9.9994671e-01 5.3321633e-05]\n",
      " [1.3440237e-07 9.9999988e-01]\n",
      " [8.0739318e-07 9.9999917e-01]]\n",
      "0.959187427038196 0.9864895017850567\n",
      "0.9963056821219868 0.9864896685504485\n",
      "25620 29889\n"
     ]
    },
    {
     "name": "stderr",
     "output_type": "stream",
     "text": [
      "WARNING:absl:`lr` is deprecated in Keras optimizer, please use `learning_rate` or use the legacy optimizer, e.g.,tf.keras.optimizers.legacy.Adam.\n"
     ]
    },
    {
     "name": "stdout",
     "output_type": "stream",
     "text": [
      "Epoch 1/10\n",
      "1201/1201 [==============================] - 251s 204ms/step - loss: 0.3835 - accuracy: 0.8318 - val_loss: 0.3257 - val_accuracy: 0.8616\n",
      "Epoch 2/10\n",
      "1201/1201 [==============================] - 210s 175ms/step - loss: 0.2892 - accuracy: 0.8841 - val_loss: 0.3001 - val_accuracy: 0.8810\n",
      "Epoch 3/10\n",
      "1201/1201 [==============================] - 227s 189ms/step - loss: 0.2558 - accuracy: 0.9016 - val_loss: 0.3072 - val_accuracy: 0.8899\n",
      "Epoch 4/10\n",
      "1201/1201 [==============================] - 256s 213ms/step - loss: 0.2282 - accuracy: 0.9186 - val_loss: 0.2877 - val_accuracy: 0.8944\n",
      "Epoch 5/10\n",
      "1201/1201 [==============================] - 252s 210ms/step - loss: 0.2155 - accuracy: 0.9297 - val_loss: 0.2781 - val_accuracy: 0.9054\n",
      "Epoch 6/10\n",
      "1201/1201 [==============================] - 258s 215ms/step - loss: 0.2034 - accuracy: 0.9373 - val_loss: 0.2754 - val_accuracy: 0.9101\n",
      "Epoch 7/10\n",
      "1201/1201 [==============================] - 275s 229ms/step - loss: 0.1974 - accuracy: 0.9433 - val_loss: 0.2878 - val_accuracy: 0.9087\n",
      "Epoch 8/10\n",
      "1201/1201 [==============================] - 228s 190ms/step - loss: 0.1939 - accuracy: 0.9466 - val_loss: 0.3031 - val_accuracy: 0.9105\n",
      "Epoch 9/10\n",
      "1201/1201 [==============================] - 226s 188ms/step - loss: 0.1910 - accuracy: 0.9481 - val_loss: 0.2977 - val_accuracy: 0.9117\n",
      "Epoch 10/10\n",
      "1201/1201 [==============================] - 239s 199ms/step - loss: 0.1897 - accuracy: 0.9503 - val_loss: 0.2945 - val_accuracy: 0.9136\n",
      "134/134 [==============================] - 4s 28ms/step\n",
      "[[5.0000000e-01 5.0000000e-01]\n",
      " [5.0000000e-01 5.0000000e-01]\n",
      " [3.9986976e-06 9.9999595e-01]\n",
      " [1.5776995e-05 9.9998426e-01]]\n",
      "0.852941438586337 0.9435688426537222\n",
      "0.9855034400634995 0.9435707507447917\n",
      "29890 34159\n"
     ]
    },
    {
     "name": "stderr",
     "output_type": "stream",
     "text": [
      "WARNING:absl:`lr` is deprecated in Keras optimizer, please use `learning_rate` or use the legacy optimizer, e.g.,tf.keras.optimizers.legacy.Adam.\n"
     ]
    },
    {
     "name": "stdout",
     "output_type": "stream",
     "text": [
      "Epoch 1/10\n",
      "1201/1201 [==============================] - 216s 179ms/step - loss: 0.6932 - accuracy: 0.2146 - val_loss: 0.6931 - val_accuracy: 0.2206\n",
      "Epoch 2/10\n",
      "1201/1201 [==============================] - 237s 198ms/step - loss: 0.6932 - accuracy: 0.2146 - val_loss: 0.6931 - val_accuracy: 0.2206\n",
      "Epoch 3/10\n",
      "1201/1201 [==============================] - 207s 172ms/step - loss: 0.6932 - accuracy: 0.2146 - val_loss: 0.6931 - val_accuracy: 0.2206\n",
      "Epoch 4/10\n",
      "1201/1201 [==============================] - 215s 179ms/step - loss: 0.6932 - accuracy: 0.2146 - val_loss: 0.6931 - val_accuracy: 0.2206\n",
      "Epoch 5/10\n",
      "1201/1201 [==============================] - 232s 193ms/step - loss: 0.6932 - accuracy: 0.2146 - val_loss: 0.6931 - val_accuracy: 0.2206\n",
      "Epoch 6/10\n",
      "1201/1201 [==============================] - 197s 164ms/step - loss: 0.6932 - accuracy: 0.2146 - val_loss: 0.6931 - val_accuracy: 0.2206\n",
      "Epoch 7/10\n",
      "1201/1201 [==============================] - 194s 162ms/step - loss: 0.6932 - accuracy: 0.2146 - val_loss: 0.6931 - val_accuracy: 0.2206\n",
      "Epoch 8/10\n",
      "1201/1201 [==============================] - 194s 162ms/step - loss: 0.6932 - accuracy: 0.2146 - val_loss: 0.6931 - val_accuracy: 0.2206\n",
      "Epoch 9/10\n",
      "1201/1201 [==============================] - 194s 162ms/step - loss: 0.6932 - accuracy: 0.2146 - val_loss: 0.6931 - val_accuracy: 0.2206\n",
      "Epoch 10/10\n",
      "1201/1201 [==============================] - 195s 162ms/step - loss: 0.6932 - accuracy: 0.2146 - val_loss: 0.6931 - val_accuracy: 0.2206\n",
      "134/134 [==============================] - 4s 25ms/step\n",
      "[[0.5 0.5]\n",
      " [0.5 0.5]\n",
      " [0.5 0.5]\n",
      " [0.5 0.5]]\n",
      "0.610304449648712 0.5\n",
      "0.889695550351288 0.5\n",
      "34160 38429\n"
     ]
    },
    {
     "name": "stderr",
     "output_type": "stream",
     "text": [
      "WARNING:absl:`lr` is deprecated in Keras optimizer, please use `learning_rate` or use the legacy optimizer, e.g.,tf.keras.optimizers.legacy.Adam.\n"
     ]
    },
    {
     "name": "stdout",
     "output_type": "stream",
     "text": [
      "Epoch 1/10\n",
      "1201/1201 [==============================] - 191s 158ms/step - loss: 0.3884 - accuracy: 0.8315 - val_loss: 0.3086 - val_accuracy: 0.8651\n",
      "Epoch 2/10\n",
      "1201/1201 [==============================] - 194s 162ms/step - loss: 0.2887 - accuracy: 0.8816 - val_loss: 0.3018 - val_accuracy: 0.8679\n",
      "Epoch 3/10\n",
      "1201/1201 [==============================] - 185s 154ms/step - loss: 0.1852 - accuracy: 0.9073 - val_loss: 0.1786 - val_accuracy: 0.9037\n",
      "Epoch 4/10\n",
      "1201/1201 [==============================] - 177s 147ms/step - loss: 0.1199 - accuracy: 0.9322 - val_loss: 0.1758 - val_accuracy: 0.9166\n",
      "Epoch 5/10\n",
      "1201/1201 [==============================] - 174s 145ms/step - loss: 0.0885 - accuracy: 0.9455 - val_loss: 0.1765 - val_accuracy: 0.9180\n",
      "Epoch 6/10\n",
      "1201/1201 [==============================] - 173s 144ms/step - loss: 0.0732 - accuracy: 0.9530 - val_loss: 0.1708 - val_accuracy: 0.9253\n",
      "Epoch 7/10\n",
      "1201/1201 [==============================] - 174s 144ms/step - loss: 0.0591 - accuracy: 0.9664 - val_loss: 0.1537 - val_accuracy: 0.9447\n",
      "Epoch 8/10\n",
      "1201/1201 [==============================] - 173s 144ms/step - loss: 0.0463 - accuracy: 0.9788 - val_loss: 0.1536 - val_accuracy: 0.9520\n",
      "Epoch 9/10\n",
      "1201/1201 [==============================] - 174s 145ms/step - loss: 0.0363 - accuracy: 0.9845 - val_loss: 0.1497 - val_accuracy: 0.9571\n",
      "Epoch 10/10\n",
      "1201/1201 [==============================] - 174s 145ms/step - loss: 0.0299 - accuracy: 0.9870 - val_loss: 0.1640 - val_accuracy: 0.9564\n",
      "134/134 [==============================] - 3s 23ms/step\n",
      "[[4.7064423e-09 1.0000000e+00]\n",
      " [3.0159688e-09 1.0000000e+00]\n",
      " [3.5845382e-09 1.0000000e+00]\n",
      " [3.2324265e-11 1.0000000e+00]]\n",
      "0.9590274816615705 0.9845257949383517\n",
      "0.9952819882554073 0.9845235236859182\n",
      "38430 42701\n"
     ]
    },
    {
     "name": "stderr",
     "output_type": "stream",
     "text": [
      "WARNING:absl:`lr` is deprecated in Keras optimizer, please use `learning_rate` or use the legacy optimizer, e.g.,tf.keras.optimizers.legacy.Adam.\n"
     ]
    },
    {
     "name": "stdout",
     "output_type": "stream",
     "text": [
      "Epoch 1/10\n",
      "1201/1201 [==============================] - 176s 146ms/step - loss: 0.3389 - accuracy: 0.8506 - val_loss: 0.2538 - val_accuracy: 0.8928\n",
      "Epoch 2/10\n",
      "1201/1201 [==============================] - 174s 145ms/step - loss: 0.1774 - accuracy: 0.9277 - val_loss: 0.1761 - val_accuracy: 0.9267\n",
      "Epoch 3/10\n",
      "1201/1201 [==============================] - 175s 146ms/step - loss: 0.1086 - accuracy: 0.9577 - val_loss: 0.1607 - val_accuracy: 0.9452\n",
      "Epoch 4/10\n",
      "1201/1201 [==============================] - 175s 145ms/step - loss: 0.0753 - accuracy: 0.9711 - val_loss: 0.1522 - val_accuracy: 0.9462\n",
      "Epoch 5/10\n",
      "1201/1201 [==============================] - 175s 145ms/step - loss: 0.0555 - accuracy: 0.9788 - val_loss: 0.1412 - val_accuracy: 0.9511\n",
      "Epoch 6/10\n",
      "1201/1201 [==============================] - 173s 144ms/step - loss: 0.0432 - accuracy: 0.9826 - val_loss: 0.1449 - val_accuracy: 0.9527\n",
      "Epoch 7/10\n",
      "1201/1201 [==============================] - 174s 145ms/step - loss: 0.0377 - accuracy: 0.9849 - val_loss: 0.1806 - val_accuracy: 0.9511\n",
      "Epoch 8/10\n",
      "1201/1201 [==============================] - 173s 144ms/step - loss: 0.0304 - accuracy: 0.9873 - val_loss: 0.1220 - val_accuracy: 0.9597\n",
      "Epoch 9/10\n",
      "1201/1201 [==============================] - 174s 145ms/step - loss: 0.0259 - accuracy: 0.9890 - val_loss: 0.1750 - val_accuracy: 0.9621\n",
      "Epoch 10/10\n",
      "1201/1201 [==============================] - 174s 145ms/step - loss: 0.0224 - accuracy: 0.9906 - val_loss: 0.1430 - val_accuracy: 0.9654\n",
      "134/134 [==============================] - 3s 23ms/step\n",
      "[[2.0640891e-12 1.0000000e+00]\n",
      " [1.3090137e-11 1.0000000e+00]\n",
      " [3.9865120e-09 1.0000000e+00]\n",
      " [7.9151175e-07 9.9999917e-01]]\n",
      "0.9725819277125691 0.9897014760817682\n",
      "0.9967076756876544 0.9893738001971569\n"
     ]
    }
   ],
   "source": [
    "\n",
    "for split1 in range(10):\n",
    "    split2 = split1 + 1\n",
    "    \n",
    "    trainIndex = list(range(0,split1*interval))\n",
    "    trainIndex.extend(list(range(split2*interval,42702)))\n",
    "\n",
    "    if split1==9:\n",
    "        testIndex = list(range(split1*interval,42702))\n",
    "    else:\n",
    "        testIndex = list(range(split1*interval,split2*interval))\n",
    "\n",
    "    dataTrain = tripleData.iloc[trainIndex,:]\n",
    "    dataTest = tripleData.iloc[testIndex,:]\n",
    "    print(min(testIndex),max(testIndex))\n",
    "\n",
    "\n",
    "    X_train, X_test = dataTrain.values[:,3:], dataTest.values[:,3:]\n",
    "    y_train, y_test = dataTrain.values[:,2].astype(int), dataTest.values[:,2].astype(int)\n",
    "    trainNum = len(X_train)\n",
    "    testNum = len(X_test)\n",
    "\n",
    "    #reshape data to fit model\n",
    "    X_train = X_train.reshape(trainNum,16,71,1).astype('float32')\n",
    "    X_test = X_test.reshape(testNum,16,71,1).astype('float32')\n",
    "\n",
    "    y_train = y_train + 1\n",
    "    y_test  = y_test + 1\n",
    "    y_train = y_train / 2\n",
    "    y_test  = y_test / 2\n",
    "    # print(y_train[0], y_test[0])\n",
    "\n",
    "    from keras.utils import to_categorical\n",
    "    #one-hot encode target column\n",
    "    y_train = to_categorical(y_train).astype(int)\n",
    "    y_test = to_categorical(y_test).astype(int)\n",
    "    # y_test[0]\n",
    "    #create model\n",
    "    model = Sequential()\n",
    "    #add model layers\n",
    "    # kernel_initializer='uniform',\n",
    "    # kernel_initializer='uniform',\n",
    "    # kernel_initializer='uniform',\n",
    "    # kernel_initializer='uniform',\n",
    "    model.add(Conv2D(128, kernel_size=4, activation='relu', input_shape=(16,71,1)))\n",
    "    # model.add(Conv2D(64, kernel_size=2, activation='relu'))\n",
    "\n",
    "    model.add(Conv2D(32, kernel_size=4, activation='relu'))\n",
    "    # model.add(Conv2D(16, kernel_size=2, activation='relu'))\n",
    "    model.add(Conv2D(8, kernel_size=4, activation='relu'))\n",
    "    model.add(Flatten())\n",
    "    model.add(Dense( 1024, activation='relu'))\n",
    "    model.add(Dropout(0.3))\n",
    "    model.add(Dense( 64, activation='relu'))\n",
    "    model.add(Dense( 2, activation='relu'))\n",
    "    # model.add(Softmax())\n",
    "    model.summary()\n",
    "\n",
    "\n",
    "    #compile model using accuracy to measure model performance\n",
    "    from keras import optimizers\n",
    "    from keras import metrics as kmetr\n",
    "\n",
    "\n",
    "    adam = optimizers.Adam(learning_rate=0.0001, beta_1=0.9, beta_2=0.999)\n",
    "    # model.compile(loss='hinge', optimizer=adam, metrics=[kmetr.categorical_accuracy])\n",
    "    model.compile(optimizer='adam', loss='categorical_crossentropy', metrics=['accuracy']) ## Minist\n",
    "\n",
    "\n",
    "    # # Load the model's saved weights.\n",
    "    # model.load_weights('cnn.h5')\n",
    "\n",
    "    #train the model\n",
    "    model.fit(X_train, y_train, validation_data=(X_test, y_test), epochs=10)\n",
    "\n",
    "\n",
    "    # Saveing the Model\n",
    "    model.save_weights('Weight/cnn_'+str(split2)+'.h5')\n",
    "\n",
    "\n",
    "    #predict first 4 images in the test set\n",
    "    predit = model.predict(X_test)\n",
    "\n",
    "    #actual results for first 4 images in test set\n",
    "    print(predit[:4])\n",
    "\n",
    "\n",
    "    #from sklearn.metrics import precision_recall_curve, roc_curve\n",
    "    from sklearn.metrics import auc, precision_recall_curve, roc_curve\n",
    "    prec, rec, thr = precision_recall_curve(y_test[:,0], predit[:,0])\n",
    "    aupr_val = auc(rec, prec)\n",
    "    fpr, tpr, thr = roc_curve(y_test[:,0], predit[:,0])\n",
    "    auc_val = auc(fpr, tpr)\n",
    "    aucListmines1.append(auc_val)\n",
    "    auprListmines1.append(aupr_val)\n",
    "    print(aupr_val,auc_val)\n",
    "\n",
    "    #from sklearn.metrics import precision_recall_curve, roc_curve\n",
    "    from sklearn.metrics import auc, precision_recall_curve, roc_curve\n",
    "    prec, rec, thr = precision_recall_curve(y_test[:,1], predit[:,1])\n",
    "    aupr_val = auc(rec, prec)\n",
    "    fpr, tpr, thr = roc_curve(y_test[:,1], predit[:,1])\n",
    "    auc_val = auc(fpr, tpr)\n",
    "    aucListpositive1.append(auc_val)\n",
    "    auprListpositive1.append(aupr_val)\n",
    "    print(aupr_val , auc_val )"
   ]
  },
  {
   "cell_type": "code",
   "execution_count": 14,
   "metadata": {},
   "outputs": [
    {
     "name": "stdout",
     "output_type": "stream",
     "text": [
      "positive1: 0.8978377250844017  -+0.10601405895824866 0.9681268243661777  -+0.035940383764222504\n"
     ]
    },
    {
     "name": "stderr",
     "output_type": "stream",
     "text": [
      "C:\\Users\\Akhod\\AppData\\Local\\Temp\\ipykernel_1504\\666640578.py:7: DeprecationWarning: scipy.mean is deprecated and will be removed in SciPy 2.0.0, use numpy.mean instead\n",
      "  maucList = mean(aucListpositive1)\n",
      "C:\\Users\\Akhod\\AppData\\Local\\Temp\\ipykernel_1504\\666640578.py:13: DeprecationWarning: scipy.mean is deprecated and will be removed in SciPy 2.0.0, use numpy.mean instead\n",
      "  mauprList = mean(auprListpositive1)\n"
     ]
    }
   ],
   "source": [
    "from scipy.stats import sem, t\n",
    "from scipy import mean\n",
    "confidence = 0.95\n",
    "# data = [1, 2, 3, 4, 5]\n",
    "\n",
    "naucList = len(aucListpositive1)\n",
    "maucList = mean(aucListpositive1)\n",
    "std_erraucList = sem(aucListpositive1)\n",
    "haucList = std_erraucList * t.ppf((1 + confidence) / 2, naucList - 1)\n",
    "\n",
    "\n",
    "nauprList = len(auprListpositive1)\n",
    "mauprList = mean(auprListpositive1)\n",
    "std_errauprList = sem(auprListpositive1)\n",
    "hauprList = std_errauprList * t.ppf((1 + confidence) / 2, nauprList  - 1)\n",
    "\n",
    "\n",
    "\n",
    "print(\"positive1: \"+ str(maucList) + '  -+' + str(haucList), str(mauprList) + '  -+' + str(hauprList))"
   ]
  },
  {
   "cell_type": "code",
   "execution_count": 15,
   "metadata": {},
   "outputs": [],
   "source": [
    "mypd = []\n",
    "mypd = pd.DataFrame(mypd)\n",
    "mypd['AUC'],mypd['AUPR'] = aucListpositive1, auprListpositive1\n",
    "mypd.to_csv('selectedModelresult(+1).csv')"
   ]
  },
  {
   "cell_type": "code",
   "execution_count": 16,
   "metadata": {},
   "outputs": [
    {
     "name": "stdout",
     "output_type": "stream",
     "text": [
      "mines1: 0.897001638449514  -+0.10731220070047721 0.8700366809493786  -+0.07776600964645441\n"
     ]
    },
    {
     "name": "stderr",
     "output_type": "stream",
     "text": [
      "C:\\Users\\Akhod\\AppData\\Local\\Temp\\ipykernel_1504\\1263506168.py:7: DeprecationWarning: scipy.mean is deprecated and will be removed in SciPy 2.0.0, use numpy.mean instead\n",
      "  maucList = mean(aucListmines1)\n",
      "C:\\Users\\Akhod\\AppData\\Local\\Temp\\ipykernel_1504\\1263506168.py:13: DeprecationWarning: scipy.mean is deprecated and will be removed in SciPy 2.0.0, use numpy.mean instead\n",
      "  mauprList = mean(auprListmines1)\n"
     ]
    }
   ],
   "source": [
    "from scipy.stats import sem, t\n",
    "from scipy import mean\n",
    "confidence = 0.95\n",
    "# data = [1, 2, 3, 4, 5]\n",
    "\n",
    "naucList = len(aucListmines1)\n",
    "maucList = mean(aucListmines1)\n",
    "std_erraucList = sem(aucListmines1)\n",
    "haucList = std_erraucList * t.ppf((1 + confidence) / 2, naucList - 1)\n",
    "\n",
    "\n",
    "nauprList = len(auprListmines1)\n",
    "mauprList = mean(auprListmines1)\n",
    "std_errauprList = sem(auprListmines1)\n",
    "hauprList = std_errauprList * t.ppf((1 + confidence) / 2, nauprList  - 1)\n",
    "\n",
    "\n",
    "\n",
    "print(\"mines1: \"+ str(maucList) + '  -+' + str(haucList), str(mauprList) + '  -+' + str(hauprList))"
   ]
  },
  {
   "cell_type": "code",
   "execution_count": 17,
   "metadata": {},
   "outputs": [],
   "source": [
    "mypd = []\n",
    "mypd = pd.DataFrame(mypd)\n",
    "mypd['AUC'],mypd['AUPR'] = aucListmines1, auprListmines1\n",
    "mypd.to_csv('selectedModelresult(-1).csv')"
   ]
  },
  {
   "cell_type": "code",
   "execution_count": null,
   "metadata": {},
   "outputs": [],
   "source": []
  }
 ],
 "metadata": {
  "kernelspec": {
   "display_name": "Python 3 (ipykernel)",
   "language": "python",
   "name": "python3"
  },
  "language_info": {
   "codemirror_mode": {
    "name": "ipython",
    "version": 3
   },
   "file_extension": ".py",
   "mimetype": "text/x-python",
   "name": "python",
   "nbconvert_exporter": "python",
   "pygments_lexer": "ipython3",
   "version": "3.8.10"
  }
 },
 "nbformat": 4,
 "nbformat_minor": 4
}
