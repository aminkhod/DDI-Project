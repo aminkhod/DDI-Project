{
 "cells": [
  {
   "cell_type": "code",
   "execution_count": 1,
   "metadata": {},
   "outputs": [
    {
     "name": "stdout",
     "output_type": "stream",
     "text": [
      "(283556, 603)\n"
     ]
    }
   ],
   "source": [
    "import pandas as pd\n",
    "import numpy as np\n",
    "import matplotlib.pyplot as plt\n",
    "import seaborn as sns\n",
    "from sklearn.model_selection import train_test_split\n",
    "from sklearn import metrics\n",
    "from sklearn.linear_model import LogisticRegression\n",
    "from sklearn import preprocessing\n",
    "from sklearn.model_selection import LeaveOneOut\n",
    "from sklearn.naive_bayes import GaussianNB\n",
    "from sklearn import svm\n",
    "from sklearn.metrics import average_precision_score\n",
    "\n",
    "\n",
    "###reading data\n",
    "# missing_value=['?']\n",
    "data = pd.read_csv(\"../saved F.csv\")\n",
    "\n",
    "# # print(data.isnull().sum())\n",
    "print(data.shape)\n",
    "# ##removing missing values\n",
    "# data.dropna(inplace=True)\n",
    "# #16 row removed.\n",
    "# print(data.shape)\n",
    "# # data\n",
    "# # CDT culomn is eliminated because this culomn is empty."
   ]
  },
  {
   "cell_type": "code",
   "execution_count": 2,
   "metadata": {},
   "outputs": [],
   "source": [
    "# data1, data3 = data.copy(), data.copy()\n",
    "# data1[\"group\"] = np.array([1 if yins ==2 else 0 if yins == 1 else np.nan for yins in data1.values[:,0]])\n",
    "# data3[\"group\"] = np.array([1 if yins ==3 else 0 if yins == 1 else np.nan for yins in data3.values[:,0]])\n",
    "# data1.dropna(inplace=True)\n",
    "# data3.dropna(inplace=True)\n",
    "\n",
    "\n",
    "# X=data1.values[:,1:]\n",
    "# y=data1.values[:,0]\n",
    "# X = X.astype(np.float64)\n",
    "# y = y.astype(np.float64)\n",
    "\n",
    "X = data.values[:,3:]\n",
    "y = data.values[:,2]\n",
    "y = np.array(list(y))\n",
    "del data\n",
    "###### Devide data to test and train\n",
    "X_train,X_test,y_train,y_test=train_test_split(X,y,test_size=0.2,random_state=25)\n",
    "del X\n",
    "del y\n",
    "#preprocessing\n",
    "\n",
    "# scaler = preprocessing.StandardScaler().fit(X)\n",
    "# X_train_transformed = scaler.transform(X_train)\n",
    "# X_test_transformed = scaler.transform(X_test)\n",
    "# X_transformed = scaler.transform(X)\n"
   ]
  },
  {
   "cell_type": "code",
   "execution_count": 3,
   "metadata": {},
   "outputs": [],
   "source": [
    "methodList = []\n",
    "accList = []\n",
    "sensitivityList = []\n",
    "specificityList = []\n",
    "# del data\n"
   ]
  },
  {
   "cell_type": "code",
   "execution_count": 4,
   "metadata": {
    "scrolled": true
   },
   "outputs": [
    {
     "name": "stdout",
     "output_type": "stream",
     "text": [
      "[[34173  3470]\n",
      " [ 5499 13570]]\n",
      "Logistic Regression Accuracy:  0.8418500493722669\n",
      "AUPR:  0.663675315002159\n"
     ]
    },
    {
     "data": {
      "image/png": "[encoded data removed]",
      "text/plain": [
       "<Figure size 432x288 with 2 Axes>"
      ]
     },
     "metadata": {},
     "output_type": "display_data"
    },
    {
     "data": {
      "text/plain": [
       "Text(0.5,1,'2-class Precision-Recall curve: AP=0.66')"
      ]
     },
     "execution_count": 4,
     "metadata": {},
     "output_type": "execute_result"
    },
    {
     "data": {
      "image/png": "[encoded data removed]",
      "text/plain": [
       "<Figure size 432x288 with 1 Axes>"
      ]
     },
     "metadata": {},
     "output_type": "display_data"
    }
   ],
   "source": [
    "# loo = LeaveOneOut()\n",
    "# loo.get_n_splits(X_transformed)\n",
    "loologreg = LogisticRegression()\n",
    "# predicts=[]\n",
    "\n",
    "# for train_index, test_index in loo.split(X):\n",
    "#     X_train, X_test = X_transformed[train_index], X_transformed[test_index]\n",
    "#     y_train, y_test = y[train_index], y[test_index]\n",
    "#     loologregModel =loologreg.fit(X_train, np.array(list(y_train)))\n",
    "#     predicts.append(loologreg.predict(X_test))\n",
    "loologregModel = loologreg.fit(X_train, np.array(list(y_train)))\n",
    "predict = np.array(loologreg.predict(X_test))\n",
    "cnf_matrix = metrics.confusion_matrix(np.array(list(y_test)), predict)\n",
    "\n",
    "print(cnf_matrix)\n",
    "\n",
    "acc = metrics.accuracy_score(y_test, predict)\n",
    "average_precision = average_precision_score(y_test, predict)\n",
    "\n",
    "print(\"Logistic Regression Accuracy: \", acc)\n",
    "print('AUPR: ',average_precision)\n",
    "# recall = metrics.recall_score(y, predict)\n",
    "# print(\"Logistic Regression Recall by LOOCV\", recall)\n",
    "#\n",
    "# precession = metrics.precision_score(y, predict)\n",
    "# print(\"Logistic Regression Precession by LOOCV\", precession)\n",
    "\n",
    "######ploting\n",
    "# import required modules\n",
    "\n",
    "\n",
    "#matplotlib inline\n",
    "class_names=[0,1] # name  of classes\n",
    "fig, ax = plt.subplots()\n",
    "tick_marks = np.arange(len(class_names))\n",
    "plt.xticks(tick_marks, class_names)\n",
    "plt.yticks(tick_marks, class_names)\n",
    "\n",
    "# create heatmap\n",
    "sns.heatmap(pd.DataFrame(cnf_matrix), annot=True, cmap=\"YlGnBu\" ,fmt='g')\n",
    "ax.xaxis.set_label_position(\"top\")\n",
    "plt.tight_layout()\n",
    "plt.title('Logestic Regression Confusion matrix', y=1.1)\n",
    "\n",
    "plt.ylabel('Actual label')\n",
    "plt.xlabel('Predicted label')\n",
    "\n",
    "plt.show()\n",
    "\n",
    "from sklearn.metrics import precision_recall_curve\n",
    "import matplotlib.pyplot as plt\n",
    "from inspect import signature\n",
    "\n",
    "precision, recall, _ = precision_recall_curve(y_test, predict)\n",
    "\n",
    "# In matplotlib < 1.5, plt.fill_between does not have a 'step' argument\n",
    "step_kwargs = ({'step': 'post'}\n",
    "               if 'step' in signature(plt.fill_between).parameters\n",
    "               else {})\n",
    "plt.step(recall, precision, color='b', alpha=0.2,\n",
    "         where='post')\n",
    "plt.fill_between(recall, precision, alpha=0.2, color='b', **step_kwargs)\n",
    "\n",
    "plt.xlabel('Recall')\n",
    "plt.ylabel('Precision')\n",
    "plt.ylim([0.0, 1.05])\n",
    "plt.xlim([0.0, 1.0])\n",
    "plt.title('2-class Precision-Recall curve: AUPR={0:0.2f}'.format(\n",
    "          average_precision))"
   ]
  },
  {
   "cell_type": "code",
   "execution_count": null,
   "metadata": {},
   "outputs": [],
   "source": []
  },
  {
   "cell_type": "code",
   "execution_count": 5,
   "metadata": {},
   "outputs": [
    {
     "name": "stdout",
     "output_type": "stream",
     "text": [
      "Logestic Regression sensitivity = [0.        0.7116262 1.       ]and Logestic Regression specificity = [0.         0.09218181 1.        ]\n"
     ]
    },
    {
     "data": {
      "image/png": "[encoded data removed]",
      "text/plain": [
       "<Figure size 432x288 with 1 Axes>"
      ]
     },
     "metadata": {},
     "output_type": "display_data"
    }
   ],
   "source": [
    "\n",
    "#### Roc Curve\n",
    "fpr, tpr, _ = metrics.roc_curve(y_test,  predict)\n",
    "auc = metrics.roc_auc_score(y_test, predict)\n",
    "print(\"Logestic Regression sensitivity = \"+str(tpr)+\"and Logestic Regression specificity = \"+str(fpr))\n",
    "plt.plot(fpr,tpr,label=\"Logistic Regression, AUC = \"+str(auc))\n",
    "plt.title(\"Logistic Regression ROC Curve\")\n",
    "plt.legend(loc=4)\n",
    "plt.show()\n",
    "\n",
    "methodList.append('Logistic Regression')\n",
    "accList.append(acc)\n",
    "sensitivityList.append(tpr[1])\n",
    "specificityList.append(1-fpr[1])"
   ]
  },
  {
   "cell_type": "code",
   "execution_count": 6,
   "metadata": {},
   "outputs": [
    {
     "name": "stdout",
     "output_type": "stream",
     "text": [
      "[[30141  7502]\n",
      " [ 5658 13411]]\n",
      "Gaussian Naive Bayes Accuracy by LOOCV 0.7679503456058683\n"
     ]
    },
    {
     "data": {
      "image/png": "[encoded data removed]",
      "text/plain": [
       "<Figure size 432x288 with 2 Axes>"
      ]
     },
     "metadata": {},
     "output_type": "display_data"
    },
    {
     "name": "stdout",
     "output_type": "stream",
     "text": [
      "Gaussian Naive Bayes sensitivity = [0.         0.70328806 1.        ]and Gaussian Naive Bayes specificity = [0.         0.19929336 1.        ]\n"
     ]
    },
    {
     "data": {
      "image/png": "[encoded data removed]",
      "text/plain": [
       "<Figure size 432x288 with 1 Axes>"
      ]
     },
     "metadata": {},
     "output_type": "display_data"
    }
   ],
   "source": [
    "\n",
    "####GaussianNB\n",
    "\n",
    "# loo = LeaveOneOut()\n",
    "# loo.get_n_splits(X)\n",
    "loologreg = GaussianNB()\n",
    "# predicts=[]\n",
    "# for train_index, test_index in loo.split(X):\n",
    "#     X_train, X_test = X_transformed[train_index], X_transformed[test_index]\n",
    "#     y_train, y_test = y[train_index], y[test_index]\n",
    "#     loologregModel =loologreg.fit(X_train, y_train)\n",
    "#     predicts.append(loologreg.predict(X_test))\n",
    "\n",
    "loologregModel = loologreg.fit(X_train, np.array(list(y_train)))\n",
    "predict = np.array(loologreg.predict(X_test))\n",
    "cnf_matrix = metrics.confusion_matrix(y_test, predict)\n",
    "\n",
    "print(cnf_matrix)\n",
    "\n",
    "acc = metrics.accuracy_score(y_test, predict)\n",
    "print(\"Gaussian Naive Bayes Accuracy by LOOCV\", acc)\n",
    "######ploting\n",
    "\n",
    "\n",
    "\n",
    "#matplotlib inline\n",
    "class_names=[0,1] # name  of classes\n",
    "fig, ax = plt.subplots()\n",
    "tick_marks = np.arange(len(class_names))\n",
    "plt.xticks(tick_marks, class_names)\n",
    "plt.yticks(tick_marks, class_names)\n",
    "\n",
    "# create heatmap\n",
    "sns.heatmap(pd.DataFrame(cnf_matrix), annot=True, cmap=\"YlGnBu\" ,fmt='g')\n",
    "ax.xaxis.set_label_position(\"top\")\n",
    "plt.tight_layout()\n",
    "plt.title('Gaussian Naive Bayes Confusion matrix', y=1.1)\n",
    "plt.ylabel('Actual label')\n",
    "plt.xlabel('Predicted label')\n",
    "\n",
    "plt.show()\n",
    "\n",
    "#### Roc Curve\n",
    "fpr, tpr, _ = metrics.roc_curve(y_test,  predict)\n",
    "auc = metrics.roc_auc_score(y_test, predict)\n",
    "print(\"Gaussian Naive Bayes sensitivity = \"+str(tpr)+\"and Gaussian Naive Bayes specificity = \"+str(fpr))\n",
    "plt.plot(fpr,tpr,label=\"Gaussian Naive Bayes, AUC = \"+str(auc))\n",
    "plt.title(\"Gaussian Naive Bayes ROC Curve\")\n",
    "plt.legend(loc=4)\n",
    "plt.show()\n",
    "\n",
    "methodList.append('Gaussian Naive Bayes')\n",
    "accList.append(acc)\n",
    "sensitivityList.append(tpr[1])\n",
    "specificityList.append(1-fpr[1])"
   ]
  },
  {
   "cell_type": "code",
   "execution_count": null,
   "metadata": {},
   "outputs": [],
   "source": [
    "\n",
    "###SVM\n",
    "# loo = LeaveOneOut()\n",
    "# loo.get_n_splits(X)\n",
    "loologreg = svmachine = svm.SVC(gamma='auto',kernel='rbf',degree=3)\n",
    "\n",
    "# predicts=[]\n",
    "# for train_index, test_index in loo.split(X_transformed):\n",
    "#     X_train, X_test = X_transformed[train_index], X_transformed[test_index]\n",
    "#     y_train, y_test = y[train_index], y[test_index]\n",
    "#     loologregModel =loologreg.fit(X_train, y_train)\n",
    "#     predicts.append(loologregModel.predict(X_test))\n",
    "\n",
    "loologregModel = loologreg.fit(X_train, np.array(list(y_train)))\n",
    "predict = np.array(loologreg.predict(X_test))\n",
    "cnf_matrix = metrics.confusion_matrix(y_test, predict)\n",
    "\n",
    "print(cnf_matrix)\n",
    "\n",
    "acc = metrics.accuracy_score(y-test, predict)\n",
    "print(\"Support Vector Machine Accuracy by LOOCV\", acc)\n",
    "\n",
    "# recall = metrics.recall_score(y, predict)\n",
    "# print(\"Logistic Regression Recall by LOOCV\", recall)\n",
    "#\n",
    "# precession = metrics.precision_score(y, predict)\n",
    "# print(\"Logistic Regression Precession by LOOCV\", precession)\n",
    "\n",
    "######ploting\n",
    "\n",
    "\n",
    "#matplotlib inline\n",
    "class_names=[0,1] # name  of classes\n",
    "fig, ax = plt.subplots()\n",
    "tick_marks = np.arange(len(class_names))\n",
    "plt.xticks(tick_marks, class_names)\n",
    "plt.yticks(tick_marks, class_names)\n",
    "\n",
    "# create heatmap\n",
    "sns.heatmap(pd.DataFrame(cnf_matrix), annot=True, cmap=\"YlGnBu\" ,fmt='g')\n",
    "ax.xaxis.set_label_position(\"top\")\n",
    "plt.tight_layout()\n",
    "plt.title('Support Vector Machine Confusion matrix', y=1.1)\n",
    "plt.ylabel('Actual label')\n",
    "plt.xlabel('Predicted label')\n",
    "\n",
    "plt.show()\n",
    "\n",
    "#### Roc Curve\n",
    "\n",
    "fpr, tpr, _ = metrics.roc_curve(y-test,  predict)\n",
    "auc = metrics.roc_auc_score(y-test, predict)\n",
    "print(\"SVM sensitivity = \"+str(tpr)+\"and SVM specificity = \"+str(fpr))\n",
    "plt.plot(fpr,tpr,label=\"SVM, AUC = \"+str(auc))\n",
    "plt.title(\"Support Vector Machine ROC Curve\")\n",
    "plt.legend(loc=4)\n",
    "plt.show()\n",
    "\n",
    "methodList.append('Support Vector Machine')\n",
    "accList.append(acc)\n",
    "sensitivityList.append(tpr[1])\n",
    "specificityList.append(1-fpr[1])"
   ]
  },
  {
   "cell_type": "code",
   "execution_count": null,
   "metadata": {},
   "outputs": [],
   "source": [
    "result = []\n",
    "result = pd.DataFrame(result)\n",
    "result['method'],result['accuracy'],result['sensitivity'],result['specificity']=methodList,accList,sensitivityList,specificityList\n",
    "result.to_csv('DS1 result.csv',index=False)"
   ]
  },
  {
   "cell_type": "code",
   "execution_count": null,
   "metadata": {},
   "outputs": [],
   "source": []
  }
 ],
 "metadata": {
  "kernelspec": {
   "display_name": "Python 3",
   "language": "python",
   "name": "python3"
  },
  "language_info": {
   "codemirror_mode": {
    "name": "ipython",
    "version": 3
   },
   "file_extension": ".py",
   "mimetype": "text/x-python",
   "name": "python",
   "nbconvert_exporter": "python",
   "pygments_lexer": "ipython3",
   "version": "3.6.4"
  }
 },
 "nbformat": 4,
 "nbformat_minor": 2
}
