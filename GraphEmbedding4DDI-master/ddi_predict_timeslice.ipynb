{
 "cells": [
  {
   "cell_type": "code",
   "execution_count": 1,
   "metadata": {},
   "outputs": [
    {
     "name": "stderr",
     "output_type": "stream",
     "text": [
      "/opt/conda/lib/python3.6/site-packages/sklearn/ensemble/weight_boosting.py:29: DeprecationWarning: numpy.core.umath_tests is an internal NumPy module and should not be imported. It will be removed in a future NumPy release.\n",
      "  from numpy.core.umath_tests import inner1d\n"
     ]
    }
   ],
   "source": [
    "import csv\n",
    "import numpy as np\n",
    "import sys\n",
    "import pandas as pd\n",
    "import itertools\n",
    "import math\n",
    "import time\n",
    "\n",
    "from sklearn import svm, linear_model, neighbors\n",
    "from sklearn import tree, ensemble\n",
    "from sklearn import metrics\n",
    "from sklearn.naive_bayes import GaussianNB\n",
    "\n",
    "import networkx as nx\n",
    "import random\n",
    "import numbers\n",
    "\n",
    "from sklearn.model_selection import StratifiedKFold\n",
    "\n",
    "from src import ml\n",
    "from src import time_slice"
   ]
  },
  {
   "cell_type": "markdown",
   "metadata": {},
   "source": [
    "# DB v4.0 vs v5.0"
   ]
  },
  {
   "cell_type": "code",
   "execution_count": 16,
   "metadata": {},
   "outputs": [],
   "source": [
    "ddi_train = pd.read_csv(\"data/input/ddi_v4.txt\", sep='\\t')\n",
    "ddi_test = pd.read_csv(\"data/input/ddi_v5.txt\", sep='\\t')"
   ]
  },
  {
   "cell_type": "code",
   "execution_count": 17,
   "metadata": {},
   "outputs": [
    {
     "name": "stdout",
     "output_type": "stream",
     "text": [
      "Drugs 1458\n",
      "+|Train DDI size:  47077\n",
      "+|Test DDI size:  124574\n"
     ]
    }
   ],
   "source": [
    "positives_train, positives_test, all_negatives = time_slice.generateTrainTest(ddi_train, ddi_test, embedding_df)"
   ]
  },
  {
   "cell_type": "code",
   "execution_count": 18,
   "metadata": {},
   "outputs": [
    {
     "name": "stdout",
     "output_type": "stream",
     "text": [
      "run 0\n",
      "-|Train DDI size:  47077\n",
      "-|Test DDI size:  124574\n",
      "run 1\n",
      "-|Train DDI size:  47077\n",
      "-|Test DDI size:  124574\n",
      "run 2\n",
      "-|Train DDI size:  47077\n",
      "-|Test DDI size:  124574\n",
      "run 3\n",
      "-|Train DDI size:  47077\n",
      "-|Test DDI size:  124574\n",
      "run 4\n",
      "-|Train DDI size:  47077\n",
      "-|Test DDI size:  124574\n",
      "run 5\n",
      "-|Train DDI size:  47077\n",
      "-|Test DDI size:  124574\n",
      "run 6\n",
      "-|Train DDI size:  47077\n",
      "-|Test DDI size:  124574\n",
      "run 7\n",
      "-|Train DDI size:  47077\n",
      "-|Test DDI size:  124574\n",
      "run 8\n",
      "-|Train DDI size:  47077\n",
      "-|Test DDI size:  124574\n",
      "run 9\n",
      "-|Train DDI size:  47077\n",
      "-|Test DDI size:  124574\n"
     ]
    }
   ],
   "source": [
    "n_seed =100\n",
    "n_run =10 \n",
    "n_proportion = 1\n",
    "\n",
    "\n",
    "k=10\n",
    "nb_scores_df,lr_scores_df, rf_scores_df= time_slice.runaKrepetition(all_negatives, positives_train, positives_test, embedding_df, nb_model, lr_model, rf_model, n_run, n_seed)\n"
   ]
  },
  {
   "cell_type": "code",
   "execution_count": 19,
   "metadata": {},
   "outputs": [
    {
     "data": {
      "text/html": [
       "<div>\n",
       "<style scoped>\n",
       "    .dataframe tbody tr th:only-of-type {\n",
       "        vertical-align: middle;\n",
       "    }\n",
       "\n",
       "    .dataframe tbody tr th {\n",
       "        vertical-align: top;\n",
       "    }\n",
       "\n",
       "    .dataframe thead th {\n",
       "        text-align: right;\n",
       "    }\n",
       "</style>\n",
       "<table border=\"1\" class=\"dataframe\">\n",
       "  <thead>\n",
       "    <tr style=\"text-align: right;\">\n",
       "      <th></th>\n",
       "      <th>accuracy</th>\n",
       "      <th>average_precision</th>\n",
       "      <th>f1</th>\n",
       "      <th>precision</th>\n",
       "      <th>recall</th>\n",
       "      <th>roc_auc</th>\n",
       "    </tr>\n",
       "    <tr>\n",
       "      <th>method</th>\n",
       "      <th></th>\n",
       "      <th></th>\n",
       "      <th></th>\n",
       "      <th></th>\n",
       "      <th></th>\n",
       "      <th></th>\n",
       "    </tr>\n",
       "  </thead>\n",
       "  <tbody>\n",
       "    <tr>\n",
       "      <th>Logistic Regression</th>\n",
       "      <td>0.693809</td>\n",
       "      <td>0.752246</td>\n",
       "      <td>0.687674</td>\n",
       "      <td>0.701733</td>\n",
       "      <td>0.674174</td>\n",
       "      <td>0.757502</td>\n",
       "    </tr>\n",
       "    <tr>\n",
       "      <th>Naive Bayes</th>\n",
       "      <td>0.707182</td>\n",
       "      <td>0.776135</td>\n",
       "      <td>0.717584</td>\n",
       "      <td>0.692971</td>\n",
       "      <td>0.744012</td>\n",
       "      <td>0.775947</td>\n",
       "    </tr>\n",
       "    <tr>\n",
       "      <th>Random Forest</th>\n",
       "      <td>0.726205</td>\n",
       "      <td>0.796902</td>\n",
       "      <td>0.707111</td>\n",
       "      <td>0.760124</td>\n",
       "      <td>0.661021</td>\n",
       "      <td>0.800141</td>\n",
       "    </tr>\n",
       "  </tbody>\n",
       "</table>\n",
       "</div>"
      ],
      "text/plain": [
       "                     accuracy  average_precision        f1  precision  \\\n",
       "method                                                                  \n",
       "Logistic Regression  0.693809           0.752246  0.687674   0.701733   \n",
       "Naive Bayes          0.707182           0.776135  0.717584   0.692971   \n",
       "Random Forest        0.726205           0.796902  0.707111   0.760124   \n",
       "\n",
       "                       recall   roc_auc  \n",
       "method                                   \n",
       "Logistic Regression  0.674174  0.757502  \n",
       "Naive Bayes          0.744012  0.775947  \n",
       "Random Forest        0.661021  0.800141  "
      ]
     },
     "execution_count": 19,
     "metadata": {},
     "output_type": "execute_result"
    }
   ],
   "source": [
    "lr_scores_df['method']= 'Logistic Regression'\n",
    "nb_scores_df['method']= 'Naive Bayes'\n",
    "rf_scores_df['method']= 'Random Forest'\n",
    "all_scores_df = pd.DataFrame()\n",
    "all_scores_df = all_scores_df.append(lr_scores_df, ignore_index=True)\n",
    "all_scores_df = all_scores_df.append(nb_scores_df, ignore_index=True)\n",
    "all_scores_df = all_scores_df.append(rf_scores_df, ignore_index=True)\n",
    "all_scores_df.groupby('method').mean()"
   ]
  },
  {
   "cell_type": "code",
   "execution_count": 20,
   "metadata": {},
   "outputs": [],
   "source": [
    "all_scores_df.to_csv('results/Temporal/DB_r4.0vs5.0_run_sg.csv',sep=',', index=False)"
   ]
  },
  {
   "cell_type": "code",
   "execution_count": null,
   "metadata": {},
   "outputs": [],
   "source": []
  }
 ],
 "metadata": {
  "kernelspec": {
   "display_name": "Python 3",
   "language": "python",
   "name": "python3"
  },
  "language_info": {
   "codemirror_mode": {
    "name": "ipython",
    "version": 3
   },
   "file_extension": ".py",
   "mimetype": "text/x-python",
   "name": "python",
   "nbconvert_exporter": "python",
   "pygments_lexer": "ipython3",
   "version": "3.6.6"
  }
 },
 "nbformat": 4,
 "nbformat_minor": 2
}
