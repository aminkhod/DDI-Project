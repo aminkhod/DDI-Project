{
 "cells": [
  {
   "cell_type": "code",
   "execution_count": 1,
   "metadata": {},
   "outputs": [
    {
     "name": "stderr",
     "output_type": "stream",
     "text": [
      "/opt/conda/lib/python3.6/site-packages/sklearn/ensemble/weight_boosting.py:29: DeprecationWarning: numpy.core.umath_tests is an internal NumPy module and should not be imported. It will be removed in a future NumPy release.\n",
      "  from numpy.core.umath_tests import inner1d\n"
     ]
    }
   ],
   "source": [
    "import csv\n",
    "import numpy as np\n",
    "import sys\n",
    "import pandas as pd\n",
    "import itertools\n",
    "import math\n",
    "import time\n",
    "\n",
    "from sklearn import svm, linear_model, neighbors\n",
    "from sklearn import tree, ensemble\n",
    "from sklearn import metrics\n",
    "from sklearn.naive_bayes import GaussianNB\n",
    "\n",
    "import networkx as nx\n",
    "import random\n",
    "import numbers\n",
    "\n",
    "from sklearn.model_selection import StratifiedKFold\n",
    "\n",
    "from src import ml"
   ]
  },
  {
   "cell_type": "code",
   "execution_count": 2,
   "metadata": {},
   "outputs": [],
   "source": [
    "import findspark\n",
    "findspark.init()\n",
    "\n",
    "from pyspark import SparkConf, SparkContext"
   ]
  },
  {
   "cell_type": "code",
   "execution_count": 3,
   "metadata": {},
   "outputs": [
    {
     "name": "stdout",
     "output_type": "stream",
     "text": [
      "<SparkContext master=local[10] appName=pyspark-shell>\n"
     ]
    }
   ],
   "source": [
    "if False: \n",
    "    sc.stop()\n",
    "\n",
    "config = SparkConf()\n",
    "config.setMaster(\"local[10]\")\n",
    "config.set(\"spark.executor.memory\", \"70g\")\n",
    "config.set('spark.driver.memory', '90g')\n",
    "config.set(\"spark.memory.offHeap.enabled\",True)\n",
    "config.set(\"spark.memory.offHeap.size\",\"50g\") \n",
    "sc = SparkContext(conf=config)\n",
    "print (sc)"
   ]
  },
  {
   "cell_type": "markdown",
   "metadata": {},
   "source": [
    "# DRUGBANK 4.0"
   ]
  },
  {
   "cell_type": "code",
   "execution_count": 4,
   "metadata": {},
   "outputs": [
    {
     "data": {
      "text/html": [
       "<div>\n",
       "<style scoped>\n",
       "    .dataframe tbody tr th:only-of-type {\n",
       "        vertical-align: middle;\n",
       "    }\n",
       "\n",
       "    .dataframe tbody tr th {\n",
       "        vertical-align: top;\n",
       "    }\n",
       "\n",
       "    .dataframe thead th {\n",
       "        text-align: right;\n",
       "    }\n",
       "</style>\n",
       "<table border=\"1\" class=\"dataframe\">\n",
       "  <thead>\n",
       "    <tr style=\"text-align: right;\">\n",
       "      <th></th>\n",
       "      <th>Drug1</th>\n",
       "      <th>Drug2</th>\n",
       "    </tr>\n",
       "  </thead>\n",
       "  <tbody>\n",
       "    <tr>\n",
       "      <th>0</th>\n",
       "      <td>DB00005</td>\n",
       "      <td>DB00026</td>\n",
       "    </tr>\n",
       "    <tr>\n",
       "      <th>1</th>\n",
       "      <td>DB00026</td>\n",
       "      <td>DB00005</td>\n",
       "    </tr>\n",
       "    <tr>\n",
       "      <th>2</th>\n",
       "      <td>DB00005</td>\n",
       "      <td>DB00065</td>\n",
       "    </tr>\n",
       "    <tr>\n",
       "      <th>3</th>\n",
       "      <td>DB00065</td>\n",
       "      <td>DB00005</td>\n",
       "    </tr>\n",
       "    <tr>\n",
       "      <th>4</th>\n",
       "      <td>DB00005</td>\n",
       "      <td>DB00072</td>\n",
       "    </tr>\n",
       "  </tbody>\n",
       "</table>\n",
       "</div>"
      ],
      "text/plain": [
       "     Drug1    Drug2\n",
       "0  DB00005  DB00026\n",
       "1  DB00026  DB00005\n",
       "2  DB00005  DB00065\n",
       "3  DB00065  DB00005\n",
       "4  DB00005  DB00072"
      ]
     },
     "execution_count": 4,
     "metadata": {},
     "output_type": "execute_result"
    }
   ],
   "source": [
    "ddi_df = pd.read_csv(\"data/input/ddi_v4.txt\", sep='\\t')\n",
    "ddi_df.head()"
   ]
  },
  {
   "cell_type": "code",
   "execution_count": 5,
   "metadata": {},
   "outputs": [],
   "source": [
    "featureFilename = \"vectors/DB/RDF2Vec_sg_200_5_5_15_2_500_d5_uniform.txt\"\n",
    "embedding_df = pd.read_csv(featureFilename, delimiter='\\t') \n",
    "embedding_df.Entity =embedding_df.Entity.str[-8:-1]\n",
    "embedding_df.rename(columns={'Entity':'Drug'}, inplace=True)"
   ]
  },
  {
   "cell_type": "code",
   "execution_count": 6,
   "metadata": {},
   "outputs": [],
   "source": [
    "pairs, classes = ml.generatePairs(ddi_df, embedding_df)"
   ]
  },
  {
   "cell_type": "code",
   "execution_count": 7,
   "metadata": {},
   "outputs": [],
   "source": [
    "nb_model = GaussianNB()\n",
    "lr_model = linear_model.LogisticRegression()\n",
    "rf_model = ensemble.RandomForestClassifier(n_estimators=200, n_jobs=-1)\n",
    "\n",
    "clfs = [('Naive Bayes',nb_model),('Logistic Regression',lr_model),('Random Forest',rf_model)]"
   ]
  },
  {
   "cell_type": "code",
   "execution_count": 8,
   "metadata": {},
   "outputs": [
    {
     "name": "stdout",
     "output_type": "stream",
     "text": [
      "+/-: 47077 47077 1015076\n",
      "run 0\n",
      "+/-: 47077 47077 1015076\n",
      "run 1\n",
      "+/-: 47077 47077 1015076\n",
      "run 2\n",
      "+/-: 47077 47077 1015076\n",
      "run 3\n",
      "+/-: 47077 47077 1015076\n",
      "run 4\n",
      "+/-: 47077 47077 1015076\n",
      "run 5\n",
      "+/-: 47077 47077 1015076\n",
      "run 6\n",
      "+/-: 47077 47077 1015076\n",
      "run 7\n",
      "+/-: 47077 47077 1015076\n",
      "run 8\n",
      "+/-: 47077 47077 1015076\n",
      "run 9\n"
     ]
    }
   ],
   "source": [
    "n_seed =100\n",
    "n_fold =10 \n",
    "n_run =10 \n",
    "n_proportion = 1,\n",
    "all_scores_df = ml.kfoldCV(sc, pairs, classes, embedding_df, clfs, n_run, n_fold, n_proportion, n_seed)\n"
   ]
  },
  {
   "cell_type": "code",
   "execution_count": 9,
   "metadata": {},
   "outputs": [
    {
     "data": {
      "text/html": [
       "<div>\n",
       "<style scoped>\n",
       "    .dataframe tbody tr th:only-of-type {\n",
       "        vertical-align: middle;\n",
       "    }\n",
       "\n",
       "    .dataframe tbody tr th {\n",
       "        vertical-align: top;\n",
       "    }\n",
       "\n",
       "    .dataframe thead th {\n",
       "        text-align: right;\n",
       "    }\n",
       "</style>\n",
       "<table border=\"1\" class=\"dataframe\">\n",
       "  <thead>\n",
       "    <tr style=\"text-align: right;\">\n",
       "      <th></th>\n",
       "      <th>accuracy</th>\n",
       "      <th>average_precision</th>\n",
       "      <th>f1</th>\n",
       "      <th>fold</th>\n",
       "      <th>precision</th>\n",
       "      <th>recall</th>\n",
       "      <th>roc_auc</th>\n",
       "    </tr>\n",
       "    <tr>\n",
       "      <th>method</th>\n",
       "      <th></th>\n",
       "      <th></th>\n",
       "      <th></th>\n",
       "      <th></th>\n",
       "      <th></th>\n",
       "      <th></th>\n",
       "      <th></th>\n",
       "    </tr>\n",
       "  </thead>\n",
       "  <tbody>\n",
       "    <tr>\n",
       "      <th>Logistic Regression</th>\n",
       "      <td>0.696858</td>\n",
       "      <td>0.748784</td>\n",
       "      <td>0.699954</td>\n",
       "      <td>4.5</td>\n",
       "      <td>0.692892</td>\n",
       "      <td>0.707192</td>\n",
       "      <td>0.762720</td>\n",
       "    </tr>\n",
       "    <tr>\n",
       "      <th>Naive Bayes</th>\n",
       "      <td>0.659448</td>\n",
       "      <td>0.711984</td>\n",
       "      <td>0.663262</td>\n",
       "      <td>4.5</td>\n",
       "      <td>0.655920</td>\n",
       "      <td>0.670797</td>\n",
       "      <td>0.716468</td>\n",
       "    </tr>\n",
       "    <tr>\n",
       "      <th>Random Forest</th>\n",
       "      <td>0.831404</td>\n",
       "      <td>0.895062</td>\n",
       "      <td>0.837612</td>\n",
       "      <td>4.5</td>\n",
       "      <td>0.807884</td>\n",
       "      <td>0.869637</td>\n",
       "      <td>0.906893</td>\n",
       "    </tr>\n",
       "  </tbody>\n",
       "</table>\n",
       "</div>"
      ],
      "text/plain": [
       "                     accuracy  average_precision        f1  fold  precision  \\\n",
       "method                                                                        \n",
       "Logistic Regression  0.696858           0.748784  0.699954   4.5   0.692892   \n",
       "Naive Bayes          0.659448           0.711984  0.663262   4.5   0.655920   \n",
       "Random Forest        0.831404           0.895062  0.837612   4.5   0.807884   \n",
       "\n",
       "                       recall   roc_auc  \n",
       "method                                   \n",
       "Logistic Regression  0.707192  0.762720  \n",
       "Naive Bayes          0.670797  0.716468  \n",
       "Random Forest        0.869637  0.906893  "
      ]
     },
     "execution_count": 9,
     "metadata": {},
     "output_type": "execute_result"
    }
   ],
   "source": [
    "all_scores_df.groupby(['method','run']).mean().groupby('method').mean()"
   ]
  },
  {
   "cell_type": "code",
   "execution_count": 18,
   "metadata": {},
   "outputs": [],
   "source": [
    "all_scores_df.to_csv('results/traditional/DB4_TCV_run_sg.csv',sep=',', index=False)"
   ]
  },
  {
   "cell_type": "markdown",
   "metadata": {},
   "source": [
    "# TWOSIDES "
   ]
  },
  {
   "cell_type": "code",
   "execution_count": 19,
   "metadata": {},
   "outputs": [
    {
     "data": {
      "text/html": [
       "<div>\n",
       "<style scoped>\n",
       "    .dataframe tbody tr th:only-of-type {\n",
       "        vertical-align: middle;\n",
       "    }\n",
       "\n",
       "    .dataframe tbody tr th {\n",
       "        vertical-align: top;\n",
       "    }\n",
       "\n",
       "    .dataframe thead th {\n",
       "        text-align: right;\n",
       "    }\n",
       "</style>\n",
       "<table border=\"1\" class=\"dataframe\">\n",
       "  <thead>\n",
       "    <tr style=\"text-align: right;\">\n",
       "      <th></th>\n",
       "      <th>Drug1</th>\n",
       "      <th>Drug2</th>\n",
       "    </tr>\n",
       "  </thead>\n",
       "  <tbody>\n",
       "    <tr>\n",
       "      <th>0</th>\n",
       "      <td>DB00945</td>\n",
       "      <td>DB00526</td>\n",
       "    </tr>\n",
       "    <tr>\n",
       "      <th>1</th>\n",
       "      <td>DB00945</td>\n",
       "      <td>DB00458</td>\n",
       "    </tr>\n",
       "    <tr>\n",
       "      <th>2</th>\n",
       "      <td>DB00945</td>\n",
       "      <td>DB00996</td>\n",
       "    </tr>\n",
       "    <tr>\n",
       "      <th>3</th>\n",
       "      <td>DB00945</td>\n",
       "      <td>DB00454</td>\n",
       "    </tr>\n",
       "    <tr>\n",
       "      <th>4</th>\n",
       "      <td>DB00945</td>\n",
       "      <td>DB00213</td>\n",
       "    </tr>\n",
       "  </tbody>\n",
       "</table>\n",
       "</div>"
      ],
      "text/plain": [
       "     Drug1    Drug2\n",
       "0  DB00945  DB00526\n",
       "1  DB00945  DB00458\n",
       "2  DB00945  DB00996\n",
       "3  DB00945  DB00454\n",
       "4  DB00945  DB00213"
      ]
     },
     "execution_count": 19,
     "metadata": {},
     "output_type": "execute_result"
    }
   ],
   "source": [
    "ddi_df = pd.read_csv(\"data/input/ddi_twosides.txt\", sep='\\t')\n",
    "ddi_df.head()"
   ]
  },
  {
   "cell_type": "code",
   "execution_count": 20,
   "metadata": {},
   "outputs": [
    {
     "data": {
      "text/plain": [
       "97168"
      ]
     },
     "execution_count": 20,
     "metadata": {},
     "output_type": "execute_result"
    }
   ],
   "source": [
    "len(ddi_df)"
   ]
  },
  {
   "cell_type": "code",
   "execution_count": 21,
   "metadata": {},
   "outputs": [
    {
     "data": {
      "text/plain": [
       "548"
      ]
     },
     "execution_count": 21,
     "metadata": {},
     "output_type": "execute_result"
    }
   ],
   "source": [
    "len( set(ddi_df.Drug1.unique()).union(ddi_df.Drug2.unique()) )"
   ]
  },
  {
   "cell_type": "code",
   "execution_count": 22,
   "metadata": {},
   "outputs": [],
   "source": [
    "featureFilename = \"vectors/DB/RDF2Vec_sg_200_5_5_15_2_500_d5_uniform.txt\"\n",
    "embedding_df = pd.read_csv(featureFilename, delimiter='\\t') \n",
    "embedding_df.Entity =embedding_df.Entity.str[-8:-1]\n",
    "embedding_df.rename(columns={'Entity':'Drug'}, inplace=True)"
   ]
  },
  {
   "cell_type": "code",
   "execution_count": 23,
   "metadata": {},
   "outputs": [],
   "source": [
    "pairs, classes = ml.generatePairs(ddi_df, embedding_df)"
   ]
  },
  {
   "cell_type": "code",
   "execution_count": 24,
   "metadata": {},
   "outputs": [
    {
     "name": "stdout",
     "output_type": "stream",
     "text": [
      "+/-: 47301 47301 94477\n",
      "run 0\n",
      "+/-: 47301 47301 94477\n",
      "run 1\n",
      "+/-: 47301 47301 94477\n",
      "run 2\n",
      "+/-: 47301 47301 94477\n",
      "run 3\n",
      "+/-: 47301 47301 94477\n",
      "run 4\n",
      "+/-: 47301 47301 94477\n",
      "run 5\n",
      "+/-: 47301 47301 94477\n",
      "run 6\n",
      "+/-: 47301 47301 94477\n",
      "run 7\n",
      "+/-: 47301 47301 94477\n",
      "run 8\n",
      "+/-: 47301 47301 94477\n",
      "run 9\n"
     ]
    }
   ],
   "source": [
    "n_seed =100\n",
    "n_fold =10 \n",
    "n_run =10 \n",
    "n_proportion = 1,\n",
    "all_scores_df = ml.kfoldCV(sc, pairs, classes, embedding_df, clfs, n_run, n_fold, n_proportion, n_seed)"
   ]
  },
  {
   "cell_type": "code",
   "execution_count": 25,
   "metadata": {},
   "outputs": [
    {
     "data": {
      "text/html": [
       "<div>\n",
       "<style scoped>\n",
       "    .dataframe tbody tr th:only-of-type {\n",
       "        vertical-align: middle;\n",
       "    }\n",
       "\n",
       "    .dataframe tbody tr th {\n",
       "        vertical-align: top;\n",
       "    }\n",
       "\n",
       "    .dataframe thead th {\n",
       "        text-align: right;\n",
       "    }\n",
       "</style>\n",
       "<table border=\"1\" class=\"dataframe\">\n",
       "  <thead>\n",
       "    <tr style=\"text-align: right;\">\n",
       "      <th></th>\n",
       "      <th>accuracy</th>\n",
       "      <th>average_precision</th>\n",
       "      <th>f1</th>\n",
       "      <th>fold</th>\n",
       "      <th>precision</th>\n",
       "      <th>recall</th>\n",
       "      <th>roc_auc</th>\n",
       "    </tr>\n",
       "    <tr>\n",
       "      <th>method</th>\n",
       "      <th></th>\n",
       "      <th></th>\n",
       "      <th></th>\n",
       "      <th></th>\n",
       "      <th></th>\n",
       "      <th></th>\n",
       "      <th></th>\n",
       "    </tr>\n",
       "  </thead>\n",
       "  <tbody>\n",
       "    <tr>\n",
       "      <th>Logistic Regression</th>\n",
       "      <td>0.805453</td>\n",
       "      <td>0.893241</td>\n",
       "      <td>0.806192</td>\n",
       "      <td>4.5</td>\n",
       "      <td>0.803147</td>\n",
       "      <td>0.809281</td>\n",
       "      <td>0.888721</td>\n",
       "    </tr>\n",
       "    <tr>\n",
       "      <th>Naive Bayes</th>\n",
       "      <td>0.752422</td>\n",
       "      <td>0.838159</td>\n",
       "      <td>0.751185</td>\n",
       "      <td>4.5</td>\n",
       "      <td>0.754980</td>\n",
       "      <td>0.747460</td>\n",
       "      <td>0.829959</td>\n",
       "    </tr>\n",
       "    <tr>\n",
       "      <th>Random Forest</th>\n",
       "      <td>0.859908</td>\n",
       "      <td>0.943162</td>\n",
       "      <td>0.858732</td>\n",
       "      <td>4.5</td>\n",
       "      <td>0.866001</td>\n",
       "      <td>0.851608</td>\n",
       "      <td>0.938135</td>\n",
       "    </tr>\n",
       "  </tbody>\n",
       "</table>\n",
       "</div>"
      ],
      "text/plain": [
       "                     accuracy  average_precision        f1  fold  precision  \\\n",
       "method                                                                        \n",
       "Logistic Regression  0.805453           0.893241  0.806192   4.5   0.803147   \n",
       "Naive Bayes          0.752422           0.838159  0.751185   4.5   0.754980   \n",
       "Random Forest        0.859908           0.943162  0.858732   4.5   0.866001   \n",
       "\n",
       "                       recall   roc_auc  \n",
       "method                                   \n",
       "Logistic Regression  0.809281  0.888721  \n",
       "Naive Bayes          0.747460  0.829959  \n",
       "Random Forest        0.851608  0.938135  "
      ]
     },
     "execution_count": 25,
     "metadata": {},
     "output_type": "execute_result"
    }
   ],
   "source": [
    "all_scores_df.groupby(['method','run']).mean().groupby('method').mean()"
   ]
  },
  {
   "cell_type": "code",
   "execution_count": 26,
   "metadata": {},
   "outputs": [],
   "source": [
    "all_scores_df.to_csv('results/traditional/TWOSIDES_TCV_run_sg.csv',sep=',', index=False)"
   ]
  },
  {
   "cell_type": "markdown",
   "metadata": {},
   "source": [
    "# KEGG"
   ]
  },
  {
   "cell_type": "code",
   "execution_count": 27,
   "metadata": {},
   "outputs": [
    {
     "data": {
      "text/html": [
       "<div>\n",
       "<style scoped>\n",
       "    .dataframe tbody tr th:only-of-type {\n",
       "        vertical-align: middle;\n",
       "    }\n",
       "\n",
       "    .dataframe tbody tr th {\n",
       "        vertical-align: top;\n",
       "    }\n",
       "\n",
       "    .dataframe thead th {\n",
       "        text-align: right;\n",
       "    }\n",
       "</style>\n",
       "<table border=\"1\" class=\"dataframe\">\n",
       "  <thead>\n",
       "    <tr style=\"text-align: right;\">\n",
       "      <th></th>\n",
       "      <th>Drug1</th>\n",
       "      <th>Drug2</th>\n",
       "    </tr>\n",
       "  </thead>\n",
       "  <tbody>\n",
       "    <tr>\n",
       "      <th>0</th>\n",
       "      <td>DB00114</td>\n",
       "      <td>DB01235</td>\n",
       "    </tr>\n",
       "    <tr>\n",
       "      <th>1</th>\n",
       "      <td>DB00114</td>\n",
       "      <td>DB00413</td>\n",
       "    </tr>\n",
       "    <tr>\n",
       "      <th>2</th>\n",
       "      <td>DB00114</td>\n",
       "      <td>DB00810</td>\n",
       "    </tr>\n",
       "    <tr>\n",
       "      <th>3</th>\n",
       "      <td>DB00114</td>\n",
       "      <td>DB00494</td>\n",
       "    </tr>\n",
       "    <tr>\n",
       "      <th>4</th>\n",
       "      <td>DB00114</td>\n",
       "      <td>DB00323</td>\n",
       "    </tr>\n",
       "  </tbody>\n",
       "</table>\n",
       "</div>"
      ],
      "text/plain": [
       "     Drug1    Drug2\n",
       "0  DB00114  DB01235\n",
       "1  DB00114  DB00413\n",
       "2  DB00114  DB00810\n",
       "3  DB00114  DB00494\n",
       "4  DB00114  DB00323"
      ]
     },
     "execution_count": 27,
     "metadata": {},
     "output_type": "execute_result"
    }
   ],
   "source": [
    "ddi_df = pd.read_csv(\"data/input/ddi_kegg.txt\", sep='\\t')\n",
    "ddi_df.head()"
   ]
  },
  {
   "cell_type": "code",
   "execution_count": 28,
   "metadata": {},
   "outputs": [
    {
     "data": {
      "text/plain": [
       "40540"
      ]
     },
     "execution_count": 28,
     "metadata": {},
     "output_type": "execute_result"
    }
   ],
   "source": [
    "len(ddi_df)"
   ]
  },
  {
   "cell_type": "code",
   "execution_count": 29,
   "metadata": {},
   "outputs": [
    {
     "data": {
      "text/plain": [
       "864"
      ]
     },
     "execution_count": 29,
     "metadata": {},
     "output_type": "execute_result"
    }
   ],
   "source": [
    "len( set(ddi_df.Drug1.unique()).union(ddi_df.Drug2.unique()) )"
   ]
  },
  {
   "cell_type": "code",
   "execution_count": 30,
   "metadata": {},
   "outputs": [],
   "source": [
    "featureFilename = \"vectors/DB/RDF2Vec_sg_200_5_5_15_2_500_d5_uniform.txt\"\n",
    "embedding_df = pd.read_csv(featureFilename, delimiter='\\t') \n",
    "embedding_df.Entity =embedding_df.Entity.str[-8:-1]\n",
    "embedding_df.rename(columns={'Entity':'Drug'}, inplace=True)"
   ]
  },
  {
   "cell_type": "code",
   "execution_count": 31,
   "metadata": {},
   "outputs": [],
   "source": [
    "pairs, classes = ml.generatePairs(ddi_df, embedding_df)"
   ]
  },
  {
   "cell_type": "code",
   "execution_count": 32,
   "metadata": {},
   "outputs": [
    {
     "name": "stdout",
     "output_type": "stream",
     "text": [
      "+/-: 19424 19424 313096\n",
      "run 0\n",
      "+/-: 19424 19424 313096\n",
      "run 1\n",
      "+/-: 19424 19424 313096\n",
      "run 2\n",
      "+/-: 19424 19424 313096\n",
      "run 3\n",
      "+/-: 19424 19424 313096\n",
      "run 4\n",
      "+/-: 19424 19424 313096\n",
      "run 5\n",
      "+/-: 19424 19424 313096\n",
      "run 6\n",
      "+/-: 19424 19424 313096\n",
      "run 7\n",
      "+/-: 19424 19424 313096\n",
      "run 8\n",
      "+/-: 19424 19424 313096\n",
      "run 9\n"
     ]
    }
   ],
   "source": [
    "n_seed =100\n",
    "n_fold =10 \n",
    "n_run =10 \n",
    "n_proportion = 1,\n",
    "all_scores_df = ml.kfoldCV(sc, pairs, classes, embedding_df, clfs, n_run, n_fold, n_proportion, n_seed)"
   ]
  },
  {
   "cell_type": "code",
   "execution_count": 33,
   "metadata": {},
   "outputs": [
    {
     "data": {
      "text/html": [
       "<div>\n",
       "<style scoped>\n",
       "    .dataframe tbody tr th:only-of-type {\n",
       "        vertical-align: middle;\n",
       "    }\n",
       "\n",
       "    .dataframe tbody tr th {\n",
       "        vertical-align: top;\n",
       "    }\n",
       "\n",
       "    .dataframe thead th {\n",
       "        text-align: right;\n",
       "    }\n",
       "</style>\n",
       "<table border=\"1\" class=\"dataframe\">\n",
       "  <thead>\n",
       "    <tr style=\"text-align: right;\">\n",
       "      <th></th>\n",
       "      <th>accuracy</th>\n",
       "      <th>average_precision</th>\n",
       "      <th>f1</th>\n",
       "      <th>fold</th>\n",
       "      <th>precision</th>\n",
       "      <th>recall</th>\n",
       "      <th>roc_auc</th>\n",
       "    </tr>\n",
       "    <tr>\n",
       "      <th>method</th>\n",
       "      <th></th>\n",
       "      <th></th>\n",
       "      <th></th>\n",
       "      <th></th>\n",
       "      <th></th>\n",
       "      <th></th>\n",
       "      <th></th>\n",
       "    </tr>\n",
       "  </thead>\n",
       "  <tbody>\n",
       "    <tr>\n",
       "      <th>Logistic Regression</th>\n",
       "      <td>0.711738</td>\n",
       "      <td>0.769883</td>\n",
       "      <td>0.713828</td>\n",
       "      <td>4.5</td>\n",
       "      <td>0.708712</td>\n",
       "      <td>0.719100</td>\n",
       "      <td>0.782795</td>\n",
       "    </tr>\n",
       "    <tr>\n",
       "      <th>Naive Bayes</th>\n",
       "      <td>0.671322</td>\n",
       "      <td>0.732875</td>\n",
       "      <td>0.665936</td>\n",
       "      <td>4.5</td>\n",
       "      <td>0.677043</td>\n",
       "      <td>0.655292</td>\n",
       "      <td>0.735794</td>\n",
       "    </tr>\n",
       "    <tr>\n",
       "      <th>Random Forest</th>\n",
       "      <td>0.831500</td>\n",
       "      <td>0.899679</td>\n",
       "      <td>0.835293</td>\n",
       "      <td>4.5</td>\n",
       "      <td>0.816950</td>\n",
       "      <td>0.854541</td>\n",
       "      <td>0.909831</td>\n",
       "    </tr>\n",
       "  </tbody>\n",
       "</table>\n",
       "</div>"
      ],
      "text/plain": [
       "                     accuracy  average_precision        f1  fold  precision  \\\n",
       "method                                                                        \n",
       "Logistic Regression  0.711738           0.769883  0.713828   4.5   0.708712   \n",
       "Naive Bayes          0.671322           0.732875  0.665936   4.5   0.677043   \n",
       "Random Forest        0.831500           0.899679  0.835293   4.5   0.816950   \n",
       "\n",
       "                       recall   roc_auc  \n",
       "method                                   \n",
       "Logistic Regression  0.719100  0.782795  \n",
       "Naive Bayes          0.655292  0.735794  \n",
       "Random Forest        0.854541  0.909831  "
      ]
     },
     "execution_count": 33,
     "metadata": {},
     "output_type": "execute_result"
    }
   ],
   "source": [
    "all_scores_df.groupby(['method','run']).mean().groupby('method').mean()"
   ]
  },
  {
   "cell_type": "code",
   "execution_count": 34,
   "metadata": {},
   "outputs": [],
   "source": [
    "all_scores_df.to_csv('results/traditional/KEGG_TCV_run_sg.csv',sep=',', index=False)"
   ]
  },
  {
   "cell_type": "markdown",
   "metadata": {},
   "source": [
    "# Drugbank 5"
   ]
  },
  {
   "cell_type": "code",
   "execution_count": 35,
   "metadata": {},
   "outputs": [
    {
     "data": {
      "text/html": [
       "<div>\n",
       "<style scoped>\n",
       "    .dataframe tbody tr th:only-of-type {\n",
       "        vertical-align: middle;\n",
       "    }\n",
       "\n",
       "    .dataframe tbody tr th {\n",
       "        vertical-align: top;\n",
       "    }\n",
       "\n",
       "    .dataframe thead th {\n",
       "        text-align: right;\n",
       "    }\n",
       "</style>\n",
       "<table border=\"1\" class=\"dataframe\">\n",
       "  <thead>\n",
       "    <tr style=\"text-align: right;\">\n",
       "      <th></th>\n",
       "      <th>Drug1</th>\n",
       "      <th>Drug2</th>\n",
       "    </tr>\n",
       "  </thead>\n",
       "  <tbody>\n",
       "    <tr>\n",
       "      <th>0</th>\n",
       "      <td>DB00001</td>\n",
       "      <td>DB01048</td>\n",
       "    </tr>\n",
       "    <tr>\n",
       "      <th>1</th>\n",
       "      <td>DB00001</td>\n",
       "      <td>DB00054</td>\n",
       "    </tr>\n",
       "    <tr>\n",
       "      <th>2</th>\n",
       "      <td>DB00001</td>\n",
       "      <td>DB06736</td>\n",
       "    </tr>\n",
       "    <tr>\n",
       "      <th>3</th>\n",
       "      <td>DB00001</td>\n",
       "      <td>DB01418</td>\n",
       "    </tr>\n",
       "    <tr>\n",
       "      <th>4</th>\n",
       "      <td>DB00001</td>\n",
       "      <td>DB00945</td>\n",
       "    </tr>\n",
       "  </tbody>\n",
       "</table>\n",
       "</div>"
      ],
      "text/plain": [
       "     Drug1    Drug2\n",
       "0  DB00001  DB01048\n",
       "1  DB00001  DB00054\n",
       "2  DB00001  DB06736\n",
       "3  DB00001  DB01418\n",
       "4  DB00001  DB00945"
      ]
     },
     "execution_count": 35,
     "metadata": {},
     "output_type": "execute_result"
    }
   ],
   "source": [
    "ddi_df = pd.read_csv(\"data/input/ddi_v5.txt\", sep='\\t')\n",
    "ddi_df.head()"
   ]
  },
  {
   "cell_type": "code",
   "execution_count": 36,
   "metadata": {},
   "outputs": [],
   "source": [
    "featureFilename = \"vectors/DB/RDF2Vec_sg_200_5_5_15_2_500_d5_uniform.txt\"\n",
    "embedding_df = pd.read_csv(featureFilename, delimiter='\\t') \n",
    "embedding_df.Entity =embedding_df.Entity.str[-8:-1]\n",
    "embedding_df.rename(columns={'Entity':'Drug'}, inplace=True)"
   ]
  },
  {
   "cell_type": "code",
   "execution_count": 37,
   "metadata": {},
   "outputs": [
    {
     "data": {
      "text/plain": [
       "577712"
      ]
     },
     "execution_count": 37,
     "metadata": {},
     "output_type": "execute_result"
    }
   ],
   "source": [
    "len(ddi_df)"
   ]
  },
  {
   "cell_type": "code",
   "execution_count": 38,
   "metadata": {},
   "outputs": [
    {
     "data": {
      "text/plain": [
       "2551"
      ]
     },
     "execution_count": 38,
     "metadata": {},
     "output_type": "execute_result"
    }
   ],
   "source": [
    "len( set(ddi_df.Drug1.unique()).union(ddi_df.Drug2.unique()) )"
   ]
  },
  {
   "cell_type": "code",
   "execution_count": 39,
   "metadata": {},
   "outputs": [],
   "source": [
    "pairs, classes = ml.generatePairs(ddi_df, embedding_df)"
   ]
  },
  {
   "cell_type": "code",
   "execution_count": 40,
   "metadata": {},
   "outputs": [],
   "source": [
    "nb_model = GaussianNB()\n",
    "logistic_model = linear_model.LogisticRegression(C=0.01)\n",
    "rf_model = ensemble.RandomForestClassifier(n_estimators=200, n_jobs=-1)\n",
    "clfs = [('Naive Bayes',nb_model),('Logistic Regression',lr_model),('Random Forest',rf_model)]"
   ]
  },
  {
   "cell_type": "code",
   "execution_count": 41,
   "metadata": {},
   "outputs": [
    {
     "name": "stdout",
     "output_type": "stream",
     "text": [
      "+/-: 253449 253449 2001177\n",
      "run 0\n",
      "+/-: 253449 253449 2001177\n",
      "run 1\n",
      "+/-: 253449 253449 2001177\n",
      "run 2\n",
      "+/-: 253449 253449 2001177\n",
      "run 3\n",
      "+/-: 253449 253449 2001177\n",
      "run 4\n",
      "+/-: 253449 253449 2001177\n",
      "run 5\n",
      "+/-: 253449 253449 2001177\n",
      "run 6\n",
      "+/-: 253449 253449 2001177\n",
      "run 7\n",
      "+/-: 253449 253449 2001177\n",
      "run 8\n",
      "+/-: 253449 253449 2001177\n",
      "run 9\n"
     ]
    }
   ],
   "source": [
    "n_seed =100\n",
    "n_fold =10 \n",
    "n_run =10 \n",
    "n_proportion = 1,\n",
    "all_scores_df = ml.kfoldCV(sc, pairs, classes, embedding_df, clfs, n_run, n_fold, n_proportion, n_seed)"
   ]
  },
  {
   "cell_type": "code",
   "execution_count": 42,
   "metadata": {},
   "outputs": [
    {
     "data": {
      "text/html": [
       "<div>\n",
       "<style scoped>\n",
       "    .dataframe tbody tr th:only-of-type {\n",
       "        vertical-align: middle;\n",
       "    }\n",
       "\n",
       "    .dataframe tbody tr th {\n",
       "        vertical-align: top;\n",
       "    }\n",
       "\n",
       "    .dataframe thead th {\n",
       "        text-align: right;\n",
       "    }\n",
       "</style>\n",
       "<table border=\"1\" class=\"dataframe\">\n",
       "  <thead>\n",
       "    <tr style=\"text-align: right;\">\n",
       "      <th></th>\n",
       "      <th>accuracy</th>\n",
       "      <th>average_precision</th>\n",
       "      <th>f1</th>\n",
       "      <th>fold</th>\n",
       "      <th>precision</th>\n",
       "      <th>recall</th>\n",
       "      <th>roc_auc</th>\n",
       "    </tr>\n",
       "    <tr>\n",
       "      <th>method</th>\n",
       "      <th></th>\n",
       "      <th></th>\n",
       "      <th></th>\n",
       "      <th></th>\n",
       "      <th></th>\n",
       "      <th></th>\n",
       "      <th></th>\n",
       "    </tr>\n",
       "  </thead>\n",
       "  <tbody>\n",
       "    <tr>\n",
       "      <th>Logistic Regression</th>\n",
       "      <td>0.717088</td>\n",
       "      <td>0.788790</td>\n",
       "      <td>0.718784</td>\n",
       "      <td>4.5</td>\n",
       "      <td>0.714502</td>\n",
       "      <td>0.723125</td>\n",
       "      <td>0.789580</td>\n",
       "    </tr>\n",
       "    <tr>\n",
       "      <th>Naive Bayes</th>\n",
       "      <td>0.679526</td>\n",
       "      <td>0.756393</td>\n",
       "      <td>0.682259</td>\n",
       "      <td>4.5</td>\n",
       "      <td>0.676490</td>\n",
       "      <td>0.688134</td>\n",
       "      <td>0.743140</td>\n",
       "    </tr>\n",
       "    <tr>\n",
       "      <th>Random Forest</th>\n",
       "      <td>0.849384</td>\n",
       "      <td>0.923060</td>\n",
       "      <td>0.853894</td>\n",
       "      <td>4.5</td>\n",
       "      <td>0.829071</td>\n",
       "      <td>0.880255</td>\n",
       "      <td>0.929183</td>\n",
       "    </tr>\n",
       "  </tbody>\n",
       "</table>\n",
       "</div>"
      ],
      "text/plain": [
       "                     accuracy  average_precision        f1  fold  precision  \\\n",
       "method                                                                        \n",
       "Logistic Regression  0.717088           0.788790  0.718784   4.5   0.714502   \n",
       "Naive Bayes          0.679526           0.756393  0.682259   4.5   0.676490   \n",
       "Random Forest        0.849384           0.923060  0.853894   4.5   0.829071   \n",
       "\n",
       "                       recall   roc_auc  \n",
       "method                                   \n",
       "Logistic Regression  0.723125  0.789580  \n",
       "Naive Bayes          0.688134  0.743140  \n",
       "Random Forest        0.880255  0.929183  "
      ]
     },
     "execution_count": 42,
     "metadata": {},
     "output_type": "execute_result"
    }
   ],
   "source": [
    "all_scores_df.groupby(['method','run']).mean().groupby('method').mean()"
   ]
  },
  {
   "cell_type": "code",
   "execution_count": 43,
   "metadata": {},
   "outputs": [],
   "source": [
    "all_scores_df.to_csv('results/traditional/DBv5_TCV_run_sg.csv',sep=',', index=False)"
   ]
  },
  {
   "cell_type": "markdown",
   "metadata": {},
   "source": [
    "# Drugbankv5 - RDF2Vec CBOW "
   ]
  },
  {
   "cell_type": "code",
   "execution_count": 44,
   "metadata": {},
   "outputs": [],
   "source": [
    "featureFilename = \"vectors/DB/RDF2Vec_cbow_200_5_5_2_500_d5_uniform.txt\"\n",
    "embedding_df = pd.read_csv(featureFilename, delimiter='\\t') \n",
    "embedding_df.Entity =embedding_df.Entity.str[-8:-1]\n",
    "embedding_df.rename(columns={'Entity':'Drug'}, inplace=True)"
   ]
  },
  {
   "cell_type": "code",
   "execution_count": 45,
   "metadata": {},
   "outputs": [],
   "source": [
    "pairs, classes = ml.generatePairs(ddi_df, embedding_df)"
   ]
  },
  {
   "cell_type": "code",
   "execution_count": 46,
   "metadata": {},
   "outputs": [],
   "source": [
    "nb_model = GaussianNB()\n",
    "logistic_model = linear_model.LogisticRegression(C=0.01)\n",
    "rf_model = ensemble.RandomForestClassifier(n_estimators=200, n_jobs=-1)\n",
    "clfs = [('Naive Bayes',nb_model),('Logistic Regression',lr_model),('Random Forest',rf_model)]"
   ]
  },
  {
   "cell_type": "code",
   "execution_count": 47,
   "metadata": {},
   "outputs": [
    {
     "name": "stdout",
     "output_type": "stream",
     "text": [
      "+/-: 253449 253449 2001177\n",
      "run 0\n",
      "+/-: 253449 253449 2001177\n",
      "run 1\n",
      "+/-: 253449 253449 2001177\n",
      "run 2\n",
      "+/-: 253449 253449 2001177\n",
      "run 3\n",
      "+/-: 253449 253449 2001177\n",
      "run 4\n",
      "+/-: 253449 253449 2001177\n",
      "run 5\n",
      "+/-: 253449 253449 2001177\n",
      "run 6\n",
      "+/-: 253449 253449 2001177\n",
      "run 7\n",
      "+/-: 253449 253449 2001177\n",
      "run 8\n",
      "+/-: 253449 253449 2001177\n",
      "run 9\n"
     ]
    }
   ],
   "source": [
    "n_seed =100\n",
    "n_fold =10 \n",
    "n_run =10 \n",
    "n_proportion = 1,\n",
    "all_scores_df = ml.kfoldCV(sc, pairs, classes, embedding_df, clfs, n_run, n_fold, n_proportion, n_seed)"
   ]
  },
  {
   "cell_type": "code",
   "execution_count": 48,
   "metadata": {},
   "outputs": [
    {
     "data": {
      "text/html": [
       "<div>\n",
       "<style scoped>\n",
       "    .dataframe tbody tr th:only-of-type {\n",
       "        vertical-align: middle;\n",
       "    }\n",
       "\n",
       "    .dataframe tbody tr th {\n",
       "        vertical-align: top;\n",
       "    }\n",
       "\n",
       "    .dataframe thead th {\n",
       "        text-align: right;\n",
       "    }\n",
       "</style>\n",
       "<table border=\"1\" class=\"dataframe\">\n",
       "  <thead>\n",
       "    <tr style=\"text-align: right;\">\n",
       "      <th></th>\n",
       "      <th>accuracy</th>\n",
       "      <th>average_precision</th>\n",
       "      <th>f1</th>\n",
       "      <th>fold</th>\n",
       "      <th>precision</th>\n",
       "      <th>recall</th>\n",
       "      <th>roc_auc</th>\n",
       "    </tr>\n",
       "    <tr>\n",
       "      <th>method</th>\n",
       "      <th></th>\n",
       "      <th></th>\n",
       "      <th></th>\n",
       "      <th></th>\n",
       "      <th></th>\n",
       "      <th></th>\n",
       "      <th></th>\n",
       "    </tr>\n",
       "  </thead>\n",
       "  <tbody>\n",
       "    <tr>\n",
       "      <th>Logistic Regression</th>\n",
       "      <td>0.709176</td>\n",
       "      <td>0.778247</td>\n",
       "      <td>0.708836</td>\n",
       "      <td>4.5</td>\n",
       "      <td>0.709667</td>\n",
       "      <td>0.708014</td>\n",
       "      <td>0.779102</td>\n",
       "    </tr>\n",
       "    <tr>\n",
       "      <th>Naive Bayes</th>\n",
       "      <td>0.649696</td>\n",
       "      <td>0.681488</td>\n",
       "      <td>0.633990</td>\n",
       "      <td>4.5</td>\n",
       "      <td>0.663750</td>\n",
       "      <td>0.606790</td>\n",
       "      <td>0.698093</td>\n",
       "    </tr>\n",
       "    <tr>\n",
       "      <th>Random Forest</th>\n",
       "      <td>0.841474</td>\n",
       "      <td>0.916194</td>\n",
       "      <td>0.846054</td>\n",
       "      <td>4.5</td>\n",
       "      <td>0.822300</td>\n",
       "      <td>0.871228</td>\n",
       "      <td>0.922674</td>\n",
       "    </tr>\n",
       "  </tbody>\n",
       "</table>\n",
       "</div>"
      ],
      "text/plain": [
       "                     accuracy  average_precision        f1  fold  precision  \\\n",
       "method                                                                        \n",
       "Logistic Regression  0.709176           0.778247  0.708836   4.5   0.709667   \n",
       "Naive Bayes          0.649696           0.681488  0.633990   4.5   0.663750   \n",
       "Random Forest        0.841474           0.916194  0.846054   4.5   0.822300   \n",
       "\n",
       "                       recall   roc_auc  \n",
       "method                                   \n",
       "Logistic Regression  0.708014  0.779102  \n",
       "Naive Bayes          0.606790  0.698093  \n",
       "Random Forest        0.871228  0.922674  "
      ]
     },
     "execution_count": 48,
     "metadata": {},
     "output_type": "execute_result"
    }
   ],
   "source": [
    "all_scores_df.groupby(['method','run']).mean().groupby('method').mean()"
   ]
  },
  {
   "cell_type": "code",
   "execution_count": 49,
   "metadata": {},
   "outputs": [],
   "source": [
    "all_scores_df.to_csv('results/traditional/DBv5_TCV_run_cbow.csv',sep=',', index=False)"
   ]
  },
  {
   "cell_type": "markdown",
   "metadata": {},
   "source": [
    "# Drugbankv5 - TransE"
   ]
  },
  {
   "cell_type": "code",
   "execution_count": 50,
   "metadata": {},
   "outputs": [],
   "source": [
    "featureFilename = \"vectors/DB/TransE_DRUGBANK_d_100.txt\"\n",
    "embedding_df = pd.read_csv(featureFilename, delimiter='\\t') "
   ]
  },
  {
   "cell_type": "code",
   "execution_count": 53,
   "metadata": {},
   "outputs": [],
   "source": [
    "pairs, classes = ml.generatePairs(ddi_df, embedding_df)"
   ]
  },
  {
   "cell_type": "code",
   "execution_count": null,
   "metadata": {},
   "outputs": [
    {
     "name": "stdout",
     "output_type": "stream",
     "text": [
      "+/-: 253449 253449 2001177\n",
      "run 0\n",
      "+/-: 253449 253449 2001177\n",
      "run 1\n"
     ]
    }
   ],
   "source": [
    "n_seed =100\n",
    "n_fold =10 \n",
    "n_run =10 \n",
    "n_proportion = 1,\n",
    "all_scores_df = ml.kfoldCV(sc, pairs, classes, embedding_df, clfs, n_run, n_fold, n_proportion, n_seed)"
   ]
  },
  {
   "cell_type": "code",
   "execution_count": 59,
   "metadata": {},
   "outputs": [
    {
     "data": {
      "text/html": [
       "<div>\n",
       "<style scoped>\n",
       "    .dataframe tbody tr th:only-of-type {\n",
       "        vertical-align: middle;\n",
       "    }\n",
       "\n",
       "    .dataframe tbody tr th {\n",
       "        vertical-align: top;\n",
       "    }\n",
       "\n",
       "    .dataframe thead th {\n",
       "        text-align: right;\n",
       "    }\n",
       "</style>\n",
       "<table border=\"1\" class=\"dataframe\">\n",
       "  <thead>\n",
       "    <tr style=\"text-align: right;\">\n",
       "      <th></th>\n",
       "      <th>accuracy</th>\n",
       "      <th>average_precision</th>\n",
       "      <th>f1</th>\n",
       "      <th>fold</th>\n",
       "      <th>precision</th>\n",
       "      <th>recall</th>\n",
       "      <th>roc_auc</th>\n",
       "    </tr>\n",
       "    <tr>\n",
       "      <th>method</th>\n",
       "      <th></th>\n",
       "      <th></th>\n",
       "      <th></th>\n",
       "      <th></th>\n",
       "      <th></th>\n",
       "      <th></th>\n",
       "      <th></th>\n",
       "    </tr>\n",
       "  </thead>\n",
       "  <tbody>\n",
       "    <tr>\n",
       "      <th>Logistic Regression</th>\n",
       "      <td>0.703016</td>\n",
       "      <td>0.776248</td>\n",
       "      <td>0.704877</td>\n",
       "      <td>4.5</td>\n",
       "      <td>0.700489</td>\n",
       "      <td>0.709330</td>\n",
       "      <td>0.771579</td>\n",
       "    </tr>\n",
       "    <tr>\n",
       "      <th>Naive Bayes</th>\n",
       "      <td>0.658095</td>\n",
       "      <td>0.748189</td>\n",
       "      <td>0.685755</td>\n",
       "      <td>4.5</td>\n",
       "      <td>0.634433</td>\n",
       "      <td>0.746119</td>\n",
       "      <td>0.734291</td>\n",
       "    </tr>\n",
       "    <tr>\n",
       "      <th>Random Forest</th>\n",
       "      <td>0.830226</td>\n",
       "      <td>0.903606</td>\n",
       "      <td>0.834252</td>\n",
       "      <td>4.5</td>\n",
       "      <td>0.814929</td>\n",
       "      <td>0.854520</td>\n",
       "      <td>0.912084</td>\n",
       "    </tr>\n",
       "  </tbody>\n",
       "</table>\n",
       "</div>"
      ],
      "text/plain": [
       "                     accuracy  average_precision        f1  fold  precision  \\\n",
       "method                                                                        \n",
       "Logistic Regression  0.703016           0.776248  0.704877   4.5   0.700489   \n",
       "Naive Bayes          0.658095           0.748189  0.685755   4.5   0.634433   \n",
       "Random Forest        0.830226           0.903606  0.834252   4.5   0.814929   \n",
       "\n",
       "                       recall   roc_auc  \n",
       "method                                   \n",
       "Logistic Regression  0.709330  0.771579  \n",
       "Naive Bayes          0.746119  0.734291  \n",
       "Random Forest        0.854520  0.912084  "
      ]
     },
     "execution_count": 59,
     "metadata": {},
     "output_type": "execute_result"
    }
   ],
   "source": [
    "all_scores_df.groupby(['method','run']).mean().groupby('method').mean()"
   ]
  },
  {
   "cell_type": "code",
   "execution_count": 60,
   "metadata": {},
   "outputs": [],
   "source": [
    "all_scores_df.to_csv('results/traditional/DBv5_TCV_run_transe.csv',sep=',', index=False)"
   ]
  },
  {
   "cell_type": "markdown",
   "metadata": {},
   "source": [
    "# Drugbankv5 - TransD"
   ]
  },
  {
   "cell_type": "code",
   "execution_count": 61,
   "metadata": {},
   "outputs": [],
   "source": [
    "featureFilename = \"vectors/DB/TransD_DRUGBANK_d_100.txt\"\n",
    "embedding_df = pd.read_csv(featureFilename, delimiter='\\t') "
   ]
  },
  {
   "cell_type": "code",
   "execution_count": 62,
   "metadata": {},
   "outputs": [],
   "source": [
    "pairs, classes = ml.generatePairs(ddi_df, embedding_df)"
   ]
  },
  {
   "cell_type": "code",
   "execution_count": null,
   "metadata": {},
   "outputs": [
    {
     "name": "stdout",
     "output_type": "stream",
     "text": [
      "+/-: 253449 253449 2001177\n",
      "run 0\n",
      "+/-: 253449 253449 2001177\n",
      "run 1\n"
     ]
    }
   ],
   "source": [
    "n_seed =100\n",
    "n_fold =10 \n",
    "n_run =10 \n",
    "n_proportion = 1,\n",
    "all_scores_df = ml.kfoldCV(sc, pairs, classes, embedding_df, clfs, n_run, n_fold, n_proportion, n_seed)"
   ]
  },
  {
   "cell_type": "code",
   "execution_count": 66,
   "metadata": {},
   "outputs": [
    {
     "data": {
      "text/html": [
       "<div>\n",
       "<style scoped>\n",
       "    .dataframe tbody tr th:only-of-type {\n",
       "        vertical-align: middle;\n",
       "    }\n",
       "\n",
       "    .dataframe tbody tr th {\n",
       "        vertical-align: top;\n",
       "    }\n",
       "\n",
       "    .dataframe thead th {\n",
       "        text-align: right;\n",
       "    }\n",
       "</style>\n",
       "<table border=\"1\" class=\"dataframe\">\n",
       "  <thead>\n",
       "    <tr style=\"text-align: right;\">\n",
       "      <th></th>\n",
       "      <th>accuracy</th>\n",
       "      <th>average_precision</th>\n",
       "      <th>f1</th>\n",
       "      <th>fold</th>\n",
       "      <th>precision</th>\n",
       "      <th>recall</th>\n",
       "      <th>roc_auc</th>\n",
       "    </tr>\n",
       "    <tr>\n",
       "      <th>method</th>\n",
       "      <th></th>\n",
       "      <th></th>\n",
       "      <th></th>\n",
       "      <th></th>\n",
       "      <th></th>\n",
       "      <th></th>\n",
       "      <th></th>\n",
       "    </tr>\n",
       "  </thead>\n",
       "  <tbody>\n",
       "    <tr>\n",
       "      <th>Logistic Regression</th>\n",
       "      <td>0.682929</td>\n",
       "      <td>0.749277</td>\n",
       "      <td>0.685378</td>\n",
       "      <td>4.5</td>\n",
       "      <td>0.680126</td>\n",
       "      <td>0.690720</td>\n",
       "      <td>0.748410</td>\n",
       "    </tr>\n",
       "    <tr>\n",
       "      <th>Naive Bayes</th>\n",
       "      <td>0.650434</td>\n",
       "      <td>0.718290</td>\n",
       "      <td>0.675556</td>\n",
       "      <td>4.5</td>\n",
       "      <td>0.630264</td>\n",
       "      <td>0.727870</td>\n",
       "      <td>0.714066</td>\n",
       "    </tr>\n",
       "    <tr>\n",
       "      <th>Random Forest</th>\n",
       "      <td>0.831315</td>\n",
       "      <td>0.907417</td>\n",
       "      <td>0.835616</td>\n",
       "      <td>4.5</td>\n",
       "      <td>0.814845</td>\n",
       "      <td>0.857479</td>\n",
       "      <td>0.913627</td>\n",
       "    </tr>\n",
       "  </tbody>\n",
       "</table>\n",
       "</div>"
      ],
      "text/plain": [
       "                     accuracy  average_precision        f1  fold  precision  \\\n",
       "method                                                                        \n",
       "Logistic Regression  0.682929           0.749277  0.685378   4.5   0.680126   \n",
       "Naive Bayes          0.650434           0.718290  0.675556   4.5   0.630264   \n",
       "Random Forest        0.831315           0.907417  0.835616   4.5   0.814845   \n",
       "\n",
       "                       recall   roc_auc  \n",
       "method                                   \n",
       "Logistic Regression  0.690720  0.748410  \n",
       "Naive Bayes          0.727870  0.714066  \n",
       "Random Forest        0.857479  0.913627  "
      ]
     },
     "execution_count": 66,
     "metadata": {},
     "output_type": "execute_result"
    }
   ],
   "source": [
    "all_scores_df.groupby(['method','run']).mean().groupby('method').mean()"
   ]
  },
  {
   "cell_type": "code",
   "execution_count": 67,
   "metadata": {},
   "outputs": [],
   "source": [
    "all_scores_df.to_csv('results/traditional/DBv5_TCV_run_transd.csv',sep=',', index=False)"
   ]
  },
  {
   "cell_type": "code",
   "execution_count": null,
   "metadata": {},
   "outputs": [],
   "source": []
  }
 ],
 "metadata": {
  "kernelspec": {
   "display_name": "Python 3",
   "language": "python",
   "name": "python3"
  },
  "language_info": {
   "codemirror_mode": {
    "name": "ipython",
    "version": 3
   },
   "file_extension": ".py",
   "mimetype": "text/x-python",
   "name": "python",
   "nbconvert_exporter": "python",
   "pygments_lexer": "ipython3",
   "version": "3.6.6"
  }
 },
 "nbformat": 4,
 "nbformat_minor": 2
}
