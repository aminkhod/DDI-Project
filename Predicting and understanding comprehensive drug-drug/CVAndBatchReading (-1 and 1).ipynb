{
 "cells": [
  {
   "cell_type": "code",
   "execution_count": 1,
   "metadata": {},
   "outputs": [],
   "source": [
    "import pandas as pd\n",
    "import numpy as np\n"
   ]
  },
  {
   "cell_type": "code",
   "execution_count": 2,
   "metadata": {},
   "outputs": [],
   "source": [
    "# data = pd.read_csv('triple_cosineSNF(-1and1).csv')\n"
   ]
  },
  {
   "cell_type": "code",
   "execution_count": 3,
   "metadata": {},
   "outputs": [],
   "source": [
    "# (data.iloc[:,:3]).to_csv('drugsPairs(-1_1).csv')"
   ]
  },
  {
   "cell_type": "code",
   "execution_count": 24,
   "metadata": {},
   "outputs": [
    {
     "name": "stdout",
     "output_type": "stream",
     "text": [
      "42702 4\n"
     ]
    }
   ],
   "source": [
    "drugsPairs = pd.read_csv('drugsPairs(-1_1).csv')\n",
    "r, c = drugsPairs.shape\n",
    "print(r, c)"
   ]
  },
  {
   "cell_type": "code",
   "execution_count": 25,
   "metadata": {},
   "outputs": [
    {
     "data": {
      "text/plain": [
       "10412"
      ]
     },
     "execution_count": 25,
     "metadata": {},
     "output_type": "execute_result"
    }
   ],
   "source": [
    "int(bufpairs[bufpairs[str(2)] == di]['0'])"
   ]
  },
  {
   "cell_type": "code",
   "execution_count": null,
   "metadata": {},
   "outputs": [],
   "source": [
    "del data"
   ]
  },
  {
   "cell_type": "code",
   "execution_count": 53,
   "metadata": {},
   "outputs": [
    {
     "name": "stdout",
     "output_type": "stream",
     "text": [
      "10000\n"
     ]
    }
   ],
   "source": [
    "indexes = []\n",
    "for i in range(21351):\n",
    "    candInd = np.random.randint(r)\n",
    "#     if (len(indexes)< r-1):\n",
    "    if (candInd not in indexes):\n",
    "        indexes.append(candInd)\n",
    "#         print(candInd)\n",
    "    else:\n",
    "        while(True):\n",
    "            candInd = np.random.randint(r)\n",
    "            if candInd not in indexes:\n",
    "                break\n",
    "        indexes.append(candInd)\n",
    "#         print(candInd)\n",
    "    di, dj = str(drugsPairs.iloc[candInd,1]), str(drugsPairs.iloc[candInd,2])\n",
    "#     print(di,dj)\n",
    "    bufpairs = drugsPairs[drugsPairs[str(1)]==dj]\n",
    "    indexes.append(int(bufpairs[bufpairs[str(2)]==di]['0']))\n",
    "\n",
    "print(len(indexes))\n"
   ]
  },
  {
   "cell_type": "code",
   "execution_count": 54,
   "metadata": {},
   "outputs": [
    {
     "name": "stdout",
     "output_type": "stream",
     "text": [
      "10000\n"
     ]
    }
   ],
   "source": [
    "print(len(indexes))"
   ]
  },
  {
   "cell_type": "code",
   "execution_count": 55,
   "metadata": {
    "scrolled": true
   },
   "outputs": [
    {
     "data": {
      "text/plain": [
       "0"
      ]
     },
     "execution_count": 55,
     "metadata": {},
     "output_type": "execute_result"
    }
   ],
   "source": [
    "checked = False\n",
    "problems = []\n",
    "i = 0\n",
    "while(i +1 < len(indexes)):\n",
    "#     if i + 1 == len(indexes):\n",
    "    if (drugsPairs.iloc[indexes[i],1]==drugsPairs.iloc[indexes[i+1],2])and(drugsPairs.iloc[indexes[i],2]==drugsPairs.iloc[indexes[i+1],1]):\n",
    "        i += 2\n",
    "\n",
    "    else:        \n",
    "        problems.append([i,drugsPairs.iloc[i,:]])\n",
    "#         print([i,drugsPairs.iloc[i,:]])\n",
    "        del indexes[i]\n",
    "#         i += 1\n",
    "#         if i + 1 == len(indexes):\n",
    "#             problems.append(list(i,drugsPairs.iloc[i,:]))\n",
    "#             indexes.remove(i)\n",
    "\n",
    "len(problems)"
   ]
  },
  {
   "cell_type": "code",
   "execution_count": 37,
   "metadata": {},
   "outputs": [],
   "source": [
    "# [20,drugsPairs.iloc[20,:]]"
   ]
  },
  {
   "cell_type": "code",
   "execution_count": 56,
   "metadata": {},
   "outputs": [],
   "source": [
    "problems = pd.DataFrame(problems)\n",
    "problems.to_csv('problems21351.csv', index=False)\n"
   ]
  },
  {
   "cell_type": "code",
   "execution_count": 57,
   "metadata": {},
   "outputs": [],
   "source": [
    "indexes = pd.DataFrame(indexes)\n",
    "indexes.to_csv('indexes21351.csv', index=False)"
   ]
  },
  {
   "cell_type": "code",
   "execution_count": 58,
   "metadata": {},
   "outputs": [],
   "source": [
    "indexes = pd.read_csv('indexes21351.csv')\n",
    "\n",
    "indexes = list(indexes['0'])\n",
    "\n",
    "# print(indexes[0]==122943)"
   ]
  },
  {
   "cell_type": "code",
   "execution_count": 59,
   "metadata": {},
   "outputs": [],
   "source": [
    "data10000 = []\n",
    "line1 = 0\n",
    "with open('../../saved F(triple_cosineSNF).csv', 'r') as fd:\n",
    "    \n",
    "    for row ,line in enumerate(fd):\n",
    "        if row-1 in indexes:\n",
    "#             print(row)\n",
    "            data10000.append(line.split(','))\n",
    "#         line1 = line.split(',')\n",
    "#         break\n",
    "# line1"
   ]
  },
  {
   "cell_type": "code",
   "execution_count": 60,
   "metadata": {},
   "outputs": [],
   "source": [
    "data10000 = pd.DataFrame(data10000)\n",
    "data10000.to_csv('data21351.csv', index=False)\n"
   ]
  },
  {
   "cell_type": "code",
   "execution_count": null,
   "metadata": {},
   "outputs": [],
   "source": [
    "data10000 = pd.read_csv('data21351.csv')\n",
    "data = []\n",
    "officer = []\n",
    "index = np.random.choice(10000,10000,replace=False)\n",
    "\n",
    "for i in index:\n",
    "    if i in officer:\n",
    "        continue\n",
    "    data.append(data10000.iloc[i,:])\n",
    "    officer.append(i)\n",
    "    for j in index:\n",
    "        if j in officer:\n",
    "            continue\n",
    "#         print('add')\n",
    "        if data10000.iloc[i,1] == data10000.iloc[j,0] and data10000.iloc[i,0] == data10000.iloc[j,1]:\n",
    "            data.append(data10000.iloc[j,:])\n",
    "            officer.append(j)\n",
    "data = pd.DataFrame(data)\n",
    "data.to_csv('data21351v1.csv', index=False)"
   ]
  },
  {
   "cell_type": "code",
   "execution_count": null,
   "metadata": {},
   "outputs": [],
   "source": [
    "data10000.iloc[0,:]"
   ]
  },
  {
   "cell_type": "code",
   "execution_count": null,
   "metadata": {},
   "outputs": [],
   "source": []
  }
 ],
 "metadata": {
  "kernelspec": {
   "display_name": "Python 3",
   "language": "python",
   "name": "python3"
  },
  "language_info": {
   "codemirror_mode": {
    "name": "ipython",
    "version": 3
   },
   "file_extension": ".py",
   "mimetype": "text/x-python",
   "name": "python",
   "nbconvert_exporter": "python",
   "pygments_lexer": "ipython3",
   "version": "3.6.7"
  }
 },
 "nbformat": 4,
 "nbformat_minor": 2
}
