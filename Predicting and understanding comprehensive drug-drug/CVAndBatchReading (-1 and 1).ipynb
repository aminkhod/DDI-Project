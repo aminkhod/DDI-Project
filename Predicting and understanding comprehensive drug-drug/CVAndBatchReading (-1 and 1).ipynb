{
 "cells": [
  {
   "cell_type": "code",
   "execution_count": 1,
   "metadata": {},
   "outputs": [],
   "source": [
    "import pandas as pd\n",
    "import numpy as np\n"
   ]
  },
  {
   "cell_type": "code",
   "execution_count": 2,
   "metadata": {},
   "outputs": [],
   "source": [
    "# data = pd.read_csv('triple_cosineSNF(-1and1).csv')\n"
   ]
  },
  {
   "cell_type": "code",
   "execution_count": 3,
   "metadata": {},
   "outputs": [],
   "source": [
    "# (data.iloc[:,:3]).to_csv('drugsPairs(-1_1).csv')"
   ]
  },
  {
   "cell_type": "code",
   "execution_count": 4,
   "metadata": {},
   "outputs": [
    {
     "name": "stdout",
     "output_type": "stream",
     "text": [
      "322056 4\n"
     ]
    },
    {
     "name": "stderr",
     "output_type": "stream",
     "text": [
      "c:\\program files\\python36\\lib\\site-packages\\IPython\\core\\interactiveshell.py:3020: DtypeWarning: Columns (1,2) have mixed types. Specify dtype option on import or set low_memory=False.\n",
      "  interactivity=interactivity, compiler=compiler, result=result)\n"
     ]
    }
   ],
   "source": [
    "drugsPairs = pd.read_csv('drugsPairs(-1_1).csv')\n",
    "r, c = drugsPairs.shape\n",
    "print(r, c)"
   ]
  },
  {
   "cell_type": "code",
   "execution_count": 5,
   "metadata": {},
   "outputs": [
    {
     "ename": "TypeError",
     "evalue": "cannot convert the series to <class 'int'>",
     "output_type": "error",
     "traceback": [
      "\u001b[1;31m---------------------------------------------------------------------------\u001b[0m",
      "\u001b[1;31mTypeError\u001b[0m                                 Traceback (most recent call last)",
      "\u001b[1;32m<ipython-input-5-9764a1672768>\u001b[0m in \u001b[0;36m<module>\u001b[1;34m\u001b[0m\n\u001b[0;32m     16\u001b[0m \u001b[1;31m#     print(di,dj)\u001b[0m\u001b[1;33m\u001b[0m\u001b[1;33m\u001b[0m\u001b[1;33m\u001b[0m\u001b[0m\n\u001b[0;32m     17\u001b[0m     \u001b[0mbufpairs\u001b[0m \u001b[1;33m=\u001b[0m \u001b[0mdrugsPairs\u001b[0m\u001b[1;33m[\u001b[0m\u001b[0mdrugsPairs\u001b[0m\u001b[1;33m[\u001b[0m\u001b[0mstr\u001b[0m\u001b[1;33m(\u001b[0m\u001b[1;36m1\u001b[0m\u001b[1;33m)\u001b[0m\u001b[1;33m]\u001b[0m\u001b[1;33m==\u001b[0m\u001b[0mdj\u001b[0m\u001b[1;33m]\u001b[0m\u001b[1;33m\u001b[0m\u001b[1;33m\u001b[0m\u001b[0m\n\u001b[1;32m---> 18\u001b[1;33m     \u001b[0mindexes\u001b[0m\u001b[1;33m(\u001b[0m\u001b[0mint\u001b[0m\u001b[1;33m(\u001b[0m\u001b[0mbufpairs\u001b[0m\u001b[1;33m[\u001b[0m\u001b[0mbufpairs\u001b[0m\u001b[1;33m[\u001b[0m\u001b[0mstr\u001b[0m\u001b[1;33m(\u001b[0m\u001b[1;36m2\u001b[0m\u001b[1;33m)\u001b[0m\u001b[1;33m]\u001b[0m\u001b[1;33m==\u001b[0m\u001b[0mdi\u001b[0m\u001b[1;33m]\u001b[0m\u001b[1;33m[\u001b[0m\u001b[1;34m'0'\u001b[0m\u001b[1;33m]\u001b[0m\u001b[1;33m)\u001b[0m\u001b[1;33m)\u001b[0m\u001b[1;33m\u001b[0m\u001b[1;33m\u001b[0m\u001b[0m\n\u001b[0m\u001b[0;32m     19\u001b[0m \u001b[1;33m\u001b[0m\u001b[0m\n\u001b[0;32m     20\u001b[0m \u001b[0mprint\u001b[0m\u001b[1;33m(\u001b[0m\u001b[0mlen\u001b[0m\u001b[1;33m(\u001b[0m\u001b[0mindexes\u001b[0m\u001b[1;33m)\u001b[0m\u001b[1;33m)\u001b[0m\u001b[1;33m\u001b[0m\u001b[1;33m\u001b[0m\u001b[0m\n",
      "\u001b[1;32mc:\\program files\\python36\\lib\\site-packages\\pandas\\core\\series.py\u001b[0m in \u001b[0;36mwrapper\u001b[1;34m(self)\u001b[0m\n\u001b[0;32m    116\u001b[0m             \u001b[1;32mreturn\u001b[0m \u001b[0mconverter\u001b[0m\u001b[1;33m(\u001b[0m\u001b[0mself\u001b[0m\u001b[1;33m.\u001b[0m\u001b[0miloc\u001b[0m\u001b[1;33m[\u001b[0m\u001b[1;36m0\u001b[0m\u001b[1;33m]\u001b[0m\u001b[1;33m)\u001b[0m\u001b[1;33m\u001b[0m\u001b[1;33m\u001b[0m\u001b[0m\n\u001b[0;32m    117\u001b[0m         raise TypeError(\"cannot convert the series to \"\n\u001b[1;32m--> 118\u001b[1;33m                         \"{0}\".format(str(converter)))\n\u001b[0m\u001b[0;32m    119\u001b[0m \u001b[1;33m\u001b[0m\u001b[0m\n\u001b[0;32m    120\u001b[0m     \u001b[1;32mreturn\u001b[0m \u001b[0mwrapper\u001b[0m\u001b[1;33m\u001b[0m\u001b[1;33m\u001b[0m\u001b[0m\n",
      "\u001b[1;31mTypeError\u001b[0m: cannot convert the series to <class 'int'>"
     ]
    }
   ],
   "source": [
    "indexes = []\n",
    "for i in range(5000):\n",
    "    candInd = np.random.randint(r)\n",
    "#     if (len(indexes)< r-1):\n",
    "    if (candInd not in indexes):\n",
    "        indexes.append(candInd)\n",
    "#         print(candInd)\n",
    "    else:\n",
    "        while(True):\n",
    "            candInd = np.random.randint(r)\n",
    "            if candInd not in indexes:\n",
    "                break\n",
    "        indexes.append(candInd)\n",
    "#         print(candInd)\n",
    "    di, dj = str(drugsPairs.iloc[candInd,1]), str(drugsPairs.iloc[candInd,2])\n",
    "#     print(di,dj)\n",
    "    bufpairs = drugsPairs[drugsPairs[str(1)]==dj]\n",
    "    indexes(int(bufpairs[bufpairs[str(2)]==di]['0']))\n",
    "\n",
    "print(len(indexes))\n"
   ]
  },
  {
   "cell_type": "code",
   "execution_count": null,
   "metadata": {
    "scrolled": true
   },
   "outputs": [],
   "source": [
    "checked = False\n",
    "problems = []\n",
    "i = 0\n",
    "while(i +1 < len(indexes)):\n",
    "#     if i + 1 == len(indexes):\n",
    "    if (drugsPairs.iloc[indexes[i],0]==drugsPairs.iloc[indexes[i+1],1])and(drugsPairs.iloc[indexes[i],1]==drugsPairs.iloc[indexes[i+1],0]):\n",
    "        i += 2\n",
    "\n",
    "    else:        \n",
    "        problems.append([i,drugsPairs.iloc[i,:]])\n",
    "#         print([i,drugsPairs.iloc[i,:]])\n",
    "        del indexes[i]\n",
    "#         i += 1\n",
    "#         if i + 1 == len(indexes):\n",
    "#             problems.append(list(i,drugsPairs.iloc[i,:]))\n",
    "#             indexes.remove(i)\n",
    "\n",
    "len(problems)"
   ]
  },
  {
   "cell_type": "code",
   "execution_count": null,
   "metadata": {},
   "outputs": [],
   "source": [
    "[20,drugsPairs.iloc[20,:]]"
   ]
  },
  {
   "cell_type": "code",
   "execution_count": null,
   "metadata": {},
   "outputs": [],
   "source": [
    "problems = pd.DataFrame(problems)\n",
    "problems.to_csv('problems.csv', index=False)\n"
   ]
  },
  {
   "cell_type": "code",
   "execution_count": null,
   "metadata": {},
   "outputs": [],
   "source": [
    "indexes = pd.DataFrame(indexes)\n",
    "indexes.to_csv('indexes.csv', index=False)"
   ]
  },
  {
   "cell_type": "code",
   "execution_count": null,
   "metadata": {},
   "outputs": [],
   "source": [
    "indexes = pd.read_csv('indexes.csv')\n",
    "\n",
    "indexes = list(indexes['0'])\n",
    "\n",
    "# print(indexes[0]==122943)"
   ]
  },
  {
   "cell_type": "code",
   "execution_count": 65,
   "metadata": {},
   "outputs": [],
   "source": [
    "data10000 = []\n",
    "line1 = 0\n",
    "with open('../../saved F(triple_cosineSNF).csv', 'r') as fd:\n",
    "    \n",
    "    for row ,line in enumerate(fd):\n",
    "        if row-1 in indexes:\n",
    "#             print(row)\n",
    "            data10000.append(line.split(','))\n",
    "#         line1 = line.split(',')\n",
    "#         break\n",
    "# line1"
   ]
  },
  {
   "cell_type": "code",
   "execution_count": 66,
   "metadata": {},
   "outputs": [],
   "source": [
    "data10000 = pd.DataFrame(data10000)\n",
    "data10000.to_csv('data10000.csv', index=False)\n"
   ]
  },
  {
   "cell_type": "code",
   "execution_count": 68,
   "metadata": {},
   "outputs": [],
   "source": [
    "data10000 = pd.read_csv('data10000.csv')\n",
    "data = []\n",
    "officer = []\n",
    "index = np.random.choice(10000,10000,replace=False)\n",
    "\n",
    "for i in index:\n",
    "    if i in officer:\n",
    "        continue\n",
    "    data.append(data10000.iloc[i,:])\n",
    "    officer.append(i)\n",
    "    for j in index:\n",
    "        if j in officer:\n",
    "            continue\n",
    "#         print('add')\n",
    "        if data10000.iloc[i,1] == data10000.iloc[j,0] and data10000.iloc[i,0] == data10000.iloc[j,1]:\n",
    "            data.append(data10000.iloc[j,:])\n",
    "            officer.append(j)\n",
    "data = pd.DataFrame(data)\n",
    "data.to_csv('data10000v1.csv', index=False)"
   ]
  },
  {
   "cell_type": "code",
   "execution_count": 41,
   "metadata": {},
   "outputs": [],
   "source": [
    "# data = pd.read_csv('data10000.csv')"
   ]
  },
  {
   "cell_type": "code",
   "execution_count": null,
   "metadata": {},
   "outputs": [],
   "source": []
  }
 ],
 "metadata": {
  "kernelspec": {
   "display_name": "Python 3",
   "language": "python",
   "name": "python3"
  }
 },
 "nbformat": 4,
 "nbformat_minor": 2
}
