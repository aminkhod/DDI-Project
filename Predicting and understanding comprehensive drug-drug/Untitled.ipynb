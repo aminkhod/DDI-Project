{
 "cells": [
  {
   "cell_type": "code",
   "execution_count": 2,
   "metadata": {},
   "outputs": [],
   "source": [
    "import pandas as pd \n",
    "import numpy as np\n"
   ]
  },
  {
   "cell_type": "code",
   "execution_count": 4,
   "metadata": {},
   "outputs": [],
   "source": [
    "data = pd.read_csv('data1000v1.csv')"
   ]
  },
  {
   "cell_type": "code",
   "execution_count": 6,
   "metadata": {},
   "outputs": [
    {
     "data": {
      "text/plain": [
       "(1000, 1139)"
      ]
     },
     "execution_count": 6,
     "metadata": {},
     "output_type": "execute_result"
    }
   ],
   "source": [
    "data.shape"
   ]
  },
  {
   "cell_type": "code",
   "execution_count": 8,
   "metadata": {},
   "outputs": [
    {
     "data": {
      "text/html": [
       "<div>\n",
       "<style scoped>\n",
       "    .dataframe tbody tr th:only-of-type {\n",
       "        vertical-align: middle;\n",
       "    }\n",
       "\n",
       "    .dataframe tbody tr th {\n",
       "        vertical-align: top;\n",
       "    }\n",
       "\n",
       "    .dataframe thead th {\n",
       "        text-align: right;\n",
       "    }\n",
       "</style>\n",
       "<table border=\"1\" class=\"dataframe\">\n",
       "  <thead>\n",
       "    <tr style=\"text-align: right;\">\n",
       "      <th></th>\n",
       "      <th>0</th>\n",
       "      <th>1</th>\n",
       "      <th>2</th>\n",
       "      <th>3</th>\n",
       "      <th>4</th>\n",
       "      <th>5</th>\n",
       "      <th>6</th>\n",
       "      <th>7</th>\n",
       "      <th>8</th>\n",
       "      <th>9</th>\n",
       "      <th>...</th>\n",
       "      <th>1129</th>\n",
       "      <th>1130</th>\n",
       "      <th>1131</th>\n",
       "      <th>1132</th>\n",
       "      <th>1133</th>\n",
       "      <th>1134</th>\n",
       "      <th>1135</th>\n",
       "      <th>1136</th>\n",
       "      <th>1137</th>\n",
       "      <th>1138</th>\n",
       "    </tr>\n",
       "  </thead>\n",
       "  <tbody>\n",
       "    <tr>\n",
       "      <th>0</th>\n",
       "      <td>DB00384</td>\n",
       "      <td>DB00248</td>\n",
       "      <td>0</td>\n",
       "      <td>0.001651</td>\n",
       "      <td>0.001783</td>\n",
       "      <td>0.001572</td>\n",
       "      <td>0.001935</td>\n",
       "      <td>0.001869</td>\n",
       "      <td>0.001997</td>\n",
       "      <td>0.001921</td>\n",
       "      <td>...</td>\n",
       "      <td>0.001518</td>\n",
       "      <td>0.001730</td>\n",
       "      <td>0.001177</td>\n",
       "      <td>0.001660</td>\n",
       "      <td>0.001451</td>\n",
       "      <td>0.001067</td>\n",
       "      <td>0.001527</td>\n",
       "      <td>0.001565</td>\n",
       "      <td>0.001595</td>\n",
       "      <td>0.001592</td>\n",
       "    </tr>\n",
       "    <tr>\n",
       "      <th>1</th>\n",
       "      <td>DB00248</td>\n",
       "      <td>DB00384</td>\n",
       "      <td>0</td>\n",
       "      <td>0.001519</td>\n",
       "      <td>0.001741</td>\n",
       "      <td>0.001426</td>\n",
       "      <td>0.001485</td>\n",
       "      <td>0.001971</td>\n",
       "      <td>0.001518</td>\n",
       "      <td>0.001526</td>\n",
       "      <td>...</td>\n",
       "      <td>0.001483</td>\n",
       "      <td>0.001508</td>\n",
       "      <td>0.001787</td>\n",
       "      <td>0.002060</td>\n",
       "      <td>0.001366</td>\n",
       "      <td>0.001041</td>\n",
       "      <td>0.001414</td>\n",
       "      <td>0.001544</td>\n",
       "      <td>0.001435</td>\n",
       "      <td>0.001480</td>\n",
       "    </tr>\n",
       "    <tr>\n",
       "      <th>2</th>\n",
       "      <td>DB00244</td>\n",
       "      <td>DB04835</td>\n",
       "      <td>0</td>\n",
       "      <td>0.001666</td>\n",
       "      <td>0.001544</td>\n",
       "      <td>0.001413</td>\n",
       "      <td>0.001586</td>\n",
       "      <td>0.001652</td>\n",
       "      <td>0.001541</td>\n",
       "      <td>0.001570</td>\n",
       "      <td>...</td>\n",
       "      <td>0.001548</td>\n",
       "      <td>0.001827</td>\n",
       "      <td>0.001109</td>\n",
       "      <td>0.001649</td>\n",
       "      <td>0.001583</td>\n",
       "      <td>0.001372</td>\n",
       "      <td>0.001742</td>\n",
       "      <td>0.001527</td>\n",
       "      <td>0.001811</td>\n",
       "      <td>0.001697</td>\n",
       "    </tr>\n",
       "    <tr>\n",
       "      <th>3</th>\n",
       "      <td>DB04835</td>\n",
       "      <td>DB00244</td>\n",
       "      <td>0</td>\n",
       "      <td>0.001572</td>\n",
       "      <td>0.001523</td>\n",
       "      <td>0.001554</td>\n",
       "      <td>0.001496</td>\n",
       "      <td>0.001511</td>\n",
       "      <td>0.001398</td>\n",
       "      <td>0.001510</td>\n",
       "      <td>...</td>\n",
       "      <td>0.001500</td>\n",
       "      <td>0.001568</td>\n",
       "      <td>0.001213</td>\n",
       "      <td>0.001553</td>\n",
       "      <td>0.001437</td>\n",
       "      <td>0.001074</td>\n",
       "      <td>0.001546</td>\n",
       "      <td>0.001854</td>\n",
       "      <td>0.001706</td>\n",
       "      <td>0.001742</td>\n",
       "    </tr>\n",
       "    <tr>\n",
       "      <th>4</th>\n",
       "      <td>DB00278</td>\n",
       "      <td>DB00438</td>\n",
       "      <td>0</td>\n",
       "      <td>0.001600</td>\n",
       "      <td>0.001588</td>\n",
       "      <td>0.001563</td>\n",
       "      <td>0.001519</td>\n",
       "      <td>0.001551</td>\n",
       "      <td>0.001390</td>\n",
       "      <td>0.001558</td>\n",
       "      <td>...</td>\n",
       "      <td>0.001554</td>\n",
       "      <td>0.001432</td>\n",
       "      <td>0.001036</td>\n",
       "      <td>0.001328</td>\n",
       "      <td>0.001923</td>\n",
       "      <td>0.001469</td>\n",
       "      <td>0.001791</td>\n",
       "      <td>0.001493</td>\n",
       "      <td>0.001456</td>\n",
       "      <td>0.001638</td>\n",
       "    </tr>\n",
       "  </tbody>\n",
       "</table>\n",
       "<p>5 rows × 1139 columns</p>\n",
       "</div>"
      ],
      "text/plain": [
       "         0        1  2         3         4         5         6         7  \\\n",
       "0  DB00384  DB00248  0  0.001651  0.001783  0.001572  0.001935  0.001869   \n",
       "1  DB00248  DB00384  0  0.001519  0.001741  0.001426  0.001485  0.001971   \n",
       "2  DB00244  DB04835  0  0.001666  0.001544  0.001413  0.001586  0.001652   \n",
       "3  DB04835  DB00244  0  0.001572  0.001523  0.001554  0.001496  0.001511   \n",
       "4  DB00278  DB00438  0  0.001600  0.001588  0.001563  0.001519  0.001551   \n",
       "\n",
       "          8         9    ...         1129      1130      1131      1132  \\\n",
       "0  0.001997  0.001921    ...     0.001518  0.001730  0.001177  0.001660   \n",
       "1  0.001518  0.001526    ...     0.001483  0.001508  0.001787  0.002060   \n",
       "2  0.001541  0.001570    ...     0.001548  0.001827  0.001109  0.001649   \n",
       "3  0.001398  0.001510    ...     0.001500  0.001568  0.001213  0.001553   \n",
       "4  0.001390  0.001558    ...     0.001554  0.001432  0.001036  0.001328   \n",
       "\n",
       "       1133      1134      1135      1136      1137      1138  \n",
       "0  0.001451  0.001067  0.001527  0.001565  0.001595  0.001592  \n",
       "1  0.001366  0.001041  0.001414  0.001544  0.001435  0.001480  \n",
       "2  0.001583  0.001372  0.001742  0.001527  0.001811  0.001697  \n",
       "3  0.001437  0.001074  0.001546  0.001854  0.001706  0.001742  \n",
       "4  0.001923  0.001469  0.001791  0.001493  0.001456  0.001638  \n",
       "\n",
       "[5 rows x 1139 columns]"
      ]
     },
     "execution_count": 8,
     "metadata": {},
     "output_type": "execute_result"
    }
   ],
   "source": [
    "data.head()"
   ]
  },
  {
   "cell_type": "code",
   "execution_count": 9,
   "metadata": {},
   "outputs": [],
   "source": [
    "X_train, X_test = data.iloc[:800,3:], data.iloc[800:,3:]\n",
    "y_train, y_test = data.iloc[:800,2], data.iloc[:800,2]"
   ]
  },
  {
   "cell_type": "code",
   "execution_count": 14,
   "metadata": {},
   "outputs": [
    {
     "data": {
      "text/plain": [
       "(1136,)"
      ]
     },
     "execution_count": 14,
     "metadata": {},
     "output_type": "execute_result"
    }
   ],
   "source": [
    "X_train.iloc[0].shape"
   ]
  }
 ],
 "metadata": {
  "kernelspec": {
   "display_name": "Python 3",
   "language": "python",
   "name": "python3"
  },
  "language_info": {
   "codemirror_mode": {
    "name": "ipython",
    "version": 3
   },
   "file_extension": ".py",
   "mimetype": "text/x-python",
   "name": "python",
   "nbconvert_exporter": "python",
   "pygments_lexer": "ipython3",
   "version": "3.6.7"
  }
 },
 "nbformat": 4,
 "nbformat_minor": 2
}
