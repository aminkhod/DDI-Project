{
 "cells": [
  {
   "cell_type": "code",
   "execution_count": 10,
   "metadata": {},
   "outputs": [],
   "source": [
    "import numpy as np\n",
    "import pandas as pd"
   ]
  },
  {
   "cell_type": "code",
   "execution_count": 2,
   "metadata": {},
   "outputs": [
    {
     "name": "stdout",
     "output_type": "stream",
     "text": [
      "(568, 1) (568, 568) (568, 569)\n"
     ]
    },
    {
     "data": {
      "text/plain": [
       "568"
      ]
     },
     "execution_count": 2,
     "metadata": {},
     "output_type": "execute_result"
    }
   ],
   "source": [
    "# excel_file = 'data/DDI_triple.csv'\n",
    "# drug = pd.read_csv(excel_file, header=None)\n",
    "# df = 'data/drug_name_568.txt'\n",
    "# DF = pd.read_csv(df, header=None)\n",
    "# d = 'data/CosineSNF(structureAndSideEffect).csv'\n",
    "# D = pd.read_csv(d, header=None)\n",
    "# print(DF.shape, drug.shape, D.shape)\n",
    "# len(DF.iloc[:,0])"
   ]
  },
  {
   "cell_type": "code",
   "execution_count": 3,
   "metadata": {},
   "outputs": [],
   "source": [
    "#### Deleting missing Drugs\n",
    "# druglist=[]\n",
    "# mismatch=[]\n",
    "\n",
    "# for j in range(len(D)):\n",
    "#     druglist.insert(j,D.loc[j][0])\n",
    "# for i in range(len(DF.loc[0])):\n",
    "#     if not DF.loc[i][1] in (druglist):\n",
    "#             print(i,DF.loc[i][1])\n",
    "#             mismatch.insert(i,DF.loc[i][1])\n",
    "#             DF=DF.drop([i])\n",
    "#             drug=drug.drop([i],axis=0)\n",
    "#             drug=drug.drop([i],axis=1)\n"
   ]
  },
  {
   "cell_type": "code",
   "execution_count": 13,
   "metadata": {},
   "outputs": [],
   "source": [
    "# DF.to_csv(\"saved DF.csv\",index=False)\n",
    "DF = pd.read_csv(\"saved DF.csv\", header=0)\n",
    "# drug.to_csv('saved drug.csv',index=False)\n",
    "drug = pd.read_csv('saved drug.csv', header=0)"
   ]
  },
  {
   "cell_type": "code",
   "execution_count": 14,
   "metadata": {},
   "outputs": [],
   "source": [
    "finalmatrix=[]\n",
    "for i in range(len(DF.iloc[:,0])):\n",
    "    for j in range(len(DF.iloc[:,0])):\n",
    "        result=[DF.loc[i][0],DF.loc[j][0],drug.loc[i][j]]\n",
    "#         print(result)\n",
    "        finalmatrix.append(result)\n",
    "\n",
    "del drug\n"
   ]
  },
  {
   "cell_type": "code",
   "execution_count": 15,
   "metadata": {},
   "outputs": [],
   "source": [
    "F = pd.DataFrame(finalmatrix)\n",
    "del finalmatrix"
   ]
  },
  {
   "cell_type": "code",
   "execution_count": 16,
   "metadata": {},
   "outputs": [
    {
     "name": "stdout",
     "output_type": "stream",
     "text": [
      "322624 3\n",
      "0    DB00115\n",
      "1    DB00115\n",
      "2          0\n",
      "Name: 0, dtype: object\n"
     ]
    }
   ],
   "source": [
    "r, c = F.shape\n",
    "print(r,c)\n",
    "print(F.iloc[0,:])"
   ]
  },
  {
   "cell_type": "code",
   "execution_count": 23,
   "metadata": {},
   "outputs": [
    {
     "data": {
      "text/plain": [
       "(322056, 3)"
      ]
     },
     "execution_count": 23,
     "metadata": {},
     "output_type": "execute_result"
    }
   ],
   "source": [
    "j = 0\n",
    "for i in range(0, r, len(DF.iloc[:,0])):\n",
    "    try:\n",
    "        F = F.drop([i + j])\n",
    "#         print(i)\n",
    "    except:\n",
    "        1\n",
    "#         print(str(i)+ \" can't be droped\")\n",
    "    j += 1\n",
    "F.shape"
   ]
  },
  {
   "cell_type": "code",
   "execution_count": 25,
   "metadata": {},
   "outputs": [
    {
     "name": "stdout",
     "output_type": "stream",
     "text": [
      "322056 3\n"
     ]
    },
    {
     "data": {
      "text/plain": [
       "0    DB00130\n",
       "1    DB00115\n",
       "2          0\n",
       "Name: 568, dtype: object"
      ]
     },
     "execution_count": 25,
     "metadata": {},
     "output_type": "execute_result"
    }
   ],
   "source": [
    "r, c = F.shape\n",
    "print(r,c)\n",
    "# list(range(0, r, len(DF.iloc[:,0])))\n",
    "F.iloc[566,:]"
   ]
  },
  {
   "cell_type": "code",
   "execution_count": 26,
   "metadata": {},
   "outputs": [],
   "source": [
    "\n",
    "for k in range(1, len(D.iloc[0,:])):\n",
    "    F[k + 2]=F[0].map(D.set_index(0)[k])\n",
    "    k += 1\n",
    "\n",
    "for k in range(1, len(D.iloc[0,:])):\n",
    "    F[k + len(D.iloc[0,:]) + 3]=F[1].map(D.set_index(0)[k])\n",
    "    k += 1\n",
    "del D\n",
    "del DF"
   ]
  },
  {
   "cell_type": "code",
   "execution_count": 27,
   "metadata": {},
   "outputs": [
    {
     "data": {
      "text/plain": [
       "(322056, 1139)"
      ]
     },
     "execution_count": 27,
     "metadata": {},
     "output_type": "execute_result"
    }
   ],
   "source": [
    "F.shape"
   ]
  },
  {
   "cell_type": "code",
   "execution_count": 28,
   "metadata": {},
   "outputs": [],
   "source": [
    "F.to_csv(\"../../saved F(triple_cosineSNF).csv\",index=False)\n"
   ]
  },
  {
   "cell_type": "code",
   "execution_count": 29,
   "metadata": {},
   "outputs": [],
   "source": [
    "del F"
   ]
  },
  {
   "cell_type": "code",
   "execution_count": null,
   "metadata": {},
   "outputs": [],
   "source": []
  }
 ],
 "metadata": {
  "kernelspec": {
   "display_name": "Python 3",
   "language": "python",
   "name": "python3"
  },
  "language_info": {
   "codemirror_mode": {
    "name": "ipython",
    "version": 3
   },
   "file_extension": ".py",
   "mimetype": "text/x-python",
   "name": "python",
   "nbconvert_exporter": "python",
   "pygments_lexer": "ipython3",
   "version": "3.6.7"
  }
 },
 "nbformat": 4,
 "nbformat_minor": 2
}
