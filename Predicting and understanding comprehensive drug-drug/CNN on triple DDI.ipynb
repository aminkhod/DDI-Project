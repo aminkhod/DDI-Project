{
 "cells": [
  {
   "cell_type": "code",
   "execution_count": 1,
   "metadata": {},
   "outputs": [
    {
     "name": "stderr",
     "output_type": "stream",
     "text": [
      "Using TensorFlow backend.\n",
      "c:\\program files\\python36\\lib\\site-packages\\tensorflow\\python\\framework\\dtypes.py:517: FutureWarning: Passing (type, 1) or '1type' as a synonym of type is deprecated; in a future version of numpy, it will be understood as (type, (1,)) / '(1,)type'.\n",
      "  _np_qint8 = np.dtype([(\"qint8\", np.int8, 1)])\n",
      "c:\\program files\\python36\\lib\\site-packages\\tensorflow\\python\\framework\\dtypes.py:518: FutureWarning: Passing (type, 1) or '1type' as a synonym of type is deprecated; in a future version of numpy, it will be understood as (type, (1,)) / '(1,)type'.\n",
      "  _np_quint8 = np.dtype([(\"quint8\", np.uint8, 1)])\n",
      "c:\\program files\\python36\\lib\\site-packages\\tensorflow\\python\\framework\\dtypes.py:519: FutureWarning: Passing (type, 1) or '1type' as a synonym of type is deprecated; in a future version of numpy, it will be understood as (type, (1,)) / '(1,)type'.\n",
      "  _np_qint16 = np.dtype([(\"qint16\", np.int16, 1)])\n",
      "c:\\program files\\python36\\lib\\site-packages\\tensorflow\\python\\framework\\dtypes.py:520: FutureWarning: Passing (type, 1) or '1type' as a synonym of type is deprecated; in a future version of numpy, it will be understood as (type, (1,)) / '(1,)type'.\n",
      "  _np_quint16 = np.dtype([(\"quint16\", np.uint16, 1)])\n",
      "c:\\program files\\python36\\lib\\site-packages\\tensorflow\\python\\framework\\dtypes.py:521: FutureWarning: Passing (type, 1) or '1type' as a synonym of type is deprecated; in a future version of numpy, it will be understood as (type, (1,)) / '(1,)type'.\n",
      "  _np_qint32 = np.dtype([(\"qint32\", np.int32, 1)])\n",
      "c:\\program files\\python36\\lib\\site-packages\\tensorflow\\python\\framework\\dtypes.py:526: FutureWarning: Passing (type, 1) or '1type' as a synonym of type is deprecated; in a future version of numpy, it will be understood as (type, (1,)) / '(1,)type'.\n",
      "  np_resource = np.dtype([(\"resource\", np.ubyte, 1)])\n"
     ]
    }
   ],
   "source": [
    "import pandas as pd \n",
    "import numpy as np\n",
    "from sklearn import metrics\n",
    "import seaborn as sn\n",
    "import confusion_matrix_pretty_print\n",
    "from confusion_matrix_pretty_print import plot_confusion_matrix_from_data\n",
    "from sklearn import tree\n",
    "from sklearn.ensemble import ExtraTreesClassifier\n",
    "from sklearn.metrics import confusion_matrix,classification_report,precision_score\n",
    "import keras\n"
   ]
  },
  {
   "cell_type": "code",
   "execution_count": 7,
   "metadata": {},
   "outputs": [],
   "source": [
    "# data = pd.read_csv('../../saved F(triple_cosineSNF).csv')\n",
    "# data = data[data['2']!=0]\n",
    "# data.to_csv('triple_cosineSNF(-1and1).csv',index=False)\n",
    "dataTrain = pd.read_csv('../../tripleTrain.csv')\n",
    "dataTest = pd.read_csv('../../tripleTest.csv')\n",
    "\n",
    "# data.shape"
   ]
  },
  {
   "cell_type": "code",
   "execution_count": 8,
   "metadata": {},
   "outputs": [
    {
     "data": {
      "text/html": [
       "<div>\n",
       "<style scoped>\n",
       "    .dataframe tbody tr th:only-of-type {\n",
       "        vertical-align: middle;\n",
       "    }\n",
       "\n",
       "    .dataframe tbody tr th {\n",
       "        vertical-align: top;\n",
       "    }\n",
       "\n",
       "    .dataframe thead th {\n",
       "        text-align: right;\n",
       "    }\n",
       "</style>\n",
       "<table border=\"1\" class=\"dataframe\">\n",
       "  <thead>\n",
       "    <tr style=\"text-align: right;\">\n",
       "      <th></th>\n",
       "      <th>0</th>\n",
       "      <th>1</th>\n",
       "      <th>2</th>\n",
       "      <th>3</th>\n",
       "      <th>4</th>\n",
       "      <th>5</th>\n",
       "      <th>6</th>\n",
       "      <th>7</th>\n",
       "      <th>8</th>\n",
       "      <th>9</th>\n",
       "      <th>...</th>\n",
       "      <th>1131</th>\n",
       "      <th>1132</th>\n",
       "      <th>1133</th>\n",
       "      <th>1134</th>\n",
       "      <th>1135</th>\n",
       "      <th>1136</th>\n",
       "      <th>1137</th>\n",
       "      <th>1138</th>\n",
       "      <th>1139</th>\n",
       "      <th>1140</th>\n",
       "    </tr>\n",
       "  </thead>\n",
       "  <tbody>\n",
       "    <tr>\n",
       "      <th>0</th>\n",
       "      <td>DB00887</td>\n",
       "      <td>DB01410</td>\n",
       "      <td>1</td>\n",
       "      <td>0.001588</td>\n",
       "      <td>0.001749</td>\n",
       "      <td>0.001820</td>\n",
       "      <td>0.001737</td>\n",
       "      <td>0.001703</td>\n",
       "      <td>0.001586</td>\n",
       "      <td>0.001628</td>\n",
       "      <td>...</td>\n",
       "      <td>0.001609</td>\n",
       "      <td>0.001709</td>\n",
       "      <td>0.001597</td>\n",
       "      <td>0.002207</td>\n",
       "      <td>0.001626</td>\n",
       "      <td>0.002411</td>\n",
       "      <td>0.002507</td>\n",
       "      <td>0.002081</td>\n",
       "      <td>0.001636</td>\n",
       "      <td>0.001639</td>\n",
       "    </tr>\n",
       "    <tr>\n",
       "      <th>1</th>\n",
       "      <td>DB01267</td>\n",
       "      <td>DB00422</td>\n",
       "      <td>1</td>\n",
       "      <td>0.001720</td>\n",
       "      <td>0.001612</td>\n",
       "      <td>0.001597</td>\n",
       "      <td>0.001582</td>\n",
       "      <td>0.001759</td>\n",
       "      <td>0.001588</td>\n",
       "      <td>0.001635</td>\n",
       "      <td>...</td>\n",
       "      <td>0.001582</td>\n",
       "      <td>0.001633</td>\n",
       "      <td>0.003688</td>\n",
       "      <td>0.001812</td>\n",
       "      <td>0.001694</td>\n",
       "      <td>0.001573</td>\n",
       "      <td>0.001580</td>\n",
       "      <td>0.001600</td>\n",
       "      <td>0.001598</td>\n",
       "      <td>0.001585</td>\n",
       "    </tr>\n",
       "    <tr>\n",
       "      <th>2</th>\n",
       "      <td>DB01551</td>\n",
       "      <td>DB01589</td>\n",
       "      <td>1</td>\n",
       "      <td>0.001594</td>\n",
       "      <td>0.001646</td>\n",
       "      <td>0.001723</td>\n",
       "      <td>0.001588</td>\n",
       "      <td>0.001593</td>\n",
       "      <td>0.001592</td>\n",
       "      <td>0.001955</td>\n",
       "      <td>...</td>\n",
       "      <td>0.001898</td>\n",
       "      <td>0.001615</td>\n",
       "      <td>0.001628</td>\n",
       "      <td>0.001561</td>\n",
       "      <td>0.001809</td>\n",
       "      <td>0.001726</td>\n",
       "      <td>0.001792</td>\n",
       "      <td>0.001608</td>\n",
       "      <td>0.001792</td>\n",
       "      <td>0.001720</td>\n",
       "    </tr>\n",
       "    <tr>\n",
       "      <th>3</th>\n",
       "      <td>DB01545</td>\n",
       "      <td>DB00611</td>\n",
       "      <td>1</td>\n",
       "      <td>0.001604</td>\n",
       "      <td>0.001596</td>\n",
       "      <td>0.001597</td>\n",
       "      <td>0.001575</td>\n",
       "      <td>0.001595</td>\n",
       "      <td>0.001592</td>\n",
       "      <td>0.001602</td>\n",
       "      <td>...</td>\n",
       "      <td>0.001607</td>\n",
       "      <td>0.002207</td>\n",
       "      <td>0.001708</td>\n",
       "      <td>0.001605</td>\n",
       "      <td>0.001609</td>\n",
       "      <td>0.001579</td>\n",
       "      <td>0.001583</td>\n",
       "      <td>0.001613</td>\n",
       "      <td>0.001608</td>\n",
       "      <td>0.001611</td>\n",
       "    </tr>\n",
       "    <tr>\n",
       "      <th>4</th>\n",
       "      <td>DB00530</td>\n",
       "      <td>DB01259</td>\n",
       "      <td>1</td>\n",
       "      <td>0.001663</td>\n",
       "      <td>0.001627</td>\n",
       "      <td>0.001679</td>\n",
       "      <td>0.001664</td>\n",
       "      <td>0.001721</td>\n",
       "      <td>0.001740</td>\n",
       "      <td>0.001687</td>\n",
       "      <td>...</td>\n",
       "      <td>0.001593</td>\n",
       "      <td>0.001625</td>\n",
       "      <td>0.001702</td>\n",
       "      <td>0.001693</td>\n",
       "      <td>0.001610</td>\n",
       "      <td>0.001603</td>\n",
       "      <td>0.001645</td>\n",
       "      <td>0.001656</td>\n",
       "      <td>0.001654</td>\n",
       "      <td>0.001801</td>\n",
       "    </tr>\n",
       "  </tbody>\n",
       "</table>\n",
       "<p>5 rows × 1139 columns</p>\n",
       "</div>"
      ],
      "text/plain": [
       "         0        1  2         3         4         5         6         7  \\\n",
       "0  DB00887  DB01410  1  0.001588  0.001749  0.001820  0.001737  0.001703   \n",
       "1  DB01267  DB00422  1  0.001720  0.001612  0.001597  0.001582  0.001759   \n",
       "2  DB01551  DB01589  1  0.001594  0.001646  0.001723  0.001588  0.001593   \n",
       "3  DB01545  DB00611  1  0.001604  0.001596  0.001597  0.001575  0.001595   \n",
       "4  DB00530  DB01259  1  0.001663  0.001627  0.001679  0.001664  0.001721   \n",
       "\n",
       "          8         9  ...      1131      1132      1133      1134      1135  \\\n",
       "0  0.001586  0.001628  ...  0.001609  0.001709  0.001597  0.002207  0.001626   \n",
       "1  0.001588  0.001635  ...  0.001582  0.001633  0.003688  0.001812  0.001694   \n",
       "2  0.001592  0.001955  ...  0.001898  0.001615  0.001628  0.001561  0.001809   \n",
       "3  0.001592  0.001602  ...  0.001607  0.002207  0.001708  0.001605  0.001609   \n",
       "4  0.001740  0.001687  ...  0.001593  0.001625  0.001702  0.001693  0.001610   \n",
       "\n",
       "       1136      1137      1138      1139      1140  \n",
       "0  0.002411  0.002507  0.002081  0.001636  0.001639  \n",
       "1  0.001573  0.001580  0.001600  0.001598  0.001585  \n",
       "2  0.001726  0.001792  0.001608  0.001792  0.001720  \n",
       "3  0.001579  0.001583  0.001613  0.001608  0.001611  \n",
       "4  0.001603  0.001645  0.001656  0.001654  0.001801  \n",
       "\n",
       "[5 rows x 1139 columns]"
      ]
     },
     "execution_count": 8,
     "metadata": {},
     "output_type": "execute_result"
    }
   ],
   "source": [
    "dataTest.head()"
   ]
  },
  {
   "cell_type": "code",
   "execution_count": 9,
   "metadata": {},
   "outputs": [],
   "source": [
    "X_train, X_test = dataTrain.values[:,3:], dataTest.values[:,3:]\n",
    "y_train, y_test = dataTrain.values[:,2].astype(int), dataTest.values[:,2].astype(int)"
   ]
  },
  {
   "cell_type": "code",
   "execution_count": 10,
   "metadata": {},
   "outputs": [],
   "source": [
    "trainNum = len(X_train)"
   ]
  },
  {
   "cell_type": "code",
   "execution_count": 11,
   "metadata": {},
   "outputs": [],
   "source": [
    "testNum = len(X_test)"
   ]
  },
  {
   "cell_type": "code",
   "execution_count": 12,
   "metadata": {},
   "outputs": [],
   "source": [
    "# 16*71"
   ]
  },
  {
   "cell_type": "code",
   "execution_count": 13,
   "metadata": {},
   "outputs": [],
   "source": [
    "#reshape data to fit model\n",
    "X_train = X_train.reshape(trainNum,16,71,1)\n",
    "X_test = X_test.reshape(testNum,16,71,1)"
   ]
  },
  {
   "cell_type": "code",
   "execution_count": 14,
   "metadata": {},
   "outputs": [],
   "source": [
    "# X_train.shape"
   ]
  },
  {
   "cell_type": "code",
   "execution_count": 15,
   "metadata": {},
   "outputs": [],
   "source": [
    "y_train = y_train + 1\n",
    "y_test  = y_test + 1\n",
    "y_train = y_train / 2\n",
    "y_test  = y_test / 2\n",
    "# print(y_train[0], y_test[0])"
   ]
  },
  {
   "cell_type": "code",
   "execution_count": 16,
   "metadata": {},
   "outputs": [
    {
     "data": {
      "text/plain": [
       "array([0., 0., 0., ..., 1., 1., 1.])"
      ]
     },
     "execution_count": 16,
     "metadata": {},
     "output_type": "execute_result"
    }
   ],
   "source": [
    "y_train"
   ]
  },
  {
   "cell_type": "code",
   "execution_count": 17,
   "metadata": {},
   "outputs": [],
   "source": [
    "from keras.utils import to_categorical\n",
    "#one-hot encode target column\n",
    "y_train = to_categorical(y_train)\n",
    "y_test = to_categorical(y_test)\n",
    "# y_test[0]"
   ]
  },
  {
   "cell_type": "code",
   "execution_count": 18,
   "metadata": {},
   "outputs": [
    {
     "data": {
      "text/plain": [
       "array([[1., 0.],\n",
       "       [1., 0.],\n",
       "       [1., 0.],\n",
       "       ...,\n",
       "       [0., 1.],\n",
       "       [0., 1.],\n",
       "       [0., 1.]], dtype=float32)"
      ]
     },
     "execution_count": 18,
     "metadata": {},
     "output_type": "execute_result"
    }
   ],
   "source": [
    "y_train"
   ]
  },
  {
   "cell_type": "code",
   "execution_count": 2,
   "metadata": {},
   "outputs": [
    {
     "name": "stdout",
     "output_type": "stream",
     "text": [
      "_________________________________________________________________\n",
      "Layer (type)                 Output Shape              Param #   \n",
      "=================================================================\n",
      "conv2d_1 (Conv2D)            (None, 13, 68, 128)       2176      \n",
      "_________________________________________________________________\n",
      "conv2d_2 (Conv2D)            (None, 10, 65, 32)        65568     \n",
      "_________________________________________________________________\n",
      "conv2d_3 (Conv2D)            (None, 7, 62, 8)          4104      \n",
      "_________________________________________________________________\n",
      "flatten_1 (Flatten)          (None, 3472)              0         \n",
      "_________________________________________________________________\n",
      "dense_1 (Dense)              (None, 1024)              3556352   \n",
      "_________________________________________________________________\n",
      "dropout_1 (Dropout)          (None, 1024)              0         \n",
      "_________________________________________________________________\n",
      "dense_2 (Dense)              (None, 64)                65600     \n",
      "_________________________________________________________________\n",
      "dense_3 (Dense)              (None, 2)                 130       \n",
      "_________________________________________________________________\n",
      "softmax_1 (Softmax)          (None, 2)                 0         \n",
      "=================================================================\n",
      "Total params: 3,693,930\n",
      "Trainable params: 3,693,930\n",
      "Non-trainable params: 0\n",
      "_________________________________________________________________\n"
     ]
    }
   ],
   "source": [
    "from keras.models import Sequential\n",
    "from keras.layers import Dense, Conv2D, Flatten, Softmax, Dropout\n",
    "\n",
    "\n",
    "#create model\n",
    "model = Sequential()\n",
    "#add model layers\n",
    "# kernel_initializer='uniform',\n",
    "# kernel_initializer='uniform',\n",
    "# kernel_initializer='uniform',\n",
    "# kernel_initializer='uniform',\n",
    "model.add(Conv2D(128, kernel_size=4, activation='relu', input_shape=(16,71,1)))\n",
    "# model.add(Conv2D(64, kernel_size=2, activation='relu'))\n",
    "\n",
    "model.add(Conv2D(32, kernel_size=4, activation='relu'))\n",
    "# model.add(Conv2D(16, kernel_size=2, activation='relu'))\n",
    "model.add(Conv2D(8, kernel_size=4, activation='relu'))\n",
    "model.add(Flatten())\n",
    "model.add(Dense( 1024, activation='relu'))\n",
    "model.add(Dropout(0.3))\n",
    "model.add(Dense( 64, activation='relu'))\n",
    "model.add(Dense( 2, activation='relu'))\n",
    "model.add(Softmax(128))\n",
    "model.summary()"
   ]
  },
  {
   "cell_type": "code",
   "execution_count": 3,
   "metadata": {},
   "outputs": [],
   "source": [
    "#compile model using accuracy to measure model performance\n",
    "from keras import optimizers\n",
    "from keras import metrics as kmetr\n",
    "\n",
    "\n",
    "adam = optimizers.Adam(lr=0.0001, beta_1=0.9, beta_2=0.999)\n",
    "# model.compile(loss='hinge', optimizer=adam, metrics=[kmetr.categorical_accuracy])\n",
    "model.compile(optimizer='adam', loss='categorical_crossentropy', metrics=['accuracy']) ## Minist"
   ]
  },
  {
   "cell_type": "code",
   "execution_count": 4,
   "metadata": {},
   "outputs": [],
   "source": [
    "import graphviz\n"
   ]
  },
  {
   "cell_type": "code",
   "execution_count": 5,
   "metadata": {},
   "outputs": [],
   "source": [
    "from keras.utils import plot_model\n",
    "\n",
    "plot_model(model,show_shapes = True, to_file='model.png')"
   ]
  },
  {
   "cell_type": "code",
   "execution_count": 22,
   "metadata": {},
   "outputs": [
    {
     "name": "stdout",
     "output_type": "stream",
     "text": [
      "Train on 38400 samples, validate on 4302 samples\n",
      "Epoch 1/15\n",
      "38400/38400 [==============================] - 498s 13ms/step - loss: 0.3706 - acc: 0.8359 - val_loss: 0.2715 - val_acc: 0.8735\n",
      "Epoch 2/15\n",
      "38400/38400 [==============================] - 489s 13ms/step - loss: 0.2186 - acc: 0.9091 - val_loss: 0.2104 - val_acc: 0.9191\n",
      "Epoch 3/15\n",
      "38400/38400 [==============================] - 487s 13ms/step - loss: 0.1419 - acc: 0.9420 - val_loss: 0.1931 - val_acc: 0.9261\n",
      "Epoch 4/15\n",
      "38400/38400 [==============================] - 488s 13ms/step - loss: 0.1024 - acc: 0.9572 - val_loss: 0.1733 - val_acc: 0.9417\n",
      "Epoch 5/15\n",
      "38400/38400 [==============================] - 486s 13ms/step - loss: 0.0801 - acc: 0.9666 - val_loss: 0.1934 - val_acc: 0.9386\n",
      "Epoch 6/15\n",
      "38400/38400 [==============================] - 500s 13ms/step - loss: 0.0667 - acc: 0.9721 - val_loss: 0.1930 - val_acc: 0.9442\n",
      "Epoch 7/15\n",
      "38400/38400 [==============================] - 497s 13ms/step - loss: 0.0536 - acc: 0.9772 - val_loss: 0.2103 - val_acc: 0.9447\n",
      "Epoch 8/15\n",
      "38400/38400 [==============================] - 491s 13ms/step - loss: 0.0479 - acc: 0.9800 - val_loss: 0.2036 - val_acc: 0.9447\n",
      "Epoch 9/15\n",
      "38400/38400 [==============================] - 481s 13ms/step - loss: 0.0399 - acc: 0.9835 - val_loss: 0.1990 - val_acc: 0.9456\n",
      "Epoch 10/15\n",
      "38400/38400 [==============================] - 481s 13ms/step - loss: 0.0358 - acc: 0.9846 - val_loss: 0.2012 - val_acc: 0.9486\n",
      "Epoch 11/15\n",
      "38400/38400 [==============================] - 480s 13ms/step - loss: 0.0322 - acc: 0.9862 - val_loss: 0.2518 - val_acc: 0.9498\n",
      "Epoch 12/15\n",
      "38400/38400 [==============================] - 480s 12ms/step - loss: 0.0284 - acc: 0.9875 - val_loss: 0.2405 - val_acc: 0.9498\n",
      "Epoch 13/15\n",
      "38400/38400 [==============================] - 480s 13ms/step - loss: 0.0265 - acc: 0.9888 - val_loss: 0.1989 - val_acc: 0.9542\n",
      "Epoch 14/15\n",
      "38400/38400 [==============================] - 480s 12ms/step - loss: 0.0231 - acc: 0.9901 - val_loss: 0.2303 - val_acc: 0.9514\n",
      "Epoch 15/15\n",
      "38400/38400 [==============================] - 480s 12ms/step - loss: 0.0210 - acc: 0.9906 - val_loss: 0.2343 - val_acc: 0.9530\n"
     ]
    }
   ],
   "source": [
    "# # Load the model's saved weights.\n",
    "# model.load_weights('cnn.h5')\n",
    "\n",
    "#train the model\n",
    "history = model.fit(X_train, y_train, validation_data=(X_test, y_test), epochs=15, batch = )"
   ]
  },
  {
   "cell_type": "code",
   "execution_count": 23,
   "metadata": {},
   "outputs": [],
   "source": [
    "# Saveing the Model\n",
    "model.save_weights('cnn.h5')\n"
   ]
  },
  {
   "cell_type": "code",
   "execution_count": 24,
   "metadata": {},
   "outputs": [
    {
     "data": {
      "text/plain": [
       "array([[4.9913234e-07, 9.9999952e-01],\n",
       "       [6.0763041e-04, 9.9939239e-01],\n",
       "       [3.7489154e-11, 1.0000000e+00],\n",
       "       ...,\n",
       "       [5.3173439e-06, 9.9999464e-01],\n",
       "       [2.7082607e-09, 1.0000000e+00],\n",
       "       [1.0895272e-05, 9.9998915e-01]], dtype=float32)"
      ]
     },
     "execution_count": 24,
     "metadata": {},
     "output_type": "execute_result"
    }
   ],
   "source": [
    "#predict first 4 images in the test set\n",
    "predit = model.predict(X_test)\n",
    "predit"
   ]
  },
  {
   "cell_type": "code",
   "execution_count": 27,
   "metadata": {},
   "outputs": [
    {
     "name": "stdout",
     "output_type": "stream",
     "text": [
      "[[4.9913234e-07 9.9999952e-01]\n",
      " [6.0763041e-04 9.9939239e-01]\n",
      " [3.7489154e-11 1.0000000e+00]\n",
      " [2.6882731e-08 1.0000000e+00]]\n"
     ]
    },
    {
     "data": {
      "text/plain": [
       "array([[4.9913234e-07, 9.9999952e-01],\n",
       "       [6.0763041e-04, 9.9939239e-01],\n",
       "       [3.7489154e-11, 1.0000000e+00],\n",
       "       [2.6882731e-08, 1.0000000e+00]], dtype=float32)"
      ]
     },
     "execution_count": 27,
     "metadata": {},
     "output_type": "execute_result"
    }
   ],
   "source": [
    "#actual results for first 4 images in test set\n",
    "print(predit[:4])\n",
    "predit[:4]\n"
   ]
  },
  {
   "cell_type": "code",
   "execution_count": 28,
   "metadata": {},
   "outputs": [
    {
     "name": "stdout",
     "output_type": "stream",
     "text": [
      "0.9464414927257961 0.9827116957445555\n"
     ]
    }
   ],
   "source": [
    "#from sklearn.metrics import precision_recall_curve, roc_curve\n",
    "from sklearn.metrics import auc, precision_recall_curve, roc_curve\n",
    "prec, rec, thr = precision_recall_curve(y_test[:,0], predit[:,0])\n",
    "aupr_val = auc(rec, prec)\n",
    "fpr, tpr, thr = roc_curve(y_test[:,0], predit[:,0])\n",
    "auc_val = auc(fpr, tpr)\n",
    "print(aupr_val,auc_val)"
   ]
  },
  {
   "cell_type": "code",
   "execution_count": 29,
   "metadata": {
    "scrolled": false
   },
   "outputs": [
    {
     "data": {
      "image/png": "[encoded data removed]",
      "text/plain": [
       "<Figure size 432x288 with 1 Axes>"
      ]
     },
     "metadata": {
      "needs_background": "light"
     },
     "output_type": "display_data"
    },
    {
     "data": {
      "image/png": "[encoded data removed]",
      "text/plain": [
       "<Figure size 432x288 with 1 Axes>"
      ]
     },
     "metadata": {
      "needs_background": "light"
     },
     "output_type": "display_data"
    }
   ],
   "source": [
    "import matplotlib.pyplot as plt\n",
    "\n",
    "\n",
    "# Plot training & validation accuracy values\n",
    "plt.plot(history.history['acc'])\n",
    "plt.plot(history.history['val_acc'])\n",
    "plt.title('Model accuracy')\n",
    "plt.ylabel('Accuracy')\n",
    "plt.xlabel('Epoch')\n",
    "plt.legend(['Train', 'Test'], loc='upper left')\n",
    "plt.show()\n",
    "\n",
    "# Plot training & validation loss values\n",
    "plt.plot(history.history['loss'])\n",
    "plt.plot(history.history['val_loss'])\n",
    "plt.title('Model loss')\n",
    "plt.ylabel('Loss')\n",
    "plt.xlabel('Epoch')\n",
    "plt.legend(['Train', 'Test'], loc='upper left')\n",
    "plt.show()"
   ]
  },
  {
   "cell_type": "code",
   "execution_count": 30,
   "metadata": {},
   "outputs": [
    {
     "data": {
      "text/plain": [
       "(4302,)"
      ]
     },
     "execution_count": 30,
     "metadata": {},
     "output_type": "execute_result"
    }
   ],
   "source": [
    "# predit\n",
    "predit[:,0].shape "
   ]
  },
  {
   "cell_type": "code",
   "execution_count": 31,
   "metadata": {
    "scrolled": false
   },
   "outputs": [],
   "source": [
    "predicts = []\n",
    "for a,b in predit:\n",
    "    if a >=b:\n",
    "        predicts.append(0)\n",
    "    else:\n",
    "        predicts.append(1)"
   ]
  },
  {
   "cell_type": "code",
   "execution_count": 32,
   "metadata": {},
   "outputs": [
    {
     "name": "stdout",
     "output_type": "stream",
     "text": [
      "[[ 786   64]\n",
      " [ 138 3314]]\n",
      "              precision    recall  f1-score   support\n",
      "\n",
      "         0.0       0.92      0.85      0.89       924\n",
      "         1.0       0.96      0.98      0.97      3378\n",
      "\n",
      "    accuracy                           0.95      4302\n",
      "   macro avg       0.94      0.92      0.93      4302\n",
      "weighted avg       0.95      0.95      0.95      4302\n",
      "\n"
     ]
    },
    {
     "name": "stderr",
     "output_type": "stream",
     "text": [
      "C:\\Github\\DDI-Project\\Predicting and understanding comprehensive drug-drug\\confusion_matrix_pretty_print.py:165: MatplotlibDeprecationWarning: \n",
      "The tick1On function was deprecated in Matplotlib 3.1 and will be removed in 3.3. Use Tick.tick1line.set_visible instead.\n",
      "  t.tick1On = False\n",
      "C:\\Github\\DDI-Project\\Predicting and understanding comprehensive drug-drug\\confusion_matrix_pretty_print.py:166: MatplotlibDeprecationWarning: \n",
      "The tick2On function was deprecated in Matplotlib 3.1 and will be removed in 3.3. Use Tick.tick2line.set_visible instead.\n",
      "  t.tick2On = False\n",
      "C:\\Github\\DDI-Project\\Predicting and understanding comprehensive drug-drug\\confusion_matrix_pretty_print.py:168: MatplotlibDeprecationWarning: \n",
      "The tick1On function was deprecated in Matplotlib 3.1 and will be removed in 3.3. Use Tick.tick1line.set_visible instead.\n",
      "  t.tick1On = False\n",
      "C:\\Github\\DDI-Project\\Predicting and understanding comprehensive drug-drug\\confusion_matrix_pretty_print.py:169: MatplotlibDeprecationWarning: \n",
      "The tick2On function was deprecated in Matplotlib 3.1 and will be removed in 3.3. Use Tick.tick2line.set_visible instead.\n",
      "  t.tick2On = False\n"
     ]
    },
    {
     "data": {
      "image/png": "[encoded data removed]",
      "text/plain": [
       "<Figure size 648x648 with 1 Axes>"
      ]
     },
     "metadata": {
      "needs_background": "light"
     },
     "output_type": "display_data"
    }
   ],
   "source": [
    "\n",
    "cm = metrics.confusion_matrix(list(predicts), list((dataTest.values[:,2]+1)/2))\n",
    "print(cm)\n",
    "\n",
    "CR = classification_report(list((dataTest.values[:,2]+1)/2),list(predicts))\n",
    "print(CR)\n",
    "# i=0\n",
    "# for j in list(data.values[9500:,2]+1):\n",
    "#     if j==1:\n",
    "#         i +=1\n",
    "# print(i)\n",
    "\n",
    "# plt.show()\n",
    "plot_confusion_matrix_from_data(list((dataTest.values[:,2]+1)/2), list(predicts))\n"
   ]
  },
  {
   "cell_type": "code",
   "execution_count": null,
   "metadata": {},
   "outputs": [],
   "source": []
  }
 ],
 "metadata": {
  "kernelspec": {
   "display_name": "Python 3",
   "language": "python",
   "name": "python3"
  },
  "language_info": {
   "codemirror_mode": {
    "name": "ipython",
    "version": 3
   },
   "file_extension": ".py",
   "mimetype": "text/x-python",
   "name": "python",
   "nbconvert_exporter": "python",
   "pygments_lexer": "ipython3",
   "version": "3.6.8"
  }
 },
 "nbformat": 4,
 "nbformat_minor": 2
}
