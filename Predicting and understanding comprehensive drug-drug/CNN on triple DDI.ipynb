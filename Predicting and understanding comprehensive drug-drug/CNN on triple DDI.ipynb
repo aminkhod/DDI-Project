{
 "cells": [
  {
   "cell_type": "code",
   "execution_count": 1,
   "metadata": {},
   "outputs": [
    {
     "name": "stderr",
     "output_type": "stream",
     "text": [
      "Using TensorFlow backend.\n"
     ]
    }
   ],
   "source": [
    "import pandas as pd \n",
    "import numpy as np\n",
    "from sklearn import metrics\n",
    "import seaborn as sn\n",
    "import confusion_matrix_pretty_print\n",
    "from confusion_matrix_pretty_print import plot_confusion_matrix_from_data\n",
    "from sklearn import tree\n",
    "from sklearn.ensemble import ExtraTreesClassifier\n",
    "from sklearn.metrics import confusion_matrix,classification_report,precision_score\n",
    "import keras"
   ]
  },
  {
   "cell_type": "code",
   "execution_count": 2,
   "metadata": {},
   "outputs": [],
   "source": [
    "# data = pd.read_csv('../../saved F(triple_cosineSNF).csv')\n",
    "# data = data[data['2']!=0]\n",
    "# data.to_csv('triple_cosineSNF(-1and1).csv',index=False)\n",
    "dataTrain = pd.read_csv('../../tripleTrain.csv')\n",
    "dataTest = pd.read_csv('../../tripleTest.csv')\n",
    "\n",
    "# data.shape"
   ]
  },
  {
   "cell_type": "code",
   "execution_count": 3,
   "metadata": {},
   "outputs": [
    {
     "data": {
      "text/html": [
       "<div>\n",
       "<style scoped>\n",
       "    .dataframe tbody tr th:only-of-type {\n",
       "        vertical-align: middle;\n",
       "    }\n",
       "\n",
       "    .dataframe tbody tr th {\n",
       "        vertical-align: top;\n",
       "    }\n",
       "\n",
       "    .dataframe thead th {\n",
       "        text-align: right;\n",
       "    }\n",
       "</style>\n",
       "<table border=\"1\" class=\"dataframe\">\n",
       "  <thead>\n",
       "    <tr style=\"text-align: right;\">\n",
       "      <th></th>\n",
       "      <th>0</th>\n",
       "      <th>1</th>\n",
       "      <th>2</th>\n",
       "      <th>3</th>\n",
       "      <th>4</th>\n",
       "      <th>5</th>\n",
       "      <th>6</th>\n",
       "      <th>7</th>\n",
       "      <th>8</th>\n",
       "      <th>9</th>\n",
       "      <th>...</th>\n",
       "      <th>1131</th>\n",
       "      <th>1132</th>\n",
       "      <th>1133</th>\n",
       "      <th>1134</th>\n",
       "      <th>1135</th>\n",
       "      <th>1136</th>\n",
       "      <th>1137</th>\n",
       "      <th>1138</th>\n",
       "      <th>1139</th>\n",
       "      <th>1140</th>\n",
       "    </tr>\n",
       "  </thead>\n",
       "  <tbody>\n",
       "    <tr>\n",
       "      <th>0</th>\n",
       "      <td>DB00115</td>\n",
       "      <td>DB00446</td>\n",
       "      <td>-1</td>\n",
       "      <td>0.549615</td>\n",
       "      <td>0.001501</td>\n",
       "      <td>0.001889</td>\n",
       "      <td>0.001586</td>\n",
       "      <td>0.001636</td>\n",
       "      <td>0.001509</td>\n",
       "      <td>0.001593</td>\n",
       "      <td>...</td>\n",
       "      <td>0.001627</td>\n",
       "      <td>0.001818</td>\n",
       "      <td>0.001136</td>\n",
       "      <td>0.001511</td>\n",
       "      <td>0.001725</td>\n",
       "      <td>0.001095</td>\n",
       "      <td>0.001690</td>\n",
       "      <td>0.003230</td>\n",
       "      <td>0.001841</td>\n",
       "      <td>0.001641</td>\n",
       "    </tr>\n",
       "    <tr>\n",
       "      <th>1</th>\n",
       "      <td>DB00115</td>\n",
       "      <td>DB01394</td>\n",
       "      <td>-1</td>\n",
       "      <td>0.549615</td>\n",
       "      <td>0.001501</td>\n",
       "      <td>0.001889</td>\n",
       "      <td>0.001586</td>\n",
       "      <td>0.001636</td>\n",
       "      <td>0.001509</td>\n",
       "      <td>0.001593</td>\n",
       "      <td>...</td>\n",
       "      <td>0.001611</td>\n",
       "      <td>0.001630</td>\n",
       "      <td>0.001144</td>\n",
       "      <td>0.001776</td>\n",
       "      <td>0.001584</td>\n",
       "      <td>0.001179</td>\n",
       "      <td>0.001584</td>\n",
       "      <td>0.001517</td>\n",
       "      <td>0.002265</td>\n",
       "      <td>0.001742</td>\n",
       "    </tr>\n",
       "    <tr>\n",
       "      <th>2</th>\n",
       "      <td>DB00130</td>\n",
       "      <td>DB00581</td>\n",
       "      <td>-1</td>\n",
       "      <td>0.001501</td>\n",
       "      <td>0.559153</td>\n",
       "      <td>0.001627</td>\n",
       "      <td>0.001619</td>\n",
       "      <td>0.001550</td>\n",
       "      <td>0.001471</td>\n",
       "      <td>0.002102</td>\n",
       "      <td>...</td>\n",
       "      <td>0.002565</td>\n",
       "      <td>0.001472</td>\n",
       "      <td>0.001119</td>\n",
       "      <td>0.001432</td>\n",
       "      <td>0.001507</td>\n",
       "      <td>0.001164</td>\n",
       "      <td>0.001576</td>\n",
       "      <td>0.001460</td>\n",
       "      <td>0.001528</td>\n",
       "      <td>0.001875</td>\n",
       "    </tr>\n",
       "    <tr>\n",
       "      <th>3</th>\n",
       "      <td>DB00136</td>\n",
       "      <td>DB00180</td>\n",
       "      <td>-1</td>\n",
       "      <td>0.001889</td>\n",
       "      <td>0.001627</td>\n",
       "      <td>0.558513</td>\n",
       "      <td>0.002973</td>\n",
       "      <td>0.001682</td>\n",
       "      <td>0.003315</td>\n",
       "      <td>0.001612</td>\n",
       "      <td>...</td>\n",
       "      <td>0.001423</td>\n",
       "      <td>0.001556</td>\n",
       "      <td>0.001322</td>\n",
       "      <td>0.001581</td>\n",
       "      <td>0.001391</td>\n",
       "      <td>0.001029</td>\n",
       "      <td>0.001431</td>\n",
       "      <td>0.001524</td>\n",
       "      <td>0.001446</td>\n",
       "      <td>0.001422</td>\n",
       "    </tr>\n",
       "    <tr>\n",
       "      <th>4</th>\n",
       "      <td>DB00136</td>\n",
       "      <td>DB00324</td>\n",
       "      <td>-1</td>\n",
       "      <td>0.001889</td>\n",
       "      <td>0.001627</td>\n",
       "      <td>0.558513</td>\n",
       "      <td>0.002973</td>\n",
       "      <td>0.001682</td>\n",
       "      <td>0.003315</td>\n",
       "      <td>0.001612</td>\n",
       "      <td>...</td>\n",
       "      <td>0.001475</td>\n",
       "      <td>0.001594</td>\n",
       "      <td>0.001192</td>\n",
       "      <td>0.001554</td>\n",
       "      <td>0.001489</td>\n",
       "      <td>0.001054</td>\n",
       "      <td>0.003244</td>\n",
       "      <td>0.003663</td>\n",
       "      <td>0.001570</td>\n",
       "      <td>0.001549</td>\n",
       "    </tr>\n",
       "  </tbody>\n",
       "</table>\n",
       "<p>5 rows × 1139 columns</p>\n",
       "</div>"
      ],
      "text/plain": [
       "         0        1  2         3         4         5         6         7  \\\n",
       "0  DB00115  DB00446 -1  0.549615  0.001501  0.001889  0.001586  0.001636   \n",
       "1  DB00115  DB01394 -1  0.549615  0.001501  0.001889  0.001586  0.001636   \n",
       "2  DB00130  DB00581 -1  0.001501  0.559153  0.001627  0.001619  0.001550   \n",
       "3  DB00136  DB00180 -1  0.001889  0.001627  0.558513  0.002973  0.001682   \n",
       "4  DB00136  DB00324 -1  0.001889  0.001627  0.558513  0.002973  0.001682   \n",
       "\n",
       "          8         9    ...         1131      1132      1133      1134  \\\n",
       "0  0.001509  0.001593    ...     0.001627  0.001818  0.001136  0.001511   \n",
       "1  0.001509  0.001593    ...     0.001611  0.001630  0.001144  0.001776   \n",
       "2  0.001471  0.002102    ...     0.002565  0.001472  0.001119  0.001432   \n",
       "3  0.003315  0.001612    ...     0.001423  0.001556  0.001322  0.001581   \n",
       "4  0.003315  0.001612    ...     0.001475  0.001594  0.001192  0.001554   \n",
       "\n",
       "       1135      1136      1137      1138      1139      1140  \n",
       "0  0.001725  0.001095  0.001690  0.003230  0.001841  0.001641  \n",
       "1  0.001584  0.001179  0.001584  0.001517  0.002265  0.001742  \n",
       "2  0.001507  0.001164  0.001576  0.001460  0.001528  0.001875  \n",
       "3  0.001391  0.001029  0.001431  0.001524  0.001446  0.001422  \n",
       "4  0.001489  0.001054  0.003244  0.003663  0.001570  0.001549  \n",
       "\n",
       "[5 rows x 1139 columns]"
      ]
     },
     "execution_count": 3,
     "metadata": {},
     "output_type": "execute_result"
    }
   ],
   "source": [
    "# data.head()"
   ]
  },
  {
   "cell_type": "code",
   "execution_count": 18,
   "metadata": {},
   "outputs": [],
   "source": [
    "X_train, X_test = dataTrain.values[:,3:], dataTest.values[:,3:]\n",
    "y_train, y_test = dataTrain.values[:,2].astype(int), dataTest.values[:,2].astype(int)"
   ]
  },
  {
   "cell_type": "code",
   "execution_count": 19,
   "metadata": {},
   "outputs": [
    {
     "data": {
      "text/plain": [
       "38850"
      ]
     },
     "execution_count": 19,
     "metadata": {},
     "output_type": "execute_result"
    }
   ],
   "source": [
    "len(X_train)"
   ]
  },
  {
   "cell_type": "code",
   "execution_count": 20,
   "metadata": {},
   "outputs": [
    {
     "data": {
      "text/plain": [
       "3852"
      ]
     },
     "execution_count": 20,
     "metadata": {},
     "output_type": "execute_result"
    }
   ],
   "source": [
    "len(X_test)"
   ]
  },
  {
   "cell_type": "code",
   "execution_count": 21,
   "metadata": {},
   "outputs": [],
   "source": [
    "# 16*71"
   ]
  },
  {
   "cell_type": "code",
   "execution_count": 22,
   "metadata": {},
   "outputs": [],
   "source": [
    "#reshape data to fit model\n",
    "X_train = X_train.reshape(38850,16,71,1)\n",
    "X_test = X_test.reshape(3852,16,71,1)"
   ]
  },
  {
   "cell_type": "code",
   "execution_count": 23,
   "metadata": {},
   "outputs": [],
   "source": [
    "# X_train.shape"
   ]
  },
  {
   "cell_type": "code",
   "execution_count": 24,
   "metadata": {},
   "outputs": [],
   "source": [
    "y_train = y_train + 1\n",
    "y_test  = y_test + 1\n",
    "y_train = y_train / 2\n",
    "y_test  = y_test / 2\n",
    "# print(y_train[0], y_test[0])"
   ]
  },
  {
   "cell_type": "code",
   "execution_count": 25,
   "metadata": {},
   "outputs": [
    {
     "data": {
      "text/plain": [
       "array([0., 0., 0., ..., 1., 1., 1.])"
      ]
     },
     "execution_count": 25,
     "metadata": {},
     "output_type": "execute_result"
    }
   ],
   "source": [
    "y_train"
   ]
  },
  {
   "cell_type": "code",
   "execution_count": 26,
   "metadata": {},
   "outputs": [],
   "source": [
    "from keras.utils import to_categorical\n",
    "#one-hot encode target column\n",
    "y_train = to_categorical(y_train)\n",
    "y_test = to_categorical(y_test)\n",
    "# y_test[0]"
   ]
  },
  {
   "cell_type": "code",
   "execution_count": 32,
   "metadata": {},
   "outputs": [
    {
     "data": {
      "text/plain": [
       "array([[1., 0.],\n",
       "       [1., 0.],\n",
       "       [1., 0.],\n",
       "       ...,\n",
       "       [0., 1.],\n",
       "       [0., 1.],\n",
       "       [0., 1.]], dtype=float32)"
      ]
     },
     "execution_count": 32,
     "metadata": {},
     "output_type": "execute_result"
    }
   ],
   "source": [
    "y_train"
   ]
  },
  {
   "cell_type": "code",
   "execution_count": 152,
   "metadata": {},
   "outputs": [
    {
     "name": "stdout",
     "output_type": "stream",
     "text": [
      "_________________________________________________________________\n",
      "Layer (type)                 Output Shape              Param #   \n",
      "=================================================================\n",
      "conv2d_60 (Conv2D)           (None, 13, 68, 128)       2176      \n",
      "_________________________________________________________________\n",
      "conv2d_61 (Conv2D)           (None, 10, 65, 32)        65568     \n",
      "_________________________________________________________________\n",
      "conv2d_62 (Conv2D)           (None, 7, 62, 8)          4104      \n",
      "_________________________________________________________________\n",
      "flatten_15 (Flatten)         (None, 3472)              0         \n",
      "_________________________________________________________________\n",
      "dense_12 (Dense)             (None, 1024)              3556352   \n",
      "_________________________________________________________________\n",
      "dropout_4 (Dropout)          (None, 1024)              0         \n",
      "_________________________________________________________________\n",
      "dense_13 (Dense)             (None, 64)                65600     \n",
      "_________________________________________________________________\n",
      "dense_14 (Dense)             (None, 2)                 130       \n",
      "_________________________________________________________________\n",
      "softmax_7 (Softmax)          (None, 2)                 0         \n",
      "=================================================================\n",
      "Total params: 3,693,930\n",
      "Trainable params: 3,693,930\n",
      "Non-trainable params: 0\n",
      "_________________________________________________________________\n"
     ]
    }
   ],
   "source": [
    "from keras.models import Sequential\n",
    "from keras.layers import Dense, Conv2D, Flatten, Softmax, Dropout\n",
    "\n",
    "\n",
    "#create model\n",
    "model = Sequential()\n",
    "#add model layers\n",
    "# kernel_initializer='uniform',\n",
    "# kernel_initializer='uniform',\n",
    "# kernel_initializer='uniform',\n",
    "# kernel_initializer='uniform',\n",
    "model.add(Conv2D(128, kernel_size=4, activation='relu', input_shape=(16,71,1)))\n",
    "# model.add(Conv2D(64, kernel_size=2, activation='relu'))\n",
    "\n",
    "model.add(Conv2D(32, kernel_size=4, activation='relu'))\n",
    "# model.add(Conv2D(16, kernel_size=2, activation='relu'))\n",
    "model.add(Conv2D(8, kernel_size=4, activation='relu'))\n",
    "model.add(Flatten())\n",
    "model.add(Dense( 1024, activation='relu'))\n",
    "model.add(Dropout(0.3))\n",
    "model.add(Dense( 64, activation='relu'))\n",
    "model.add(Dense( 2, activation='relu'))\n",
    "model.add(Softmax(128))\n",
    "model.summary()"
   ]
  },
  {
   "cell_type": "code",
   "execution_count": 153,
   "metadata": {},
   "outputs": [],
   "source": [
    "#compile model using accuracy to measure model performance\n",
    "from keras import optimizers\n",
    "from keras import metrics as kmetr\n",
    "\n",
    "\n",
    "adam = optimizers.Adam(lr=0.0001, beta_1=0.9, beta_2=0.999)\n",
    "# model.compile(loss='hinge', optimizer=adam, metrics=[kmetr.categorical_accuracy])\n",
    "model.compile(optimizer='adam', loss='categorical_crossentropy', metrics=['accuracy']) ## Minist"
   ]
  },
  {
   "cell_type": "code",
   "execution_count": 154,
   "metadata": {},
   "outputs": [
    {
     "name": "stdout",
     "output_type": "stream",
     "text": [
      "Train on 38850 samples, validate on 3852 samples\n",
      "Epoch 1/15\n",
      "38850/38850 [==============================] - 697s 18ms/step - loss: 0.3528 - acc: 0.8463 - val_loss: 0.2542 - val_acc: 0.8850\n",
      "Epoch 2/15\n",
      "38850/38850 [==============================] - 749s 19ms/step - loss: 0.2078 - acc: 0.9137 - val_loss: 0.1933 - val_acc: 0.9250\n",
      "Epoch 3/15\n",
      "38850/38850 [==============================] - 932s 24ms/step - loss: 0.1336 - acc: 0.9459 - val_loss: 0.1867 - val_acc: 0.9252\n",
      "Epoch 4/15\n",
      "38850/38850 [==============================] - 937s 24ms/step - loss: 0.0969 - acc: 0.9618 - val_loss: 0.1724 - val_acc: 0.9369\n",
      "Epoch 5/15\n",
      "38850/38850 [==============================] - 978s 25ms/step - loss: 0.0677 - acc: 0.9740 - val_loss: 0.1826 - val_acc: 0.9354\n",
      "Epoch 6/15\n",
      "38850/38850 [==============================] - 953s 25ms/step - loss: 0.0541 - acc: 0.9784 - val_loss: 0.1769 - val_acc: 0.9406\n",
      "Epoch 7/15\n",
      "38850/38850 [==============================] - 695s 18ms/step - loss: 0.0407 - acc: 0.9840 - val_loss: 0.2074 - val_acc: 0.9421\n",
      "Epoch 8/15\n",
      "38850/38850 [==============================] - 696s 18ms/step - loss: 0.0348 - acc: 0.9866 - val_loss: 0.1894 - val_acc: 0.9478\n",
      "Epoch 9/15\n",
      "38850/38850 [==============================] - 708s 18ms/step - loss: 0.0308 - acc: 0.9874 - val_loss: 0.2032 - val_acc: 0.9447\n",
      "Epoch 10/15\n",
      "38850/38850 [==============================] - 696s 18ms/step - loss: 0.0276 - acc: 0.9887 - val_loss: 0.2396 - val_acc: 0.9398\n",
      "Epoch 11/15\n",
      "38850/38850 [==============================] - 689s 18ms/step - loss: 0.0240 - acc: 0.9896 - val_loss: 0.2078 - val_acc: 0.9504\n",
      "Epoch 12/15\n",
      "38850/38850 [==============================] - 686s 18ms/step - loss: 0.0212 - acc: 0.9909 - val_loss: 0.1888 - val_acc: 0.9486\n",
      "Epoch 13/15\n",
      "38850/38850 [==============================] - 684s 18ms/step - loss: 0.0201 - acc: 0.9916 - val_loss: 0.2361 - val_acc: 0.9486\n",
      "Epoch 14/15\n",
      "38850/38850 [==============================] - 719s 19ms/step - loss: 0.0172 - acc: 0.9925 - val_loss: 0.2362 - val_acc: 0.9509\n",
      "Epoch 15/15\n",
      "38850/38850 [==============================] - 786s 20ms/step - loss: 0.0155 - acc: 0.9929 - val_loss: 0.2597 - val_acc: 0.9515\n"
     ]
    },
    {
     "data": {
      "text/plain": [
       "<keras.callbacks.History at 0x1e3cd129160>"
      ]
     },
     "execution_count": 154,
     "metadata": {},
     "output_type": "execute_result"
    }
   ],
   "source": [
    "# # Load the model's saved weights.\n",
    "# model.load_weights('cnn.h5')\n",
    "\n",
    "#train the model\n",
    "model.fit(X_train, y_train, validation_data=(X_test, y_test), epochs=15)"
   ]
  },
  {
   "cell_type": "code",
   "execution_count": 155,
   "metadata": {},
   "outputs": [],
   "source": [
    "# Saveing the Model\n",
    "model.save_weights('cnn.h5')\n"
   ]
  },
  {
   "cell_type": "code",
   "execution_count": 177,
   "metadata": {},
   "outputs": [
    {
     "data": {
      "text/plain": [
       "array([[1.1631330e-04, 9.9988365e-01],\n",
       "       [1.1234836e-07, 9.9999988e-01],\n",
       "       [4.3605773e-08, 1.0000000e+00],\n",
       "       ...,\n",
       "       [9.5965725e-01, 4.0342707e-02],\n",
       "       [8.2164675e-02, 9.1783530e-01],\n",
       "       [9.9999499e-01, 4.9987107e-06]], dtype=float32)"
      ]
     },
     "execution_count": 177,
     "metadata": {},
     "output_type": "execute_result"
    }
   ],
   "source": [
    "#predict first 4 images in the test set\n",
    "predit = model.predict(X_test)\n",
    "predit"
   ]
  },
  {
   "cell_type": "code",
   "execution_count": 178,
   "metadata": {},
   "outputs": [
    {
     "name": "stdout",
     "output_type": "stream",
     "text": [
      "[0, 0, 1, 0]\n"
     ]
    },
    {
     "data": {
      "text/plain": [
       "array([[1.1631330e-04, 9.9988365e-01],\n",
       "       [1.1234836e-07, 9.9999988e-01],\n",
       "       [4.3605773e-08, 1.0000000e+00],\n",
       "       [1.0000000e+00, 7.4283344e-09]], dtype=float32)"
      ]
     },
     "execution_count": 178,
     "metadata": {},
     "output_type": "execute_result"
    }
   ],
   "source": [
    "#actual results for first 4 images in test set\n",
    "print(predicts[:4])\n",
    "predit[:4]\n"
   ]
  },
  {
   "cell_type": "code",
   "execution_count": 180,
   "metadata": {},
   "outputs": [
    {
     "name": "stdout",
     "output_type": "stream",
     "text": [
      "0.94003071629 0.9832515585907059\n"
     ]
    }
   ],
   "source": [
    "#from sklearn.metrics import precision_recall_curve, roc_curve\n",
    "from sklearn.metrics import auc, precision_recall_curve, roc_curve\n",
    "prec, rec, thr = precision_recall_curve(y_test[:,0], predit[:,0])\n",
    "aupr_val = auc(rec, prec)\n",
    "fpr, tpr, thr = roc_curve(y_test[:,0], predit[:,0])\n",
    "auc_val = auc(fpr, tpr)\n",
    "print(aupr_val,auc_val)"
   ]
  },
  {
   "cell_type": "code",
   "execution_count": 181,
   "metadata": {
    "scrolled": false
   },
   "outputs": [],
   "source": [
    "# predit"
   ]
  },
  {
   "cell_type": "code",
   "execution_count": 182,
   "metadata": {},
   "outputs": [
    {
     "data": {
      "text/plain": [
       "(3852,)"
      ]
     },
     "execution_count": 182,
     "metadata": {},
     "output_type": "execute_result"
    }
   ],
   "source": [
    "predit[:,0].shape "
   ]
  },
  {
   "cell_type": "code",
   "execution_count": 183,
   "metadata": {
    "scrolled": false
   },
   "outputs": [],
   "source": [
    "predicts = []\n",
    "for a,b in predit:\n",
    "    if a >=b:\n",
    "        predicts.append(0)\n",
    "    else:\n",
    "        predicts.append(1)"
   ]
  },
  {
   "cell_type": "code",
   "execution_count": 185,
   "metadata": {},
   "outputs": [
    {
     "name": "stdout",
     "output_type": "stream",
     "text": [
      "[[ 699  130]\n",
      " [  57 2966]]\n",
      "              precision    recall  f1-score   support\n",
      "\n",
      "         0.0       0.84      0.92      0.88       756\n",
      "         1.0       0.98      0.96      0.97      3096\n",
      "\n",
      "   micro avg       0.95      0.95      0.95      3852\n",
      "   macro avg       0.91      0.94      0.93      3852\n",
      "weighted avg       0.95      0.95      0.95      3852\n",
      "\n"
     ]
    },
    {
     "data": {
      "image/png": "[encoded data removed]",
      "text/plain": [
       "<Figure size 648x648 with 1 Axes>"
      ]
     },
     "metadata": {
      "needs_background": "light"
     },
     "output_type": "display_data"
    }
   ],
   "source": [
    "\n",
    "cm = metrics.confusion_matrix(list(predicts), list((dataTest.values[:,2]+1)/2))\n",
    "print(cm)\n",
    "\n",
    "CR = classification_report(list((dataTest.values[:,2]+1)/2),list(predicts))\n",
    "print(CR)\n",
    "# i=0\n",
    "# for j in list(data.values[9500:,2]+1):\n",
    "#     if j==1:\n",
    "#         i +=1\n",
    "# print(i)\n",
    "\n",
    "# plt.show()\n",
    "plot_confusion_matrix_from_data(list((dataTest.values[:,2]+1)/2), list(predicts))\n"
   ]
  },
  {
   "cell_type": "code",
   "execution_count": null,
   "metadata": {},
   "outputs": [],
   "source": []
  }
 ],
 "metadata": {
  "kernelspec": {
   "display_name": "Python 3",
   "language": "python",
   "name": "python3"
  },
  "language_info": {
   "codemirror_mode": {
    "name": "ipython",
    "version": 3
   },
   "file_extension": ".py",
   "mimetype": "text/x-python",
   "name": "python",
   "nbconvert_exporter": "python",
   "pygments_lexer": "ipython3",
   "version": "3.6.7"
  }
 },
 "nbformat": 4,
 "nbformat_minor": 2
}
