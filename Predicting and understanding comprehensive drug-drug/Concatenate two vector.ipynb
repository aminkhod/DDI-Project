{
 "cells": [
  {
   "cell_type": "code",
   "execution_count": 6,
   "metadata": {},
   "outputs": [],
   "source": [
    "import pandas as pd "
   ]
  },
  {
   "cell_type": "code",
   "execution_count": 7,
   "metadata": {},
   "outputs": [],
   "source": [
    "interactionMatrix = pd.read_csv('DS1\\drug_drug_matrix.csv',header = -1)\n",
    "pairs = []\n",
    "for i in range(len(interactionMatrix.values[:,0])):\n",
    "    for j in range(len(interactionMatrix.values[0,:])):\n",
    "        if j>i:\n",
    "            pair = []\n",
    "            pair.append(i)\n",
    "            pair.append(j)\n",
    "            pair.append(interactionMatrix.values[i,j])\n",
    "            pairs.append(pair)\n",
    "del interactionMatrix"
   ]
  },
  {
   "cell_type": "code",
   "execution_count": 9,
   "metadata": {},
   "outputs": [],
   "source": [
    "# chem_Jacarrd_sim\n",
    "chemSim = pd.read_csv('DS1\\chem_Jacarrd_sim.csv',header = -1)\n",
    "\n",
    "for k in range(len(pairs)):\n",
    "#     print(p)\n",
    "    i,j = pairs[k][:2]\n",
    "    featureVec = list(chemSim.values[i,0:i])\n",
    "    featureVec.extend(list(chemSim.values[i,i+1:]))\n",
    "    pairs[k].extend(featureVec)\n",
    "    del featureVec\n",
    "\n",
    "\n"
   ]
  },
  {
   "cell_type": "code",
   "execution_count": 11,
   "metadata": {},
   "outputs": [],
   "source": [
    "for k in range(len(pairs)):\n",
    "#     print(p)\n",
    "    i,j = pairs[k][:2]\n",
    "    featureVec =list(chemSim.values[j,0:j])\n",
    "    featureVec.extend(list(chemSim.values[j,j+1:]))\n",
    "    pairs[k].extend(featureVec)\n",
    "    del featureVec\n",
    "del chemSim\n",
    "# pairs = pd.Dat"
   ]
  },
  {
   "cell_type": "code",
   "execution_count": 12,
   "metadata": {},
   "outputs": [],
   "source": [
    "pairs = pd.DataFrame(pairs)"
   ]
  },
  {
   "cell_type": "code",
   "execution_count": 13,
   "metadata": {},
   "outputs": [],
   "source": [
    "pairs.to_csv(\"data frame with chemichal.csv\", index=False)"
   ]
  },
  {
   "cell_type": "code",
   "execution_count": 14,
   "metadata": {},
   "outputs": [],
   "source": [
    "p = pd.read_csv('data frame with chemichal.csv')"
   ]
  },
  {
   "cell_type": "code",
   "execution_count": 15,
   "metadata": {},
   "outputs": [
    {
     "data": {
      "text/plain": [
       "0.928571429"
      ]
     },
     "execution_count": 15,
     "metadata": {},
     "output_type": "execute_result"
    }
   ],
   "source": []
  }
 ],
 "metadata": {
  "kernelspec": {
   "display_name": "Python 3",
   "language": "python",
   "name": "python3"
  },
  "language_info": {
   "codemirror_mode": {
    "name": "ipython",
    "version": 3
   },
   "file_extension": ".py",
   "mimetype": "text/x-python",
   "name": "python",
   "nbconvert_exporter": "python",
   "pygments_lexer": "ipython3",
   "version": "3.6.7"
  }
 },
 "nbformat": 4,
 "nbformat_minor": 2
}
