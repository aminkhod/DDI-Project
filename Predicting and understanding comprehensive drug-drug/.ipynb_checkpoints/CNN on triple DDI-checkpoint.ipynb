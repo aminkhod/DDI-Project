{
 "cells": [
  {
   "cell_type": "code",
   "execution_count": 24,
   "metadata": {},
   "outputs": [],
   "source": [
    "import pandas as pd \n",
    "import numpy as np\n",
    "from sklearn import metrics\n",
    "import seaborn as sn\n",
    "import confusion_matrix_pretty_print\n",
    "from confusion_matrix_pretty_print import plot_confusion_matrix_from_data\n",
    "from sklearn import tree\n",
    "from sklearn.ensemble import ExtraTreesClassifier\n",
    "from sklearn.metrics import confusion_matrix,classification_report,precision_score\n",
    "import keras"
   ]
  },
  {
   "cell_type": "code",
   "execution_count": 25,
   "metadata": {},
   "outputs": [],
   "source": [
    "# data = pd.read_csv('../../saved F(triple_cosineSNF).csv')\n",
    "# data = data[data['2']!=0]\n",
    "# data.to_csv('triple_cosineSNF(-1and1).csv',index=False)\n",
    "data = pd.read_csv('triple_cosineSNF(-1and1).csv')\n",
    "data.shape"
   ]
  },
  {
   "cell_type": "code",
   "execution_count": 27,
   "metadata": {},
   "outputs": [
    {
     "data": {
      "text/html": [
       "<div>\n",
       "<style scoped>\n",
       "    .dataframe tbody tr th:only-of-type {\n",
       "        vertical-align: middle;\n",
       "    }\n",
       "\n",
       "    .dataframe tbody tr th {\n",
       "        vertical-align: top;\n",
       "    }\n",
       "\n",
       "    .dataframe thead th {\n",
       "        text-align: right;\n",
       "    }\n",
       "</style>\n",
       "<table border=\"1\" class=\"dataframe\">\n",
       "  <thead>\n",
       "    <tr style=\"text-align: right;\">\n",
       "      <th></th>\n",
       "      <th>0</th>\n",
       "      <th>1</th>\n",
       "      <th>2</th>\n",
       "      <th>3</th>\n",
       "      <th>4</th>\n",
       "      <th>5</th>\n",
       "      <th>6</th>\n",
       "      <th>7</th>\n",
       "      <th>8</th>\n",
       "      <th>9</th>\n",
       "      <th>...</th>\n",
       "      <th>1131</th>\n",
       "      <th>1132</th>\n",
       "      <th>1133</th>\n",
       "      <th>1134</th>\n",
       "      <th>1135</th>\n",
       "      <th>1136</th>\n",
       "      <th>1137</th>\n",
       "      <th>1138</th>\n",
       "      <th>1139</th>\n",
       "      <th>1140</th>\n",
       "    </tr>\n",
       "  </thead>\n",
       "  <tbody>\n",
       "    <tr>\n",
       "      <th>130</th>\n",
       "      <td>DB00115</td>\n",
       "      <td>DB00446</td>\n",
       "      <td>-1</td>\n",
       "      <td>0.549615</td>\n",
       "      <td>0.001501</td>\n",
       "      <td>0.001889</td>\n",
       "      <td>0.001586</td>\n",
       "      <td>0.001636</td>\n",
       "      <td>0.001509</td>\n",
       "      <td>0.001593</td>\n",
       "      <td>...</td>\n",
       "      <td>0.001627</td>\n",
       "      <td>0.001818</td>\n",
       "      <td>0.001136</td>\n",
       "      <td>0.001511</td>\n",
       "      <td>0.001725</td>\n",
       "      <td>0.001095</td>\n",
       "      <td>0.001690</td>\n",
       "      <td>0.003230</td>\n",
       "      <td>0.001841</td>\n",
       "      <td>0.001641</td>\n",
       "    </tr>\n",
       "    <tr>\n",
       "      <th>493</th>\n",
       "      <td>DB00115</td>\n",
       "      <td>DB01394</td>\n",
       "      <td>-1</td>\n",
       "      <td>0.549615</td>\n",
       "      <td>0.001501</td>\n",
       "      <td>0.001889</td>\n",
       "      <td>0.001586</td>\n",
       "      <td>0.001636</td>\n",
       "      <td>0.001509</td>\n",
       "      <td>0.001593</td>\n",
       "      <td>...</td>\n",
       "      <td>0.001611</td>\n",
       "      <td>0.001630</td>\n",
       "      <td>0.001144</td>\n",
       "      <td>0.001776</td>\n",
       "      <td>0.001584</td>\n",
       "      <td>0.001179</td>\n",
       "      <td>0.001584</td>\n",
       "      <td>0.001517</td>\n",
       "      <td>0.002265</td>\n",
       "      <td>0.001742</td>\n",
       "    </tr>\n",
       "    <tr>\n",
       "      <th>753</th>\n",
       "      <td>DB00130</td>\n",
       "      <td>DB00581</td>\n",
       "      <td>-1</td>\n",
       "      <td>0.001501</td>\n",
       "      <td>0.559153</td>\n",
       "      <td>0.001627</td>\n",
       "      <td>0.001619</td>\n",
       "      <td>0.001550</td>\n",
       "      <td>0.001471</td>\n",
       "      <td>0.002102</td>\n",
       "      <td>...</td>\n",
       "      <td>0.002565</td>\n",
       "      <td>0.001472</td>\n",
       "      <td>0.001119</td>\n",
       "      <td>0.001432</td>\n",
       "      <td>0.001507</td>\n",
       "      <td>0.001164</td>\n",
       "      <td>0.001576</td>\n",
       "      <td>0.001460</td>\n",
       "      <td>0.001528</td>\n",
       "      <td>0.001875</td>\n",
       "    </tr>\n",
       "    <tr>\n",
       "      <th>1143</th>\n",
       "      <td>DB00136</td>\n",
       "      <td>DB00180</td>\n",
       "      <td>-1</td>\n",
       "      <td>0.001889</td>\n",
       "      <td>0.001627</td>\n",
       "      <td>0.558513</td>\n",
       "      <td>0.002973</td>\n",
       "      <td>0.001682</td>\n",
       "      <td>0.003315</td>\n",
       "      <td>0.001612</td>\n",
       "      <td>...</td>\n",
       "      <td>0.001423</td>\n",
       "      <td>0.001556</td>\n",
       "      <td>0.001322</td>\n",
       "      <td>0.001581</td>\n",
       "      <td>0.001391</td>\n",
       "      <td>0.001029</td>\n",
       "      <td>0.001431</td>\n",
       "      <td>0.001524</td>\n",
       "      <td>0.001446</td>\n",
       "      <td>0.001422</td>\n",
       "    </tr>\n",
       "    <tr>\n",
       "      <th>1202</th>\n",
       "      <td>DB00136</td>\n",
       "      <td>DB00324</td>\n",
       "      <td>-1</td>\n",
       "      <td>0.001889</td>\n",
       "      <td>0.001627</td>\n",
       "      <td>0.558513</td>\n",
       "      <td>0.002973</td>\n",
       "      <td>0.001682</td>\n",
       "      <td>0.003315</td>\n",
       "      <td>0.001612</td>\n",
       "      <td>...</td>\n",
       "      <td>0.001475</td>\n",
       "      <td>0.001594</td>\n",
       "      <td>0.001192</td>\n",
       "      <td>0.001554</td>\n",
       "      <td>0.001489</td>\n",
       "      <td>0.001054</td>\n",
       "      <td>0.003244</td>\n",
       "      <td>0.003663</td>\n",
       "      <td>0.001570</td>\n",
       "      <td>0.001549</td>\n",
       "    </tr>\n",
       "  </tbody>\n",
       "</table>\n",
       "<p>5 rows × 1139 columns</p>\n",
       "</div>"
      ],
      "text/plain": [
       "            0        1  2         3         4         5         6         7  \\\n",
       "130   DB00115  DB00446 -1  0.549615  0.001501  0.001889  0.001586  0.001636   \n",
       "493   DB00115  DB01394 -1  0.549615  0.001501  0.001889  0.001586  0.001636   \n",
       "753   DB00130  DB00581 -1  0.001501  0.559153  0.001627  0.001619  0.001550   \n",
       "1143  DB00136  DB00180 -1  0.001889  0.001627  0.558513  0.002973  0.001682   \n",
       "1202  DB00136  DB00324 -1  0.001889  0.001627  0.558513  0.002973  0.001682   \n",
       "\n",
       "             8         9    ...         1131      1132      1133      1134  \\\n",
       "130   0.001509  0.001593    ...     0.001627  0.001818  0.001136  0.001511   \n",
       "493   0.001509  0.001593    ...     0.001611  0.001630  0.001144  0.001776   \n",
       "753   0.001471  0.002102    ...     0.002565  0.001472  0.001119  0.001432   \n",
       "1143  0.003315  0.001612    ...     0.001423  0.001556  0.001322  0.001581   \n",
       "1202  0.003315  0.001612    ...     0.001475  0.001594  0.001192  0.001554   \n",
       "\n",
       "          1135      1136      1137      1138      1139      1140  \n",
       "130   0.001725  0.001095  0.001690  0.003230  0.001841  0.001641  \n",
       "493   0.001584  0.001179  0.001584  0.001517  0.002265  0.001742  \n",
       "753   0.001507  0.001164  0.001576  0.001460  0.001528  0.001875  \n",
       "1143  0.001391  0.001029  0.001431  0.001524  0.001446  0.001422  \n",
       "1202  0.001489  0.001054  0.003244  0.003663  0.001570  0.001549  \n",
       "\n",
       "[5 rows x 1139 columns]"
      ]
     },
     "execution_count": 27,
     "metadata": {},
     "output_type": "execute_result"
    }
   ],
   "source": [
    "data.head()"
   ]
  },
  {
   "cell_type": "code",
   "execution_count": 7,
   "metadata": {},
   "outputs": [],
   "source": [
    "X_train, X_test = data.values[:9500,3:], data.values[9500:,3:]\n",
    "y_train, y_test = data.values[:9500,2].astype(int), data.values[9500:,2].astype(int)"
   ]
  },
  {
   "cell_type": "code",
   "execution_count": 16,
   "metadata": {},
   "outputs": [
    {
     "data": {
      "text/plain": [
       "(9500, 16, 71, 1)"
      ]
     },
     "execution_count": 16,
     "metadata": {},
     "output_type": "execute_result"
    }
   ],
   "source": [
    "X_train[0]"
   ]
  },
  {
   "cell_type": "code",
   "execution_count": 11,
   "metadata": {},
   "outputs": [
    {
     "data": {
      "text/plain": [
       "71.0"
      ]
     },
     "execution_count": 11,
     "metadata": {},
     "output_type": "execute_result"
    }
   ],
   "source": [
    "1136/16"
   ]
  },
  {
   "cell_type": "code",
   "execution_count": 12,
   "metadata": {},
   "outputs": [
    {
     "data": {
      "text/plain": [
       "1136"
      ]
     },
     "execution_count": 12,
     "metadata": {},
     "output_type": "execute_result"
    }
   ],
   "source": [
    "16*71"
   ]
  },
  {
   "cell_type": "code",
   "execution_count": 13,
   "metadata": {},
   "outputs": [],
   "source": [
    "#reshape data to fit model\n",
    "X_train = X_train.reshape(9500,16,71,1)\n",
    "X_test = X_test.reshape(500,16,71,1)"
   ]
  },
  {
   "cell_type": "code",
   "execution_count": 161,
   "metadata": {},
   "outputs": [
    {
     "data": {
      "text/plain": [
       "(9500, 16, 71, 1)"
      ]
     },
     "execution_count": 161,
     "metadata": {},
     "output_type": "execute_result"
    }
   ],
   "source": [
    "X_train.shape"
   ]
  },
  {
   "cell_type": "code",
   "execution_count": 17,
   "metadata": {},
   "outputs": [
    {
     "name": "stdout",
     "output_type": "stream",
     "text": [
      "1 1\n"
     ]
    }
   ],
   "source": [
    "y_train = y_train + 1\n",
    "y_test = y_test + 1\n",
    "print(y_train[0], y_test[0])"
   ]
  },
  {
   "cell_type": "code",
   "execution_count": 18,
   "metadata": {},
   "outputs": [
    {
     "data": {
      "text/plain": [
       "array([0., 1., 0.], dtype=float32)"
      ]
     },
     "execution_count": 18,
     "metadata": {},
     "output_type": "execute_result"
    }
   ],
   "source": [
    "from keras.utils import to_categorical\n",
    "#one-hot encode target column\n",
    "y_train = to_categorical(y_train)\n",
    "y_test = to_categorical(y_test)\n",
    "y_test[0]"
   ]
  },
  {
   "cell_type": "code",
   "execution_count": 167,
   "metadata": {},
   "outputs": [
    {
     "name": "stdout",
     "output_type": "stream",
     "text": [
      "_________________________________________________________________\n",
      "Layer (type)                 Output Shape              Param #   \n",
      "=================================================================\n",
      "conv2d_51 (Conv2D)           (None, 15, 70, 64)        320       \n",
      "_________________________________________________________________\n",
      "conv2d_52 (Conv2D)           (None, 14, 69, 32)        8224      \n",
      "_________________________________________________________________\n",
      "conv2d_53 (Conv2D)           (None, 13, 68, 16)        2064      \n",
      "_________________________________________________________________\n",
      "conv2d_54 (Conv2D)           (None, 12, 67, 8)         520       \n",
      "_________________________________________________________________\n",
      "flatten_12 (Flatten)         (None, 6432)              0         \n",
      "_________________________________________________________________\n",
      "dense_12 (Dense)             (None, 3)                 19299     \n",
      "=================================================================\n",
      "Total params: 30,427\n",
      "Trainable params: 30,427\n",
      "Non-trainable params: 0\n",
      "_________________________________________________________________\n"
     ]
    }
   ],
   "source": [
    "from keras.models import Sequential\n",
    "from keras.layers import Dense, Conv2D, Flatten\n",
    "\n",
    "\n",
    "#create model\n",
    "model = Sequential()\n",
    "#add model layers\n",
    "# kernel_initializer='uniform',\n",
    "# kernel_initializer='uniform',\n",
    "# kernel_initializer='uniform',\n",
    "# kernel_initializer='uniform',\n",
    "model.add(Conv2D(64, kernel_size=2, activation='relu', input_shape=(16,71,1)))\n",
    "model.add(Conv2D(32, kernel_size=2, activation='relu'))\n",
    "model.add(Conv2D(16, kernel_size=2, activation='relu'))\n",
    "model.add(Conv2D( 8, kernel_size=2, activation='relu'))\n",
    "model.add(Flatten())\n",
    "model.add(Dense(3, activation='sigmoid'))\n",
    "model.summary()"
   ]
  },
  {
   "cell_type": "code",
   "execution_count": 180,
   "metadata": {},
   "outputs": [],
   "source": [
    "#compile model using accuracy to measure model performance\n",
    "from keras import optimizers\n",
    "from keras import metrics as kmetr\n",
    "\n",
    "\n",
    "adam = optimizers.Adam(lr=0.001, beta_1=0.9, beta_2=0.999)\n",
    "# model.compile(loss='hinge', optimizer=adam, metrics=[kmetr.categorical_accuracy])\n",
    "model.compile(optimizer='adam', loss='categorical_crossentropy', metrics=['accuracy']) ## Minist"
   ]
  },
  {
   "cell_type": "code",
   "execution_count": 181,
   "metadata": {},
   "outputs": [
    {
     "name": "stdout",
     "output_type": "stream",
     "text": [
      "Train on 9500 samples, validate on 500 samples\n",
      "Epoch 1/15\n",
      "9500/9500 [==============================] - 53s 6ms/step - loss: 0.6667 - categorical_accuracy: 0.0251 - val_loss: 0.6667 - val_categorical_accuracy: 0.0280\n",
      "Epoch 2/15\n",
      "9500/9500 [==============================] - 53s 6ms/step - loss: 0.6667 - categorical_accuracy: 0.0251 - val_loss: 0.6667 - val_categorical_accuracy: 0.0280\n",
      "Epoch 3/15\n",
      "9500/9500 [==============================] - 54s 6ms/step - loss: 0.6667 - categorical_accuracy: 0.0251 - val_loss: 0.6667 - val_categorical_accuracy: 0.0280\n",
      "Epoch 4/15\n",
      "9500/9500 [==============================] - 54s 6ms/step - loss: 0.6667 - categorical_accuracy: 0.0251 - val_loss: 0.6667 - val_categorical_accuracy: 0.0280\n",
      "Epoch 5/15\n",
      "9500/9500 [==============================] - 59s 6ms/step - loss: 0.6667 - categorical_accuracy: 0.0251 - val_loss: 0.6667 - val_categorical_accuracy: 0.0280\n",
      "Epoch 6/15\n",
      "9500/9500 [==============================] - 61s 6ms/step - loss: 0.6667 - categorical_accuracy: 0.0251 - val_loss: 0.6667 - val_categorical_accuracy: 0.0280\n",
      "Epoch 7/15\n",
      "9500/9500 [==============================] - 53s 6ms/step - loss: 0.6667 - categorical_accuracy: 0.0251 - val_loss: 0.6667 - val_categorical_accuracy: 0.0280\n",
      "Epoch 8/15\n",
      "9500/9500 [==============================] - 53s 6ms/step - loss: 0.6667 - categorical_accuracy: 0.0251 - val_loss: 0.6667 - val_categorical_accuracy: 0.0280\n",
      "Epoch 9/15\n",
      "9500/9500 [==============================] - 54s 6ms/step - loss: 0.6667 - categorical_accuracy: 0.0251 - val_loss: 0.6667 - val_categorical_accuracy: 0.0280\n",
      "Epoch 10/15\n",
      "9500/9500 [==============================] - 65s 7ms/step - loss: 0.6667 - categorical_accuracy: 0.0251 - val_loss: 0.6667 - val_categorical_accuracy: 0.0280\n",
      "Epoch 11/15\n",
      "9500/9500 [==============================] - 63s 7ms/step - loss: 0.6667 - categorical_accuracy: 0.0251 - val_loss: 0.6667 - val_categorical_accuracy: 0.0280\n",
      "Epoch 12/15\n",
      "9500/9500 [==============================] - 59s 6ms/step - loss: 0.6667 - categorical_accuracy: 0.0251 - val_loss: 0.6667 - val_categorical_accuracy: 0.0280\n",
      "Epoch 13/15\n",
      "9500/9500 [==============================] - 55s 6ms/step - loss: 0.6667 - categorical_accuracy: 0.0251 - val_loss: 0.6667 - val_categorical_accuracy: 0.0280\n",
      "Epoch 14/15\n",
      "9500/9500 [==============================] - 55s 6ms/step - loss: 0.6667 - categorical_accuracy: 0.0251 - val_loss: 0.6667 - val_categorical_accuracy: 0.0280\n",
      "Epoch 15/15\n",
      "9500/9500 [==============================] - 55s 6ms/step - loss: 0.6667 - categorical_accuracy: 0.0251 - val_loss: 0.6667 - val_categorical_accuracy: 0.0280\n"
     ]
    },
    {
     "data": {
      "text/plain": [
       "<keras.callbacks.History at 0x2212d995e48>"
      ]
     },
     "execution_count": 181,
     "metadata": {},
     "output_type": "execute_result"
    }
   ],
   "source": [
    "# # Load the model's saved weights.\n",
    "# model.load_weights('cnn.h5')\n",
    "\n",
    "#train the model\n",
    "model.fit(X_train, y_train, validation_data=(X_test, y_test), epochs=15)"
   ]
  },
  {
   "cell_type": "code",
   "execution_count": 170,
   "metadata": {},
   "outputs": [],
   "source": [
    "# Saveing the Model\n",
    "model.save_weights('cnn.h5')\n"
   ]
  },
  {
   "cell_type": "code",
   "execution_count": 179,
   "metadata": {},
   "outputs": [
    {
     "data": {
      "text/plain": [
       "array([[1., 1., 1.],\n",
       "       [1., 1., 1.],\n",
       "       [1., 1., 1.],\n",
       "       ...,\n",
       "       [1., 1., 1.],\n",
       "       [1., 1., 1.],\n",
       "       [1., 1., 1.]], dtype=float32)"
      ]
     },
     "execution_count": 179,
     "metadata": {},
     "output_type": "execute_result"
    }
   ],
   "source": [
    "#predict first 4 images in the test set\n",
    "predit = model.predict(X_test)\n",
    "predit"
   ]
  },
  {
   "cell_type": "code",
   "execution_count": 172,
   "metadata": {},
   "outputs": [
    {
     "data": {
      "text/plain": [
       "array([[0., 1., 0.],\n",
       "       [0., 1., 0.],\n",
       "       [0., 1., 0.],\n",
       "       [0., 1., 0.]], dtype=float32)"
      ]
     },
     "execution_count": 172,
     "metadata": {},
     "output_type": "execute_result"
    }
   ],
   "source": [
    "#actual results for first 4 images in test set\n",
    "y_test[:4]\n"
   ]
  },
  {
   "cell_type": "code",
   "execution_count": 173,
   "metadata": {},
   "outputs": [
    {
     "name": "stdout",
     "output_type": "stream",
     "text": [
      "0.548 0.5\n"
     ]
    }
   ],
   "source": [
    "#from sklearn.metrics import precision_recall_curve, roc_curve\n",
    "from sklearn.metrics import auc\n",
    "prec, rec, thr = precision_recall_curve(y_test[:,2], predit[:,2])\n",
    "aupr_val = auc(rec, prec)\n",
    "fpr, tpr, thr = roc_curve(y_test[:,2], predit[:,2])\n",
    "auc_val = auc(fpr, tpr)\n",
    "print(aupr_val,auc_val)"
   ]
  },
  {
   "cell_type": "code",
   "execution_count": 174,
   "metadata": {
    "scrolled": false
   },
   "outputs": [],
   "source": [
    "# predit"
   ]
  },
  {
   "cell_type": "code",
   "execution_count": 175,
   "metadata": {},
   "outputs": [
    {
     "data": {
      "text/plain": [
       "(500,)"
      ]
     },
     "execution_count": 175,
     "metadata": {},
     "output_type": "execute_result"
    }
   ],
   "source": [
    "predit[:,0].shape "
   ]
  },
  {
   "cell_type": "code",
   "execution_count": 176,
   "metadata": {
    "scrolled": false
   },
   "outputs": [],
   "source": [
    "predicts = []\n",
    "for a,b,c in predit:\n",
    "    if a >=b and a>c:\n",
    "        predicts.append(0)\n",
    "        continue\n",
    "    if c>=b and c>a:\n",
    "        predicts.append(2)\n",
    "        continue\n",
    "    else:\n",
    "        predicts.append(1)"
   ]
  },
  {
   "cell_type": "code",
   "execution_count": 177,
   "metadata": {},
   "outputs": [
    {
     "name": "stdout",
     "output_type": "stream",
     "text": [
      "[[  0  14   0]\n",
      " [  0 438   0]\n",
      " [  0  48   0]]\n"
     ]
    },
    {
     "name": "stderr",
     "output_type": "stream",
     "text": [
      "c:\\program files\\python36\\lib\\site-packages\\sklearn\\metrics\\classification.py:1143: UndefinedMetricWarning: Precision and F-score are ill-defined and being set to 0.0 in labels with no predicted samples.\n",
      "  'precision', 'predicted', average, warn_for)\n",
      "c:\\program files\\python36\\lib\\site-packages\\sklearn\\metrics\\classification.py:1143: UndefinedMetricWarning: Precision and F-score are ill-defined and being set to 0.0 in labels with no predicted samples.\n",
      "  'precision', 'predicted', average, warn_for)\n",
      "c:\\program files\\python36\\lib\\site-packages\\sklearn\\metrics\\classification.py:1143: UndefinedMetricWarning: Precision and F-score are ill-defined and being set to 0.0 in labels with no predicted samples.\n",
      "  'precision', 'predicted', average, warn_for)\n"
     ]
    },
    {
     "name": "stdout",
     "output_type": "stream",
     "text": [
      "              precision    recall  f1-score   support\n",
      "\n",
      "           0       0.00      0.00      0.00        14\n",
      "           1       0.88      1.00      0.93       438\n",
      "           2       0.00      0.00      0.00        48\n",
      "\n",
      "   micro avg       0.88      0.88      0.88       500\n",
      "   macro avg       0.29      0.33      0.31       500\n",
      "weighted avg       0.77      0.88      0.82       500\n",
      "\n",
      "438\n"
     ]
    },
    {
     "data": {
      "image/png": "[encoded data removed]",
      "text/plain": [
       "<Figure size 648x648 with 1 Axes>"
      ]
     },
     "metadata": {
      "needs_background": "light"
     },
     "output_type": "display_data"
    }
   ],
   "source": [
    "\n",
    "cm = metrics.confusion_matrix(list(data.values[9500:,2]+1),list(predicts))\n",
    "print(cm)\n",
    "\n",
    "CR = classification_report(list(data.values[9500:,2]+1),list(predicts))\n",
    "print(CR)\n",
    "i=0\n",
    "for j in list(data.values[9500:,2]+1):\n",
    "    if j==1:\n",
    "        i +=1\n",
    "print(i)\n",
    "\n",
    "# plt.show()\n",
    "plot_confusion_matrix_from_data(list(data.values[9500:,2]+1), list(predicts))\n"
   ]
  },
  {
   "cell_type": "code",
   "execution_count": null,
   "metadata": {},
   "outputs": [],
   "source": []
  }
 ],
 "metadata": {
  "kernelspec": {
   "display_name": "Python 3",
   "language": "python",
   "name": "python3"
  },
  "language_info": {
   "codemirror_mode": {
    "name": "ipython",
    "version": 3
   },
   "file_extension": ".py",
   "mimetype": "text/x-python",
   "name": "python",
   "nbconvert_exporter": "python",
   "pygments_lexer": "ipython3",
   "version": "3.6.7"
  }
 },
 "nbformat": 4,
 "nbformat_minor": 2
}
