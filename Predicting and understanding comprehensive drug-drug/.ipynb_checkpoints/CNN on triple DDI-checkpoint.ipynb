{
 "cells": [
  {
   "cell_type": "code",
   "execution_count": 260,
   "metadata": {},
   "outputs": [],
   "source": [
    "import pandas as pd \n",
    "import numpy as np\n",
    "\n",
    "from sklearn import metrics\n",
    "import seaborn as sn\n",
    "import confusion_matrix_pretty_print\n",
    "from confusion_matrix_pretty_print import plot_confusion_matrix_from_data\n",
    "from sklearn import tree\n",
    "from sklearn.ensemble import ExtraTreesClassifier\n",
    "from sklearn.metrics import confusion_matrix,classification_report,precision_score"
   ]
  },
  {
   "cell_type": "code",
   "execution_count": 261,
   "metadata": {},
   "outputs": [],
   "source": [
    "data = pd.read_csv('data1000v1.csv')"
   ]
  },
  {
   "cell_type": "code",
   "execution_count": 262,
   "metadata": {},
   "outputs": [
    {
     "data": {
      "text/plain": [
       "(1000, 1139)"
      ]
     },
     "execution_count": 262,
     "metadata": {},
     "output_type": "execute_result"
    }
   ],
   "source": [
    "data.shape"
   ]
  },
  {
   "cell_type": "code",
   "execution_count": 263,
   "metadata": {},
   "outputs": [
    {
     "data": {
      "text/html": [
       "<div>\n",
       "<style scoped>\n",
       "    .dataframe tbody tr th:only-of-type {\n",
       "        vertical-align: middle;\n",
       "    }\n",
       "\n",
       "    .dataframe tbody tr th {\n",
       "        vertical-align: top;\n",
       "    }\n",
       "\n",
       "    .dataframe thead th {\n",
       "        text-align: right;\n",
       "    }\n",
       "</style>\n",
       "<table border=\"1\" class=\"dataframe\">\n",
       "  <thead>\n",
       "    <tr style=\"text-align: right;\">\n",
       "      <th></th>\n",
       "      <th>0</th>\n",
       "      <th>1</th>\n",
       "      <th>2</th>\n",
       "      <th>3</th>\n",
       "      <th>4</th>\n",
       "      <th>5</th>\n",
       "      <th>6</th>\n",
       "      <th>7</th>\n",
       "      <th>8</th>\n",
       "      <th>9</th>\n",
       "      <th>...</th>\n",
       "      <th>1129</th>\n",
       "      <th>1130</th>\n",
       "      <th>1131</th>\n",
       "      <th>1132</th>\n",
       "      <th>1133</th>\n",
       "      <th>1134</th>\n",
       "      <th>1135</th>\n",
       "      <th>1136</th>\n",
       "      <th>1137</th>\n",
       "      <th>1138</th>\n",
       "    </tr>\n",
       "  </thead>\n",
       "  <tbody>\n",
       "    <tr>\n",
       "      <th>0</th>\n",
       "      <td>DB00384</td>\n",
       "      <td>DB00248</td>\n",
       "      <td>0</td>\n",
       "      <td>0.001651</td>\n",
       "      <td>0.001783</td>\n",
       "      <td>0.001572</td>\n",
       "      <td>0.001935</td>\n",
       "      <td>0.001869</td>\n",
       "      <td>0.001997</td>\n",
       "      <td>0.001921</td>\n",
       "      <td>...</td>\n",
       "      <td>0.001518</td>\n",
       "      <td>0.001730</td>\n",
       "      <td>0.001177</td>\n",
       "      <td>0.001660</td>\n",
       "      <td>0.001451</td>\n",
       "      <td>0.001067</td>\n",
       "      <td>0.001527</td>\n",
       "      <td>0.001565</td>\n",
       "      <td>0.001595</td>\n",
       "      <td>0.001592</td>\n",
       "    </tr>\n",
       "    <tr>\n",
       "      <th>1</th>\n",
       "      <td>DB00248</td>\n",
       "      <td>DB00384</td>\n",
       "      <td>0</td>\n",
       "      <td>0.001519</td>\n",
       "      <td>0.001741</td>\n",
       "      <td>0.001426</td>\n",
       "      <td>0.001485</td>\n",
       "      <td>0.001971</td>\n",
       "      <td>0.001518</td>\n",
       "      <td>0.001526</td>\n",
       "      <td>...</td>\n",
       "      <td>0.001483</td>\n",
       "      <td>0.001508</td>\n",
       "      <td>0.001787</td>\n",
       "      <td>0.002060</td>\n",
       "      <td>0.001366</td>\n",
       "      <td>0.001041</td>\n",
       "      <td>0.001414</td>\n",
       "      <td>0.001544</td>\n",
       "      <td>0.001435</td>\n",
       "      <td>0.001480</td>\n",
       "    </tr>\n",
       "    <tr>\n",
       "      <th>2</th>\n",
       "      <td>DB00244</td>\n",
       "      <td>DB04835</td>\n",
       "      <td>0</td>\n",
       "      <td>0.001666</td>\n",
       "      <td>0.001544</td>\n",
       "      <td>0.001413</td>\n",
       "      <td>0.001586</td>\n",
       "      <td>0.001652</td>\n",
       "      <td>0.001541</td>\n",
       "      <td>0.001570</td>\n",
       "      <td>...</td>\n",
       "      <td>0.001548</td>\n",
       "      <td>0.001827</td>\n",
       "      <td>0.001109</td>\n",
       "      <td>0.001649</td>\n",
       "      <td>0.001583</td>\n",
       "      <td>0.001372</td>\n",
       "      <td>0.001742</td>\n",
       "      <td>0.001527</td>\n",
       "      <td>0.001811</td>\n",
       "      <td>0.001697</td>\n",
       "    </tr>\n",
       "    <tr>\n",
       "      <th>3</th>\n",
       "      <td>DB04835</td>\n",
       "      <td>DB00244</td>\n",
       "      <td>0</td>\n",
       "      <td>0.001572</td>\n",
       "      <td>0.001523</td>\n",
       "      <td>0.001554</td>\n",
       "      <td>0.001496</td>\n",
       "      <td>0.001511</td>\n",
       "      <td>0.001398</td>\n",
       "      <td>0.001510</td>\n",
       "      <td>...</td>\n",
       "      <td>0.001500</td>\n",
       "      <td>0.001568</td>\n",
       "      <td>0.001213</td>\n",
       "      <td>0.001553</td>\n",
       "      <td>0.001437</td>\n",
       "      <td>0.001074</td>\n",
       "      <td>0.001546</td>\n",
       "      <td>0.001854</td>\n",
       "      <td>0.001706</td>\n",
       "      <td>0.001742</td>\n",
       "    </tr>\n",
       "    <tr>\n",
       "      <th>4</th>\n",
       "      <td>DB00278</td>\n",
       "      <td>DB00438</td>\n",
       "      <td>0</td>\n",
       "      <td>0.001600</td>\n",
       "      <td>0.001588</td>\n",
       "      <td>0.001563</td>\n",
       "      <td>0.001519</td>\n",
       "      <td>0.001551</td>\n",
       "      <td>0.001390</td>\n",
       "      <td>0.001558</td>\n",
       "      <td>...</td>\n",
       "      <td>0.001554</td>\n",
       "      <td>0.001432</td>\n",
       "      <td>0.001036</td>\n",
       "      <td>0.001328</td>\n",
       "      <td>0.001923</td>\n",
       "      <td>0.001469</td>\n",
       "      <td>0.001791</td>\n",
       "      <td>0.001493</td>\n",
       "      <td>0.001456</td>\n",
       "      <td>0.001638</td>\n",
       "    </tr>\n",
       "  </tbody>\n",
       "</table>\n",
       "<p>5 rows × 1139 columns</p>\n",
       "</div>"
      ],
      "text/plain": [
       "         0        1  2         3         4         5         6         7  \\\n",
       "0  DB00384  DB00248  0  0.001651  0.001783  0.001572  0.001935  0.001869   \n",
       "1  DB00248  DB00384  0  0.001519  0.001741  0.001426  0.001485  0.001971   \n",
       "2  DB00244  DB04835  0  0.001666  0.001544  0.001413  0.001586  0.001652   \n",
       "3  DB04835  DB00244  0  0.001572  0.001523  0.001554  0.001496  0.001511   \n",
       "4  DB00278  DB00438  0  0.001600  0.001588  0.001563  0.001519  0.001551   \n",
       "\n",
       "          8         9    ...         1129      1130      1131      1132  \\\n",
       "0  0.001997  0.001921    ...     0.001518  0.001730  0.001177  0.001660   \n",
       "1  0.001518  0.001526    ...     0.001483  0.001508  0.001787  0.002060   \n",
       "2  0.001541  0.001570    ...     0.001548  0.001827  0.001109  0.001649   \n",
       "3  0.001398  0.001510    ...     0.001500  0.001568  0.001213  0.001553   \n",
       "4  0.001390  0.001558    ...     0.001554  0.001432  0.001036  0.001328   \n",
       "\n",
       "       1133      1134      1135      1136      1137      1138  \n",
       "0  0.001451  0.001067  0.001527  0.001565  0.001595  0.001592  \n",
       "1  0.001366  0.001041  0.001414  0.001544  0.001435  0.001480  \n",
       "2  0.001583  0.001372  0.001742  0.001527  0.001811  0.001697  \n",
       "3  0.001437  0.001074  0.001546  0.001854  0.001706  0.001742  \n",
       "4  0.001923  0.001469  0.001791  0.001493  0.001456  0.001638  \n",
       "\n",
       "[5 rows x 1139 columns]"
      ]
     },
     "execution_count": 263,
     "metadata": {},
     "output_type": "execute_result"
    }
   ],
   "source": [
    "data.head()"
   ]
  },
  {
   "cell_type": "code",
   "execution_count": 264,
   "metadata": {},
   "outputs": [],
   "source": [
    "X_train, X_test = data.values[:900,3:], data.values[900:,3:]\n",
    "y_train, y_test = data.values[:900,2], data.values[900:,2]"
   ]
  },
  {
   "cell_type": "code",
   "execution_count": 265,
   "metadata": {},
   "outputs": [
    {
     "data": {
      "text/plain": [
       "array([0.0016507470000000002, 0.0017831, 0.0015716870000000002, ...,\n",
       "       0.001564923, 0.0015947000000000001, 0.00159174], dtype=object)"
      ]
     },
     "execution_count": 265,
     "metadata": {},
     "output_type": "execute_result"
    }
   ],
   "source": [
    "X_train[0]"
   ]
  },
  {
   "cell_type": "code",
   "execution_count": 266,
   "metadata": {},
   "outputs": [
    {
     "data": {
      "text/plain": [
       "71.0"
      ]
     },
     "execution_count": 266,
     "metadata": {},
     "output_type": "execute_result"
    }
   ],
   "source": [
    "1136/2/2/2/2"
   ]
  },
  {
   "cell_type": "code",
   "execution_count": 267,
   "metadata": {},
   "outputs": [
    {
     "data": {
      "text/plain": [
       "1136"
      ]
     },
     "execution_count": 267,
     "metadata": {},
     "output_type": "execute_result"
    }
   ],
   "source": [
    "16*71"
   ]
  },
  {
   "cell_type": "code",
   "execution_count": 268,
   "metadata": {},
   "outputs": [],
   "source": [
    "#reshape data to fit model\n",
    "X_train = X_train.reshape(900,16,71,1)\n",
    "X_test = X_test.reshape(100,16,71,1)"
   ]
  },
  {
   "cell_type": "code",
   "execution_count": 269,
   "metadata": {},
   "outputs": [
    {
     "data": {
      "text/plain": [
       "(900, 16, 71, 1)"
      ]
     },
     "execution_count": 269,
     "metadata": {},
     "output_type": "execute_result"
    }
   ],
   "source": [
    "X_train.shape"
   ]
  },
  {
   "cell_type": "code",
   "execution_count": 270,
   "metadata": {},
   "outputs": [
    {
     "name": "stdout",
     "output_type": "stream",
     "text": [
      "1 1\n"
     ]
    }
   ],
   "source": [
    "y_train = y_train + 1\n",
    "y_test = y_test + 1\n",
    "print(y_train[0], y_test[0])"
   ]
  },
  {
   "cell_type": "code",
   "execution_count": 271,
   "metadata": {},
   "outputs": [
    {
     "data": {
      "text/plain": [
       "array([0., 1., 0.], dtype=float32)"
      ]
     },
     "execution_count": 271,
     "metadata": {},
     "output_type": "execute_result"
    }
   ],
   "source": [
    "from keras.utils import to_categorical\n",
    "#one-hot encode target column\n",
    "y_train = to_categorical(y_train)\n",
    "y_test = to_categorical(y_test)\n",
    "y_test[0]"
   ]
  },
  {
   "cell_type": "code",
   "execution_count": 272,
   "metadata": {},
   "outputs": [],
   "source": [
    "from keras.models import Sequential\n",
    "from keras.layers import Dense, Conv2D, Flatten\n",
    "#create model\n",
    "model = Sequential()\n",
    "#add model layers\n",
    "model.add(Conv2D(256, kernel_size=2, activation='relu', padding='same', input_shape=(16,71,1)))\n",
    "model.add(Conv2D(128, kernel_size=2, activation='relu', padding='same'))\n",
    "model.add(Conv2D(64, kernel_size=2, activation='relu', padding='same'))\n",
    "model.add(Conv2D(32, kernel_size=2, activation='relu', padding='same'))\n",
    "model.add(Conv2D(16, kernel_size=2, activation='relu', padding='same'))\n",
    "model.add(Conv2D(8, kernel_size=2, activation='relu', padding='same'))\n",
    "model.add(Flatten())\n",
    "model.add(Dense(3, activation='softmax'))\n",
    "model.summary()"
   ]
  },
  {
   "cell_type": "code",
   "execution_count": 273,
   "metadata": {},
   "outputs": [],
   "source": [
    "#compile model using accuracy to measure model performance\n",
    "model.compile(optimizer='adam', loss='categorical_crossentropy', metrics=['accuracy'])"
   ]
  },
  {
   "cell_type": "code",
   "execution_count": 274,
   "metadata": {},
   "outputs": [
    {
     "name": "stdout",
     "output_type": "stream",
     "text": [
      "Train on 900 samples, validate on 100 samples\n",
      "Epoch 1/15\n",
      "900/900 [==============================] - 31s 34ms/step - loss: 0.5898 - acc: 0.8489 - val_loss: 0.3686 - val_acc: 0.9000\n",
      "Epoch 2/15\n",
      "900/900 [==============================] - 30s 33ms/step - loss: 0.4698 - acc: 0.8689 - val_loss: 0.3480 - val_acc: 0.9000\n",
      "Epoch 3/15\n",
      "900/900 [==============================] - 31s 34ms/step - loss: 0.4650 - acc: 0.8689 - val_loss: 0.3522 - val_acc: 0.9000\n",
      "Epoch 4/15\n",
      "900/900 [==============================] - 32s 35ms/step - loss: 0.4659 - acc: 0.8689 - val_loss: 0.3626 - val_acc: 0.9000\n",
      "Epoch 5/15\n",
      "900/900 [==============================] - 31s 35ms/step - loss: 0.4692 - acc: 0.8689 - val_loss: 0.3481 - val_acc: 0.9000\n",
      "Epoch 6/15\n",
      "900/900 [==============================] - 32s 35ms/step - loss: 0.4560 - acc: 0.8689 - val_loss: 0.3681 - val_acc: 0.9000\n",
      "Epoch 7/15\n",
      "900/900 [==============================] - 32s 35ms/step - loss: 0.3576 - acc: 0.8711 - val_loss: 0.5069 - val_acc: 0.8800\n",
      "Epoch 8/15\n",
      "900/900 [==============================] - 32s 35ms/step - loss: 0.1960 - acc: 0.9133 - val_loss: 0.6713 - val_acc: 0.8600\n",
      "Epoch 9/15\n",
      "900/900 [==============================] - 32s 36ms/step - loss: 0.0953 - acc: 0.9611 - val_loss: 1.2492 - val_acc: 0.8600\n",
      "Epoch 10/15\n",
      "900/900 [==============================] - 32s 36ms/step - loss: 0.0650 - acc: 0.9789 - val_loss: 1.2746 - val_acc: 0.8400\n",
      "Epoch 11/15\n",
      "900/900 [==============================] - 32s 36ms/step - loss: 0.0450 - acc: 0.9867 - val_loss: 1.3310 - val_acc: 0.8400\n",
      "Epoch 12/15\n",
      "900/900 [==============================] - 32s 36ms/step - loss: 0.0399 - acc: 0.9878 - val_loss: 1.4887 - val_acc: 0.8400\n",
      "Epoch 13/15\n",
      "900/900 [==============================] - 32s 36ms/step - loss: 0.0309 - acc: 0.9911 - val_loss: 1.4842 - val_acc: 0.8400\n",
      "Epoch 14/15\n",
      "900/900 [==============================] - 33s 36ms/step - loss: 0.0210 - acc: 0.9922 - val_loss: 1.6413 - val_acc: 0.8400\n",
      "Epoch 15/15\n",
      "900/900 [==============================] - 34s 37ms/step - loss: 0.0192 - acc: 0.9922 - val_loss: 1.7683 - val_acc: 0.8400\n"
     ]
    },
    {
     "data": {
      "text/plain": [
       "<keras.callbacks.History at 0x1d9acc42c88>"
      ]
     },
     "execution_count": 274,
     "metadata": {},
     "output_type": "execute_result"
    }
   ],
   "source": [
    "#train the model\n",
    "model.fit(X_train, y_train, validation_data=(X_test, y_test), epochs=15)"
   ]
  },
  {
   "cell_type": "code",
   "execution_count": 275,
   "metadata": {},
   "outputs": [
    {
     "data": {
      "text/plain": [
       "array([[2.5909786e-08, 1.0000000e+00, 2.4451619e-08],\n",
       "       [6.0717253e-14, 1.0000000e+00, 5.3889913e-12],\n",
       "       [5.1016082e-13, 1.0000000e+00, 5.3282276e-09],\n",
       "       [9.7977963e-12, 1.0000000e+00, 6.1430896e-09]], dtype=float32)"
      ]
     },
     "execution_count": 275,
     "metadata": {},
     "output_type": "execute_result"
    }
   ],
   "source": [
    "#predict first 4 images in the test set\n",
    "predit = model.predict(X_test)\n",
    "predit[:4]"
   ]
  },
  {
   "cell_type": "code",
   "execution_count": 276,
   "metadata": {},
   "outputs": [
    {
     "data": {
      "text/plain": [
       "array([[0., 1., 0.],\n",
       "       [0., 1., 0.],\n",
       "       [0., 1., 0.],\n",
       "       [0., 1., 0.]], dtype=float32)"
      ]
     },
     "execution_count": 276,
     "metadata": {},
     "output_type": "execute_result"
    }
   ],
   "source": [
    "#actual results for first 4 images in test set\n",
    "y_test[:4]"
   ]
  },
  {
   "cell_type": "code",
   "execution_count": 290,
   "metadata": {},
   "outputs": [
    {
     "name": "stdout",
     "output_type": "stream",
     "text": [
      "nan nan\n"
     ]
    },
    {
     "name": "stderr",
     "output_type": "stream",
     "text": [
      "c:\\program files\\python36\\lib\\site-packages\\sklearn\\metrics\\ranking.py:526: RuntimeWarning: invalid value encountered in true_divide\n",
      "  recall = tps / tps[-1]\n",
      "c:\\program files\\python36\\lib\\site-packages\\sklearn\\metrics\\ranking.py:114: RuntimeWarning: invalid value encountered in less\n",
      "  if np.any(dx < 0):\n",
      "c:\\program files\\python36\\lib\\site-packages\\sklearn\\metrics\\ranking.py:656: UndefinedMetricWarning: No positive samples in y_true, true positive value should be meaningless\n",
      "  UndefinedMetricWarning)\n"
     ]
    }
   ],
   "source": [
    "from sklearn.metrics import precision_recall_curve, roc_curve\n",
    "from sklearn.metrics import auc\n",
    "prec, rec, thr = precision_recall_curve(y_test[:,2],predit[:,2])\n",
    "aupr_val = auc(rec, prec)\n",
    "fpr, tpr, thr = roc_curve(y_test[:,2], predit[:,2])\n",
    "auc_val = auc(fpr, tpr)\n",
    "print(aupr_val,auc_val)"
   ]
  },
  {
   "cell_type": "code",
   "execution_count": 278,
   "metadata": {
    "scrolled": false
   },
   "outputs": [],
   "source": [
    "# predit"
   ]
  },
  {
   "cell_type": "code",
   "execution_count": 279,
   "metadata": {},
   "outputs": [
    {
     "data": {
      "text/plain": [
       "(100,)"
      ]
     },
     "execution_count": 279,
     "metadata": {},
     "output_type": "execute_result"
    }
   ],
   "source": [
    "predit[:,0].shape "
   ]
  },
  {
   "cell_type": "code",
   "execution_count": 280,
   "metadata": {
    "scrolled": false
   },
   "outputs": [],
   "source": [
    "predicts = []\n",
    "for a,b,c in predit:\n",
    "    if a >=b and a>c:\n",
    "        predicts.append(0)\n",
    "        continue\n",
    "    if c>=b and c>a:\n",
    "        predicts.append(2)\n",
    "        continue\n",
    "    else:\n",
    "        predicts.append(1)"
   ]
  },
  {
   "cell_type": "code",
   "execution_count": 287,
   "metadata": {},
   "outputs": [
    {
     "name": "stdout",
     "output_type": "stream",
     "text": [
      "[[84  6]\n",
      " [10  0]]\n",
      "              precision    recall  f1-score   support\n",
      "\n",
      "           1       0.89      0.93      0.91        90\n",
      "           2       0.00      0.00      0.00        10\n",
      "\n",
      "   micro avg       0.84      0.84      0.84       100\n",
      "   macro avg       0.45      0.47      0.46       100\n",
      "weighted avg       0.80      0.84      0.82       100\n",
      "\n",
      "90\n"
     ]
    },
    {
     "data": {
      "image/png": "[encoded data removed]",
      "text/plain": [
       "<Figure size 648x648 with 1 Axes>"
      ]
     },
     "metadata": {
      "needs_background": "light"
     },
     "output_type": "display_data"
    }
   ],
   "source": [
    "# f = (data.values[800:,2]+1)\n",
    "cm = metrics.confusion_matrix(list(data.values[900:,2]+1),list(predicts))\n",
    "print(cm)\n",
    "\n",
    "CR = classification_report(list(data.values[900:,2]+1),list(predicts))\n",
    "print(CR)\n",
    "i=0\n",
    "for j in list(data.values[900:,2]+1):\n",
    "    if j==1:\n",
    "        i +=1\n",
    "print(i)\n",
    "\n",
    "# plt.show()\n",
    "plot_confusion_matrix_from_data(list(data.values[900:,2]+1), list(predicts))\n",
    "\n",
    "\n"
   ]
  },
  {
   "cell_type": "code",
   "execution_count": null,
   "metadata": {},
   "outputs": [],
   "source": []
  }
 ],
 "metadata": {
  "kernelspec": {
   "display_name": "Python 3",
   "language": "python",
   "name": "python3"
  },
  "language_info": {
   "codemirror_mode": {
    "name": "ipython",
    "version": 3
   },
   "file_extension": ".py",
   "mimetype": "text/x-python",
   "name": "python",
   "nbconvert_exporter": "python",
   "pygments_lexer": "ipython3",
   "version": "3.6.7"
  }
 },
 "nbformat": 4,
 "nbformat_minor": 2
}
