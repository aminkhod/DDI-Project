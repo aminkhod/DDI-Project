{
 "cells": [
  {
   "cell_type": "code",
   "execution_count": 125,
   "metadata": {},
   "outputs": [],
   "source": [
    "import pandas as pd \n",
    "import numpy as np\n",
    "\n",
    "from sklearn import metrics\n",
    "import seaborn as sn\n",
    "import confusion_matrix_pretty_print\n",
    "from confusion_matrix_pretty_print import plot_confusion_matrix_from_data\n",
    "from sklearn import tree\n",
    "from sklearn.ensemble import ExtraTreesClassifier\n",
    "from sklearn.metrics import confusion_matrix,classification_report,precision_score\n",
    "import keras"
   ]
  },
  {
   "cell_type": "code",
   "execution_count": 2,
   "metadata": {},
   "outputs": [],
   "source": [
    "data = pd.read_csv('data10000.csv')"
   ]
  },
  {
   "cell_type": "code",
   "execution_count": 3,
   "metadata": {},
   "outputs": [
    {
     "data": {
      "text/plain": [
       "(10000, 1139)"
      ]
     },
     "execution_count": 3,
     "metadata": {},
     "output_type": "execute_result"
    }
   ],
   "source": [
    "data.shape"
   ]
  },
  {
   "cell_type": "code",
   "execution_count": 4,
   "metadata": {},
   "outputs": [
    {
     "data": {
      "text/html": [
       "<div>\n",
       "<style scoped>\n",
       "    .dataframe tbody tr th:only-of-type {\n",
       "        vertical-align: middle;\n",
       "    }\n",
       "\n",
       "    .dataframe tbody tr th {\n",
       "        vertical-align: top;\n",
       "    }\n",
       "\n",
       "    .dataframe thead th {\n",
       "        text-align: right;\n",
       "    }\n",
       "</style>\n",
       "<table border=\"1\" class=\"dataframe\">\n",
       "  <thead>\n",
       "    <tr style=\"text-align: right;\">\n",
       "      <th></th>\n",
       "      <th>0</th>\n",
       "      <th>1</th>\n",
       "      <th>2</th>\n",
       "      <th>3</th>\n",
       "      <th>4</th>\n",
       "      <th>5</th>\n",
       "      <th>6</th>\n",
       "      <th>7</th>\n",
       "      <th>8</th>\n",
       "      <th>9</th>\n",
       "      <th>...</th>\n",
       "      <th>1129</th>\n",
       "      <th>1130</th>\n",
       "      <th>1131</th>\n",
       "      <th>1132</th>\n",
       "      <th>1133</th>\n",
       "      <th>1134</th>\n",
       "      <th>1135</th>\n",
       "      <th>1136</th>\n",
       "      <th>1137</th>\n",
       "      <th>1138</th>\n",
       "    </tr>\n",
       "  </thead>\n",
       "  <tbody>\n",
       "    <tr>\n",
       "      <th>0</th>\n",
       "      <td>DB00115</td>\n",
       "      <td>DB00180</td>\n",
       "      <td>0</td>\n",
       "      <td>0.549615</td>\n",
       "      <td>0.001501</td>\n",
       "      <td>0.001889</td>\n",
       "      <td>0.001586</td>\n",
       "      <td>0.001636</td>\n",
       "      <td>0.001509</td>\n",
       "      <td>0.001593</td>\n",
       "      <td>...</td>\n",
       "      <td>0.001423</td>\n",
       "      <td>0.001556</td>\n",
       "      <td>0.001322</td>\n",
       "      <td>0.001581</td>\n",
       "      <td>0.001391</td>\n",
       "      <td>0.001029</td>\n",
       "      <td>0.001431</td>\n",
       "      <td>0.001524</td>\n",
       "      <td>0.001446</td>\n",
       "      <td>0.001422</td>\n",
       "    </tr>\n",
       "    <tr>\n",
       "      <th>1</th>\n",
       "      <td>DB00115</td>\n",
       "      <td>DB00209</td>\n",
       "      <td>0</td>\n",
       "      <td>0.549615</td>\n",
       "      <td>0.001501</td>\n",
       "      <td>0.001889</td>\n",
       "      <td>0.001586</td>\n",
       "      <td>0.001636</td>\n",
       "      <td>0.001509</td>\n",
       "      <td>0.001593</td>\n",
       "      <td>...</td>\n",
       "      <td>0.001467</td>\n",
       "      <td>0.001603</td>\n",
       "      <td>0.001764</td>\n",
       "      <td>0.001727</td>\n",
       "      <td>0.001379</td>\n",
       "      <td>0.001026</td>\n",
       "      <td>0.001470</td>\n",
       "      <td>0.001584</td>\n",
       "      <td>0.001456</td>\n",
       "      <td>0.001612</td>\n",
       "    </tr>\n",
       "    <tr>\n",
       "      <th>2</th>\n",
       "      <td>DB00115</td>\n",
       "      <td>DB00242</td>\n",
       "      <td>0</td>\n",
       "      <td>0.549615</td>\n",
       "      <td>0.001501</td>\n",
       "      <td>0.001889</td>\n",
       "      <td>0.001586</td>\n",
       "      <td>0.001636</td>\n",
       "      <td>0.001509</td>\n",
       "      <td>0.001593</td>\n",
       "      <td>...</td>\n",
       "      <td>0.001510</td>\n",
       "      <td>0.001456</td>\n",
       "      <td>0.001003</td>\n",
       "      <td>0.001328</td>\n",
       "      <td>0.001660</td>\n",
       "      <td>0.001313</td>\n",
       "      <td>0.002601</td>\n",
       "      <td>0.001581</td>\n",
       "      <td>0.001640</td>\n",
       "      <td>0.001697</td>\n",
       "    </tr>\n",
       "    <tr>\n",
       "      <th>3</th>\n",
       "      <td>DB00115</td>\n",
       "      <td>DB00422</td>\n",
       "      <td>0</td>\n",
       "      <td>0.549615</td>\n",
       "      <td>0.001501</td>\n",
       "      <td>0.001889</td>\n",
       "      <td>0.001586</td>\n",
       "      <td>0.001636</td>\n",
       "      <td>0.001509</td>\n",
       "      <td>0.001593</td>\n",
       "      <td>...</td>\n",
       "      <td>0.001089</td>\n",
       "      <td>0.001145</td>\n",
       "      <td>0.101228</td>\n",
       "      <td>0.001476</td>\n",
       "      <td>0.001037</td>\n",
       "      <td>0.000847</td>\n",
       "      <td>0.001086</td>\n",
       "      <td>0.001173</td>\n",
       "      <td>0.001089</td>\n",
       "      <td>0.001081</td>\n",
       "    </tr>\n",
       "    <tr>\n",
       "      <th>4</th>\n",
       "      <td>DB00115</td>\n",
       "      <td>DB00436</td>\n",
       "      <td>0</td>\n",
       "      <td>0.549615</td>\n",
       "      <td>0.001501</td>\n",
       "      <td>0.001889</td>\n",
       "      <td>0.001586</td>\n",
       "      <td>0.001636</td>\n",
       "      <td>0.001509</td>\n",
       "      <td>0.001593</td>\n",
       "      <td>...</td>\n",
       "      <td>0.001681</td>\n",
       "      <td>0.001901</td>\n",
       "      <td>0.001068</td>\n",
       "      <td>0.001428</td>\n",
       "      <td>0.001908</td>\n",
       "      <td>0.001083</td>\n",
       "      <td>0.001942</td>\n",
       "      <td>0.001745</td>\n",
       "      <td>0.002612</td>\n",
       "      <td>0.002199</td>\n",
       "    </tr>\n",
       "  </tbody>\n",
       "</table>\n",
       "<p>5 rows × 1139 columns</p>\n",
       "</div>"
      ],
      "text/plain": [
       "         0        1  2         3         4         5         6         7  \\\n",
       "0  DB00115  DB00180  0  0.549615  0.001501  0.001889  0.001586  0.001636   \n",
       "1  DB00115  DB00209  0  0.549615  0.001501  0.001889  0.001586  0.001636   \n",
       "2  DB00115  DB00242  0  0.549615  0.001501  0.001889  0.001586  0.001636   \n",
       "3  DB00115  DB00422  0  0.549615  0.001501  0.001889  0.001586  0.001636   \n",
       "4  DB00115  DB00436  0  0.549615  0.001501  0.001889  0.001586  0.001636   \n",
       "\n",
       "          8         9    ...         1129      1130      1131      1132  \\\n",
       "0  0.001509  0.001593    ...     0.001423  0.001556  0.001322  0.001581   \n",
       "1  0.001509  0.001593    ...     0.001467  0.001603  0.001764  0.001727   \n",
       "2  0.001509  0.001593    ...     0.001510  0.001456  0.001003  0.001328   \n",
       "3  0.001509  0.001593    ...     0.001089  0.001145  0.101228  0.001476   \n",
       "4  0.001509  0.001593    ...     0.001681  0.001901  0.001068  0.001428   \n",
       "\n",
       "       1133      1134      1135      1136      1137      1138  \n",
       "0  0.001391  0.001029  0.001431  0.001524  0.001446  0.001422  \n",
       "1  0.001379  0.001026  0.001470  0.001584  0.001456  0.001612  \n",
       "2  0.001660  0.001313  0.002601  0.001581  0.001640  0.001697  \n",
       "3  0.001037  0.000847  0.001086  0.001173  0.001089  0.001081  \n",
       "4  0.001908  0.001083  0.001942  0.001745  0.002612  0.002199  \n",
       "\n",
       "[5 rows x 1139 columns]"
      ]
     },
     "execution_count": 4,
     "metadata": {},
     "output_type": "execute_result"
    }
   ],
   "source": [
    "data.head()"
   ]
  },
  {
   "cell_type": "code",
   "execution_count": 139,
   "metadata": {},
   "outputs": [],
   "source": [
    "X_train, X_test = data.values[:9500,3:], data.values[9500:,3:]\n",
    "y_train, y_test = data.values[:9500,2].astype(int), data.values[9500:,2].astype(int)"
   ]
  },
  {
   "cell_type": "code",
   "execution_count": 72,
   "metadata": {},
   "outputs": [
    {
     "data": {
      "text/plain": [
       "array([0.549614563, 0.001500859, 0.001888713, ..., 0.001524299,\n",
       "       0.0014464170000000002, 0.001422211], dtype=object)"
      ]
     },
     "execution_count": 72,
     "metadata": {},
     "output_type": "execute_result"
    }
   ],
   "source": [
    "X_train[0]"
   ]
  },
  {
   "cell_type": "code",
   "execution_count": 73,
   "metadata": {},
   "outputs": [
    {
     "data": {
      "text/plain": [
       "71.0"
      ]
     },
     "execution_count": 73,
     "metadata": {},
     "output_type": "execute_result"
    }
   ],
   "source": [
    "1136/2/2/2/2"
   ]
  },
  {
   "cell_type": "code",
   "execution_count": 74,
   "metadata": {},
   "outputs": [
    {
     "data": {
      "text/plain": [
       "1136"
      ]
     },
     "execution_count": 74,
     "metadata": {},
     "output_type": "execute_result"
    }
   ],
   "source": [
    "16*71"
   ]
  },
  {
   "cell_type": "code",
   "execution_count": 75,
   "metadata": {},
   "outputs": [],
   "source": [
    "#reshape data to fit model\n",
    "X_train = X_train.reshape(9500,16,71,1)\n",
    "X_test = X_test.reshape(500,16,71,1)"
   ]
  },
  {
   "cell_type": "code",
   "execution_count": 76,
   "metadata": {},
   "outputs": [
    {
     "data": {
      "text/plain": [
       "(9500, 16, 71, 1)"
      ]
     },
     "execution_count": 76,
     "metadata": {},
     "output_type": "execute_result"
    }
   ],
   "source": [
    "X_train.shape"
   ]
  },
  {
   "cell_type": "code",
   "execution_count": 140,
   "metadata": {},
   "outputs": [
    {
     "name": "stdout",
     "output_type": "stream",
     "text": [
      "1 1\n"
     ]
    }
   ],
   "source": [
    "y_train = y_train + 1\n",
    "y_test = y_test + 1\n",
    "print(y_train[0], y_test[0])"
   ]
  },
  {
   "cell_type": "code",
   "execution_count": 141,
   "metadata": {},
   "outputs": [
    {
     "data": {
      "text/plain": [
       "array([0., 1., 0.], dtype=float32)"
      ]
     },
     "execution_count": 141,
     "metadata": {},
     "output_type": "execute_result"
    }
   ],
   "source": [
    "from keras.utils import to_categorical\n",
    "#one-hot encode target column\n",
    "y_train = to_categorical(y_train)\n",
    "y_test = to_categorical(y_test)\n",
    "y_test[0]"
   ]
  },
  {
   "cell_type": "code",
   "execution_count": 88,
   "metadata": {},
   "outputs": [
    {
     "name": "stdout",
     "output_type": "stream",
     "text": [
      "_________________________________________________________________\n",
      "Layer (type)                 Output Shape              Param #   \n",
      "=================================================================\n",
      "conv2d_39 (Conv2D)           (None, 15, 70, 64)        320       \n",
      "_________________________________________________________________\n",
      "conv2d_40 (Conv2D)           (None, 14, 69, 32)        8224      \n",
      "_________________________________________________________________\n",
      "conv2d_41 (Conv2D)           (None, 13, 68, 16)        2064      \n",
      "_________________________________________________________________\n",
      "conv2d_42 (Conv2D)           (None, 12, 67, 8)         520       \n",
      "_________________________________________________________________\n",
      "flatten_9 (Flatten)          (None, 6432)              0         \n",
      "_________________________________________________________________\n",
      "dense_9 (Dense)              (None, 3)                 19299     \n",
      "=================================================================\n",
      "Total params: 30,427\n",
      "Trainable params: 30,427\n",
      "Non-trainable params: 0\n",
      "_________________________________________________________________\n"
     ]
    }
   ],
   "source": [
    "from keras.models import Sequential\n",
    "from keras.layers import Dense, Conv2D, Flatten\n",
    "\n",
    "\n",
    "#create model\n",
    "model = Sequential()\n",
    "#add model layers\n",
    "# kernel_initializer='uniform',\n",
    "# kernel_initializer='uniform',\n",
    "# kernel_initializer='uniform',\n",
    "# kernel_initializer='uniform',\n",
    "model.add(Conv2D(64, kernel_size=2, activation='relu', input_shape=(16,71,1)))\n",
    "model.add(Conv2D(32, kernel_size=2, activation='relu'))\n",
    "model.add(Conv2D(16, kernel_size=2, activation='relu'))\n",
    "model.add(Conv2D( 8, kernel_size=2, activation='relu'))\n",
    "model.add(Flatten())\n",
    "model.add(Dense(3, activation='sigmoid'))\n",
    "model.summary()"
   ]
  },
  {
   "cell_type": "code",
   "execution_count": 104,
   "metadata": {},
   "outputs": [],
   "source": [
    "#compile model using accuracy to measure model performance\n",
    "from keras import optimizers\n",
    "from keras import metrics as kmetr\n",
    "\n",
    "\n",
    "Nadam = optimizers.Nadam(lr=0.002, beta_1=0.9, beta_2=0.999)\n",
    "model.compile(loss='hinge', optimizer=Nadam, metrics=[kmetr.mae, kmetr.categorical_accuracy])\n",
    "# model.compile(optimizer='adam', loss='categorical_crossentropy', metrics=['accuracy']) ## Minist"
   ]
  },
  {
   "cell_type": "code",
   "execution_count": 105,
   "metadata": {},
   "outputs": [
    {
     "name": "stdout",
     "output_type": "stream",
     "text": [
      "Train on 9500 samples, validate on 500 samples\n",
      "Epoch 1/5\n",
      "9500/9500 [==============================] - 53s 6ms/step - loss: 0.4562 - mean_absolute_error: 0.7181 - sparse_categorical_crossentropy: 0.4562 - val_loss: 0.4220 - val_mean_absolute_error: 0.6969 - val_sparse_categorical_crossentropy: 0.4220\n",
      "Epoch 2/5\n",
      "9500/9500 [==============================] - 53s 6ms/step - loss: 0.4546 - mean_absolute_error: 0.7144 - sparse_categorical_crossentropy: 0.4546 - val_loss: 0.4224 - val_mean_absolute_error: 0.6903 - val_sparse_categorical_crossentropy: 0.4224\n",
      "Epoch 3/5\n",
      "9500/9500 [==============================] - 53s 6ms/step - loss: 0.4380 - mean_absolute_error: 0.7156 - sparse_categorical_crossentropy: 0.4380 - val_loss: 0.4175 - val_mean_absolute_error: 0.6992 - val_sparse_categorical_crossentropy: 0.4175\n",
      "Epoch 4/5\n",
      "9500/9500 [==============================] - 66s 7ms/step - loss: 0.3939 - mean_absolute_error: 0.7149 - sparse_categorical_crossentropy: 0.3939 - val_loss: 0.4288 - val_mean_absolute_error: 0.6997 - val_sparse_categorical_crossentropy: 0.4288\n",
      "Epoch 5/5\n",
      "9500/9500 [==============================] - 56s 6ms/step - loss: 0.3456 - mean_absolute_error: 0.7136 - sparse_categorical_crossentropy: 0.3456 - val_loss: 0.4706 - val_mean_absolute_error: 0.7105 - val_sparse_categorical_crossentropy: 0.4706\n"
     ]
    },
    {
     "data": {
      "text/plain": [
       "<keras.callbacks.History at 0x220bff51668>"
      ]
     },
     "execution_count": 105,
     "metadata": {},
     "output_type": "execute_result"
    }
   ],
   "source": [
    "# # Load the model's saved weights.\n",
    "# model.load_weights('cnn.h5')\n",
    "\n",
    "#train the model\n",
    "model.fit(X_train, y_train, validation_data=(X_test, y_test), batch_size=250, epochs=5)"
   ]
  },
  {
   "cell_type": "code",
   "execution_count": 106,
   "metadata": {},
   "outputs": [],
   "source": [
    "# Saveing the Model\n",
    "model.save_weights('cnn.h5')\n"
   ]
  },
  {
   "cell_type": "code",
   "execution_count": 107,
   "metadata": {},
   "outputs": [
    {
     "data": {
      "text/plain": [
       "array([[4.0609357e-03, 9.9850488e-01, 2.0618342e-02],\n",
       "       [7.5316383e-03, 9.9930954e-01, 1.6261572e-02],\n",
       "       [8.0273043e-05, 9.9974114e-01, 3.2230588e-03],\n",
       "       [3.0616610e-03, 9.9871957e-01, 1.2418071e-02]], dtype=float32)"
      ]
     },
     "execution_count": 107,
     "metadata": {},
     "output_type": "execute_result"
    }
   ],
   "source": [
    "#predict first 4 images in the test set\n",
    "predit = model.predict(X_test)\n",
    "predit[:4]"
   ]
  },
  {
   "cell_type": "code",
   "execution_count": 143,
   "metadata": {},
   "outputs": [
    {
     "data": {
      "text/plain": [
       "array([[0., 1., 0.],\n",
       "       [0., 1., 0.],\n",
       "       [0., 1., 0.],\n",
       "       [0., 1., 0.]], dtype=float32)"
      ]
     },
     "execution_count": 143,
     "metadata": {},
     "output_type": "execute_result"
    }
   ],
   "source": [
    "#actual results for first 4 images in test set\n",
    "y_test[:4]\n"
   ]
  },
  {
   "cell_type": "code",
   "execution_count": 142,
   "metadata": {},
   "outputs": [
    {
     "name": "stdout",
     "output_type": "stream",
     "text": [
      "0.11606360882944593 0.6352622349752909\n"
     ]
    }
   ],
   "source": [
    "#from sklearn.metrics import precision_recall_curve, roc_curve\n",
    "from sklearn.metrics import auc\n",
    "prec, rec, thr = precision_recall_curve(y_test[:,2], predit[:,2])\n",
    "aupr_val = auc(rec, prec)\n",
    "fpr, tpr, thr = roc_curve(y_test[:,2], predit[:,2])\n",
    "auc_val = auc(fpr, tpr)\n",
    "print(aupr_val,auc_val)"
   ]
  },
  {
   "cell_type": "code",
   "execution_count": null,
   "metadata": {
    "scrolled": false
   },
   "outputs": [],
   "source": [
    "# predit"
   ]
  },
  {
   "cell_type": "code",
   "execution_count": 122,
   "metadata": {},
   "outputs": [
    {
     "data": {
      "text/plain": [
       "(500,)"
      ]
     },
     "execution_count": 122,
     "metadata": {},
     "output_type": "execute_result"
    }
   ],
   "source": [
    "predit[:,0].shape "
   ]
  },
  {
   "cell_type": "code",
   "execution_count": 144,
   "metadata": {
    "scrolled": false
   },
   "outputs": [],
   "source": [
    "predicts = []\n",
    "for a,b,c in predit:\n",
    "    if a >=b and a>c:\n",
    "        predicts.append(0)\n",
    "        continue\n",
    "    if c>=b and c>a:\n",
    "        predicts.append(2)\n",
    "        continue\n",
    "    else:\n",
    "        predicts.append(1)"
   ]
  },
  {
   "cell_type": "code",
   "execution_count": 145,
   "metadata": {},
   "outputs": [
    {
     "name": "stdout",
     "output_type": "stream",
     "text": [
      "[[  0  15   0]\n",
      " [  0 444   0]\n",
      " [  0  41   0]]\n"
     ]
    },
    {
     "name": "stderr",
     "output_type": "stream",
     "text": [
      "c:\\program files\\python36\\lib\\site-packages\\sklearn\\metrics\\classification.py:1143: UndefinedMetricWarning: Precision and F-score are ill-defined and being set to 0.0 in labels with no predicted samples.\n",
      "  'precision', 'predicted', average, warn_for)\n",
      "c:\\program files\\python36\\lib\\site-packages\\sklearn\\metrics\\classification.py:1143: UndefinedMetricWarning: Precision and F-score are ill-defined and being set to 0.0 in labels with no predicted samples.\n",
      "  'precision', 'predicted', average, warn_for)\n",
      "c:\\program files\\python36\\lib\\site-packages\\sklearn\\metrics\\classification.py:1143: UndefinedMetricWarning: Precision and F-score are ill-defined and being set to 0.0 in labels with no predicted samples.\n",
      "  'precision', 'predicted', average, warn_for)\n"
     ]
    },
    {
     "name": "stdout",
     "output_type": "stream",
     "text": [
      "              precision    recall  f1-score   support\n",
      "\n",
      "           0       0.00      0.00      0.00        15\n",
      "           1       0.89      1.00      0.94       444\n",
      "           2       0.00      0.00      0.00        41\n",
      "\n",
      "   micro avg       0.89      0.89      0.89       500\n",
      "   macro avg       0.30      0.33      0.31       500\n",
      "weighted avg       0.79      0.89      0.84       500\n",
      "\n",
      "444\n"
     ]
    },
    {
     "data": {
      "image/png": "[encoded data removed]",
      "text/plain": [
       "<Figure size 648x648 with 1 Axes>"
      ]
     },
     "metadata": {
      "needs_background": "light"
     },
     "output_type": "display_data"
    }
   ],
   "source": [
    "\n",
    "cm = metrics.confusion_matrix(list(data.values[9500:,2]+1),list(predicts))\n",
    "print(cm)\n",
    "\n",
    "CR = classification_report(list(data.values[9500:,2]+1),list(predicts))\n",
    "print(CR)\n",
    "i=0\n",
    "for j in list(data.values[9500:,2]+1):\n",
    "    if j==1:\n",
    "        i +=1\n",
    "print(i)\n",
    "\n",
    "# plt.show()\n",
    "plot_confusion_matrix_from_data(list(data.values[9500:,2]+1), list(predicts))\n"
   ]
  },
  {
   "cell_type": "code",
   "execution_count": null,
   "metadata": {},
   "outputs": [],
   "source": []
  }
 ],
 "metadata": {
  "kernelspec": {
   "display_name": "Python 3",
   "language": "python",
   "name": "python3"
  },
  "language_info": {
   "codemirror_mode": {
    "name": "ipython",
    "version": 3
   },
   "file_extension": ".py",
   "mimetype": "text/x-python",
   "name": "python",
   "nbconvert_exporter": "python",
   "pygments_lexer": "ipython3",
   "version": "3.6.7"
  }
 },
 "nbformat": 4,
 "nbformat_minor": 2
}
