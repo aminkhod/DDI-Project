{
 "cells": [
  {
   "cell_type": "code",
   "execution_count": 163,
   "metadata": {},
   "outputs": [],
   "source": [
    "import pandas as pd \n",
    "import numpy as np\n",
    "\n",
    "from sklearn import metrics\n",
    "import seaborn as sn\n",
    "import confusion_matrix_pretty_print\n",
    "from confusion_matrix_pretty_print import plot_confusion_matrix_from_data\n",
    "from sklearn import tree\n",
    "from sklearn.ensemble import ExtraTreesClassifier\n",
    "from sklearn.metrics import confusion_matrix,classification_report,precision_score"
   ]
  },
  {
   "cell_type": "code",
   "execution_count": 164,
   "metadata": {},
   "outputs": [],
   "source": [
    "data = pd.read_csv('data1000v1.csv')"
   ]
  },
  {
   "cell_type": "code",
   "execution_count": 165,
   "metadata": {},
   "outputs": [
    {
     "data": {
      "text/plain": [
       "(1000, 1139)"
      ]
     },
     "execution_count": 165,
     "metadata": {},
     "output_type": "execute_result"
    }
   ],
   "source": [
    "data.shape"
   ]
  },
  {
   "cell_type": "code",
   "execution_count": 166,
   "metadata": {},
   "outputs": [
    {
     "data": {
      "text/html": [
       "<div>\n",
       "<style scoped>\n",
       "    .dataframe tbody tr th:only-of-type {\n",
       "        vertical-align: middle;\n",
       "    }\n",
       "\n",
       "    .dataframe tbody tr th {\n",
       "        vertical-align: top;\n",
       "    }\n",
       "\n",
       "    .dataframe thead th {\n",
       "        text-align: right;\n",
       "    }\n",
       "</style>\n",
       "<table border=\"1\" class=\"dataframe\">\n",
       "  <thead>\n",
       "    <tr style=\"text-align: right;\">\n",
       "      <th></th>\n",
       "      <th>0</th>\n",
       "      <th>1</th>\n",
       "      <th>2</th>\n",
       "      <th>3</th>\n",
       "      <th>4</th>\n",
       "      <th>5</th>\n",
       "      <th>6</th>\n",
       "      <th>7</th>\n",
       "      <th>8</th>\n",
       "      <th>9</th>\n",
       "      <th>...</th>\n",
       "      <th>1129</th>\n",
       "      <th>1130</th>\n",
       "      <th>1131</th>\n",
       "      <th>1132</th>\n",
       "      <th>1133</th>\n",
       "      <th>1134</th>\n",
       "      <th>1135</th>\n",
       "      <th>1136</th>\n",
       "      <th>1137</th>\n",
       "      <th>1138</th>\n",
       "    </tr>\n",
       "  </thead>\n",
       "  <tbody>\n",
       "    <tr>\n",
       "      <th>0</th>\n",
       "      <td>DB00384</td>\n",
       "      <td>DB00248</td>\n",
       "      <td>0</td>\n",
       "      <td>0.001651</td>\n",
       "      <td>0.001783</td>\n",
       "      <td>0.001572</td>\n",
       "      <td>0.001935</td>\n",
       "      <td>0.001869</td>\n",
       "      <td>0.001997</td>\n",
       "      <td>0.001921</td>\n",
       "      <td>...</td>\n",
       "      <td>0.001518</td>\n",
       "      <td>0.001730</td>\n",
       "      <td>0.001177</td>\n",
       "      <td>0.001660</td>\n",
       "      <td>0.001451</td>\n",
       "      <td>0.001067</td>\n",
       "      <td>0.001527</td>\n",
       "      <td>0.001565</td>\n",
       "      <td>0.001595</td>\n",
       "      <td>0.001592</td>\n",
       "    </tr>\n",
       "    <tr>\n",
       "      <th>1</th>\n",
       "      <td>DB00248</td>\n",
       "      <td>DB00384</td>\n",
       "      <td>0</td>\n",
       "      <td>0.001519</td>\n",
       "      <td>0.001741</td>\n",
       "      <td>0.001426</td>\n",
       "      <td>0.001485</td>\n",
       "      <td>0.001971</td>\n",
       "      <td>0.001518</td>\n",
       "      <td>0.001526</td>\n",
       "      <td>...</td>\n",
       "      <td>0.001483</td>\n",
       "      <td>0.001508</td>\n",
       "      <td>0.001787</td>\n",
       "      <td>0.002060</td>\n",
       "      <td>0.001366</td>\n",
       "      <td>0.001041</td>\n",
       "      <td>0.001414</td>\n",
       "      <td>0.001544</td>\n",
       "      <td>0.001435</td>\n",
       "      <td>0.001480</td>\n",
       "    </tr>\n",
       "    <tr>\n",
       "      <th>2</th>\n",
       "      <td>DB00244</td>\n",
       "      <td>DB04835</td>\n",
       "      <td>0</td>\n",
       "      <td>0.001666</td>\n",
       "      <td>0.001544</td>\n",
       "      <td>0.001413</td>\n",
       "      <td>0.001586</td>\n",
       "      <td>0.001652</td>\n",
       "      <td>0.001541</td>\n",
       "      <td>0.001570</td>\n",
       "      <td>...</td>\n",
       "      <td>0.001548</td>\n",
       "      <td>0.001827</td>\n",
       "      <td>0.001109</td>\n",
       "      <td>0.001649</td>\n",
       "      <td>0.001583</td>\n",
       "      <td>0.001372</td>\n",
       "      <td>0.001742</td>\n",
       "      <td>0.001527</td>\n",
       "      <td>0.001811</td>\n",
       "      <td>0.001697</td>\n",
       "    </tr>\n",
       "    <tr>\n",
       "      <th>3</th>\n",
       "      <td>DB04835</td>\n",
       "      <td>DB00244</td>\n",
       "      <td>0</td>\n",
       "      <td>0.001572</td>\n",
       "      <td>0.001523</td>\n",
       "      <td>0.001554</td>\n",
       "      <td>0.001496</td>\n",
       "      <td>0.001511</td>\n",
       "      <td>0.001398</td>\n",
       "      <td>0.001510</td>\n",
       "      <td>...</td>\n",
       "      <td>0.001500</td>\n",
       "      <td>0.001568</td>\n",
       "      <td>0.001213</td>\n",
       "      <td>0.001553</td>\n",
       "      <td>0.001437</td>\n",
       "      <td>0.001074</td>\n",
       "      <td>0.001546</td>\n",
       "      <td>0.001854</td>\n",
       "      <td>0.001706</td>\n",
       "      <td>0.001742</td>\n",
       "    </tr>\n",
       "    <tr>\n",
       "      <th>4</th>\n",
       "      <td>DB00278</td>\n",
       "      <td>DB00438</td>\n",
       "      <td>0</td>\n",
       "      <td>0.001600</td>\n",
       "      <td>0.001588</td>\n",
       "      <td>0.001563</td>\n",
       "      <td>0.001519</td>\n",
       "      <td>0.001551</td>\n",
       "      <td>0.001390</td>\n",
       "      <td>0.001558</td>\n",
       "      <td>...</td>\n",
       "      <td>0.001554</td>\n",
       "      <td>0.001432</td>\n",
       "      <td>0.001036</td>\n",
       "      <td>0.001328</td>\n",
       "      <td>0.001923</td>\n",
       "      <td>0.001469</td>\n",
       "      <td>0.001791</td>\n",
       "      <td>0.001493</td>\n",
       "      <td>0.001456</td>\n",
       "      <td>0.001638</td>\n",
       "    </tr>\n",
       "  </tbody>\n",
       "</table>\n",
       "<p>5 rows × 1139 columns</p>\n",
       "</div>"
      ],
      "text/plain": [
       "         0        1  2         3         4         5         6         7  \\\n",
       "0  DB00384  DB00248  0  0.001651  0.001783  0.001572  0.001935  0.001869   \n",
       "1  DB00248  DB00384  0  0.001519  0.001741  0.001426  0.001485  0.001971   \n",
       "2  DB00244  DB04835  0  0.001666  0.001544  0.001413  0.001586  0.001652   \n",
       "3  DB04835  DB00244  0  0.001572  0.001523  0.001554  0.001496  0.001511   \n",
       "4  DB00278  DB00438  0  0.001600  0.001588  0.001563  0.001519  0.001551   \n",
       "\n",
       "          8         9    ...         1129      1130      1131      1132  \\\n",
       "0  0.001997  0.001921    ...     0.001518  0.001730  0.001177  0.001660   \n",
       "1  0.001518  0.001526    ...     0.001483  0.001508  0.001787  0.002060   \n",
       "2  0.001541  0.001570    ...     0.001548  0.001827  0.001109  0.001649   \n",
       "3  0.001398  0.001510    ...     0.001500  0.001568  0.001213  0.001553   \n",
       "4  0.001390  0.001558    ...     0.001554  0.001432  0.001036  0.001328   \n",
       "\n",
       "       1133      1134      1135      1136      1137      1138  \n",
       "0  0.001451  0.001067  0.001527  0.001565  0.001595  0.001592  \n",
       "1  0.001366  0.001041  0.001414  0.001544  0.001435  0.001480  \n",
       "2  0.001583  0.001372  0.001742  0.001527  0.001811  0.001697  \n",
       "3  0.001437  0.001074  0.001546  0.001854  0.001706  0.001742  \n",
       "4  0.001923  0.001469  0.001791  0.001493  0.001456  0.001638  \n",
       "\n",
       "[5 rows x 1139 columns]"
      ]
     },
     "execution_count": 166,
     "metadata": {},
     "output_type": "execute_result"
    }
   ],
   "source": [
    "data.head()"
   ]
  },
  {
   "cell_type": "code",
   "execution_count": 167,
   "metadata": {},
   "outputs": [],
   "source": [
    "X_train, X_test = data.values[:800,3:], data.values[800:,3:]\n",
    "y_train, y_test = data.values[:800,2], data.values[800:,2]"
   ]
  },
  {
   "cell_type": "code",
   "execution_count": 168,
   "metadata": {},
   "outputs": [
    {
     "data": {
      "text/plain": [
       "array([0.0016507470000000002, 0.0017831, 0.0015716870000000002, ...,\n",
       "       0.001564923, 0.0015947000000000001, 0.00159174], dtype=object)"
      ]
     },
     "execution_count": 168,
     "metadata": {},
     "output_type": "execute_result"
    }
   ],
   "source": [
    "X_train[0]"
   ]
  },
  {
   "cell_type": "code",
   "execution_count": 169,
   "metadata": {},
   "outputs": [
    {
     "data": {
      "text/plain": [
       "71.0"
      ]
     },
     "execution_count": 169,
     "metadata": {},
     "output_type": "execute_result"
    }
   ],
   "source": [
    "1136/2/2/2/2"
   ]
  },
  {
   "cell_type": "code",
   "execution_count": 170,
   "metadata": {},
   "outputs": [
    {
     "data": {
      "text/plain": [
       "1136"
      ]
     },
     "execution_count": 170,
     "metadata": {},
     "output_type": "execute_result"
    }
   ],
   "source": [
    "16*71"
   ]
  },
  {
   "cell_type": "code",
   "execution_count": 171,
   "metadata": {},
   "outputs": [],
   "source": [
    "#reshape data to fit model\n",
    "X_train = X_train.reshape(800,16,71,1)\n",
    "X_test = X_test.reshape(200,16,71,1)"
   ]
  },
  {
   "cell_type": "code",
   "execution_count": 172,
   "metadata": {},
   "outputs": [
    {
     "data": {
      "text/plain": [
       "(800, 16, 71, 1)"
      ]
     },
     "execution_count": 172,
     "metadata": {},
     "output_type": "execute_result"
    }
   ],
   "source": [
    "X_train.shape"
   ]
  },
  {
   "cell_type": "code",
   "execution_count": 173,
   "metadata": {},
   "outputs": [
    {
     "name": "stdout",
     "output_type": "stream",
     "text": [
      "1 1\n"
     ]
    }
   ],
   "source": [
    "y_train = y_train + 1\n",
    "y_test = y_test + 1\n",
    "print(y_train[0], y_test[0])"
   ]
  },
  {
   "cell_type": "code",
   "execution_count": 174,
   "metadata": {},
   "outputs": [
    {
     "data": {
      "text/plain": [
       "array([0., 1., 0.], dtype=float32)"
      ]
     },
     "execution_count": 174,
     "metadata": {},
     "output_type": "execute_result"
    }
   ],
   "source": [
    "from keras.utils import to_categorical\n",
    "#one-hot encode target column\n",
    "y_train = to_categorical(y_train)\n",
    "y_test = to_categorical(y_test)\n",
    "y_test[0]"
   ]
  },
  {
   "cell_type": "code",
   "execution_count": 175,
   "metadata": {},
   "outputs": [],
   "source": [
    "from keras.models import Sequential\n",
    "from keras.layers import Dense, Conv2D, Flatten\n",
    "#create model\n",
    "model = Sequential()\n",
    "#add model layers\n",
    "model.add(Conv2D(64, kernel_size=2, activation='relu', input_shape=(16,71,1)))\n",
    "model.add(Conv2D(32, kernel_size=2, activation='relu'))\n",
    "model.add(Flatten())\n",
    "model.add(Dense(3, activation='softmax'))"
   ]
  },
  {
   "cell_type": "code",
   "execution_count": 176,
   "metadata": {},
   "outputs": [],
   "source": [
    "#compile model using accuracy to measure model performance\n",
    "model.compile(optimizer='adam', loss='categorical_crossentropy', metrics=['accuracy'])"
   ]
  },
  {
   "cell_type": "code",
   "execution_count": 177,
   "metadata": {},
   "outputs": [
    {
     "name": "stdout",
     "output_type": "stream",
     "text": [
      "Train on 800 samples, validate on 200 samples\n",
      "Epoch 1/15\n",
      "800/800 [==============================] - 4s 5ms/step - loss: 0.6391 - acc: 0.8350 - val_loss: 0.3245 - val_acc: 0.9400\n",
      "Epoch 2/15\n",
      "800/800 [==============================] - 4s 4ms/step - loss: 0.4882 - acc: 0.8550 - val_loss: 0.3011 - val_acc: 0.9400\n",
      "Epoch 3/15\n",
      "800/800 [==============================] - 4s 4ms/step - loss: 0.4703 - acc: 0.8550 - val_loss: 0.2861 - val_acc: 0.9400\n",
      "Epoch 4/15\n",
      "800/800 [==============================] - 4s 4ms/step - loss: 0.4023 - acc: 0.8550 - val_loss: 0.2630 - val_acc: 0.9400\n",
      "Epoch 5/15\n",
      "800/800 [==============================] - 4s 5ms/step - loss: 0.2792 - acc: 0.8837 - val_loss: 0.3149 - val_acc: 0.9150\n",
      "Epoch 6/15\n",
      "800/800 [==============================] - 4s 5ms/step - loss: 0.1773 - acc: 0.9337 - val_loss: 0.3632 - val_acc: 0.9050\n",
      "Epoch 7/15\n",
      "800/800 [==============================] - 4s 4ms/step - loss: 0.1103 - acc: 0.9637 - val_loss: 0.4070 - val_acc: 0.8950\n",
      "Epoch 8/15\n",
      "800/800 [==============================] - 4s 4ms/step - loss: 0.0714 - acc: 0.9825 - val_loss: 0.4465 - val_acc: 0.9150\n",
      "Epoch 9/15\n",
      "800/800 [==============================] - 4s 4ms/step - loss: 0.0476 - acc: 0.9937 - val_loss: 0.5296 - val_acc: 0.8700\n",
      "Epoch 10/15\n",
      "800/800 [==============================] - 4s 4ms/step - loss: 0.0313 - acc: 0.9975 - val_loss: 0.6075 - val_acc: 0.8500\n",
      "Epoch 11/15\n",
      "800/800 [==============================] - 4s 4ms/step - loss: 0.0277 - acc: 0.9975 - val_loss: 0.6101 - val_acc: 0.8800\n",
      "Epoch 12/15\n",
      "800/800 [==============================] - 4s 5ms/step - loss: 0.0179 - acc: 1.0000 - val_loss: 0.6608 - val_acc: 0.8800\n",
      "Epoch 13/15\n",
      "800/800 [==============================] - 3s 4ms/step - loss: 0.0134 - acc: 1.0000 - val_loss: 0.7059 - val_acc: 0.8800\n",
      "Epoch 14/15\n",
      "800/800 [==============================] - 4s 4ms/step - loss: 0.0106 - acc: 1.0000 - val_loss: 0.7508 - val_acc: 0.8700\n",
      "Epoch 15/15\n",
      "800/800 [==============================] - 4s 4ms/step - loss: 0.0084 - acc: 1.0000 - val_loss: 0.7556 - val_acc: 0.8800\n"
     ]
    },
    {
     "data": {
      "text/plain": [
       "<keras.callbacks.History at 0x1d983363a90>"
      ]
     },
     "execution_count": 177,
     "metadata": {},
     "output_type": "execute_result"
    }
   ],
   "source": [
    "#train the model\n",
    "model.fit(X_train, y_train, validation_data=(X_test, y_test), epochs=15)"
   ]
  },
  {
   "cell_type": "code",
   "execution_count": 179,
   "metadata": {},
   "outputs": [
    {
     "data": {
      "text/plain": [
       "array([[6.9135160e-05, 9.9991858e-01, 1.2282602e-05],\n",
       "       [2.0225001e-05, 9.9997032e-01, 9.3683302e-06],\n",
       "       [1.4848862e-04, 9.9982566e-01, 2.5879233e-05],\n",
       "       [1.8060043e-04, 9.9974924e-01, 7.0177979e-05]], dtype=float32)"
      ]
     },
     "execution_count": 179,
     "metadata": {},
     "output_type": "execute_result"
    }
   ],
   "source": [
    "#predict first 4 images in the test set\n",
    "predit = model.predict(X_test)\n",
    "predit[:4]"
   ]
  },
  {
   "cell_type": "code",
   "execution_count": 180,
   "metadata": {},
   "outputs": [
    {
     "data": {
      "text/plain": [
       "array([[0., 1., 0.],\n",
       "       [0., 1., 0.],\n",
       "       [0., 1., 0.],\n",
       "       [0., 1., 0.]], dtype=float32)"
      ]
     },
     "execution_count": 180,
     "metadata": {},
     "output_type": "execute_result"
    }
   ],
   "source": [
    "#actual results for first 4 images in test set\n",
    "y_test[:4]"
   ]
  },
  {
   "cell_type": "code",
   "execution_count": 199,
   "metadata": {},
   "outputs": [
    {
     "name": "stdout",
     "output_type": "stream",
     "text": [
      "0.037798283327818594 0.39052631578947367\n"
     ]
    }
   ],
   "source": [
    "from sklearn.metrics import precision_recall_curve, roc_curve\n",
    "from sklearn.metrics import auc\n",
    "prec, rec, thr = precision_recall_curve(y_test[:,2],predit[:,2])\n",
    "aupr_val = auc(rec, prec)\n",
    "fpr, tpr, thr = roc_curve(y_test[:,2], predit[:,2])\n",
    "auc_val = auc(fpr, tpr)\n",
    "print(aupr_val,auc_val)"
   ]
  },
  {
   "cell_type": "code",
   "execution_count": 182,
   "metadata": {
    "scrolled": false
   },
   "outputs": [],
   "source": [
    "# predit"
   ]
  },
  {
   "cell_type": "code",
   "execution_count": 97,
   "metadata": {},
   "outputs": [
    {
     "data": {
      "text/plain": [
       "(200,)"
      ]
     },
     "execution_count": 97,
     "metadata": {},
     "output_type": "execute_result"
    }
   ],
   "source": [
    "predit[:,0].shape "
   ]
  },
  {
   "cell_type": "code",
   "execution_count": 185,
   "metadata": {},
   "outputs": [
    {
     "data": {
      "text/plain": [
       "array([0.5       , 0.33333333, 0.        , 0.        , 1.        ])"
      ]
     },
     "execution_count": 185,
     "metadata": {},
     "output_type": "execute_result"
    }
   ],
   "source": [
    "prec"
   ]
  },
  {
   "cell_type": "code",
   "execution_count": 200,
   "metadata": {
    "scrolled": false
   },
   "outputs": [
    {
     "ename": "SyntaxError",
     "evalue": "invalid syntax (<ipython-input-200-cfed4cbc54f1>, line 4)",
     "output_type": "error",
     "traceback": [
      "\u001b[1;36m  File \u001b[1;32m\"<ipython-input-200-cfed4cbc54f1>\"\u001b[1;36m, line \u001b[1;32m4\u001b[0m\n\u001b[1;33m    predicts.append[]\u001b[0m\n\u001b[1;37m                    ^\u001b[0m\n\u001b[1;31mSyntaxError\u001b[0m\u001b[1;31m:\u001b[0m invalid syntax\n"
     ]
    }
   ],
   "source": [
    "predicts = []\n",
    "for a,b,v in predit:\n",
    "    if a >b and a>c:\n",
    "        predicts.append[]"
   ]
  },
  {
   "cell_type": "code",
   "execution_count": 193,
   "metadata": {},
   "outputs": [
    {
     "data": {
      "text/plain": [
       "(200, 3)"
      ]
     },
     "execution_count": 193,
     "metadata": {},
     "output_type": "execute_result"
    }
   ],
   "source": [
    "\n",
    "cm = metrics.confusion_matrix(df['Pregnant'],df['areDeleted'])\n",
    "print(cm)\n",
    "# sn.set(font_scale=1.4)#for label size\n",
    "# sn.heatmap(cm, annot=True,annot_kws={\"size\": 16},)# font size\n",
    "\n",
    "# plt.show()\n",
    "plot_confusion_matrix_from_data(df['Pregnant'],df['areDeleted'])\n",
    "\"\"\"Az 7599 post 3666 post hazf shode. Az 7599 nafar 2135 bardar bodan\"\"\"\n",
    "\n"
   ]
  },
  {
   "cell_type": "code",
   "execution_count": null,
   "metadata": {},
   "outputs": [],
   "source": []
  }
 ],
 "metadata": {
  "kernelspec": {
   "display_name": "Python 3",
   "language": "python",
   "name": "python3"
  },
  "language_info": {
   "codemirror_mode": {
    "name": "ipython",
    "version": 3
   },
   "file_extension": ".py",
   "mimetype": "text/x-python",
   "name": "python",
   "nbconvert_exporter": "python",
   "pygments_lexer": "ipython3",
   "version": "3.6.7"
  }
 },
 "nbformat": 4,
 "nbformat_minor": 2
}
