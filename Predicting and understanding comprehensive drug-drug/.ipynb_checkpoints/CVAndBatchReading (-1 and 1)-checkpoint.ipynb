{
 "cells": [
  {
   "cell_type": "code",
   "execution_count": 1,
   "metadata": {},
   "outputs": [],
   "source": [
    "import pandas as pd\n",
    "import numpy as np\n",
    "import random"
   ]
  },
  {
   "cell_type": "code",
   "execution_count": 2,
   "metadata": {},
   "outputs": [],
   "source": [
    "data = pd.read_csv('../../triple_cosineSNF(-1and1)1.csv').iloc[:,1:]\n",
    "# index = list(range(len(data)))\n",
    "# random.shuffle(index)\n",
    "# dataShuffled =  data.iloc[index]\n",
    "# data.to_csv('../../triple_cosineSNF(-1and1)1.csv')"
   ]
  },
  {
   "cell_type": "code",
   "execution_count": 3,
   "metadata": {},
   "outputs": [],
   "source": [
    "# (data.iloc[:,:3]).to_csv('drugsPairs(-1_1).csv')"
   ]
  },
  {
   "cell_type": "code",
   "execution_count": 4,
   "metadata": {},
   "outputs": [],
   "source": [
    "# drugsPairs = pd.read_csv('drugsPairs(-1_1).csv')\n",
    "# r, c = drugsPairs.shape\n",
    "# print(r, c)"
   ]
  },
  {
   "cell_type": "code",
   "execution_count": 5,
   "metadata": {},
   "outputs": [],
   "source": [
    "# indexes = []\n",
    "# for i in range(21351):\n",
    "#     candInd = np.random.randint(r)\n",
    "# #     if (len(indexes)< r-1):\n",
    "#     if (candInd not in indexes):\n",
    "#         indexes.append(candInd)\n",
    "# #         print(candInd)\n",
    "#     else:\n",
    "#         while(True):\n",
    "#             candInd = np.random.randint(r)\n",
    "#             if candInd not in indexes:\n",
    "#                 break\n",
    "#         indexes.append(candInd)\n",
    "# #         print(candInd)\n",
    "#     di, dj = str(drugsPairs.iloc[candInd,1]), str(drugsPairs.iloc[candInd,2])\n",
    "# #     print(di,dj)\n",
    "#     bufpairs = drugsPairs[drugsPairs[str(1)]==dj]\n",
    "#     indexes.append(int(bufpairs[bufpairs[str(2)]==di]['0']))\n",
    "\n",
    "# print(len(indexes))\n"
   ]
  },
  {
   "cell_type": "code",
   "execution_count": 6,
   "metadata": {},
   "outputs": [],
   "source": [
    "# index = drugsPairs.values[:,0]\n",
    "# random.shuffle(index)\n",
    "# drugsPairsShuffled =  drugsPairs.iloc[index]"
   ]
  },
  {
   "cell_type": "code",
   "execution_count": 7,
   "metadata": {
    "scrolled": true
   },
   "outputs": [],
   "source": [
    "# checked = False\n",
    "# problems = []\n",
    "# i = 0\n",
    "# while(i +1 < len(indexes)):\n",
    "# #     if i + 1 == len(indexes):\n",
    "#     if (drugsPairs.iloc[indexes[i],1]==drugsPairs.iloc[indexes[i+1],2])and(drugsPairs.iloc[indexes[i],2]==drugsPairs.iloc[indexes[i+1],1]):\n",
    "#         i += 2\n",
    "\n",
    "#     else:        \n",
    "#         problems.append([i,drugsPairs.iloc[i,:]])\n",
    "# #         print([i,drugsPairs.iloc[i,:]])\n",
    "#         del indexes[i]\n",
    "# #         i += 1\n",
    "# #         if i + 1 == len(indexes):\n",
    "# #             problems.append(list(i,drugsPairs.iloc[i,:]))\n",
    "# #             indexes.remove(i)\n",
    "\n",
    "# len(problems)"
   ]
  },
  {
   "cell_type": "code",
   "execution_count": 8,
   "metadata": {},
   "outputs": [],
   "source": [
    "# [20,drugsPairs.iloc[20,:]]"
   ]
  },
  {
   "cell_type": "code",
   "execution_count": 9,
   "metadata": {},
   "outputs": [],
   "source": [
    "# problems = pd.DataFrame(problems)\n",
    "# problems.to_csv('problems21351.csv', index=False)\n"
   ]
  },
  {
   "cell_type": "code",
   "execution_count": 10,
   "metadata": {},
   "outputs": [],
   "source": [
    "# indexes = pd.DataFrame(indexes)\n",
    "# indexes.to_csv('indexes21351.csv', index=False)"
   ]
  },
  {
   "cell_type": "code",
   "execution_count": 11,
   "metadata": {},
   "outputs": [],
   "source": [
    "# indexes = pd.read_csv('indexes21351.csv')\n",
    "\n",
    "# indexes = list(indexes['0'])\n",
    "\n",
    "# # print(indexes[0]==122943)"
   ]
  },
  {
   "cell_type": "code",
   "execution_count": 12,
   "metadata": {},
   "outputs": [],
   "source": [
    "# data10000 = []\n",
    "# line1 = 0\n",
    "# with open('../../saved F(triple_cosineSNF).csv', 'r') as fd:\n",
    "    \n",
    "#     for row ,line in enumerate(fd):\n",
    "#         if row-1 in indexes:\n",
    "# #             print(row)\n",
    "#             data10000.append(line.split(','))\n",
    "# #         line1 = line.split(',')\n",
    "# #         break\n",
    "# # line1"
   ]
  },
  {
   "cell_type": "code",
   "execution_count": 13,
   "metadata": {},
   "outputs": [],
   "source": [
    "dataAll = data\n"
   ]
  },
  {
   "cell_type": "code",
   "execution_count": null,
   "metadata": {},
   "outputs": [
    {
     "name": "stderr",
     "output_type": "stream",
     "text": [
      "c:\\program files\\python36\\lib\\site-packages\\pandas\\core\\indexes\\api.py:107: RuntimeWarning: '<' not supported between instances of 'str' and 'int', sort order is undefined for incomparable objects\n",
      "  result = result.union(other)\n"
     ]
    }
   ],
   "source": [
    "data = []\n",
    "officer = []\n",
    "# index = indexes\n",
    "# random.shuffle(index)\n",
    "for i in range(len(dataAll['0'])):\n",
    "    if i in officer:\n",
    "        continue\n",
    "    data.append(dataAll.iloc[i,:])\n",
    "    officer.append(i)\n",
    "    bufpairs = dataAll[dataAll[str(0)]==dataAll.iloc[i,1]]\n",
    "    data.append(bufpairs[bufpairs[str(1)]==dataAll.iloc[i,0]])\n",
    "#     for j in index:\n",
    "#         if j in officer:\n",
    "#             continue\n",
    "# #         print('add')\n",
    "#         if dataAll.iloc[i,1] == dataAll.iloc[j,0] and dataAll.iloc[i,0] == dataAll.iloc[j,1]:\n",
    "#             data.append(dataAll.iloc[j,:])\n",
    "    officer.append(int(bufpairs.index[bufpairs[str(1)]==dataAll.iloc[i,0]][0]))\n",
    "data = pd.DataFrame(data)\n",
    "data.to_csv('../../triple_cosineSNF(-1and1)2.csv', index=False)"
   ]
  },
  {
   "cell_type": "code",
   "execution_count": null,
   "metadata": {},
   "outputs": [],
   "source": []
  }
 ],
 "metadata": {
  "kernelspec": {
   "display_name": "Python 3",
   "language": "python",
   "name": "python3"
  },
  "language_info": {
   "codemirror_mode": {
    "name": "ipython",
    "version": 3
   },
   "file_extension": ".py",
   "mimetype": "text/x-python",
   "name": "python",
   "nbconvert_exporter": "python",
   "pygments_lexer": "ipython3",
   "version": "3.6.7"
  }
 },
 "nbformat": 4,
 "nbformat_minor": 2
}
