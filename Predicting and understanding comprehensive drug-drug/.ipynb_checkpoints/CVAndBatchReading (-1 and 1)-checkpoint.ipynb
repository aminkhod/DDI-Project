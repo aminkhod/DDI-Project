{
 "cells": [
  {
   "cell_type": "code",
   "execution_count": 22,
   "metadata": {},
   "outputs": [],
   "source": [
    "import pandas as pd\n",
    "import numpy as np\n"
   ]
  },
  {
   "cell_type": "code",
   "execution_count": 23,
   "metadata": {},
   "outputs": [],
   "source": [
    "# data = pd.read_csv('triple_cosineSNF(-1and1).csv')\n"
   ]
  },
  {
   "cell_type": "code",
   "execution_count": 24,
   "metadata": {},
   "outputs": [],
   "source": [
    "# (data.iloc[:,:3]).to_csv('drugsPairs(-1_1).csv')"
   ]
  },
  {
   "cell_type": "code",
   "execution_count": 73,
   "metadata": {},
   "outputs": [
    {
     "name": "stdout",
     "output_type": "stream",
     "text": [
      "322056 4\n"
     ]
    },
    {
     "name": "stderr",
     "output_type": "stream",
     "text": [
      "c:\\program files\\python36\\lib\\site-packages\\IPython\\core\\interactiveshell.py:3020: DtypeWarning: Columns (1,2) have mixed types. Specify dtype option on import or set low_memory=False.\n",
      "  interactivity=interactivity, compiler=compiler, result=result)\n"
     ]
    }
   ],
   "source": [
    "drugsPairs = pd.read_csv('drugsPairs(-1_1).csv')\n",
    "r, c = drugsPairs.shape\n",
    "print(r, c)"
   ]
  },
  {
   "cell_type": "code",
   "execution_count": 58,
   "metadata": {},
   "outputs": [
    {
     "name": "stdout",
     "output_type": "stream",
     "text": [
      "10000\n"
     ]
    }
   ],
   "source": [
    "indexes = []\n",
    "for i in range(5000):\n",
    "    candInd = np.random.randint(r)\n",
    "#     if (len(indexes)< r-1):\n",
    "    if (candInd not in indexes):\n",
    "        indexes.append(candInd)\n",
    "#         print(candInd)\n",
    "    else:\n",
    "        while(True):\n",
    "            candInd = np.random.randint(r)\n",
    "            if candInd not in indexes:\n",
    "                break\n",
    "        indexes.append(candInd)\n",
    "#         print(candInd)\n",
    "    di, dj = str(drugsPairs.iloc[candInd,1]), str(drugsPairs.iloc[candInd,2])\n",
    "#     print(di,dj)\n",
    "    bufpairs = drugsPairs[drugsPairs[str(1)]==dj]\n",
    "    indexes(int(bufpairs[bufpairs[str(2)]==di]['0']))\n",
    "\n",
    "print(len(indexes))\n"
   ]
  },
  {
   "cell_type": "code",
   "execution_count": 59,
   "metadata": {
    "scrolled": true
   },
   "outputs": [
    {
     "name": "stdout",
     "output_type": "stream",
     "text": [
      "[84, 0    DB00177\n",
      "1    DB00310\n",
      "2          1\n",
      "Name: 84, dtype: object]\n",
      "[84, 0    DB00177\n",
      "1    DB00310\n",
      "2          1\n",
      "Name: 84, dtype: object]\n",
      "[838, 0    DB00191\n",
      "1    DB00497\n",
      "2          1\n",
      "Name: 838, dtype: object]\n",
      "[838, 0    DB00191\n",
      "1    DB00497\n",
      "2          1\n",
      "Name: 838, dtype: object]\n",
      "[868, 0    DB00191\n",
      "1    DB00985\n",
      "2         -1\n",
      "Name: 868, dtype: object]\n",
      "[868, 0    DB00191\n",
      "1    DB00985\n",
      "2         -1\n",
      "Name: 868, dtype: object]\n",
      "[1354, 0    DB00213\n",
      "1    DB01184\n",
      "2          1\n",
      "Name: 1354, dtype: object]\n",
      "[1354, 0    DB00213\n",
      "1    DB01184\n",
      "2          1\n",
      "Name: 1354, dtype: object]\n",
      "[1818, 0    DB00230\n",
      "1    DB00542\n",
      "2          1\n",
      "Name: 1818, dtype: object]\n",
      "[1818, 0    DB00230\n",
      "1    DB00542\n",
      "2          1\n",
      "Name: 1818, dtype: object]\n",
      "[1908, 0    DB00230\n",
      "1    DB01588\n",
      "2          1\n",
      "Name: 1908, dtype: object]\n",
      "[1908, 0    DB00230\n",
      "1    DB01588\n",
      "2          1\n",
      "Name: 1908, dtype: object]\n",
      "[2330, 0    DB00244\n",
      "1    DB01129\n",
      "2         -1\n",
      "Name: 2330, dtype: object]\n",
      "[2330, 0    DB00244\n",
      "1    DB01129\n",
      "2         -1\n",
      "Name: 2330, dtype: object]\n",
      "[2814, 0    DB00273\n",
      "1    DB00988\n",
      "2         -1\n",
      "Name: 2814, dtype: object]\n",
      "[2814, 0    DB00273\n",
      "1    DB00988\n",
      "2         -1\n",
      "Name: 2814, dtype: object]\n",
      "[2998, 0    DB00277\n",
      "1    DB00379\n",
      "2         -1\n",
      "Name: 2998, dtype: object]\n",
      "[2998, 0    DB00277\n",
      "1    DB00379\n",
      "2         -1\n",
      "Name: 2998, dtype: object]\n",
      "[3246, 0    DB00292\n",
      "1    DB00186\n",
      "2          1\n",
      "Name: 3246, dtype: object]\n",
      "[3246, 0    DB00292\n",
      "1    DB00186\n",
      "2          1\n",
      "Name: 3246, dtype: object]\n",
      "[3458, 0    DB00296\n",
      "1    DB00842\n",
      "2          1\n",
      "Name: 3458, dtype: object]\n",
      "[3458, 0    DB00296\n",
      "1    DB00842\n",
      "2          1\n",
      "Name: 3458, dtype: object]\n",
      "[4038, 0    DB00313\n",
      "1    DB00374\n",
      "2         -1\n",
      "Name: 4038, dtype: object]\n",
      "[4038, 0    DB00313\n",
      "1    DB00374\n",
      "2         -1\n",
      "Name: 4038, dtype: object]\n",
      "[4200, 0    DB00315\n",
      "1    DB00601\n",
      "2          1\n",
      "Name: 4200, dtype: object]\n",
      "[4200, 0    DB00315\n",
      "1    DB00601\n",
      "2          1\n",
      "Name: 4200, dtype: object]\n",
      "[4234, 0    DB00319\n",
      "1    DB00301\n",
      "2          1\n",
      "Name: 4234, dtype: object]\n",
      "[4234, 0    DB00319\n",
      "1    DB00301\n",
      "2          1\n",
      "Name: 4234, dtype: object]\n",
      "[4656, 0    DB00331\n",
      "1    DB01175\n",
      "2          1\n",
      "Name: 4656, dtype: object]\n",
      "[4656, 0    DB00331\n",
      "1    DB01175\n",
      "2          1\n",
      "Name: 4656, dtype: object]\n",
      "[5898, 0    DB00366\n",
      "1    DB00780\n",
      "2          1\n",
      "Name: 5898, dtype: object]\n",
      "[5898, 0    DB00366\n",
      "1    DB00780\n",
      "2          1\n",
      "Name: 5898, dtype: object]\n",
      "[6240, 0    DB00373\n",
      "1    DB00545\n",
      "2          1\n",
      "Name: 6240, dtype: object]\n",
      "[6240, 0    DB00373\n",
      "1    DB00545\n",
      "2          1\n",
      "Name: 6240, dtype: object]\n",
      "[6554, 0    DB00376\n",
      "1    DB00572\n",
      "2          1\n",
      "Name: 6554, dtype: object]\n",
      "[6554, 0    DB00376\n",
      "1    DB00572\n",
      "2          1\n",
      "Name: 6554, dtype: object]\n",
      "[6828, 0    DB00384\n",
      "1    DB00310\n",
      "2          1\n",
      "Name: 6828, dtype: object]\n",
      "[6828, 0    DB00384\n",
      "1    DB00310\n",
      "2          1\n",
      "Name: 6828, dtype: object]\n",
      "[7654, 0    DB00402\n",
      "1    DB00690\n",
      "2          1\n",
      "Name: 7654, dtype: object]\n",
      "[7654, 0    DB00402\n",
      "1    DB00690\n",
      "2          1\n",
      "Name: 7654, dtype: object]\n",
      "[8822, 0    DB00433\n",
      "1    DB06288\n",
      "2          1\n",
      "Name: 8822, dtype: object]\n",
      "[8822, 0    DB00433\n",
      "1    DB06288\n",
      "2          1\n",
      "Name: 8822, dtype: object]\n",
      "[9446, 0    DB00450\n",
      "1    DB00757\n",
      "2          1\n",
      "Name: 9446, dtype: object]\n",
      "[9446, 0    DB00450\n",
      "1    DB00757\n",
      "2          1\n",
      "Name: 9446, dtype: object]\n"
     ]
    },
    {
     "data": {
      "text/plain": [
       "44"
      ]
     },
     "execution_count": 59,
     "metadata": {},
     "output_type": "execute_result"
    }
   ],
   "source": [
    "checked = False\n",
    "problems = []\n",
    "i = 0\n",
    "while(i +1 < len(indexes)):\n",
    "#     if i + 1 == len(indexes):\n",
    "    if (drugsPairs.iloc[indexes[i],0]==drugsPairs.iloc[indexes[i+1],1])and(drugsPairs.iloc[indexes[i],1]==drugsPairs.iloc[indexes[i+1],0]):\n",
    "        i += 2\n",
    "\n",
    "    else:        \n",
    "        problems.append([i,drugsPairs.iloc[i,:]])\n",
    "#         print([i,drugsPairs.iloc[i,:]])\n",
    "        del indexes[i]\n",
    "#         i += 1\n",
    "#         if i + 1 == len(indexes):\n",
    "#             problems.append(list(i,drugsPairs.iloc[i,:]))\n",
    "#             indexes.remove(i)\n",
    "\n",
    "len(problems)"
   ]
  },
  {
   "cell_type": "code",
   "execution_count": 60,
   "metadata": {},
   "outputs": [
    {
     "data": {
      "text/plain": [
       "[20, 0    DB00136\n",
       " 1    DB01708\n",
       " 2         -1\n",
       " Name: 20, dtype: object]"
      ]
     },
     "execution_count": 60,
     "metadata": {},
     "output_type": "execute_result"
    }
   ],
   "source": [
    "[20,drugsPairs.iloc[20,:]]"
   ]
  },
  {
   "cell_type": "code",
   "execution_count": 62,
   "metadata": {},
   "outputs": [],
   "source": [
    "problems = pd.DataFrame(problems)\n",
    "problems.to_csv('problems.csv', index=False)\n"
   ]
  },
  {
   "cell_type": "code",
   "execution_count": 63,
   "metadata": {},
   "outputs": [],
   "source": [
    "indexes = pd.DataFrame(indexes)\n",
    "indexes.to_csv('indexes.csv', index=False)"
   ]
  },
  {
   "cell_type": "code",
   "execution_count": 64,
   "metadata": {},
   "outputs": [],
   "source": [
    "indexes = pd.read_csv('indexes.csv')\n",
    "\n",
    "indexes = list(indexes['0'])\n",
    "\n",
    "# print(indexes[0]==122943)"
   ]
  },
  {
   "cell_type": "code",
   "execution_count": 65,
   "metadata": {},
   "outputs": [],
   "source": [
    "data10000 = []\n",
    "line1 = 0\n",
    "with open('../../saved F(triple_cosineSNF).csv', 'r') as fd:\n",
    "    \n",
    "    for row ,line in enumerate(fd):\n",
    "        if row-1 in indexes:\n",
    "#             print(row)\n",
    "            data10000.append(line.split(','))\n",
    "#         line1 = line.split(',')\n",
    "#         break\n",
    "# line1"
   ]
  },
  {
   "cell_type": "code",
   "execution_count": 66,
   "metadata": {},
   "outputs": [],
   "source": [
    "data10000 = pd.DataFrame(data10000)\n",
    "data10000.to_csv('data10000.csv', index=False)\n"
   ]
  },
  {
   "cell_type": "code",
   "execution_count": 68,
   "metadata": {},
   "outputs": [],
   "source": [
    "data10000 = pd.read_csv('data10000.csv')\n",
    "data = []\n",
    "officer = []\n",
    "index = np.random.choice(9900,9900,replace=False)\n",
    "\n",
    "for i in index:\n",
    "    if i in officer:\n",
    "        continue\n",
    "    data.append(data10000.iloc[i,:])\n",
    "    officer.append(i)\n",
    "    for j in index:\n",
    "        if j in officer:\n",
    "            continue\n",
    "#         print('add')\n",
    "        if data10000.iloc[i,1] == data10000.iloc[j,0] and data10000.iloc[i,0] == data10000.iloc[j,1]:\n",
    "            data.append(data10000.iloc[j,:])\n",
    "            officer.append(j)\n",
    "data = pd.DataFrame(data)\n",
    "data.to_csv('data10000v1.csv', index=False)"
   ]
  },
  {
   "cell_type": "code",
   "execution_count": 41,
   "metadata": {},
   "outputs": [],
   "source": [
    "# data = pd.read_csv('data10000.csv')"
   ]
  },
  {
   "cell_type": "code",
   "execution_count": null,
   "metadata": {},
   "outputs": [],
   "source": []
  }
 ],
 "metadata": {
  "kernelspec": {
   "display_name": "Python 3",
   "language": "python",
   "name": "python3"
  },
  "language_info": {
   "codemirror_mode": {
    "name": "ipython",
    "version": 3
   },
   "file_extension": ".py",
   "mimetype": "text/x-python",
   "name": "python",
   "nbconvert_exporter": "python",
   "pygments_lexer": "ipython3",
   "version": "3.6.7"
  }
 },
 "nbformat": 4,
 "nbformat_minor": 2
}
