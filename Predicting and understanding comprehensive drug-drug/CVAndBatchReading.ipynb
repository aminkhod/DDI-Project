{
 "cells": [
  {
   "cell_type": "code",
   "execution_count": 348,
   "metadata": {},
   "outputs": [],
   "source": [
    "import pandas as pd\n",
    "import numpy as np\n"
   ]
  },
  {
   "cell_type": "code",
   "execution_count": 349,
   "metadata": {},
   "outputs": [],
   "source": [
    "# #reading and Saving batches\n",
    "# #\"../../saved F(triple_cosineSNF).csv\"\n",
    "# import pandas as pd\n",
    "# fields = [0,1]\n",
    "\n",
    "# df = pd.read_csv(\"../../saved F(triple_cosineSNF).csv\", skipinitialspace=True, usecols=fields)\n",
    "# df.to_csv('drugsPairs.csv')\n",
    "# df.shape"
   ]
  },
  {
   "cell_type": "code",
   "execution_count": 486,
   "metadata": {},
   "outputs": [
    {
     "data": {
      "text/plain": [
       "322056"
      ]
     },
     "execution_count": 486,
     "metadata": {},
     "output_type": "execute_result"
    }
   ],
   "source": [
    "drugsPairs = pd.read_csv('drugsPairs.csv')\n",
    "r, c = drugsPairs.shape\n"
   ]
  },
  {
   "cell_type": "code",
   "execution_count": 518,
   "metadata": {},
   "outputs": [
    {
     "name": "stdout",
     "output_type": "stream",
     "text": [
      "322056\n"
     ]
    }
   ],
   "source": [
    "indexes = []\n",
    "for i in range(int(r)):\n",
    "    if len(indexes)<r:\n",
    "        candInd = np.random.randint(r)\n",
    "\n",
    "        while(True):\n",
    "            if candInd not in indexes:\n",
    "                indexes.append(candInd)\n",
    "                break\n",
    "            else:\n",
    "                candInd = np.random.randint(r)\n",
    "        di, dj = str(drugsPairs.iloc[candInd,1]), str(drugsPairs.iloc[candInd,2])\n",
    "    #     print(di,dj)\n",
    "    if len(indexes)<r:\n",
    "        for j in range(0, r ,568):\n",
    "            if dj == str(drugsPairs.iloc[j+1,1]):\n",
    "                for k in range(568):\n",
    "                    if di == str(drugsPairs.iloc[(j)+k,2]):\n",
    "                        indexes.append(j+k)\n",
    "                        break\n",
    "    #                     print(drugsPairs.iloc[j,1],drugsPairs.iloc[(j)+k,2])\n",
    "\n",
    "                break\n",
    "print(len(indexes))\n"
   ]
  },
  {
   "cell_type": "code",
   "execution_count": 519,
   "metadata": {},
   "outputs": [
    {
     "data": {
      "text/plain": [
       "160961"
      ]
     },
     "execution_count": 519,
     "metadata": {},
     "output_type": "execute_result"
    }
   ],
   "source": [
    "checked = False\n",
    "problems = []\n",
    "for ind in range(len(indexes)):\n",
    "    if checked or ind+1 == len(indexes):\n",
    "        checked = False\n",
    "        continue\n",
    "    elif (drugsPairs.iloc[indexes[ind],1]==drugsPairs.iloc[indexes[ind+1],2])and(drugsPairs.iloc[indexes[ind],2]==drugsPairs.iloc[indexes[ind+1],1]):\n",
    "        checked = True\n",
    "        continue\n",
    "    else:\n",
    "        problems.append(drugsPairs.iloc[ind,:])\n",
    "len(problems)"
   ]
  },
  {
   "cell_type": "code",
   "execution_count": 520,
   "metadata": {},
   "outputs": [],
   "source": [
    "problems = pd.DataFrame(problems)\n",
    "problems.to_csv('problems.csv', index=False)\n"
   ]
  },
  {
   "cell_type": "code",
   "execution_count": 521,
   "metadata": {},
   "outputs": [],
   "source": [
    "indexes = pd.DataFrame(indexes)\n",
    "indexes.to_csv('indexes.csv', index=False)"
   ]
  },
  {
   "cell_type": "code",
   "execution_count": null,
   "metadata": {},
   "outputs": [],
   "source": [
    "(drugsPairs.iloc[indexes[0],1] == drugsPairs.iloc[indexes[0+1],2]) \\\n",
    "    and (drugsPairs.iloc[indexes[0],2] == drugsPairs.iloc[indexes[0+1],1])"
   ]
  },
  {
   "cell_type": "code",
   "execution_count": 497,
   "metadata": {},
   "outputs": [
    {
     "data": {
      "text/plain": [
       "1    DB01215\n",
       "2    DB00740\n",
       "Name: 257669, dtype: object"
      ]
     },
     "execution_count": 497,
     "metadata": {},
     "output_type": "execute_result"
    }
   ],
   "source": [
    "drugsPairs.iloc[indexes[1700],1:3]"
   ]
  },
  {
   "cell_type": "code",
   "execution_count": 473,
   "metadata": {},
   "outputs": [
    {
     "name": "stdout",
     "output_type": "stream",
     "text": [
      "DB00136 DB08801\n",
      "inja\n",
      "1\n"
     ]
    },
    {
     "data": {
      "text/plain": [
       "[321490]"
      ]
     },
     "execution_count": 473,
     "metadata": {},
     "output_type": "execute_result"
    }
   ],
   "source": [
    "indexes=[]\n",
    "di, dj = str(drugsPairs.iloc[1700,1]), str(drugsPairs.iloc[1700,2])\n",
    "print(di,dj)\n",
    "rugsPairs.iloc[1700+1,1:3]\n",
    "for j in range(0, r ,568):\n",
    "    if dj == str(drugsPairs.iloc[j+1,1]):\n",
    "        rugsPairs.iloc[1700+1,1:3]\n",
    "        for k in range(568):\n",
    "            if di == str(drugsPairs.iloc[(j)+k,2]):\n",
    "                print('inja')\n",
    "                indexes.append(j+k)\n",
    "                break\n",
    "                print(drugsPairs.iloc[j,1],drugsPairs.iloc[(j)+k,2])\n",
    "\n",
    "        break\n",
    "print(len(indexes))\n",
    "indexes"
   ]
  },
  {
   "cell_type": "code",
   "execution_count": 477,
   "metadata": {},
   "outputs": [
    {
     "name": "stdout",
     "output_type": "stream",
     "text": [
      "1    DB08801\n",
      "2    DB00136\n",
      "Name: 321490, dtype: object\n"
     ]
    }
   ],
   "source": [
    "print(drugsPairs.iloc[321490,1:])"
   ]
  }
 ],
 "metadata": {
  "kernelspec": {
   "display_name": "Python 3",
   "language": "python",
   "name": "python3"
  },
  "language_info": {
   "codemirror_mode": {
    "name": "ipython",
    "version": 3
   },
   "file_extension": ".py",
   "mimetype": "text/x-python",
   "name": "python",
   "nbconvert_exporter": "python",
   "pygments_lexer": "ipython3",
   "version": "3.6.7"
  }
 },
 "nbformat": 4,
 "nbformat_minor": 2
}
