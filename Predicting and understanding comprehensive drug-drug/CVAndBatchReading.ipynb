{
 "cells": [
  {
   "cell_type": "code",
   "execution_count": 348,
   "metadata": {},
   "outputs": [],
   "source": [
    "import pandas as pd\n",
    "import numpy as np\n"
   ]
  },
  {
   "cell_type": "code",
   "execution_count": 349,
   "metadata": {},
   "outputs": [],
   "source": [
    "# #reading and Saving batches\n",
    "# #\"../../saved F(triple_cosineSNF).csv\"\n",
    "# import pandas as pd\n",
    "# fields = [0,1]\n",
    "\n",
    "# df = pd.read_csv(\"../../saved F(triple_cosineSNF).csv\", skipinitialspace=True, usecols=fields)\n",
    "# df.to_csv('drugsPairs.csv')\n",
    "# df.shape"
   ]
  },
  {
   "cell_type": "code",
   "execution_count": 486,
   "metadata": {},
   "outputs": [
    {
     "data": {
      "text/plain": [
       "322056"
      ]
     },
     "execution_count": 486,
     "metadata": {},
     "output_type": "execute_result"
    }
   ],
   "source": [
    "drugsPairs = pd.read_csv('drugsPairs.csv')\n",
    "r, c = drugsPairs.shape\n"
   ]
  },
  {
   "cell_type": "code",
   "execution_count": null,
   "metadata": {},
   "outputs": [],
   "source": [
    "indexes = []\n",
    "for i in range(int(r/2)):\n",
    "    candInd = np.random.randint(r)\n",
    "    \n",
    "    while(True):\n",
    "        if candInd not in indexes:\n",
    "            indexes.append(candInd)\n",
    "            break\n",
    "        else:\n",
    "            candInd = np.random.randint(r)\n",
    "    di, dj = str(drugsPairs.iloc[candInd,1]), str(drugsPairs.iloc[candInd,2])\n",
    "#     print(di,dj)\n",
    "\n",
    "    for j in range(0, r ,568):\n",
    "        if dj == str(drugsPairs.iloc[j+1,1]):\n",
    "            for k in range(568):\n",
    "                if di == str(drugsPairs.iloc[(j)+k,2]):\n",
    "                    indexes.append(j+k)\n",
    "                    break\n",
    "#                     print(drugsPairs.iloc[j,1],drugsPairs.iloc[(j)+k,2])\n",
    "\n",
    "            break\n",
    "print(len(indexes))\n"
   ]
  },
  {
   "cell_type": "code",
   "execution_count": null,
   "metadata": {},
   "outputs": [],
   "source": [
    "checked = False\n",
    "problems = []\n",
    "for ind in range(len(index)):\n",
    "    if checked:\n",
    "        continue\n",
    "    if drugsPairs.iloc[ind,1:3] == drugsPairs.iloc[ind+1,1:3]:\n",
    "        checked = True\n",
    "        continue\n",
    "    else:\n",
    "        problems.append(drugsPairs.iloc[ind,1:3])\n",
    "len(problems)"
   ]
  },
  {
   "cell_type": "code",
   "execution_count": 453,
   "metadata": {},
   "outputs": [
    {
     "data": {
      "text/plain": [
       "1    DB00136\n",
       "2    DB08801\n",
       "Name: 1700, dtype: object"
      ]
     },
     "execution_count": 453,
     "metadata": {},
     "output_type": "execute_result"
    }
   ],
   "source": [
    "drugsPairs.iloc[1700,1:3]"
   ]
  },
  {
   "cell_type": "code",
   "execution_count": 473,
   "metadata": {},
   "outputs": [
    {
     "name": "stdout",
     "output_type": "stream",
     "text": [
      "DB00136 DB08801\n",
      "inja\n",
      "1\n"
     ]
    },
    {
     "data": {
      "text/plain": [
       "[321490]"
      ]
     },
     "execution_count": 473,
     "metadata": {},
     "output_type": "execute_result"
    }
   ],
   "source": [
    "indexes=[]\n",
    "di, dj = str(drugsPairs.iloc[1700,1]), str(drugsPairs.iloc[1700,2])\n",
    "print(di,dj)\n",
    "\n",
    "for j in range(0, r ,568):\n",
    "    if dj == str(drugsPairs.iloc[j+1,1]):\n",
    "        \n",
    "        for k in range(568):\n",
    "            if di == str(drugsPairs.iloc[(j)+k,2]):\n",
    "                print('inja')\n",
    "                indexes.append(j+k)\n",
    "                break\n",
    "                print(drugsPairs.iloc[j,1],drugsPairs.iloc[(j)+k,2])\n",
    "\n",
    "        break\n",
    "print(len(indexes))\n",
    "indexes"
   ]
  },
  {
   "cell_type": "code",
   "execution_count": 477,
   "metadata": {},
   "outputs": [
    {
     "name": "stdout",
     "output_type": "stream",
     "text": [
      "1    DB08801\n",
      "2    DB00136\n",
      "Name: 321490, dtype: object\n"
     ]
    }
   ],
   "source": [
    "print(drugsPairs.iloc[321490,1:])"
   ]
  }
 ],
 "metadata": {
  "kernelspec": {
   "display_name": "Python 3",
   "language": "python",
   "name": "python3"
  },
  "language_info": {
   "codemirror_mode": {
    "name": "ipython",
    "version": 3
   },
   "file_extension": ".py",
   "mimetype": "text/x-python",
   "name": "python",
   "nbconvert_exporter": "python",
   "pygments_lexer": "ipython3",
   "version": "3.6.7"
  }
 },
 "nbformat": 4,
 "nbformat_minor": 2
}
