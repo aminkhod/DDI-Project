{
 "cells": [
  {
   "cell_type": "code",
   "execution_count": 163,
   "metadata": {},
   "outputs": [],
   "source": [
    "from snf import datasets\n",
    "import numpy as np\n",
    "import pandas as pd\n",
    "import snf\n",
    "from snf import compute\n",
    "import sklearn"
   ]
  },
  {
   "cell_type": "code",
   "execution_count": 3,
   "metadata": {},
   "outputs": [
    {
     "data": {
      "text/plain": [
       "dict_keys(['data', 'labels'])"
      ]
     },
     "execution_count": 3,
     "metadata": {},
     "output_type": "execute_result"
    }
   ],
   "source": [
    "digits = datasets.load_digits()\n",
    "digits.keys()"
   ]
  },
  {
   "cell_type": "code",
   "execution_count": 4,
   "metadata": {},
   "outputs": [
    {
     "name": "stdout",
     "output_type": "stream",
     "text": [
      "(600, 76)\n",
      "(600, 240)\n",
      "(600, 216)\n",
      "(600, 47)\n"
     ]
    }
   ],
   "source": [
    "for arr in digits.data:\n",
    "    print(arr.shape)"
   ]
  },
  {
   "cell_type": "code",
   "execution_count": 5,
   "metadata": {},
   "outputs": [],
   "source": [
    "groups, samples = np.unique(digits.labels, return_counts=True)"
   ]
  },
  {
   "cell_type": "code",
   "execution_count": 6,
   "metadata": {},
   "outputs": [
    {
     "name": "stdout",
     "output_type": "stream",
     "text": [
      "Group 0: 200 samples\n",
      "Group 1: 200 samples\n",
      "Group 2: 200 samples\n"
     ]
    }
   ],
   "source": [
    "for grp, count in zip(groups, samples):\n",
    "    print('Group {:.0f}: {} samples'.format(grp, count))"
   ]
  },
  {
   "cell_type": "code",
   "execution_count": 167,
   "metadata": {},
   "outputs": [
    {
     "name": "stdout",
     "output_type": "stream",
     "text": [
      "(568, 9149)\n"
     ]
    },
    {
     "data": {
      "text/plain": [
       "[array([[1.        , 0.2075124 , 0.19073892, ..., 0.11898084, 0.15933104,\n",
       "         0.10947237],\n",
       "        [0.2075124 , 1.        , 0.24650253, ..., 0.15934194, 0.15191955,\n",
       "         0.16765053],\n",
       "        [0.19073892, 0.24650253, 1.        , ..., 0.13610182, 0.15228478,\n",
       "         0.18725971],\n",
       "        ...,\n",
       "        [0.11898084, 0.15934194, 0.13610182, ..., 1.        , 0.08735387,\n",
       "         0.06329241],\n",
       "        [0.15933104, 0.15191955, 0.15228478, ..., 0.08735387, 1.        ,\n",
       "         0.13414969],\n",
       "        [0.10947237, 0.16765053, 0.18725971, ..., 0.06329241, 0.13414969,\n",
       "         1.        ]]),\n",
       " array([[1.        , 0.3710895 , 0.40527277, ..., 0.54850339, 0.53501791,\n",
       "         0.60898675],\n",
       "        [0.3710895 , 1.        , 0.2989225 , ..., 0.42812616, 0.41787241,\n",
       "         0.22908106],\n",
       "        [0.40527277, 0.2989225 , 1.        , ..., 0.46076142, 0.49626987,\n",
       "         0.45567116],\n",
       "        ...,\n",
       "        [0.54850339, 0.42812616, 0.46076142, ..., 1.        , 0.7642723 ,\n",
       "         0.62870324],\n",
       "        [0.53501791, 0.41787241, 0.49626987, ..., 0.7642723 , 1.        ,\n",
       "         0.57752207],\n",
       "        [0.60898675, 0.22908106, 0.45567116, ..., 0.62870324, 0.57752207,\n",
       "         1.        ]])]"
      ]
     },
     "execution_count": 167,
     "metadata": {},
     "output_type": "execute_result"
    }
   ],
   "source": [
    "offsidesF = pd.read_csv('data/offsides_feature.csv', header=-1)\n",
    "structureF = pd.read_csv('data/structure_feature.csv', header=-1)\n",
    "print(offsidesF.shape)\n",
    "# print(offsidesF.isnull().sum().sum())\n",
    "structureF = np.array(structureF.values, dtype=np.float64)\n",
    "offsidesF = np.array(offsidesF.values, dtype=np.float64)\n",
    "structureFSim = sklearn.metrics.pairwise.cosine_similarity(structureF, Y=None, dense_output=True)\n",
    "offsidesFSim = sklearn.metrics.pairwise.cosine_similarity(offsidesF, Y=None, dense_output=True)\n",
    "data = [offsidesFSim, structureFSim]\n",
    "data"
   ]
  },
  {
   "cell_type": "code",
   "execution_count": 40,
   "metadata": {},
   "outputs": [
    {
     "name": "stderr",
     "output_type": "stream",
     "text": [
      "c:\\program files\\python36\\lib\\site-packages\\scipy\\stats\\stats.py:2253: RuntimeWarning: invalid value encountered in true_divide\n",
      "  return (a - mns) / sstd\n",
      "c:\\program files\\python36\\lib\\site-packages\\scipy\\stats\\stats.py:2253: RuntimeWarning: invalid value encountered in true_divide\n",
      "  return (a - mns) / sstd\n"
     ]
    }
   ],
   "source": [
    "# affinity_networks = compute.make_affinity(data, metric='cosine', K=9150, mu=0.5,normalize=True)\n",
    "# # simcosine = pd.DataFrame(affinity_networks)\n",
    "# # simcosine.to_csv(\"cosineSim.csv\",index=False)"
   ]
  },
  {
   "cell_type": "code",
   "execution_count": 23,
   "metadata": {},
   "outputs": [
    {
     "data": {
      "text/plain": [
       "568"
      ]
     },
     "execution_count": 23,
     "metadata": {},
     "output_type": "execute_result"
    }
   ],
   "source": [
    "# len(affinity_networks[1])"
   ]
  },
  {
   "cell_type": "code",
   "execution_count": 68,
   "metadata": {},
   "outputs": [],
   "source": [
    "# chem =  np.array(pd.read_csv('chem_Jacarrd_sim.csv', header=-1))\n",
    "# enzyme =  np.array(pd.read_csv('enzyme_Jacarrd_sim.csv', header=-1))\n",
    "# # chem = array(chem,enzyme)\n",
    "# affinity_network = [chem,enzyme]"
   ]
  },
  {
   "cell_type": "code",
   "execution_count": 196,
   "metadata": {},
   "outputs": [],
   "source": [
    "fused_network = snf.snf(data, K=20)"
   ]
  },
  {
   "cell_type": "code",
   "execution_count": 197,
   "metadata": {},
   "outputs": [
    {
     "data": {
      "text/plain": [
       "(568, 568)"
      ]
     },
     "execution_count": 197,
     "metadata": {},
     "output_type": "execute_result"
    }
   ],
   "source": [
    "fused_network.shape"
   ]
  },
  {
   "cell_type": "code",
   "execution_count": 198,
   "metadata": {},
   "outputs": [
    {
     "data": {
      "text/plain": [
       "array([[0.5398948 , 0.00172143, 0.00165806, ..., 0.00162342, 0.00159535,\n",
       "        0.0015826 ],\n",
       "       [0.00172143, 0.5390728 , 0.00164606, ..., 0.00165745, 0.00161078,\n",
       "        0.00160186],\n",
       "       [0.00165806, 0.00164606, 0.53913341, ..., 0.00159813, 0.00164268,\n",
       "        0.00160342],\n",
       "       ...,\n",
       "       [0.00162342, 0.00165745, 0.00159813, ..., 0.54022233, 0.00171442,\n",
       "        0.001602  ],\n",
       "       [0.00159535, 0.00161078, 0.00164268, ..., 0.00171442, 0.53973827,\n",
       "        0.00162807],\n",
       "       [0.0015826 , 0.00160186, 0.00160342, ..., 0.001602  , 0.00162807,\n",
       "        0.53977658]])"
      ]
     },
     "execution_count": 198,
     "metadata": {},
     "output_type": "execute_result"
    }
   ],
   "source": [
    "fused_network"
   ]
  },
  {
   "cell_type": "code",
   "execution_count": 188,
   "metadata": {},
   "outputs": [],
   "source": [
    "# digits.data"
   ]
  },
  {
   "cell_type": "code",
   "execution_count": 199,
   "metadata": {},
   "outputs": [],
   "source": [
    "fused_network = pd.DataFrame(fused_network)\n",
    "fused_network.to_csv('CosineSNF(structureAndSideEffect).csv',index = False,header=False)"
   ]
  },
  {
   "cell_type": "code",
   "execution_count": null,
   "metadata": {},
   "outputs": [],
   "source": []
  }
 ],
 "metadata": {
  "kernelspec": {
   "display_name": "Python 3",
   "language": "python",
   "name": "python3"
  },
  "language_info": {
   "codemirror_mode": {
    "name": "ipython",
    "version": 3
   },
   "file_extension": ".py",
   "mimetype": "text/x-python",
   "name": "python",
   "nbconvert_exporter": "python",
   "pygments_lexer": "ipython3",
   "version": "3.6.8"
  }
 },
 "nbformat": 4,
 "nbformat_minor": 2
}
