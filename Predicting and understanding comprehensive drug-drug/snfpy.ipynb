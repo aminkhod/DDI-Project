{
 "cells": [
  {
   "cell_type": "code",
   "execution_count": 33,
   "metadata": {},
   "outputs": [],
   "source": [
    "from snf import datasets\n",
    "import numpy as np\n",
    "import pandas as pd\n",
    "import snf\n",
    "from snf import compute\n"
   ]
  },
  {
   "cell_type": "code",
   "execution_count": 2,
   "metadata": {},
   "outputs": [
    {
     "data": {
      "text/plain": [
       "dict_keys(['data', 'labels'])"
      ]
     },
     "execution_count": 2,
     "metadata": {},
     "output_type": "execute_result"
    }
   ],
   "source": [
    "digits = datasets.load_digits()\n",
    "digits.keys()"
   ]
  },
  {
   "cell_type": "code",
   "execution_count": 3,
   "metadata": {},
   "outputs": [
    {
     "name": "stdout",
     "output_type": "stream",
     "text": [
      "(600, 76)\n",
      "(600, 240)\n",
      "(600, 216)\n",
      "(600, 47)\n"
     ]
    }
   ],
   "source": [
    "for arr in digits.data:\n",
    "    print(arr.shape)"
   ]
  },
  {
   "cell_type": "code",
   "execution_count": 4,
   "metadata": {},
   "outputs": [],
   "source": [
    "groups, samples = np.unique(digits.labels, return_counts=True)"
   ]
  },
  {
   "cell_type": "code",
   "execution_count": 5,
   "metadata": {},
   "outputs": [
    {
     "name": "stdout",
     "output_type": "stream",
     "text": [
      "Group 0: 200 samples\n",
      "Group 1: 200 samples\n",
      "Group 2: 200 samples\n"
     ]
    }
   ],
   "source": [
    "for grp, count in zip(groups, samples):\n",
    "    print('Group {:.0f}: {} samples'.format(grp, count))"
   ]
  },
  {
   "cell_type": "code",
   "execution_count": 51,
   "metadata": {},
   "outputs": [
    {
     "name": "stdout",
     "output_type": "stream",
     "text": [
      "(568, 9149)\n"
     ]
    },
    {
     "data": {
      "text/plain": [
       "[array([[0., 0., 0., ..., 0., 0., 0.],\n",
       "        [0., 0., 0., ..., 0., 0., 0.],\n",
       "        [0., 0., 0., ..., 0., 0., 0.],\n",
       "        ...,\n",
       "        [0., 0., 0., ..., 0., 0., 0.],\n",
       "        [0., 0., 0., ..., 0., 0., 0.],\n",
       "        [0., 0., 0., ..., 0., 0., 0.]]), array([[0., 0., 0., ..., 0., 0., 0.],\n",
       "        [1., 1., 0., ..., 0., 0., 0.],\n",
       "        [1., 1., 1., ..., 0., 0., 0.],\n",
       "        ...,\n",
       "        [1., 1., 0., ..., 0., 0., 0.],\n",
       "        [1., 1., 1., ..., 0., 0., 0.],\n",
       "        [1., 1., 1., ..., 0., 0., 0.]])]"
      ]
     },
     "execution_count": 51,
     "metadata": {},
     "output_type": "execute_result"
    }
   ],
   "source": [
    "offsidesF = pd.read_csv('offsides_feature.csv', header=-1)\n",
    "structureF = pd.read_csv('structure_feature.csv', header=-1)\n",
    "print(offsidesF.shape)\n",
    "# print(offsidesF.isnull().sum().sum())\n",
    "structureF = np.array(structureF.values, dtype=np.float64)\n",
    "offsidesF = np.array(offsidesF.values, dtype=np.float64)\n",
    "data = [offsidesF, structureF]\n",
    "data"
   ]
  },
  {
   "cell_type": "code",
   "execution_count": 58,
   "metadata": {},
   "outputs": [],
   "source": [
    "#   for inp, met in compute._check_data_metric(data, 'jaccard'):\n",
    "#         # normalize data, taking into account potentially missing data\n",
    "\n",
    "#         mask = np.isnan(inp).all(axis=1)\n",
    "#         zarr = np.zeros_like(inp)\n",
    "#         print(mask)\n",
    "#         zarr[mask] = np.nan\n",
    "#         zarr[~mask] = np.nan_to_num(stats.zscore(inp[~mask], ddof=1))"
   ]
  },
  {
   "cell_type": "code",
   "execution_count": null,
   "metadata": {},
   "outputs": [],
   "source": []
  },
  {
   "cell_type": "code",
   "execution_count": 67,
   "metadata": {},
   "outputs": [
    {
     "name": "stderr",
     "output_type": "stream",
     "text": [
      "c:\\program files\\python36\\lib\\site-packages\\scipy\\stats\\stats.py:2281: RuntimeWarning: invalid value encountered in true_divide\n",
      "  return (a - mns) / sstd\n",
      "c:\\program files\\python36\\lib\\site-packages\\scipy\\stats\\stats.py:2281: RuntimeWarning: invalid value encountered in true_divide\n",
      "  return (a - mns) / sstd\n"
     ]
    }
   ],
   "source": [
    "\n",
    "affinity_networks = compute.make_affinity(data, metric='cosine', K=2, mu=0.5)\n"
   ]
  },
  {
   "cell_type": "code",
   "execution_count": 68,
   "metadata": {},
   "outputs": [],
   "source": [
    "# chem =  np.array(pd.read_csv('chem_Jacarrd_sim.csv', header=-1))\n",
    "# enzyme =  np.array(pd.read_csv('enzyme_Jacarrd_sim.csv', header=-1))\n",
    "# # chem = array(chem,enzyme)\n",
    "# affinity_network = [chem,enzyme]"
   ]
  },
  {
   "cell_type": "code",
   "execution_count": 69,
   "metadata": {},
   "outputs": [],
   "source": [
    "fused_network = snf.snf(affinity_networks, K=20)"
   ]
  },
  {
   "cell_type": "code",
   "execution_count": 70,
   "metadata": {},
   "outputs": [
    {
     "data": {
      "text/plain": [
       "(568, 568)"
      ]
     },
     "execution_count": 70,
     "metadata": {},
     "output_type": "execute_result"
    }
   ],
   "source": [
    "fused_network.shape"
   ]
  },
  {
   "cell_type": "code",
   "execution_count": 71,
   "metadata": {},
   "outputs": [
    {
     "data": {
      "text/plain": [
       "array([[0.54961456, 0.00150086, 0.00188871, ..., 0.00173881, 0.00170202,\n",
       "        0.00168814],\n",
       "       [0.00150086, 0.55915336, 0.00162679, ..., 0.00155469, 0.00150737,\n",
       "        0.00156774],\n",
       "       [0.00188871, 0.00162679, 0.55851264, ..., 0.00140374, 0.00137251,\n",
       "        0.00147563],\n",
       "       ...,\n",
       "       [0.00173881, 0.00155469, 0.00140374, ..., 0.55608849, 0.00232879,\n",
       "        0.00163376],\n",
       "       [0.00170202, 0.00150737, 0.00137251, ..., 0.00232879, 0.54756864,\n",
       "        0.0021769 ],\n",
       "       [0.00168814, 0.00156774, 0.00147563, ..., 0.00163376, 0.0021769 ,\n",
       "        0.55646489]])"
      ]
     },
     "execution_count": 71,
     "metadata": {},
     "output_type": "execute_result"
    }
   ],
   "source": [
    "fused_network"
   ]
  },
  {
   "cell_type": "code",
   "execution_count": 72,
   "metadata": {},
   "outputs": [],
   "source": [
    "# digits.data"
   ]
  },
  {
   "cell_type": "code",
   "execution_count": 73,
   "metadata": {},
   "outputs": [],
   "source": [
    "fused_network = pd.DataFrame(fused_network)\n",
    "fused_network.to_csv('CosineSNF(structureAndSideEffect).csv',index = False,header=False)"
   ]
  },
  {
   "cell_type": "code",
   "execution_count": null,
   "metadata": {},
   "outputs": [],
   "source": []
  }
 ],
 "metadata": {
  "kernelspec": {
   "display_name": "Python 3",
   "language": "python",
   "name": "python3"
  },
  "language_info": {
   "codemirror_mode": {
    "name": "ipython",
    "version": 3
   },
   "file_extension": ".py",
   "mimetype": "text/x-python",
   "name": "python",
   "nbconvert_exporter": "python",
   "pygments_lexer": "ipython3",
   "version": "3.6.7"
  }
 },
 "nbformat": 4,
 "nbformat_minor": 2
}
