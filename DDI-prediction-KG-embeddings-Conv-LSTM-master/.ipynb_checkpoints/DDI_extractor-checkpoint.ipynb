{
 "cells": [
  {
   "cell_type": "code",
   "execution_count": 1,
   "metadata": {},
   "outputs": [],
   "source": [
    "from xml.dom import minidom\n",
    "doc = minidom.parse(\"C:/Users/admin-karim/Desktop/drugbank_all_full_database.xml/drugbank.xml\")"
   ]
  },
  {
   "cell_type": "code",
   "execution_count": 13,
   "metadata": {},
   "outputs": [],
   "source": [
    "items = doc.getElementsByTagName('drug-interaction')"
   ]
  },
  {
   "cell_type": "code",
   "execution_count": 17,
   "metadata": {},
   "outputs": [
    {
     "name": "stdout",
     "output_type": "stream",
     "text": [
      "2730275\n"
     ]
    }
   ],
   "source": [
    "print(len(items))"
   ]
  },
  {
   "cell_type": "code",
   "execution_count": 16,
   "metadata": {},
   "outputs": [
    {
     "name": "stdout",
     "output_type": "stream",
     "text": [
      "\n",
      "All attributes:\n",
      "2730275\n"
     ]
    }
   ],
   "source": [
    "# all item attributes\n",
    "print('\\nAll attributes:') \n",
    "i = 0\n",
    "for elem in items:  \n",
    "    i = i+1\n",
    "print(i)    "
   ]
  },
  {
   "cell_type": "code",
   "execution_count": 1,
   "metadata": {},
   "outputs": [],
   "source": [
    "import pandas as pd\n",
    "\n",
    "df = pd.read_csv('C:/Users/admin-karim/Downloads/3003377s-twosides/3003377s-twosides.tsv',sep='\\t')"
   ]
  },
  {
   "cell_type": "code",
   "execution_count": 2,
   "metadata": {},
   "outputs": [
    {
     "data": {
      "text/plain": [
       "stitch_id1                      4651131\n",
       "stitch_id2                      4651131\n",
       "drug1                           4651131\n",
       "drug2                           4651131\n",
       "event_umls_id                   4651131\n",
       "event_name                      4651131\n",
       "proportional_reporting_ratio    4651131\n",
       "pvalue                          4651131\n",
       "confidence                      4651131\n",
       "drug1_prr                       4651131\n",
       "drug2_prr                       4651131\n",
       "observed                        4651131\n",
       "expected                        4651131\n",
       "dtype: int64"
      ]
     },
     "execution_count": 2,
     "metadata": {},
     "output_type": "execute_result"
    }
   ],
   "source": [
    "df.count()"
   ]
  },
  {
   "cell_type": "code",
   "execution_count": 3,
   "metadata": {},
   "outputs": [
    {
     "data": {
      "text/plain": [
       "4651131"
      ]
     },
     "execution_count": 3,
     "metadata": {},
     "output_type": "execute_result"
    }
   ],
   "source": [
    "len(df[['drug1', 'drug2']])"
   ]
  },
  {
   "cell_type": "code",
   "execution_count": 4,
   "metadata": {},
   "outputs": [
    {
     "name": "stdout",
     "output_type": "stream",
     "text": [
      "63473\n"
     ]
    }
   ],
   "source": [
    "print(len(df.groupby(['drug1', 'drug2'])))"
   ]
  },
  {
   "cell_type": "code",
   "execution_count": 7,
   "metadata": {},
   "outputs": [],
   "source": [
    "groupedDf = df.groupby(['drug1', 'drug2'])\n",
    "groupedDf.sum().reset_index().to_csv('Twosides_interactions.tsv',sep='\\t')"
   ]
  },
  {
   "cell_type": "code",
   "execution_count": 8,
   "metadata": {},
   "outputs": [],
   "source": [
    "import xml.etree.ElementTree as ET   \n",
    "\n",
    "root = ET.parse(\"C:/Users/admin-karim/Desktop/drugbank_all_full_database.xml/drugbank.xml\").getroot()\n",
    "\n",
    "res = []\n",
    "for drug in root.iterfind(\"{http://www.drugbank.ca}drug\"):\n",
    "\tdrug_id = drug.find(\"{http://www.drugbank.ca}drugbank-id\").text\n",
    "\tinteractions = drug.find(\"{http://www.drugbank.ca}drug-interactions\")\n",
    "\n",
    "\tfor interaction in interactions.iterfind(\"{http://www.drugbank.ca}drug-interaction\"):\n",
    "\t\tanother_id = interaction.find(\"{http://www.drugbank.ca}drugbank-id\").text\n",
    "\t\tres.append((drug_id, another_id))\n",
    "\n",
    "with open(\"interactions.csv\", \"w+\") as output_file:\n",
    "\tprint(\"Drug1 \\t Drug2\", file=output_file)\n",
    "\tfor record in res:\n",
    "\t\tprint(\"{} \\t {}\".format(*record), file=output_file)"
   ]
  },
  {
   "cell_type": "code",
   "execution_count": 4,
   "metadata": {},
   "outputs": [
    {
     "name": "stdout",
     "output_type": "stream",
     "text": [
      "Unrecognized line: ''\n"
     ]
    }
   ],
   "source": [
    "def list_from_file(filename, separator):\n",
    "    res = []\n",
    "    with open(filename, \"r\") as input_file:\n",
    "        next(input_file)\n",
    "        for line in input_file:\n",
    "            stripped = line.strip()\n",
    "            try:\n",
    "                first_drug, second_drug = stripped.split(separator)\n",
    "                res.append((first_drug, second_drug))\n",
    "            except ValueError:\n",
    "                # try with space separator\n",
    "                try: \n",
    "                    first_drug, second_drug = stripped.split()\n",
    "                    res.append((first_drug, second_drug))\n",
    "                except ValueError:\n",
    "                    print(\"Unrecognized line: {}\".format(repr(stripped)))\n",
    "      \n",
    "    return res\n",
    "\n",
    "\n",
    "def append_to_set(interactions_list, set_):\n",
    "    for interaction in interactions_list:\n",
    "        if interaction not in set_ and interaction[::-1] not in set_:\n",
    "            set_.add(interaction)\n",
    "\n",
    "\n",
    "PATH = 'C:/Users/admin-karim/Downloads/GraphEmbedding4DDI-master/GraphEmbedding4DDI-master/input/'            \n",
    "if __name__ == \"__main__\":\n",
    "    list1 = list_from_file(PATH + \"ddi_kegg.txt\", \"\\t\")\n",
    "    list2 = list_from_file(PATH +\"ddi_literature_v1.txt\", \"\\t\")\n",
    "    list3 = list_from_file(PATH +\"interactions.csv\", \"\\t\")\n",
    "    \n",
    "    res = set()\n",
    "    \n",
    "    append_to_set(list1, res)\n",
    "    append_to_set(list2, res)\n",
    "    append_to_set(list3, res)\n",
    "\n",
    "    with open(\"C:/Users/admin-karim/Downloads/GraphEmbedding4DDI-master/GraphEmbedding4DDI-master/input/full_DDI.txt\", \"w+\") as output_file:\n",
    "         print(\"Drug1\\tDrug2\", file=output_file)\n",
    "         for drug in res:\n",
    "              print(\"{}\\t{}\".format(*drug), file=output_file)\n",
    "        \n"
   ]
  },
  {
   "cell_type": "code",
   "execution_count": 3,
   "metadata": {},
   "outputs": [],
   "source": [
    "import pandas as pd\n",
    "\n",
    "df = pd.read_csv(\"C:/Users/admin-karim/Downloads/GraphEmbedding4DDI-master/GraphEmbedding4DDI-master/input/ddi_v5_all.txt\",sep='\\t')\n",
    "columnsTitles = ['Drug1', 'Drug2']\n",
    "df.reindex(columns=columnsTitles)\n",
    "\n",
    "df.to_csv(\"result_other_side.csv\",index=False, sep='\\t')"
   ]
  },
  {
   "cell_type": "code",
   "execution_count": 4,
   "metadata": {},
   "outputs": [],
   "source": [
    "import re\n",
    "\n",
    "pattern = re.compile(r\"(.*)(\\\".*\\\")(.*)\")\n",
    "\n",
    "BASE = 'C:/Users/admin-karim/Downloads/GraphEmbedding4DDI-master/GraphEmbedding4DDI-master/data/drugbank/v5/drugbank_v5.nq/'\n",
    "\n",
    "with open(BASE + 'drugbank_v5.nq', \"r\", encoding='utf-8') as input_file, open(BASE + 'result.txt', \"w+\", encoding='utf-8') as output_file, open(BASE + 'invalid.txt', \"w+\", encoding='utf-8') as invalid_lines:\n",
    "    for line in input_file:\n",
    "        match = pattern.match(line)\n",
    "        if match is None:\n",
    "            print(line, file=invalid_lines)\n",
    "        else:\n",
    "            print(\"{}{}.\".format(match.group(1).strip(), match.group(2).strip()), file=output_file)"
   ]
  },
  {
   "cell_type": "code",
   "execution_count": null,
   "metadata": {},
   "outputs": [],
   "source": [
    "PATH = 'C:/Users/admin-karim/Downloads/GraphEmbedding4DDI_V2/GraphEmbedding4DDI-master/results/traditional/TWOSIDES_TCV_run_sg.csv'"
   ]
  }
 ],
 "metadata": {
  "kernelspec": {
   "display_name": "Python 3",
   "language": "python",
   "name": "python3"
  },
  "language_info": {
   "codemirror_mode": {
    "name": "ipython",
    "version": 3
   },
   "file_extension": ".py",
   "mimetype": "text/x-python",
   "name": "python",
   "nbconvert_exporter": "python",
   "pygments_lexer": "ipython3",
   "version": "3.6.7"
  }
 },
 "nbformat": 4,
 "nbformat_minor": 2
}
