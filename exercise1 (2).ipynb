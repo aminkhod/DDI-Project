{
 "cells": [
  {
   "cell_type": "code",
   "execution_count": 1,
   "metadata": {},
   "outputs": [],
   "source": [
    "import numpy as np\n",
    "import pandas as pd"
   ]
  },
  {
   "cell_type": "code",
   "execution_count": 2,
   "metadata": {},
   "outputs": [
    {
     "name": "stderr",
     "output_type": "stream",
     "text": [
      "c:\\program files\\python36\\lib\\site-packages\\IPython\\core\\interactiveshell.py:3058: DtypeWarning: Columns (1,2,3,4,5,6,7,8,9,10,11,12,13,14,15,16,17,18,19,20,21,22,23,24,25,26,27,28,29,30,31,32,33,34,35,36,37,38,39,40,41,42,43,44,45,46,47,48,49,50,51,52,53,54,55,56,57,58,59,60,61,62,63,64,65,66,67,68,69,70,71,72,73,74,75,76,77,78,79,80,81,82,83,84,85,86,87,88,89,90,91,92,93,94,95,96,97,98,99,100,101,102,103,104,105,106,107,108,109,110,111,112,113,114,115,116,117,118,119,120,121,122,123,124,125,126,127,128,129,130,131,132,133,134,135,136,137,138,139,140,141,142,143,144,145,146,147,148,149,150,151,152,153,154,155,156,157,158,159,160,161,162,163,164,165,166,167,168,169,170,171,172,173,174,175,176,177,178,179,180,181,182,183,184,185,186,187,188,189,190,191,192,193,194,195,196,197,198,199,200,201,202,203,204,205,206,207,208,209,210,211,212,213,214,215,216,217,218,219,220,221,222,223,224,225,226,227,228,229,230,231,232,233,234,235,236,237,238,239,240,241,242,243,244,245,246,247,248,249,250,251,252,253,254,255,256,257,258,259,260,261,262,263,264,265,266,267,268,269,270,271,272,273,274,275,276,277,278,279,280,281,282,283,284,285,286,287,288,289,290,291,292,293,294,295,296,297,298,299,300) have mixed types. Specify dtype option on import or set low_memory=False.\n",
      "  interactivity=interactivity, compiler=compiler, result=result)\n"
     ]
    }
   ],
   "source": [
    "excel_file = 'drug_drug_matrix (1).csv'\n",
    "drug = pd.read_csv(excel_file,header=None)\n",
    "df = 'drug_list (1) (1).csv'\n",
    "DF = pd.read_csv(df,header=None)\n",
    "d = 'drugs (1).csv'\n",
    "D = pd.read_csv(d,header=None)"
   ]
  },
  {
   "cell_type": "code",
   "execution_count": 3,
   "metadata": {},
   "outputs": [
    {
     "name": "stdout",
     "output_type": "stream",
     "text": [
      "54 DB00659\n",
      "122 DB00200\n",
      "162 DB00194\n",
      "166 DB00558\n",
      "242 DB02379\n",
      "261 DB00873\n",
      "340 DB01260\n",
      "379 DB00874\n",
      "386 DB04441\n",
      "433 DB00538\n",
      "434 DB06151\n",
      "495 DB00225\n",
      "542 DB00878\n",
      "543 DB00632\n",
      "547 DB02530\n"
     ]
    }
   ],
   "source": [
    "import numpy as np\n",
    "druglist=[]\n",
    "mismatch=[]\n",
    "for j in range(2524):\n",
    "    druglist.insert(j,D.loc[j][0])\n",
    "for i in range(548):\n",
    "    if not DF.loc[i][1] in (druglist):\n",
    "            print(i,DF.loc[i][1])\n",
    "            mismatch.insert(i,DF.loc[i][1])\n",
    "            DF=DF.drop([i])\n",
    "            drug=drug.drop([i],axis=0)\n",
    "            drug=drug.drop([i],axis=1)\n"
   ]
  },
  {
   "cell_type": "code",
   "execution_count": 4,
   "metadata": {},
   "outputs": [],
   "source": [
    "DF.to_csv(\"saved DF.csv\",index=False)\n",
    "DF = pd.read_csv(\"saved DF.csv\", header=0)\n",
    "drug.to_csv('saved drug.csv',index=False)\n",
    "drug = pd.read_csv('saved drug.csv', header=0)"
   ]
  },
  {
   "cell_type": "code",
   "execution_count": 5,
   "metadata": {},
   "outputs": [],
   "source": [
    "finalmatrix=[]\n",
    "for i in range(533):\n",
    "    for j in range(533):\n",
    "        result=[DF.loc[i][1],DF.loc[j][1],drug.loc[i][j]]\n",
    "#         print(result)\n",
    "        finalmatrix.append(result)\n",
    "del DF\n",
    "del drug"
   ]
  },
  {
   "cell_type": "code",
   "execution_count": 6,
   "metadata": {},
   "outputs": [],
   "source": [
    "F=pd.DataFrame(finalmatrix)\n",
    "del finalmatrix"
   ]
  },
  {
   "cell_type": "code",
   "execution_count": 7,
   "metadata": {},
   "outputs": [
    {
     "data": {
      "text/plain": [
       "(284089, 3)"
      ]
     },
     "execution_count": 7,
     "metadata": {},
     "output_type": "execute_result"
    }
   ],
   "source": [
    "F.shape"
   ]
  },
  {
   "cell_type": "code",
   "execution_count": 8,
   "metadata": {},
   "outputs": [
    {
     "data": {
      "text/plain": [
       "(283556, 3)"
      ]
     },
     "execution_count": 8,
     "metadata": {},
     "output_type": "execute_result"
    }
   ],
   "source": [
    "i = 0\n",
    "for i in range(0, 284090, 533):\n",
    "    try:\n",
    "        F = F.drop([i])\n",
    "#         print(i)\n",
    "    except:\n",
    "        1\n",
    "#         print(str(i)+ \" can't be droped\")\n",
    "    i += 1\n",
    "F.shape"
   ]
  },
  {
   "cell_type": "code",
   "execution_count": 9,
   "metadata": {},
   "outputs": [],
   "source": [
    "for k in range(1,301):\n",
    "    F[k+2]=F[0].map(D.set_index(0)[k])\n",
    "    k=k+1\n",
    "\n",
    "for k in range(1,301):\n",
    "    F[k+303]=F[1].map(D.set_index(0)[k])\n",
    "    k=k+1\n",
    "del D"
   ]
  },
  {
   "cell_type": "code",
   "execution_count": 10,
   "metadata": {},
   "outputs": [
    {
     "data": {
      "text/plain": [
       "(283556, 603)"
      ]
     },
     "execution_count": 10,
     "metadata": {},
     "output_type": "execute_result"
    }
   ],
   "source": [
    "F.shape"
   ]
  },
  {
   "cell_type": "code",
   "execution_count": 11,
   "metadata": {},
   "outputs": [],
   "source": [
    "a=F.to_csv(\"saved F.csv\",index=False)\n",
    "A=pd.read_csv(\"saved F.csv\",header=0)"
   ]
  },
  {
   "cell_type": "code",
   "execution_count": 12,
   "metadata": {
    "scrolled": true
   },
   "outputs": [
    {
     "data": {
      "text/html": [
       "<div>\n",
       "<style scoped>\n",
       "    .dataframe tbody tr th:only-of-type {\n",
       "        vertical-align: middle;\n",
       "    }\n",
       "\n",
       "    .dataframe tbody tr th {\n",
       "        vertical-align: top;\n",
       "    }\n",
       "\n",
       "    .dataframe thead th {\n",
       "        text-align: right;\n",
       "    }\n",
       "</style>\n",
       "<table border=\"1\" class=\"dataframe\">\n",
       "  <thead>\n",
       "    <tr style=\"text-align: right;\">\n",
       "      <th></th>\n",
       "      <th>0</th>\n",
       "      <th>1</th>\n",
       "      <th>2</th>\n",
       "      <th>3</th>\n",
       "      <th>4</th>\n",
       "      <th>5</th>\n",
       "      <th>6</th>\n",
       "      <th>7</th>\n",
       "      <th>8</th>\n",
       "      <th>9</th>\n",
       "      <th>...</th>\n",
       "      <th>594</th>\n",
       "      <th>595</th>\n",
       "      <th>596</th>\n",
       "      <th>597</th>\n",
       "      <th>598</th>\n",
       "      <th>599</th>\n",
       "      <th>600</th>\n",
       "      <th>601</th>\n",
       "      <th>602</th>\n",
       "      <th>603</th>\n",
       "    </tr>\n",
       "  </thead>\n",
       "  <tbody>\n",
       "    <tr>\n",
       "      <td>219257</td>\n",
       "      <td>DB01068</td>\n",
       "      <td>DB00583</td>\n",
       "      <td>0</td>\n",
       "      <td>-0.0733817</td>\n",
       "      <td>1.581851</td>\n",
       "      <td>-0.71604234</td>\n",
       "      <td>-0.055004105</td>\n",
       "      <td>0.19616427</td>\n",
       "      <td>1.0226507</td>\n",
       "      <td>-0.30796087</td>\n",
       "      <td>...</td>\n",
       "      <td>0.4565385</td>\n",
       "      <td>-0.35557175</td>\n",
       "      <td>0.28549403</td>\n",
       "      <td>0.85593605</td>\n",
       "      <td>0.6952007</td>\n",
       "      <td>0.6191088</td>\n",
       "      <td>-0.77687913</td>\n",
       "      <td>0.20279303</td>\n",
       "      <td>0.1348209</td>\n",
       "      <td>-0.9882154</td>\n",
       "    </tr>\n",
       "    <tr>\n",
       "      <td>152758</td>\n",
       "      <td>DB01020</td>\n",
       "      <td>DB01005</td>\n",
       "      <td>1</td>\n",
       "      <td>-0.21449706</td>\n",
       "      <td>1.3899641</td>\n",
       "      <td>-0.1339083</td>\n",
       "      <td>-0.90283054</td>\n",
       "      <td>-0.81555146</td>\n",
       "      <td>0.068923764</td>\n",
       "      <td>0.30634892</td>\n",
       "      <td>...</td>\n",
       "      <td>0.2584073</td>\n",
       "      <td>0.49033952</td>\n",
       "      <td>0.14948045</td>\n",
       "      <td>-0.28149226</td>\n",
       "      <td>0.19107299</td>\n",
       "      <td>-0.9214008</td>\n",
       "      <td>-0.5387622</td>\n",
       "      <td>0.19263452</td>\n",
       "      <td>-0.098693244</td>\n",
       "      <td>-0.51949286</td>\n",
       "    </tr>\n",
       "    <tr>\n",
       "      <td>151480</td>\n",
       "      <td>DB00303</td>\n",
       "      <td>DB00363</td>\n",
       "      <td>0</td>\n",
       "      <td>-0.2581789</td>\n",
       "      <td>0.22887346</td>\n",
       "      <td>-0.5851846</td>\n",
       "      <td>-0.49076852</td>\n",
       "      <td>-0.28880435</td>\n",
       "      <td>0.6016703</td>\n",
       "      <td>0.08634252</td>\n",
       "      <td>...</td>\n",
       "      <td>0.33445388</td>\n",
       "      <td>-0.062219966</td>\n",
       "      <td>0.051795702</td>\n",
       "      <td>0.7028007</td>\n",
       "      <td>0.33146504</td>\n",
       "      <td>0.1114701</td>\n",
       "      <td>-0.82600236</td>\n",
       "      <td>0.525038</td>\n",
       "      <td>-0.47479993</td>\n",
       "      <td>-0.09327958</td>\n",
       "    </tr>\n",
       "    <tr>\n",
       "      <td>113342</td>\n",
       "      <td>DB00193</td>\n",
       "      <td>DB00310</td>\n",
       "      <td>1</td>\n",
       "      <td>0.2230149</td>\n",
       "      <td>-0.11923014</td>\n",
       "      <td>0.30495504</td>\n",
       "      <td>-0.061223634</td>\n",
       "      <td>0.6378929</td>\n",
       "      <td>0.050134063</td>\n",
       "      <td>-0.03290818</td>\n",
       "      <td>...</td>\n",
       "      <td>-0.05591399</td>\n",
       "      <td>-0.023251416</td>\n",
       "      <td>0.114600554</td>\n",
       "      <td>-0.116816126</td>\n",
       "      <td>0.847917</td>\n",
       "      <td>-0.097845286</td>\n",
       "      <td>-0.005743735</td>\n",
       "      <td>0.2483152</td>\n",
       "      <td>0.68770707</td>\n",
       "      <td>0.2943651</td>\n",
       "    </tr>\n",
       "    <tr>\n",
       "      <td>248524</td>\n",
       "      <td>DB01611</td>\n",
       "      <td>DB00373</td>\n",
       "      <td>1</td>\n",
       "      <td>0.38073048</td>\n",
       "      <td>-0.2027249</td>\n",
       "      <td>-0.014404982</td>\n",
       "      <td>-0.4831131</td>\n",
       "      <td>0.66773355</td>\n",
       "      <td>-0.10263558</td>\n",
       "      <td>-0.22078228</td>\n",
       "      <td>...</td>\n",
       "      <td>0.32089078</td>\n",
       "      <td>0.08927543</td>\n",
       "      <td>0.26730058</td>\n",
       "      <td>0.14861174</td>\n",
       "      <td>0.05569699</td>\n",
       "      <td>0.5086133</td>\n",
       "      <td>-0.1021976</td>\n",
       "      <td>-0.15078862</td>\n",
       "      <td>0.027464742</td>\n",
       "      <td>0.008307085</td>\n",
       "    </tr>\n",
       "    <tr>\n",
       "      <td>...</td>\n",
       "      <td>...</td>\n",
       "      <td>...</td>\n",
       "      <td>...</td>\n",
       "      <td>...</td>\n",
       "      <td>...</td>\n",
       "      <td>...</td>\n",
       "      <td>...</td>\n",
       "      <td>...</td>\n",
       "      <td>...</td>\n",
       "      <td>...</td>\n",
       "      <td>...</td>\n",
       "      <td>...</td>\n",
       "      <td>...</td>\n",
       "      <td>...</td>\n",
       "      <td>...</td>\n",
       "      <td>...</td>\n",
       "      <td>...</td>\n",
       "      <td>...</td>\n",
       "      <td>...</td>\n",
       "      <td>...</td>\n",
       "      <td>...</td>\n",
       "    </tr>\n",
       "    <tr>\n",
       "      <td>19451</td>\n",
       "      <td>DB00204</td>\n",
       "      <td>DB00906</td>\n",
       "      <td>0</td>\n",
       "      <td>0.38949051</td>\n",
       "      <td>-0.20450126</td>\n",
       "      <td>-0.19480585</td>\n",
       "      <td>0.2625045</td>\n",
       "      <td>0.08750294</td>\n",
       "      <td>-0.101523325</td>\n",
       "      <td>-0.04011824</td>\n",
       "      <td>...</td>\n",
       "      <td>1.1495975</td>\n",
       "      <td>-0.25123322</td>\n",
       "      <td>-0.08541001</td>\n",
       "      <td>0.83570766</td>\n",
       "      <td>-0.35873112</td>\n",
       "      <td>0.34013984</td>\n",
       "      <td>-0.7748962</td>\n",
       "      <td>-0.11062164</td>\n",
       "      <td>-0.1363933</td>\n",
       "      <td>0.0989903</td>\n",
       "    </tr>\n",
       "    <tr>\n",
       "      <td>19673</td>\n",
       "      <td>DB00204</td>\n",
       "      <td>DB00294</td>\n",
       "      <td>0</td>\n",
       "      <td>0.38949051</td>\n",
       "      <td>-0.20450126</td>\n",
       "      <td>-0.19480585</td>\n",
       "      <td>0.2625045</td>\n",
       "      <td>0.08750294</td>\n",
       "      <td>-0.101523325</td>\n",
       "      <td>-0.04011824</td>\n",
       "      <td>...</td>\n",
       "      <td>-0.06480896</td>\n",
       "      <td>0.3073064</td>\n",
       "      <td>-0.47821411</td>\n",
       "      <td>0.017689252</td>\n",
       "      <td>0.6938296</td>\n",
       "      <td>-0.29600912</td>\n",
       "      <td>-0.49282444</td>\n",
       "      <td>-0.6485206</td>\n",
       "      <td>-0.07926843</td>\n",
       "      <td>-0.41000617</td>\n",
       "    </tr>\n",
       "    <tr>\n",
       "      <td>27902</td>\n",
       "      <td>DB01030</td>\n",
       "      <td>DB00674</td>\n",
       "      <td>0</td>\n",
       "      <td>-0.34412926</td>\n",
       "      <td>-0.24248625</td>\n",
       "      <td>-0.044542253</td>\n",
       "      <td>0.24134345</td>\n",
       "      <td>-0.70701575</td>\n",
       "      <td>0.59380454</td>\n",
       "      <td>-0.095665984</td>\n",
       "      <td>...</td>\n",
       "      <td>0.35006025</td>\n",
       "      <td>0.23636045</td>\n",
       "      <td>0.04160185</td>\n",
       "      <td>0.5445195</td>\n",
       "      <td>0.48030677</td>\n",
       "      <td>0.102403</td>\n",
       "      <td>-0.53424805</td>\n",
       "      <td>-0.39928025</td>\n",
       "      <td>-0.38757202</td>\n",
       "      <td>-0.27068827</td>\n",
       "    </tr>\n",
       "    <tr>\n",
       "      <td>83109</td>\n",
       "      <td>DB00211</td>\n",
       "      <td>DB00317</td>\n",
       "      <td>0</td>\n",
       "      <td>-0.013216753</td>\n",
       "      <td>-0.03354439</td>\n",
       "      <td>0.2859354</td>\n",
       "      <td>-0.33421916</td>\n",
       "      <td>0.020752124</td>\n",
       "      <td>0.5992862</td>\n",
       "      <td>-0.29405355</td>\n",
       "      <td>...</td>\n",
       "      <td>0.24964419</td>\n",
       "      <td>-0.17564522</td>\n",
       "      <td>-0.27948314</td>\n",
       "      <td>-0.35822085</td>\n",
       "      <td>1.1229631</td>\n",
       "      <td>-0.55739206</td>\n",
       "      <td>-1.4088975</td>\n",
       "      <td>-0.48426628</td>\n",
       "      <td>-0.8731651</td>\n",
       "      <td>0.079562895</td>\n",
       "    </tr>\n",
       "    <tr>\n",
       "      <td>235480</td>\n",
       "      <td>DB00671</td>\n",
       "      <td>DB01104</td>\n",
       "      <td>0</td>\n",
       "      <td>0.09569517</td>\n",
       "      <td>0.91782546</td>\n",
       "      <td>0.5213876</td>\n",
       "      <td>-0.22944456</td>\n",
       "      <td>-0.12677239</td>\n",
       "      <td>0.29472014</td>\n",
       "      <td>0.5977421</td>\n",
       "      <td>...</td>\n",
       "      <td>-0.038232323</td>\n",
       "      <td>0.012725891</td>\n",
       "      <td>0.77537316</td>\n",
       "      <td>0.3339713</td>\n",
       "      <td>1.0618117</td>\n",
       "      <td>-0.29066768</td>\n",
       "      <td>-1.6873616</td>\n",
       "      <td>-0.19435655</td>\n",
       "      <td>-0.29643124</td>\n",
       "      <td>-0.70864105</td>\n",
       "    </tr>\n",
       "  </tbody>\n",
       "</table>\n",
       "<p>28355 rows × 603 columns</p>\n",
       "</div>"
      ],
      "text/plain": [
       "            0        1    2             3            4             5    \\\n",
       "219257  DB01068  DB00583    0    -0.0733817     1.581851   -0.71604234   \n",
       "152758  DB01020  DB01005    1   -0.21449706    1.3899641    -0.1339083   \n",
       "151480  DB00303  DB00363    0    -0.2581789   0.22887346    -0.5851846   \n",
       "113342  DB00193  DB00310    1     0.2230149  -0.11923014    0.30495504   \n",
       "248524  DB01611  DB00373    1    0.38073048   -0.2027249  -0.014404982   \n",
       "...         ...      ...  ...           ...          ...           ...   \n",
       "19451   DB00204  DB00906    0    0.38949051  -0.20450126   -0.19480585   \n",
       "19673   DB00204  DB00294    0    0.38949051  -0.20450126   -0.19480585   \n",
       "27902   DB01030  DB00674    0   -0.34412926  -0.24248625  -0.044542253   \n",
       "83109   DB00211  DB00317    0  -0.013216753  -0.03354439     0.2859354   \n",
       "235480  DB00671  DB01104    0    0.09569517   0.91782546     0.5213876   \n",
       "\n",
       "                 6            7             8             9    ...  \\\n",
       "219257  -0.055004105   0.19616427     1.0226507   -0.30796087  ...   \n",
       "152758   -0.90283054  -0.81555146   0.068923764    0.30634892  ...   \n",
       "151480   -0.49076852  -0.28880435     0.6016703    0.08634252  ...   \n",
       "113342  -0.061223634    0.6378929   0.050134063   -0.03290818  ...   \n",
       "248524    -0.4831131   0.66773355   -0.10263558   -0.22078228  ...   \n",
       "...              ...          ...           ...           ...  ...   \n",
       "19451      0.2625045   0.08750294  -0.101523325   -0.04011824  ...   \n",
       "19673      0.2625045   0.08750294  -0.101523325   -0.04011824  ...   \n",
       "27902     0.24134345  -0.70701575    0.59380454  -0.095665984  ...   \n",
       "83109    -0.33421916  0.020752124     0.5992862   -0.29405355  ...   \n",
       "235480   -0.22944456  -0.12677239    0.29472014     0.5977421  ...   \n",
       "\n",
       "                 594           595          596           597          598  \\\n",
       "219257     0.4565385   -0.35557175   0.28549403    0.85593605    0.6952007   \n",
       "152758     0.2584073    0.49033952   0.14948045   -0.28149226   0.19107299   \n",
       "151480    0.33445388  -0.062219966  0.051795702     0.7028007   0.33146504   \n",
       "113342   -0.05591399  -0.023251416  0.114600554  -0.116816126     0.847917   \n",
       "248524    0.32089078    0.08927543   0.26730058    0.14861174   0.05569699   \n",
       "...              ...           ...          ...           ...          ...   \n",
       "19451      1.1495975   -0.25123322  -0.08541001    0.83570766  -0.35873112   \n",
       "19673    -0.06480896     0.3073064  -0.47821411   0.017689252    0.6938296   \n",
       "27902     0.35006025    0.23636045   0.04160185     0.5445195   0.48030677   \n",
       "83109     0.24964419   -0.17564522  -0.27948314   -0.35822085    1.1229631   \n",
       "235480  -0.038232323   0.012725891   0.77537316     0.3339713    1.0618117   \n",
       "\n",
       "                 599           600          601           602          603  \n",
       "219257     0.6191088   -0.77687913   0.20279303     0.1348209   -0.9882154  \n",
       "152758    -0.9214008    -0.5387622   0.19263452  -0.098693244  -0.51949286  \n",
       "151480     0.1114701   -0.82600236     0.525038   -0.47479993  -0.09327958  \n",
       "113342  -0.097845286  -0.005743735    0.2483152    0.68770707    0.2943651  \n",
       "248524     0.5086133    -0.1021976  -0.15078862   0.027464742  0.008307085  \n",
       "...              ...           ...          ...           ...          ...  \n",
       "19451     0.34013984    -0.7748962  -0.11062164    -0.1363933    0.0989903  \n",
       "19673    -0.29600912   -0.49282444   -0.6485206   -0.07926843  -0.41000617  \n",
       "27902       0.102403   -0.53424805  -0.39928025   -0.38757202  -0.27068827  \n",
       "83109    -0.55739206    -1.4088975  -0.48426628    -0.8731651  0.079562895  \n",
       "235480   -0.29066768    -1.6873616  -0.19435655   -0.29643124  -0.70864105  \n",
       "\n",
       "[28355 rows x 603 columns]"
      ]
     },
     "execution_count": 12,
     "metadata": {},
     "output_type": "execute_result"
    }
   ],
   "source": [
    "testset=F.sample(n=len(A)//10)\n",
    "testset"
   ]
  },
  {
   "cell_type": "code",
   "execution_count": 25,
   "metadata": {},
   "outputs": [
    {
     "ename": "KeyboardInterrupt",
     "evalue": "",
     "output_type": "error",
     "traceback": [
      "\u001b[1;31m---------------------------------------------------------------------------\u001b[0m",
      "\u001b[1;31mKeyboardInterrupt\u001b[0m                         Traceback (most recent call last)",
      "\u001b[1;32m<ipython-input-25-7fd8ef6cf260>\u001b[0m in \u001b[0;36m<module>\u001b[1;34m\u001b[0m\n\u001b[0;32m      2\u001b[0m \u001b[1;32mfor\u001b[0m \u001b[0mj\u001b[0m \u001b[1;32min\u001b[0m \u001b[0mrange\u001b[0m\u001b[1;33m(\u001b[0m\u001b[0mlen\u001b[0m\u001b[1;33m(\u001b[0m\u001b[0mtestset\u001b[0m\u001b[1;33m)\u001b[0m\u001b[1;33m)\u001b[0m\u001b[1;33m:\u001b[0m\u001b[1;33m\u001b[0m\u001b[1;33m\u001b[0m\u001b[0m\n\u001b[0;32m      3\u001b[0m     \u001b[1;32mfor\u001b[0m \u001b[0mi\u001b[0m \u001b[1;32min\u001b[0m \u001b[0mrange\u001b[0m\u001b[1;33m(\u001b[0m\u001b[0mlen\u001b[0m\u001b[1;33m(\u001b[0m\u001b[0mF\u001b[0m\u001b[1;33m)\u001b[0m\u001b[1;33m)\u001b[0m\u001b[1;33m:\u001b[0m\u001b[1;33m\u001b[0m\u001b[1;33m\u001b[0m\u001b[0m\n\u001b[1;32m----> 4\u001b[1;33m         \u001b[1;32mif\u001b[0m \u001b[0mtestset\u001b[0m\u001b[1;33m.\u001b[0m\u001b[0mvalues\u001b[0m\u001b[1;33m[\u001b[0m\u001b[0mj\u001b[0m\u001b[1;33m,\u001b[0m\u001b[1;36m2\u001b[0m\u001b[1;33m]\u001b[0m\u001b[1;33m==\u001b[0m\u001b[0mF\u001b[0m\u001b[1;33m.\u001b[0m\u001b[0mvalues\u001b[0m\u001b[1;33m[\u001b[0m\u001b[0mi\u001b[0m\u001b[1;33m,\u001b[0m\u001b[1;36m1\u001b[0m\u001b[1;33m]\u001b[0m\u001b[1;33m:\u001b[0m\u001b[1;33m\u001b[0m\u001b[1;33m\u001b[0m\u001b[0m\n\u001b[0m\u001b[0;32m      5\u001b[0m             \u001b[1;32mif\u001b[0m \u001b[0mtestset\u001b[0m\u001b[1;33m.\u001b[0m\u001b[0mvalues\u001b[0m\u001b[1;33m[\u001b[0m\u001b[0mj\u001b[0m\u001b[1;33m,\u001b[0m\u001b[1;36m1\u001b[0m\u001b[1;33m]\u001b[0m\u001b[1;33m==\u001b[0m\u001b[0mF\u001b[0m\u001b[1;33m.\u001b[0m\u001b[0mvalues\u001b[0m\u001b[1;33m[\u001b[0m\u001b[0mi\u001b[0m\u001b[1;33m,\u001b[0m\u001b[1;36m2\u001b[0m\u001b[1;33m]\u001b[0m\u001b[1;33m:\u001b[0m\u001b[1;33m\u001b[0m\u001b[1;33m\u001b[0m\u001b[0m\n\u001b[0;32m      6\u001b[0m                 \u001b[0mh\u001b[0m\u001b[1;33m.\u001b[0m\u001b[0mappend\u001b[0m\u001b[1;33m(\u001b[0m\u001b[0mF\u001b[0m\u001b[1;33m.\u001b[0m\u001b[0mvalues\u001b[0m\u001b[1;33m[\u001b[0m\u001b[0mi\u001b[0m\u001b[1;33m]\u001b[0m\u001b[1;33m)\u001b[0m\u001b[1;33m\u001b[0m\u001b[1;33m\u001b[0m\u001b[0m\n",
      "\u001b[1;32mc:\\program files\\python36\\lib\\site-packages\\pandas\\core\\generic.py\u001b[0m in \u001b[0;36mvalues\u001b[1;34m(self)\u001b[0m\n\u001b[0;32m   5441\u001b[0m         \"\"\"\n\u001b[0;32m   5442\u001b[0m         \u001b[0mself\u001b[0m\u001b[1;33m.\u001b[0m\u001b[0m_consolidate_inplace\u001b[0m\u001b[1;33m(\u001b[0m\u001b[1;33m)\u001b[0m\u001b[1;33m\u001b[0m\u001b[1;33m\u001b[0m\u001b[0m\n\u001b[1;32m-> 5443\u001b[1;33m         \u001b[1;32mreturn\u001b[0m \u001b[0mself\u001b[0m\u001b[1;33m.\u001b[0m\u001b[0m_data\u001b[0m\u001b[1;33m.\u001b[0m\u001b[0mas_array\u001b[0m\u001b[1;33m(\u001b[0m\u001b[0mtranspose\u001b[0m\u001b[1;33m=\u001b[0m\u001b[0mself\u001b[0m\u001b[1;33m.\u001b[0m\u001b[0m_AXIS_REVERSED\u001b[0m\u001b[1;33m)\u001b[0m\u001b[1;33m\u001b[0m\u001b[1;33m\u001b[0m\u001b[0m\n\u001b[0m\u001b[0;32m   5444\u001b[0m \u001b[1;33m\u001b[0m\u001b[0m\n\u001b[0;32m   5445\u001b[0m     \u001b[1;33m@\u001b[0m\u001b[0mproperty\u001b[0m\u001b[1;33m\u001b[0m\u001b[1;33m\u001b[0m\u001b[0m\n",
      "\u001b[1;32mc:\\program files\\python36\\lib\\site-packages\\pandas\\core\\internals\\managers.py\u001b[0m in \u001b[0;36mas_array\u001b[1;34m(self, transpose, items)\u001b[0m\n\u001b[0;32m    820\u001b[0m             \u001b[0marr\u001b[0m \u001b[1;33m=\u001b[0m \u001b[0mnp\u001b[0m\u001b[1;33m.\u001b[0m\u001b[0masarray\u001b[0m\u001b[1;33m(\u001b[0m\u001b[0mmgr\u001b[0m\u001b[1;33m.\u001b[0m\u001b[0mblocks\u001b[0m\u001b[1;33m[\u001b[0m\u001b[1;36m0\u001b[0m\u001b[1;33m]\u001b[0m\u001b[1;33m.\u001b[0m\u001b[0mget_values\u001b[0m\u001b[1;33m(\u001b[0m\u001b[1;33m)\u001b[0m\u001b[1;33m)\u001b[0m\u001b[1;33m\u001b[0m\u001b[1;33m\u001b[0m\u001b[0m\n\u001b[0;32m    821\u001b[0m         \u001b[1;32melse\u001b[0m\u001b[1;33m:\u001b[0m\u001b[1;33m\u001b[0m\u001b[1;33m\u001b[0m\u001b[0m\n\u001b[1;32m--> 822\u001b[1;33m             \u001b[0marr\u001b[0m \u001b[1;33m=\u001b[0m \u001b[0mmgr\u001b[0m\u001b[1;33m.\u001b[0m\u001b[0m_interleave\u001b[0m\u001b[1;33m(\u001b[0m\u001b[1;33m)\u001b[0m\u001b[1;33m\u001b[0m\u001b[1;33m\u001b[0m\u001b[0m\n\u001b[0m\u001b[0;32m    823\u001b[0m \u001b[1;33m\u001b[0m\u001b[0m\n\u001b[0;32m    824\u001b[0m         \u001b[1;32mreturn\u001b[0m \u001b[0marr\u001b[0m\u001b[1;33m.\u001b[0m\u001b[0mtranspose\u001b[0m\u001b[1;33m(\u001b[0m\u001b[1;33m)\u001b[0m \u001b[1;32mif\u001b[0m \u001b[0mtranspose\u001b[0m \u001b[1;32melse\u001b[0m \u001b[0marr\u001b[0m\u001b[1;33m\u001b[0m\u001b[1;33m\u001b[0m\u001b[0m\n",
      "\u001b[1;32mc:\\program files\\python36\\lib\\site-packages\\pandas\\core\\internals\\managers.py\u001b[0m in \u001b[0;36m_interleave\u001b[1;34m(self)\u001b[0m\n\u001b[0;32m    844\u001b[0m         \u001b[1;32mfor\u001b[0m \u001b[0mblk\u001b[0m \u001b[1;32min\u001b[0m \u001b[0mself\u001b[0m\u001b[1;33m.\u001b[0m\u001b[0mblocks\u001b[0m\u001b[1;33m:\u001b[0m\u001b[1;33m\u001b[0m\u001b[1;33m\u001b[0m\u001b[0m\n\u001b[0;32m    845\u001b[0m             \u001b[0mrl\u001b[0m \u001b[1;33m=\u001b[0m \u001b[0mblk\u001b[0m\u001b[1;33m.\u001b[0m\u001b[0mmgr_locs\u001b[0m\u001b[1;33m\u001b[0m\u001b[1;33m\u001b[0m\u001b[0m\n\u001b[1;32m--> 846\u001b[1;33m             \u001b[0mresult\u001b[0m\u001b[1;33m[\u001b[0m\u001b[0mrl\u001b[0m\u001b[1;33m.\u001b[0m\u001b[0mindexer\u001b[0m\u001b[1;33m]\u001b[0m \u001b[1;33m=\u001b[0m \u001b[0mblk\u001b[0m\u001b[1;33m.\u001b[0m\u001b[0mget_values\u001b[0m\u001b[1;33m(\u001b[0m\u001b[0mdtype\u001b[0m\u001b[1;33m)\u001b[0m\u001b[1;33m\u001b[0m\u001b[1;33m\u001b[0m\u001b[0m\n\u001b[0m\u001b[0;32m    847\u001b[0m             \u001b[0mitemmask\u001b[0m\u001b[1;33m[\u001b[0m\u001b[0mrl\u001b[0m\u001b[1;33m.\u001b[0m\u001b[0mindexer\u001b[0m\u001b[1;33m]\u001b[0m \u001b[1;33m=\u001b[0m \u001b[1;36m1\u001b[0m\u001b[1;33m\u001b[0m\u001b[1;33m\u001b[0m\u001b[0m\n\u001b[0;32m    848\u001b[0m \u001b[1;33m\u001b[0m\u001b[0m\n",
      "\u001b[1;32mc:\\program files\\python36\\lib\\site-packages\\pandas\\core\\internals\\blocks.py\u001b[0m in \u001b[0;36mget_values\u001b[1;34m(self, dtype)\u001b[0m\n\u001b[0;32m    221\u001b[0m         \"\"\"\n\u001b[0;32m    222\u001b[0m         \u001b[1;32mif\u001b[0m \u001b[0mis_object_dtype\u001b[0m\u001b[1;33m(\u001b[0m\u001b[0mdtype\u001b[0m\u001b[1;33m)\u001b[0m\u001b[1;33m:\u001b[0m\u001b[1;33m\u001b[0m\u001b[1;33m\u001b[0m\u001b[0m\n\u001b[1;32m--> 223\u001b[1;33m             \u001b[1;32mreturn\u001b[0m \u001b[0mself\u001b[0m\u001b[1;33m.\u001b[0m\u001b[0mvalues\u001b[0m\u001b[1;33m.\u001b[0m\u001b[0mastype\u001b[0m\u001b[1;33m(\u001b[0m\u001b[0mobject\u001b[0m\u001b[1;33m)\u001b[0m\u001b[1;33m\u001b[0m\u001b[1;33m\u001b[0m\u001b[0m\n\u001b[0m\u001b[0;32m    224\u001b[0m         \u001b[1;32mreturn\u001b[0m \u001b[0mself\u001b[0m\u001b[1;33m.\u001b[0m\u001b[0mvalues\u001b[0m\u001b[1;33m\u001b[0m\u001b[1;33m\u001b[0m\u001b[0m\n\u001b[0;32m    225\u001b[0m \u001b[1;33m\u001b[0m\u001b[0m\n",
      "\u001b[1;31mKeyboardInterrupt\u001b[0m: "
     ]
    }
   ],
   "source": [
    "h=[]\n",
    "for j in range(len(testset)):\n",
    "    for i in range(len(F)):\n",
    "        if testset.values[j,2]==F.values[i,1]:\n",
    "            if testset.values[j,1]==F.values[i,2]:\n",
    "                h.append(F.values[i])"
   ]
  },
  {
   "cell_type": "code",
   "execution_count": null,
   "metadata": {},
   "outputs": [],
   "source": []
  },
  {
   "cell_type": "code",
   "execution_count": null,
   "metadata": {},
   "outputs": [],
   "source": []
  },
  {
   "cell_type": "code",
   "execution_count": null,
   "metadata": {},
   "outputs": [],
   "source": []
  },
  {
   "cell_type": "code",
   "execution_count": null,
   "metadata": {},
   "outputs": [],
   "source": []
  },
  {
   "cell_type": "code",
   "execution_count": null,
   "metadata": {},
   "outputs": [],
   "source": []
  },
  {
   "cell_type": "code",
   "execution_count": null,
   "metadata": {},
   "outputs": [],
   "source": []
  },
  {
   "cell_type": "code",
   "execution_count": null,
   "metadata": {},
   "outputs": [],
   "source": []
  },
  {
   "cell_type": "code",
   "execution_count": null,
   "metadata": {},
   "outputs": [],
   "source": []
  },
  {
   "cell_type": "code",
   "execution_count": null,
   "metadata": {},
   "outputs": [],
   "source": []
  },
  {
   "cell_type": "code",
   "execution_count": null,
   "metadata": {},
   "outputs": [],
   "source": []
  },
  {
   "cell_type": "code",
   "execution_count": 12,
   "metadata": {},
   "outputs": [],
   "source": [
    "import random"
   ]
  },
  {
   "cell_type": "code",
   "execution_count": 13,
   "metadata": {},
   "outputs": [],
   "source": [
    "list=[]\n",
    "for x in range(len(A)//10):\n",
    "    y=random.randint(1,len(A))\n",
    "    list.append(y)\n",
    "#print(list)\n",
    "list=pd.DataFrame(list)"
   ]
  },
  {
   "cell_type": "code",
   "execution_count": 14,
   "metadata": {},
   "outputs": [],
   "source": [
    "idx = 0\n",
    "new_col = []\n",
    "for i in range(len(F)):\n",
    "    new_col.append(i) "
   ]
  },
  {
   "cell_type": "code",
   "execution_count": 15,
   "metadata": {},
   "outputs": [],
   "source": [
    "F.insert(loc=idx, column='indexes', value=new_col)"
   ]
  },
  {
   "cell_type": "code",
   "execution_count": null,
   "metadata": {},
   "outputs": [],
   "source": [
    "chosen_idx = np.random.choice(size = 6) \n",
    "  \n",
    "df2 = F.iloc[chosen_idx] "
   ]
  },
  {
   "cell_type": "code",
   "execution_count": null,
   "metadata": {},
   "outputs": [],
   "source": [
    "df2"
   ]
  },
  {
   "cell_type": "code",
   "execution_count": 16,
   "metadata": {},
   "outputs": [
    {
     "ename": "KeyError",
     "evalue": "303",
     "output_type": "error",
     "traceback": [
      "\u001b[1;31m---------------------------------------------------------------------------\u001b[0m",
      "\u001b[1;31mKeyError\u001b[0m                                  Traceback (most recent call last)",
      "\u001b[1;32mc:\\program files\\python36\\lib\\site-packages\\pandas\\core\\indexes\\base.py\u001b[0m in \u001b[0;36mget_loc\u001b[1;34m(self, key, method, tolerance)\u001b[0m\n\u001b[0;32m   2896\u001b[0m             \u001b[1;32mtry\u001b[0m\u001b[1;33m:\u001b[0m\u001b[1;33m\u001b[0m\u001b[1;33m\u001b[0m\u001b[0m\n\u001b[1;32m-> 2897\u001b[1;33m                 \u001b[1;32mreturn\u001b[0m \u001b[0mself\u001b[0m\u001b[1;33m.\u001b[0m\u001b[0m_engine\u001b[0m\u001b[1;33m.\u001b[0m\u001b[0mget_loc\u001b[0m\u001b[1;33m(\u001b[0m\u001b[0mkey\u001b[0m\u001b[1;33m)\u001b[0m\u001b[1;33m\u001b[0m\u001b[1;33m\u001b[0m\u001b[0m\n\u001b[0m\u001b[0;32m   2898\u001b[0m             \u001b[1;32mexcept\u001b[0m \u001b[0mKeyError\u001b[0m\u001b[1;33m:\u001b[0m\u001b[1;33m\u001b[0m\u001b[1;33m\u001b[0m\u001b[0m\n",
      "\u001b[1;32mpandas\\_libs\\index.pyx\u001b[0m in \u001b[0;36mpandas._libs.index.IndexEngine.get_loc\u001b[1;34m()\u001b[0m\n",
      "\u001b[1;32mpandas\\_libs\\index.pyx\u001b[0m in \u001b[0;36mpandas._libs.index.IndexEngine.get_loc\u001b[1;34m()\u001b[0m\n",
      "\u001b[1;32mpandas\\_libs\\hashtable_class_helper.pxi\u001b[0m in \u001b[0;36mpandas._libs.hashtable.PyObjectHashTable.get_item\u001b[1;34m()\u001b[0m\n",
      "\u001b[1;32mpandas\\_libs\\hashtable_class_helper.pxi\u001b[0m in \u001b[0;36mpandas._libs.hashtable.PyObjectHashTable.get_item\u001b[1;34m()\u001b[0m\n",
      "\u001b[1;31mKeyError\u001b[0m: 303",
      "\nDuring handling of the above exception, another exception occurred:\n",
      "\u001b[1;31mKeyError\u001b[0m                                  Traceback (most recent call last)",
      "\u001b[1;32m<ipython-input-16-f908efe9ff65>\u001b[0m in \u001b[0;36m<module>\u001b[1;34m\u001b[0m\n\u001b[0;32m      1\u001b[0m \u001b[1;32mfor\u001b[0m \u001b[0mk\u001b[0m \u001b[1;32min\u001b[0m \u001b[0mrange\u001b[0m\u001b[1;33m(\u001b[0m\u001b[0mlen\u001b[0m\u001b[1;33m(\u001b[0m\u001b[0mlist\u001b[0m\u001b[1;33m)\u001b[0m\u001b[1;33m)\u001b[0m\u001b[1;33m:\u001b[0m\u001b[1;33m\u001b[0m\u001b[1;33m\u001b[0m\u001b[0m\n\u001b[1;32m----> 2\u001b[1;33m     \u001b[0mlist\u001b[0m\u001b[1;33m[\u001b[0m\u001b[0mk\u001b[0m\u001b[1;33m+\u001b[0m\u001b[1;36m1\u001b[0m\u001b[1;33m]\u001b[0m\u001b[1;33m=\u001b[0m\u001b[0mlist\u001b[0m\u001b[1;33m[\u001b[0m\u001b[1;36m0\u001b[0m\u001b[1;33m]\u001b[0m\u001b[1;33m.\u001b[0m\u001b[0mmap\u001b[0m\u001b[1;33m(\u001b[0m\u001b[0mF\u001b[0m\u001b[1;33m.\u001b[0m\u001b[0mset_index\u001b[0m\u001b[1;33m(\u001b[0m\u001b[1;34m'indexes'\u001b[0m\u001b[1;33m)\u001b[0m\u001b[1;33m[\u001b[0m\u001b[0mk\u001b[0m\u001b[1;33m]\u001b[0m\u001b[1;33m)\u001b[0m\u001b[1;33m\u001b[0m\u001b[1;33m\u001b[0m\u001b[0m\n\u001b[0m\u001b[0;32m      3\u001b[0m     \u001b[0mk\u001b[0m\u001b[1;33m=\u001b[0m\u001b[0mk\u001b[0m\u001b[1;33m+\u001b[0m\u001b[1;36m1\u001b[0m\u001b[1;33m\u001b[0m\u001b[1;33m\u001b[0m\u001b[0m\n",
      "\u001b[1;32mc:\\program files\\python36\\lib\\site-packages\\pandas\\core\\frame.py\u001b[0m in \u001b[0;36m__getitem__\u001b[1;34m(self, key)\u001b[0m\n\u001b[0;32m   2978\u001b[0m             \u001b[1;32mif\u001b[0m \u001b[0mself\u001b[0m\u001b[1;33m.\u001b[0m\u001b[0mcolumns\u001b[0m\u001b[1;33m.\u001b[0m\u001b[0mnlevels\u001b[0m \u001b[1;33m>\u001b[0m \u001b[1;36m1\u001b[0m\u001b[1;33m:\u001b[0m\u001b[1;33m\u001b[0m\u001b[1;33m\u001b[0m\u001b[0m\n\u001b[0;32m   2979\u001b[0m                 \u001b[1;32mreturn\u001b[0m \u001b[0mself\u001b[0m\u001b[1;33m.\u001b[0m\u001b[0m_getitem_multilevel\u001b[0m\u001b[1;33m(\u001b[0m\u001b[0mkey\u001b[0m\u001b[1;33m)\u001b[0m\u001b[1;33m\u001b[0m\u001b[1;33m\u001b[0m\u001b[0m\n\u001b[1;32m-> 2980\u001b[1;33m             \u001b[0mindexer\u001b[0m \u001b[1;33m=\u001b[0m \u001b[0mself\u001b[0m\u001b[1;33m.\u001b[0m\u001b[0mcolumns\u001b[0m\u001b[1;33m.\u001b[0m\u001b[0mget_loc\u001b[0m\u001b[1;33m(\u001b[0m\u001b[0mkey\u001b[0m\u001b[1;33m)\u001b[0m\u001b[1;33m\u001b[0m\u001b[1;33m\u001b[0m\u001b[0m\n\u001b[0m\u001b[0;32m   2981\u001b[0m             \u001b[1;32mif\u001b[0m \u001b[0mis_integer\u001b[0m\u001b[1;33m(\u001b[0m\u001b[0mindexer\u001b[0m\u001b[1;33m)\u001b[0m\u001b[1;33m:\u001b[0m\u001b[1;33m\u001b[0m\u001b[1;33m\u001b[0m\u001b[0m\n\u001b[0;32m   2982\u001b[0m                 \u001b[0mindexer\u001b[0m \u001b[1;33m=\u001b[0m \u001b[1;33m[\u001b[0m\u001b[0mindexer\u001b[0m\u001b[1;33m]\u001b[0m\u001b[1;33m\u001b[0m\u001b[1;33m\u001b[0m\u001b[0m\n",
      "\u001b[1;32mc:\\program files\\python36\\lib\\site-packages\\pandas\\core\\indexes\\base.py\u001b[0m in \u001b[0;36mget_loc\u001b[1;34m(self, key, method, tolerance)\u001b[0m\n\u001b[0;32m   2897\u001b[0m                 \u001b[1;32mreturn\u001b[0m \u001b[0mself\u001b[0m\u001b[1;33m.\u001b[0m\u001b[0m_engine\u001b[0m\u001b[1;33m.\u001b[0m\u001b[0mget_loc\u001b[0m\u001b[1;33m(\u001b[0m\u001b[0mkey\u001b[0m\u001b[1;33m)\u001b[0m\u001b[1;33m\u001b[0m\u001b[1;33m\u001b[0m\u001b[0m\n\u001b[0;32m   2898\u001b[0m             \u001b[1;32mexcept\u001b[0m \u001b[0mKeyError\u001b[0m\u001b[1;33m:\u001b[0m\u001b[1;33m\u001b[0m\u001b[1;33m\u001b[0m\u001b[0m\n\u001b[1;32m-> 2899\u001b[1;33m                 \u001b[1;32mreturn\u001b[0m \u001b[0mself\u001b[0m\u001b[1;33m.\u001b[0m\u001b[0m_engine\u001b[0m\u001b[1;33m.\u001b[0m\u001b[0mget_loc\u001b[0m\u001b[1;33m(\u001b[0m\u001b[0mself\u001b[0m\u001b[1;33m.\u001b[0m\u001b[0m_maybe_cast_indexer\u001b[0m\u001b[1;33m(\u001b[0m\u001b[0mkey\u001b[0m\u001b[1;33m)\u001b[0m\u001b[1;33m)\u001b[0m\u001b[1;33m\u001b[0m\u001b[1;33m\u001b[0m\u001b[0m\n\u001b[0m\u001b[0;32m   2900\u001b[0m         \u001b[0mindexer\u001b[0m \u001b[1;33m=\u001b[0m \u001b[0mself\u001b[0m\u001b[1;33m.\u001b[0m\u001b[0mget_indexer\u001b[0m\u001b[1;33m(\u001b[0m\u001b[1;33m[\u001b[0m\u001b[0mkey\u001b[0m\u001b[1;33m]\u001b[0m\u001b[1;33m,\u001b[0m \u001b[0mmethod\u001b[0m\u001b[1;33m=\u001b[0m\u001b[0mmethod\u001b[0m\u001b[1;33m,\u001b[0m \u001b[0mtolerance\u001b[0m\u001b[1;33m=\u001b[0m\u001b[0mtolerance\u001b[0m\u001b[1;33m)\u001b[0m\u001b[1;33m\u001b[0m\u001b[1;33m\u001b[0m\u001b[0m\n\u001b[0;32m   2901\u001b[0m         \u001b[1;32mif\u001b[0m \u001b[0mindexer\u001b[0m\u001b[1;33m.\u001b[0m\u001b[0mndim\u001b[0m \u001b[1;33m>\u001b[0m \u001b[1;36m1\u001b[0m \u001b[1;32mor\u001b[0m \u001b[0mindexer\u001b[0m\u001b[1;33m.\u001b[0m\u001b[0msize\u001b[0m \u001b[1;33m>\u001b[0m \u001b[1;36m1\u001b[0m\u001b[1;33m:\u001b[0m\u001b[1;33m\u001b[0m\u001b[1;33m\u001b[0m\u001b[0m\n",
      "\u001b[1;32mpandas\\_libs\\index.pyx\u001b[0m in \u001b[0;36mpandas._libs.index.IndexEngine.get_loc\u001b[1;34m()\u001b[0m\n",
      "\u001b[1;32mpandas\\_libs\\index.pyx\u001b[0m in \u001b[0;36mpandas._libs.index.IndexEngine.get_loc\u001b[1;34m()\u001b[0m\n",
      "\u001b[1;32mpandas\\_libs\\hashtable_class_helper.pxi\u001b[0m in \u001b[0;36mpandas._libs.hashtable.PyObjectHashTable.get_item\u001b[1;34m()\u001b[0m\n",
      "\u001b[1;32mpandas\\_libs\\hashtable_class_helper.pxi\u001b[0m in \u001b[0;36mpandas._libs.hashtable.PyObjectHashTable.get_item\u001b[1;34m()\u001b[0m\n",
      "\u001b[1;31mKeyError\u001b[0m: 303"
     ]
    }
   ],
   "source": [
    "for k in range(len(list)):\n",
    "    list[k+1]=list[0].map(F.set_index('indexes')[k])\n",
    "    k=k+1"
   ]
  },
  {
   "cell_type": "code",
   "execution_count": null,
   "metadata": {},
   "outputs": [],
   "source": [
    "print(list)"
   ]
  },
  {
   "cell_type": "code",
   "execution_count": null,
   "metadata": {},
   "outputs": [],
   "source": []
  }
 ],
 "metadata": {
  "kernelspec": {
   "display_name": "Python 3",
   "language": "python",
   "name": "python3"
  },
  "language_info": {
   "codemirror_mode": {
    "name": "ipython",
    "version": 3
   },
   "file_extension": ".py",
   "mimetype": "text/x-python",
   "name": "python",
   "nbconvert_exporter": "python",
   "pygments_lexer": "ipython3",
   "version": "3.6.7"
  }
 },
 "nbformat": 4,
 "nbformat_minor": 2
}
