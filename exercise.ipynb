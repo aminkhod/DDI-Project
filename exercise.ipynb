{
 "cells": [
  {
   "cell_type": "code",
   "execution_count": 1,
   "metadata": {},
   "outputs": [],
   "source": [
    "import pandas as pd"
   ]
  },
  {
   "cell_type": "code",
   "execution_count": 2,
   "metadata": {},
   "outputs": [
    {
     "data": {
      "text/plain": [
       "RangeIndex(start=0, stop=548, step=1)"
      ]
     },
     "execution_count": 2,
     "metadata": {},
     "output_type": "execute_result"
    }
   ],
   "source": [
    "excel_file='drug_drug_matrix.csv'\n",
    "drug=pd.read_csv(excel_file, header=None)\n",
    "drug.index"
   ]
  },
  {
   "cell_type": "code",
   "execution_count": 3,
   "metadata": {},
   "outputs": [],
   "source": [
    "# drug.describe()"
   ]
  },
  {
   "cell_type": "code",
   "execution_count": 4,
   "metadata": {},
   "outputs": [],
   "source": [
    "# drug.head()"
   ]
  },
  {
   "cell_type": "code",
   "execution_count": 5,
   "metadata": {},
   "outputs": [],
   "source": [
    "# drug.loc[:,]\n",
    " "
   ]
  },
  {
   "cell_type": "code",
   "execution_count": 7,
   "metadata": {},
   "outputs": [],
   "source": [
    "# drug.loc[1][0]"
   ]
  },
  {
   "cell_type": "code",
   "execution_count": 8,
   "metadata": {},
   "outputs": [],
   "source": [
    "for i in range(547):\n",
    "    for j in range(548):\n",
    "        result=[i,j,drug.loc[i][j]]\n",
    "#         print(result)"
   ]
  },
  {
   "cell_type": "code",
   "execution_count": 14,
   "metadata": {},
   "outputs": [
    {
     "data": {
      "text/plain": [
       "RangeIndex(start=0, stop=548, step=1)"
      ]
     },
     "execution_count": 14,
     "metadata": {},
     "output_type": "execute_result"
    }
   ],
   "source": [
    "df='drug_list.csv'\n",
    "DF=pd.read_csv(df,header=None)\n",
    "DF.index\n"
   ]
  },
  {
   "cell_type": "code",
   "execution_count": null,
   "metadata": {},
   "outputs": [],
   "source": [
    "DF.loc[2][1]"
   ]
  },
  {
   "cell_type": "code",
   "execution_count": null,
   "metadata": {},
   "outputs": [],
   "source": [
    "for i in range(548):\n",
    "    for j in range(548):\n",
    "        result=[DF.loc[i][1],DF.loc[j][1],drug.loc[i][j]]\n",
    "#         print(result)"
   ]
  },
  {
   "cell_type": "code",
   "execution_count": 40,
   "metadata": {},
   "outputs": [
    {
     "data": {
      "text/plain": [
       "RangeIndex(start=0, stop=2523, step=1)"
      ]
     },
     "execution_count": 40,
     "metadata": {},
     "output_type": "execute_result"
    }
   ],
   "source": [
    "d='drugs.csv'\n",
    "D=pd.read_csv(d)\n",
    "D.index"
   ]
  },
  {
   "cell_type": "code",
   "execution_count": 43,
   "metadata": {},
   "outputs": [
    {
     "data": {
      "text/plain": [
       "str"
      ]
     },
     "execution_count": 43,
     "metadata": {},
     "output_type": "execute_result"
    }
   ],
   "source": [
    "# D.loc[2523][0]\n",
    "D['Entity'][2522]"
   ]
  },
  {
   "cell_type": "code",
   "execution_count": 48,
   "metadata": {},
   "outputs": [
    {
     "name": "stdout",
     "output_type": "stream",
     "text": [
      "DB00659 54\n",
      "DB00200 122\n",
      "DB00194 162\n",
      "DB00558 166\n",
      "DB02379 242\n",
      "DB00873 261\n",
      "DB01260 340\n",
      "DB00874 379\n",
      "DB04441 386\n",
      "DB00538 433\n",
      "DB06151 434\n",
      "DB00225 495\n",
      "DB00878 542\n",
      "DB00632 543\n",
      "DB02530 547\n"
     ]
    }
   ],
   "source": [
    "# druglist=[]\n",
    "# for j in range(548):\n",
    "#     druglist.insert(j,DF.loc[j][1])\n",
    "\n",
    "# for i in range(2523):\n",
    "#     if D.loc[i][0] in (druglist):\n",
    "#             print(i,D.loc[i][0])   \n",
    "i = 0\n",
    "for drug in DF[1]:\n",
    "    if drug not in list(D['Entity']):\n",
    "        print(drug,i)\n",
    "    i+=1\n",
    "# D[0][2]"
   ]
  },
  {
   "cell_type": "code",
   "execution_count": null,
   "metadata": {},
   "outputs": [],
   "source": []
  },
  {
   "cell_type": "code",
   "execution_count": 49,
   "metadata": {},
   "outputs": [],
   "source": [
    "druglist=[]\n",
    "dl=[]\n",
    "for j in range(548):\n",
    "    druglist.insert(j,DF.loc[j][1])\n",
    "for i in range(2523):\n",
    "    dl.insert(i,D.loc[i][0])  "
   ]
  },
  {
   "cell_type": "code",
   "execution_count": 50,
   "metadata": {},
   "outputs": [],
   "source": [
    "import numpy as np\n",
    "main_list=np.setdiff1d(druglist,dl)"
   ]
  },
  {
   "cell_type": "code",
   "execution_count": 53,
   "metadata": {},
   "outputs": [
    {
     "data": {
      "text/plain": [
       "array(['DB00194', 'DB00200', 'DB00225', 'DB00538', 'DB00558', 'DB00632',\n",
       "       'DB00659', 'DB00873', 'DB00874', 'DB00878', 'DB01260', 'DB02379',\n",
       "       'DB02530', 'DB04441', 'DB06151'], dtype='<U7')"
      ]
     },
     "execution_count": 53,
     "metadata": {},
     "output_type": "execute_result"
    }
   ],
   "source": [
    "main_list"
   ]
  },
  {
   "cell_type": "markdown",
   "metadata": {},
   "source": []
  },
  {
   "cell_type": "code",
   "execution_count": null,
   "metadata": {},
   "outputs": [],
   "source": []
  }
 ],
 "metadata": {
  "kernelspec": {
   "display_name": "Python 3",
   "language": "python",
   "name": "python3"
  },
  "language_info": {
   "codemirror_mode": {
    "name": "ipython",
    "version": 3
   },
   "file_extension": ".py",
   "mimetype": "text/x-python",
   "name": "python",
   "nbconvert_exporter": "python",
   "pygments_lexer": "ipython3",
   "version": "3.6.7"
  }
 },
 "nbformat": 4,
 "nbformat_minor": 2
}
