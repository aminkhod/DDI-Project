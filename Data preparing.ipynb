{
 "cells": [
  {
   "cell_type": "code",
   "execution_count": 28,
   "metadata": {},
   "outputs": [],
   "source": [
    "import numpy as np\n",
    "import pandas as pd"
   ]
  },
  {
   "cell_type": "code",
   "execution_count": 36,
   "metadata": {},
   "outputs": [
    {
     "data": {
      "text/plain": [
       "548"
      ]
     },
     "execution_count": 36,
     "metadata": {},
     "output_type": "execute_result"
    }
   ],
   "source": [
    "excel_file = 'drug_drug_matrix.csv'\n",
    "drug = pd.read_csv(excel_file,header=None)\n",
    "df = 'drug_list (1).csv'\n",
    "DF = pd.read_csv(df,header=None)\n",
    "d = 'KGloVe_drugs_450.csv'\n",
    "D = pd.read_csv(d,header=None)\n",
    "len(DF.iloc[:,0])"
   ]
  },
  {
   "cell_type": "code",
   "execution_count": 30,
   "metadata": {},
   "outputs": [],
   "source": [
    "import numpy as np\n",
    "druglist=[]\n",
    "mismatch=[]\n",
    "\n",
    "for j in range(len(D)):\n",
    "    druglist.insert(j,D.loc[j][0])\n",
    "for i in range(len(DF.loc[0])):\n",
    "    if not DF.loc[i][1] in (druglist):\n",
    "            print(i,DF.loc[i][1])\n",
    "            mismatch.insert(i,DF.loc[i][1])\n",
    "            DF=DF.drop([i])\n",
    "            drug=drug.drop([i],axis=0)\n",
    "            drug=drug.drop([i],axis=1)\n"
   ]
  },
  {
   "cell_type": "code",
   "execution_count": 31,
   "metadata": {},
   "outputs": [],
   "source": [
    "DF.to_csv(\"saved DF.csv\",index=False)\n",
    "DF = pd.read_csv(\"saved DF.csv\", header=0)\n",
    "drug.to_csv('saved drug.csv',index=False)\n",
    "drug = pd.read_csv('saved drug.csv', header=0)"
   ]
  },
  {
   "cell_type": "code",
   "execution_count": 32,
   "metadata": {},
   "outputs": [],
   "source": [
    "finalmatrix=[]\n",
    "for i in range(len(DF.iloc[:,0])):\n",
    "    for j in range(len(DF.iloc[:,0])):\n",
    "        result=[DF.loc[i][1],DF.loc[j][1],drug.loc[i][j]]\n",
    "#         print(result)\n",
    "        finalmatrix.append(result)\n",
    "\n",
    "del drug"
   ]
  },
  {
   "cell_type": "code",
   "execution_count": 33,
   "metadata": {},
   "outputs": [],
   "source": [
    "F=pd.DataFrame(finalmatrix)\n",
    "del finalmatrix"
   ]
  },
  {
   "cell_type": "code",
   "execution_count": 34,
   "metadata": {},
   "outputs": [
    {
     "name": "stdout",
     "output_type": "stream",
     "text": [
      "300304 3\n"
     ]
    }
   ],
   "source": [
    "r, c = F.shape\n",
    "print(r,c)"
   ]
  },
  {
   "cell_type": "code",
   "execution_count": 42,
   "metadata": {},
   "outputs": [
    {
     "name": "stdout",
     "output_type": "stream",
     "text": [
      "kdfb\n",
      "kdfb\n",
      "kdfb\n",
      "kdfb\n",
      "kdfb\n"
     ]
    },
    {
     "data": {
      "text/plain": [
       "548"
      ]
     },
     "execution_count": 42,
     "metadata": {},
     "output_type": "execute_result"
    }
   ],
   "source": [
    "for i in range(0, 10,2):\n",
    "    print(\"kdfb\")\n",
    "len(DF.iloc[:,0])"
   ]
  },
  {
   "cell_type": "code",
   "execution_count": 43,
   "metadata": {},
   "outputs": [
    {
     "data": {
      "text/plain": [
       "(299756, 3)"
      ]
     },
     "execution_count": 43,
     "metadata": {},
     "output_type": "execute_result"
    }
   ],
   "source": [
    "i = 0\n",
    "for i in range(0, r, len(DF.iloc[:,0])):\n",
    "    try:\n",
    "        F = F.drop([i])\n",
    "#         print(i)\n",
    "    except:\n",
    "        1\n",
    "#         print(str(i)+ \" can't be droped\")\n",
    "    i += 1\n",
    "F.shape"
   ]
  },
  {
   "cell_type": "code",
   "execution_count": 53,
   "metadata": {},
   "outputs": [
    {
     "data": {
      "text/plain": [
       "302"
      ]
     },
     "execution_count": 53,
     "metadata": {},
     "output_type": "execute_result"
    }
   ],
   "source": [
    "len(DF.iloc[:,0]) + 1\n"
   ]
  },
  {
   "cell_type": "code",
   "execution_count": 55,
   "metadata": {},
   "outputs": [],
   "source": [
    "\n",
    "for k in range(1, len(D.iloc[0,:])):\n",
    "    F[k + 2]=F[0].map(D.set_index(0)[k])\n",
    "    k += 1\n",
    "\n",
    "for k in range(1, len(D.iloc[0,:])):\n",
    "    F[k + len(D.iloc[0,:]) + 3]=F[1].map(D.set_index(0)[k])\n",
    "    k += 1\n",
    "del D\n",
    "del DF"
   ]
  },
  {
   "cell_type": "code",
   "execution_count": 56,
   "metadata": {},
   "outputs": [
    {
     "data": {
      "text/plain": [
       "(299756, 605)"
      ]
     },
     "execution_count": 56,
     "metadata": {},
     "output_type": "execute_result"
    }
   ],
   "source": [
    "F.shape"
   ]
  },
  {
   "cell_type": "code",
   "execution_count": 57,
   "metadata": {},
   "outputs": [],
   "source": [
    "F.to_csv(\"../saved F(KoGlove).csv\",index=False)\n",
    "del F"
   ]
  },
  {
   "cell_type": "code",
   "execution_count": null,
   "metadata": {},
   "outputs": [],
   "source": [
    "# excel_file='drugs.csv'\n",
    "# drug=pd.read_csv(excel_file, header=None)\n",
    "# # drug.inde\n",
    "# drug.shape"
   ]
  },
  {
   "cell_type": "code",
   "execution_count": null,
   "metadata": {},
   "outputs": [],
   "source": [
    "# def testset(dataset):\n",
    "#     import random\n",
    "#     list1=[]\n",
    "#     for x in range(len(dataset)//5):\n",
    "#         y=random.randint(1,len(dataset))\n",
    "#         list1.insert(x,y)\n",
    "#     list1=pd.DataFrame(list1)\n",
    "#     for x in list1[0]:\n",
    "#         x=dataset.loc[x]\n",
    "# #     print(list1)        \n",
    "#     return list1"
   ]
  },
  {
   "cell_type": "code",
   "execution_count": null,
   "metadata": {},
   "outputs": [],
   "source": [
    "# len(testset(drug))"
   ]
  },
  {
   "cell_type": "code",
   "execution_count": null,
   "metadata": {},
   "outputs": [],
   "source": [
    "# List    Numb    Name\n",
    "# 1       1       one\n",
    "# 1       2       two\n",
    "# 2       3       three\n",
    "# 4       4       four\n",
    "# 3       5       five"
   ]
  },
  {
   "cell_type": "code",
   "execution_count": null,
   "metadata": {},
   "outputs": [],
   "source": [
    "\n",
    "# name = ['one','two','three','four','five']\n",
    "# number = [1,2,3,4,5]\n",
    "# List = [1,1,2,4,3]"
   ]
  },
  {
   "cell_type": "code",
   "execution_count": null,
   "metadata": {},
   "outputs": [],
   "source": [
    "# F = []\n",
    "# F = pd.DataFrame(F)\n",
    "# F['name'] = name\n",
    "# F['num'], F['li']=number,List"
   ]
  },
  {
   "cell_type": "code",
   "execution_count": null,
   "metadata": {},
   "outputs": [],
   "source": [
    "# F\n"
   ]
  },
  {
   "cell_type": "code",
   "execution_count": null,
   "metadata": {},
   "outputs": [],
   "source": [
    "# F['li'].map(F.set_index('num')['name'])"
   ]
  },
  {
   "cell_type": "code",
   "execution_count": null,
   "metadata": {},
   "outputs": [],
   "source": []
  }
 ],
 "metadata": {
  "kernelspec": {
   "display_name": "Python 3",
   "language": "python",
   "name": "python3"
  },
  "language_info": {
   "codemirror_mode": {
    "name": "ipython",
    "version": 3
   },
   "file_extension": ".py",
   "mimetype": "text/x-python",
   "name": "python",
   "nbconvert_exporter": "python",
   "pygments_lexer": "ipython3",
   "version": "3.6.4"
  }
 },
 "nbformat": 4,
 "nbformat_minor": 2
}
