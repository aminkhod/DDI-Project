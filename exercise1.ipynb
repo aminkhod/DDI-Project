{
 "cells": [
  {
   "cell_type": "code",
   "execution_count": 46,
   "metadata": {},
   "outputs": [],
   "source": [
    "import numpy as np\n",
    "import pandas as pd"
   ]
  },
  {
   "cell_type": "code",
   "execution_count": 61,
   "metadata": {},
   "outputs": [],
   "source": [
    "excel_file='drug_drug_matrix.csv'\n",
    "drug=pd.read_csv(excel_file,header=None)\n",
    "df='drug_list (1).csv'\n",
    "DF=pd.read_csv(df,header=None)\n",
    "d='drugs.csv'\n",
    "D=pd.read_csv(d,header=None)"
   ]
  },
  {
   "cell_type": "code",
   "execution_count": 62,
   "metadata": {},
   "outputs": [
    {
     "name": "stdout",
     "output_type": "stream",
     "text": [
      "54 DB00659\n",
      "122 DB00200\n",
      "162 DB00194\n",
      "166 DB00558\n",
      "242 DB02379\n",
      "261 DB00873\n",
      "340 DB01260\n",
      "379 DB00874\n",
      "386 DB04441\n",
      "433 DB00538\n",
      "434 DB06151\n",
      "495 DB00225\n",
      "542 DB00878\n",
      "543 DB00632\n",
      "547 DB02530\n"
     ]
    }
   ],
   "source": [
    "import numpy as np\n",
    "druglist=[]\n",
    "mismatch=[]\n",
    "for j in range(2524):\n",
    "    druglist.insert(j,D.loc[j][0])\n",
    "for i in range(548):\n",
    "    if not DF.loc[i][1] in (druglist):\n",
    "            print(i,DF.loc[i][1])\n",
    "            mismatch.insert(i,DF.loc[i][1])\n",
    "            DF=DF.drop([i])\n",
    "            drug=drug.drop([i],axis=0)\n",
    "            drug=drug.drop([i],axis=1)"
   ]
  },
  {
   "cell_type": "code",
   "execution_count": 63,
   "metadata": {},
   "outputs": [],
   "source": [
    "# DF"
   ]
  },
  {
   "cell_type": "code",
   "execution_count": 64,
   "metadata": {},
   "outputs": [],
   "source": [
    "# drug"
   ]
  },
  {
   "cell_type": "code",
   "execution_count": 65,
   "metadata": {},
   "outputs": [],
   "source": [
    "# D"
   ]
  },
  {
   "cell_type": "code",
   "execution_count": 67,
   "metadata": {},
   "outputs": [],
   "source": [
    "DF.to_csv(\"saved DF.csv\",index=False)\n",
    "DF = pd.read_csv(\"saved DF.csv\", header=0)\n",
    "drug.to_csv('saved drug.csv',index=False)\n",
    "drug = pd.read_csv('saved drug.csv', header=0)\n"
   ]
  },
  {
   "cell_type": "code",
   "execution_count": 68,
   "metadata": {},
   "outputs": [],
   "source": [
    "finalmatrix=[]\n",
    "for i in range(533):\n",
    "    for j in range(533):\n",
    "        result=[DF.loc[i][1],DF.loc[j][1],drug.loc[i][j]]\n",
    "#         print(result)\n",
    "        finalmatrix.append(result)"
   ]
  },
  {
   "cell_type": "code",
   "execution_count": 73,
   "metadata": {},
   "outputs": [],
   "source": [
    "F=pd.DataFrame(finalmatrix)"
   ]
  },
  {
   "cell_type": "code",
   "execution_count": 1,
   "metadata": {},
   "outputs": [],
   "source": [
    "# F"
   ]
  },
  {
   "cell_type": "code",
   "execution_count": 75,
   "metadata": {},
   "outputs": [],
   "source": [
    "for K in range(1,301):\n",
    "    F[K+2]=F[1].map(D.set_index(0)[k])\n",
    "    K=K+1"
   ]
  },
  {
   "cell_type": "code",
   "execution_count": null,
   "metadata": {},
   "outputs": [],
   "source": [
    "# F"
   ]
  },
  {
   "cell_type": "code",
   "execution_count": 77,
   "metadata": {},
   "outputs": [],
   "source": [
    "F.to_csv(\"saved F.csv\",index=False)"
   ]
  },
  {
   "cell_type": "code",
   "execution_count": null,
   "metadata": {},
   "outputs": [],
   "source": []
  }
 ],
 "metadata": {
  "kernelspec": {
   "display_name": "Python 3",
   "language": "python",
   "name": "python3"
  },
  "language_info": {
   "codemirror_mode": {
    "name": "ipython",
    "version": 3
   },
   "file_extension": ".py",
   "mimetype": "text/x-python",
   "name": "python",
   "nbconvert_exporter": "python",
   "pygments_lexer": "ipython3",
   "version": "3.6.7"
  }
 },
 "nbformat": 4,
 "nbformat_minor": 2
}
