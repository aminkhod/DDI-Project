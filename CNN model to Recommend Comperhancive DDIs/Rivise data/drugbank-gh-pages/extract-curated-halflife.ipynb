{
 "cells": [
  {
   "cell_type": "markdown",
   "metadata": {},
   "source": [
    "# Extract curated half-life of drugs from xlsx file"
   ]
  },
  {
   "cell_type": "code",
   "execution_count": 1,
   "metadata": {},
   "outputs": [],
   "source": [
    "import numpy as np\n",
    "import pandas as pd"
   ]
  },
  {
   "cell_type": "code",
   "execution_count": 2,
   "metadata": {},
   "outputs": [],
   "source": [
    "# read in half-life and other structural info of drugs\n",
    "data_df = pd.read_excel('data/drugbank_halflife_curated.xlsx')"
   ]
  },
  {
   "cell_type": "code",
   "execution_count": 3,
   "metadata": {},
   "outputs": [
    {
     "data": {
      "text/html": [
       "<div>\n",
       "<style scoped>\n",
       "    .dataframe tbody tr th:only-of-type {\n",
       "        vertical-align: middle;\n",
       "    }\n",
       "\n",
       "    .dataframe tbody tr th {\n",
       "        vertical-align: top;\n",
       "    }\n",
       "\n",
       "    .dataframe thead th {\n",
       "        text-align: right;\n",
       "    }\n",
       "</style>\n",
       "<table border=\"1\" class=\"dataframe\">\n",
       "  <thead>\n",
       "    <tr style=\"text-align: right;\">\n",
       "      <th></th>\n",
       "      <th>type</th>\n",
       "      <th>drugbank_id</th>\n",
       "      <th>name</th>\n",
       "      <th>half_life_hours_curated</th>\n",
       "    </tr>\n",
       "  </thead>\n",
       "  <tbody>\n",
       "    <tr>\n",
       "      <th>9</th>\n",
       "      <td>small molecule</td>\n",
       "      <td>DB00477</td>\n",
       "      <td>Chlorpromazine</td>\n",
       "      <td>30.0</td>\n",
       "    </tr>\n",
       "    <tr>\n",
       "      <th>10</th>\n",
       "      <td>small molecule</td>\n",
       "      <td>DB06708</td>\n",
       "      <td>Lumefantrine</td>\n",
       "      <td>108.0</td>\n",
       "    </tr>\n",
       "    <tr>\n",
       "      <th>11</th>\n",
       "      <td>small molecule</td>\n",
       "      <td>DB00980</td>\n",
       "      <td>Ramelteon</td>\n",
       "      <td>1.8</td>\n",
       "    </tr>\n",
       "    <tr>\n",
       "      <th>12</th>\n",
       "      <td>small molecule</td>\n",
       "      <td>DB01035</td>\n",
       "      <td>Procainamide</td>\n",
       "      <td>3.5</td>\n",
       "    </tr>\n",
       "    <tr>\n",
       "      <th>13</th>\n",
       "      <td>biotech</td>\n",
       "      <td>DB00092</td>\n",
       "      <td>Alefacept</td>\n",
       "      <td>270.0</td>\n",
       "    </tr>\n",
       "  </tbody>\n",
       "</table>\n",
       "</div>"
      ],
      "text/plain": [
       "              type drugbank_id            name  half_life_hours_curated\n",
       "9   small molecule     DB00477  Chlorpromazine                     30.0\n",
       "10  small molecule     DB06708    Lumefantrine                    108.0\n",
       "11  small molecule     DB00980       Ramelteon                      1.8\n",
       "12  small molecule     DB01035    Procainamide                      3.5\n",
       "13         biotech     DB00092       Alefacept                    270.0"
      ]
     },
     "execution_count": 3,
     "metadata": {},
     "output_type": "execute_result"
    }
   ],
   "source": [
    "# extract drugs with curated half-ife information \n",
    "half_life_id = ~data_df.half_life_hours_curated.isna()\n",
    "half_life_df = data_df.loc[half_life_id,['type','drugbank_id','name','half_life_hours_curated']]\n",
    "half_life_df.head()"
   ]
  },
  {
   "cell_type": "code",
   "execution_count": 4,
   "metadata": {},
   "outputs": [],
   "source": [
    "# output\n",
    "half_life_df.to_csv(path_or_buf='data/drugbank_subset_halflife_curated.tsv', sep='\\t', index=False)"
   ]
  }
 ],
 "metadata": {
  "kernelspec": {
   "display_name": "Python 3",
   "language": "python",
   "name": "python3"
  },
  "language_info": {
   "codemirror_mode": {
    "name": "ipython",
    "version": 3
   },
   "file_extension": ".py",
   "mimetype": "text/x-python",
   "name": "python",
   "nbconvert_exporter": "python",
   "pygments_lexer": "ipython3",
   "version": "3.7.1"
  }
 },
 "nbformat": 4,
 "nbformat_minor": 2
}
