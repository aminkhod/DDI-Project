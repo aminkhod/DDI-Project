{
 "cells": [
  {
   "cell_type": "code",
   "execution_count": 27,
   "metadata": {
    "collapsed": false
   },
   "outputs": [],
   "source": [
    "import itertools\n",
    "import gzip\n",
    "\n",
    "import pandas\n",
    "import rdkit.Chem\n",
    "import rdkit.Chem.AllChem\n",
    "import rdkit.DataStructs"
   ]
  },
  {
   "cell_type": "code",
   "execution_count": null,
   "metadata": {
    "collapsed": true
   },
   "outputs": [],
   "source": []
  },
  {
   "cell_type": "code",
   "execution_count": 4,
   "metadata": {
    "collapsed": false
   },
   "outputs": [
    {
     "name": "stdout",
     "output_type": "stream",
     "text": [
      "--2015-05-18 14:03:23--  http://www.drugbank.ca/system/downloads/current/structures/all.sdf.zip\n",
      "Resolving www.drugbank.ca (www.drugbank.ca)... 162.243.242.197\n",
      "Connecting to www.drugbank.ca (www.drugbank.ca)|162.243.242.197|:80... connected.\n",
      "HTTP request sent, awaiting response... 200 OK\n",
      "Length: 4362948 (4.2M) [application/zip]\n",
      "Server file no newer than local file ‘download/all.sdf.zip’ -- not retrieving.\n",
      "\n",
      "Archive:  download/all.sdf.zip\n",
      "  inflating: download/all.sdf        \n"
     ]
    }
   ],
   "source": [
    "# Download DrugBank SDF file of structures\n",
    "! wget --timestamping --directory-prefix download http://www.drugbank.ca/system/downloads/current/structures/all.sdf.zip\n",
    "! unzip -d download download/all.sdf.zip\n",
    "! rm download/all.sdf.zip"
   ]
  },
  {
   "cell_type": "code",
   "execution_count": 9,
   "metadata": {
    "collapsed": false
   },
   "outputs": [
    {
     "data": {
      "text/plain": [
       "6743"
      ]
     },
     "execution_count": 9,
     "metadata": {},
     "output_type": "execute_result"
    }
   ],
   "source": [
    "# Read SDF File\n",
    "supplier = rdkit.Chem.SDMolSupplier('download/all.sdf')\n",
    "molecules = [mol for mol in supplier if mol is not None]\n",
    "len(molecules)"
   ]
  },
  {
   "cell_type": "code",
   "execution_count": 21,
   "metadata": {
    "collapsed": false
   },
   "outputs": [],
   "source": [
    "# Calculate fingerprints\n",
    "fingerprints = dict()\n",
    "for mol in molecules:\n",
    "    drugbank_id = mol.GetProp('DATABASE_ID')\n",
    "    fingerprint = rdkit.Chem.AllChem.GetMorganFingerprint(mol, 2)\n",
    "    fingerprints[drugbank_id] = fingerprint"
   ]
  },
  {
   "cell_type": "code",
   "execution_count": 29,
   "metadata": {
    "collapsed": false
   },
   "outputs": [],
   "source": [
    "# Calculate pairwise compound similarities\n",
    "similarity_rows = list()\n",
    "for (id0, fp0), (id1, fp1) in itertools.combinations(fingerprints.items(), 2):\n",
    "    similarity = rdkit.DataStructs.DiceSimilarity(fp0, fp1)\n",
    "    similarity = round(similarity, 4)\n",
    "    similarity_rows.append([id0, id1, similarity])"
   ]
  },
  {
   "cell_type": "code",
   "execution_count": 30,
   "metadata": {
    "collapsed": false
   },
   "outputs": [
    {
     "data": {
      "text/html": [
       "<div style=\"max-height:1000px;max-width:1500px;overflow:auto;\">\n",
       "<table border=\"1\" class=\"dataframe\">\n",
       "  <thead>\n",
       "    <tr style=\"text-align: right;\">\n",
       "      <th></th>\n",
       "      <th>compound0</th>\n",
       "      <th>compound1</th>\n",
       "      <th>similarity</th>\n",
       "    </tr>\n",
       "  </thead>\n",
       "  <tbody>\n",
       "    <tr>\n",
       "      <th>0</th>\n",
       "      <td> DB05107</td>\n",
       "      <td> DB08426</td>\n",
       "      <td> 0.0966</td>\n",
       "    </tr>\n",
       "    <tr>\n",
       "      <th>1</th>\n",
       "      <td> DB05107</td>\n",
       "      <td> DB05105</td>\n",
       "      <td> 0.0441</td>\n",
       "    </tr>\n",
       "    <tr>\n",
       "      <th>2</th>\n",
       "      <td> DB05107</td>\n",
       "      <td> DB05104</td>\n",
       "      <td> 0.1457</td>\n",
       "    </tr>\n",
       "    <tr>\n",
       "      <th>3</th>\n",
       "      <td> DB05107</td>\n",
       "      <td> DB08423</td>\n",
       "      <td> 0.1268</td>\n",
       "    </tr>\n",
       "    <tr>\n",
       "      <th>4</th>\n",
       "      <td> DB05107</td>\n",
       "      <td> DB05102</td>\n",
       "      <td> 0.1000</td>\n",
       "    </tr>\n",
       "  </tbody>\n",
       "</table>\n",
       "<p>5 rows × 3 columns</p>\n",
       "</div>"
      ],
      "text/plain": [
       "  compound0 compound1  similarity\n",
       "0   DB05107   DB08426      0.0966\n",
       "1   DB05107   DB05105      0.0441\n",
       "2   DB05107   DB05104      0.1457\n",
       "3   DB05107   DB08423      0.1268\n",
       "4   DB05107   DB05102      0.1000\n",
       "\n",
       "[5 rows x 3 columns]"
      ]
     },
     "execution_count": 30,
     "metadata": {},
     "output_type": "execute_result"
    }
   ],
   "source": [
    "# Create a DataFrame of pairwise similarities\n",
    "similarity_df = pandas.DataFrame(similarity_rows, columns=['compound0', 'compound1', 'similarity'])\n",
    "with gzip.open('data/similarity.tsv.gz', 'w') as write_file:\n",
    "    similarity_df.to_csv(write_file, sep='\\t', index=False)\n",
    "similarity_df.head()"
   ]
  },
  {
   "cell_type": "code",
   "execution_count": 44,
   "metadata": {
    "collapsed": false
   },
   "outputs": [
    {
     "data": {
      "text/plain": [
       "0.05267679727458775"
      ]
     },
     "execution_count": 44,
     "metadata": {},
     "output_type": "execute_result"
    }
   ],
   "source": [
    "# Save a similarity tsv with only compounds in our slim drugbank set\n",
    "drugbank_slim_df = pandas.read_table('data/drugbank-slim.tsv')\n",
    "slim_ids = set(drugbank_slim_df.drugbank_id)\n",
    "similarity_slim_df = similarity_df[similarity_df.compound0.isin(slim_ids) & similarity_df.compound1.isin(slim_ids)]\n",
    "with gzip.open('data/similarity-slim.tsv.gz', 'w') as write_file:\n",
    "    similarity_slim_df.to_csv(write_file, sep='\\t', index=False)\n",
    "float(len(similarity_slim_df)) / len(similarity_df)"
   ]
  },
  {
   "cell_type": "code",
   "execution_count": null,
   "metadata": {
    "collapsed": false
   },
   "outputs": [],
   "source": []
  },
  {
   "cell_type": "code",
   "execution_count": 39,
   "metadata": {
    "collapsed": false
   },
   "outputs": [
    {
     "data": {
      "image/png": "[encoded data removed]",
      "text/plain": [
       "<matplotlib.figure.Figure at 0x7f98ca6053d0>"
      ]
     },
     "metadata": {},
     "output_type": "display_data"
    }
   ],
   "source": [
    "# histogram of similarities\n",
    "import matplotlib.pyplot as plt\n",
    "%matplotlib inline\n",
    "\n",
    "plt.hist(similarity_df.similarity, 100);"
   ]
  },
  {
   "cell_type": "code",
   "execution_count": 49,
   "metadata": {
    "collapsed": false
   },
   "outputs": [
    {
     "data": {
      "image/png": "[encoded data removed]",
      "text/plain": [
       "<matplotlib.figure.Figure at 0x7f98ca40d790>"
      ]
     },
     "metadata": {},
     "output_type": "display_data"
    }
   ],
   "source": [
    "# histogram of similarities in slim subset\n",
    "plt.hist(list(similarity_slim_df.similarity), 100);"
   ]
  },
  {
   "cell_type": "code",
   "execution_count": null,
   "metadata": {
    "collapsed": true
   },
   "outputs": [],
   "source": []
  }
 ],
 "metadata": {
  "kernelspec": {
   "display_name": "Python 2",
   "language": "python",
   "name": "python2"
  },
  "language_info": {
   "codemirror_mode": {
    "name": "ipython",
    "version": 2
   },
   "file_extension": ".py",
   "mimetype": "text/x-python",
   "name": "python",
   "nbconvert_exporter": "python",
   "pygments_lexer": "ipython2",
   "version": "2.7.6"
  }
 },
 "nbformat": 4,
 "nbformat_minor": 0
}
