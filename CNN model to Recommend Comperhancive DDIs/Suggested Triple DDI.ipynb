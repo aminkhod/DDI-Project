{
 "cells": [
  {
   "cell_type": "code",
   "execution_count": 196,
   "metadata": {},
   "outputs": [],
   "source": [
    "import numpy as np\n",
    "import pandas as pd"
   ]
  },
  {
   "cell_type": "code",
   "execution_count": 197,
   "metadata": {},
   "outputs": [],
   "source": [
    "# pd.read_csv('../../triple_cosineSNF(zeros).csv').iloc[:,0:2].to_csv('zero drug pairs.csv', index = False)"
   ]
  },
  {
   "cell_type": "code",
   "execution_count": 198,
   "metadata": {},
   "outputs": [
    {
     "data": {
      "text/html": [
       "<div>\n",
       "<style scoped>\n",
       "    .dataframe tbody tr th:only-of-type {\n",
       "        vertical-align: middle;\n",
       "    }\n",
       "\n",
       "    .dataframe tbody tr th {\n",
       "        vertical-align: top;\n",
       "    }\n",
       "\n",
       "    .dataframe thead th {\n",
       "        text-align: right;\n",
       "    }\n",
       "</style>\n",
       "<table border=\"1\" class=\"dataframe\">\n",
       "  <thead>\n",
       "    <tr style=\"text-align: right;\">\n",
       "      <th></th>\n",
       "      <th>0</th>\n",
       "      <th>1</th>\n",
       "    </tr>\n",
       "  </thead>\n",
       "  <tbody>\n",
       "    <tr>\n",
       "      <th>0</th>\n",
       "      <td>DB00115</td>\n",
       "      <td>DB00130</td>\n",
       "    </tr>\n",
       "    <tr>\n",
       "      <th>1</th>\n",
       "      <td>DB00115</td>\n",
       "      <td>DB00136</td>\n",
       "    </tr>\n",
       "    <tr>\n",
       "      <th>2</th>\n",
       "      <td>DB00115</td>\n",
       "      <td>DB00153</td>\n",
       "    </tr>\n",
       "    <tr>\n",
       "      <th>3</th>\n",
       "      <td>DB00115</td>\n",
       "      <td>DB00158</td>\n",
       "    </tr>\n",
       "    <tr>\n",
       "      <th>4</th>\n",
       "      <td>DB00115</td>\n",
       "      <td>DB00162</td>\n",
       "    </tr>\n",
       "  </tbody>\n",
       "</table>\n",
       "</div>"
      ],
      "text/plain": [
       "         0        1\n",
       "0  DB00115  DB00130\n",
       "1  DB00115  DB00136\n",
       "2  DB00115  DB00153\n",
       "3  DB00115  DB00158\n",
       "4  DB00115  DB00162"
      ]
     },
     "execution_count": 198,
     "metadata": {},
     "output_type": "execute_result"
    }
   ],
   "source": [
    "zeroDrugPairs = pd.read_csv('zero drug pairs.csv')\n",
    "zeroDrugPairs.head()"
   ]
  },
  {
   "cell_type": "code",
   "execution_count": 210,
   "metadata": {},
   "outputs": [
    {
     "data": {
      "text/html": [
       "<div>\n",
       "<style scoped>\n",
       "    .dataframe tbody tr th:only-of-type {\n",
       "        vertical-align: middle;\n",
       "    }\n",
       "\n",
       "    .dataframe tbody tr th {\n",
       "        vertical-align: top;\n",
       "    }\n",
       "\n",
       "    .dataframe thead th {\n",
       "        text-align: right;\n",
       "    }\n",
       "</style>\n",
       "<table border=\"1\" class=\"dataframe\">\n",
       "  <thead>\n",
       "    <tr style=\"text-align: right;\">\n",
       "      <th></th>\n",
       "      <th>pMines1</th>\n",
       "      <th>p0</th>\n",
       "      <th>p1</th>\n",
       "      <th>i</th>\n",
       "      <th>j</th>\n",
       "      <th>deg</th>\n",
       "      <th>inh</th>\n",
       "      <th>degTRUE</th>\n",
       "      <th>degFALSE</th>\n",
       "      <th>degNot Given</th>\n",
       "      <th>inhTRUE</th>\n",
       "      <th>inhFALSE</th>\n",
       "      <th>inhNot Given</th>\n",
       "    </tr>\n",
       "  </thead>\n",
       "  <tbody>\n",
       "    <tr>\n",
       "      <th>0</th>\n",
       "      <td>0.999147</td>\n",
       "      <td>0.000856</td>\n",
       "      <td>0.001929</td>\n",
       "      <td>DB00115</td>\n",
       "      <td>DB00648</td>\n",
       "      <td>0.997219</td>\n",
       "      <td>1.645943e-06</td>\n",
       "      <td>0</td>\n",
       "      <td>0</td>\n",
       "      <td>0</td>\n",
       "      <td>0</td>\n",
       "      <td>0</td>\n",
       "      <td>0</td>\n",
       "    </tr>\n",
       "    <tr>\n",
       "      <th>1</th>\n",
       "      <td>0.997000</td>\n",
       "      <td>0.120929</td>\n",
       "      <td>0.001675</td>\n",
       "      <td>DB00115</td>\n",
       "      <td>DB01083</td>\n",
       "      <td>0.995330</td>\n",
       "      <td>5.024948e-06</td>\n",
       "      <td>0</td>\n",
       "      <td>0</td>\n",
       "      <td>0</td>\n",
       "      <td>0</td>\n",
       "      <td>0</td>\n",
       "      <td>0</td>\n",
       "    </tr>\n",
       "    <tr>\n",
       "      <th>2</th>\n",
       "      <td>0.999884</td>\n",
       "      <td>0.001236</td>\n",
       "      <td>0.006661</td>\n",
       "      <td>DB00115</td>\n",
       "      <td>DB00745</td>\n",
       "      <td>0.993224</td>\n",
       "      <td>7.749872e-07</td>\n",
       "      <td>0</td>\n",
       "      <td>0</td>\n",
       "      <td>0</td>\n",
       "      <td>0</td>\n",
       "      <td>0</td>\n",
       "      <td>0</td>\n",
       "    </tr>\n",
       "    <tr>\n",
       "      <th>3</th>\n",
       "      <td>0.992010</td>\n",
       "      <td>0.033365</td>\n",
       "      <td>0.003768</td>\n",
       "      <td>DB00115</td>\n",
       "      <td>DB00379</td>\n",
       "      <td>0.988272</td>\n",
       "      <td>3.010904e-05</td>\n",
       "      <td>0</td>\n",
       "      <td>0</td>\n",
       "      <td>0</td>\n",
       "      <td>0</td>\n",
       "      <td>0</td>\n",
       "      <td>0</td>\n",
       "    </tr>\n",
       "    <tr>\n",
       "      <th>4</th>\n",
       "      <td>0.988887</td>\n",
       "      <td>0.105704</td>\n",
       "      <td>0.009290</td>\n",
       "      <td>DB00115</td>\n",
       "      <td>DB05109</td>\n",
       "      <td>0.979700</td>\n",
       "      <td>1.032399e-04</td>\n",
       "      <td>0</td>\n",
       "      <td>0</td>\n",
       "      <td>0</td>\n",
       "      <td>0</td>\n",
       "      <td>0</td>\n",
       "      <td>0</td>\n",
       "    </tr>\n",
       "  </tbody>\n",
       "</table>\n",
       "</div>"
      ],
      "text/plain": [
       "    pMines1        p0        p1        i        j       deg           inh  \\\n",
       "0  0.999147  0.000856  0.001929  DB00115  DB00648  0.997219  1.645943e-06   \n",
       "1  0.997000  0.120929  0.001675  DB00115  DB01083  0.995330  5.024948e-06   \n",
       "2  0.999884  0.001236  0.006661  DB00115  DB00745  0.993224  7.749872e-07   \n",
       "3  0.992010  0.033365  0.003768  DB00115  DB00379  0.988272  3.010904e-05   \n",
       "4  0.988887  0.105704  0.009290  DB00115  DB05109  0.979700  1.032399e-04   \n",
       "\n",
       "   degTRUE  degFALSE  degNot Given  inhTRUE  inhFALSE  inhNot Given  \n",
       "0        0         0             0        0         0             0  \n",
       "1        0         0             0        0         0             0  \n",
       "2        0         0             0        0         0             0  \n",
       "3        0         0             0        0         0             0  \n",
       "4        0         0             0        0         0             0  "
      ]
     },
     "execution_count": 210,
     "metadata": {},
     "output_type": "execute_result"
    }
   ],
   "source": [
    "predict = pd.read_excel('predict_allTrain_epoch10.xlsx')\n",
    "predict.head()"
   ]
  },
  {
   "cell_type": "code",
   "execution_count": 200,
   "metadata": {},
   "outputs": [],
   "source": [
    "def reduceList(pairList, DrugPairs, predictCopy):\n",
    "    dPairs = predictCopy.iloc[pairList,:]\n",
    "    print(dPairs.head())\n",
    "    i = 0\n",
    "    newList = []\n",
    "    seenList = []\n",
    "    while i < len(pairList):\n",
    "        d1, d2 = dPairs.iloc[i][3], dPairs.iloc[i][4]\n",
    "        buf = dPairs[dPairs['i']==d2][dPairs['j']==d1]\n",
    "#         print(buf)\n",
    "        if len(buf) == 1 and (pairList[i] not in seenList) and (list(buf.index)[0] not in seenList):\n",
    "            newList.append(pairList[i])\n",
    "            newList.append(list(buf.index)[0])\n",
    "            seenList.append(list(buf.index)[0])\n",
    "            seenList.append(pairList[i])\n",
    "        else:\n",
    "            seenList.append(pairList[i])\n",
    "        i += 1\n",
    "    return newList, predictCopy.iloc[newList]\n"
   ]
  },
  {
   "cell_type": "code",
   "execution_count": 212,
   "metadata": {},
   "outputs": [
    {
     "name": "stderr",
     "output_type": "stream",
     "text": [
      "c:\\program files\\python36\\lib\\site-packages\\ipykernel_launcher.py:7: UserWarning: Boolean Series key will be reindexed to match DataFrame index.\n",
      "  import sys\n"
     ]
    },
    {
     "data": {
      "text/plain": [
       "558"
      ]
     },
     "execution_count": 212,
     "metadata": {},
     "output_type": "execute_result"
    }
   ],
   "source": [
    "# predict = predict.sort_values(by=['0'], ascending=False)\n",
    "# # predict.head()\n",
    "# degList = list(predict[predict['0']>0.9][predict['2']<0.01].index)\n",
    "# len(degList)\n",
    "# predict = predict.sort_values(by=['deg'], ascending=False).reindex(range(len(predict.iloc[:,0])))\n",
    "# print(predict.head())\n",
    "degList = list(predict[predict['deg']>0.99][predict['p0']<0.1].index)\n",
    "len(degList)"
   ]
  },
  {
   "cell_type": "code",
   "execution_count": 213,
   "metadata": {},
   "outputs": [],
   "source": [
    "# dPairs = zeroDrugPairs.iloc[degList]\n",
    "# dPairs.iloc[0]"
   ]
  },
  {
   "cell_type": "code",
   "execution_count": 214,
   "metadata": {},
   "outputs": [],
   "source": [
    "# i = 150\n",
    "# print(zeroDrugPairs.iloc[i])\n",
    "# d1, d2 = zeroDrugPairs.iloc[i][0], zeroDrugPairs.iloc[i][1]\n",
    "# buf = zeroDrugPairs[zeroDrugPairs['0']==d2][zeroDrugPairs['1']==d1]\n",
    "# # buf = buf[buf['1']==d1]\n",
    "# buf\n",
    "# # list(buf.index)[0]\n",
    "# print(zeroDrugPairs.iloc[3])"
   ]
  },
  {
   "cell_type": "code",
   "execution_count": 215,
   "metadata": {},
   "outputs": [
    {
     "name": "stdout",
     "output_type": "stream",
     "text": [
      "       pMines1        p0        p1        i        j       deg           inh  \\\n",
      "0     0.999147  0.000856  0.001929  DB00115  DB00648  0.997219  1.645943e-06   \n",
      "2     0.999884  0.001236  0.006661  DB00115  DB00745  0.993224  7.749872e-07   \n",
      "565   0.999454  0.003439  0.006748  DB00130  DB00745  0.992709  3.685601e-06   \n",
      "566   0.992087  0.001626  0.000834  DB00130  DB00648  0.991260  6.596011e-06   \n",
      "1132  0.995838  0.020280  0.002103  DB00136  DB00379  0.993744  8.753323e-06   \n",
      "\n",
      "      degTRUE  degFALSE  degNot Given  inhTRUE  inhFALSE  inhNot Given  \n",
      "0           0         0             0        0         0             0  \n",
      "2           0         0             0        0         0             0  \n",
      "565         0         0             0        0         0             0  \n",
      "566         0         0             0        0         0             0  \n",
      "1132        0         0             0        0         0             0  \n"
     ]
    },
    {
     "name": "stderr",
     "output_type": "stream",
     "text": [
      "c:\\program files\\python36\\lib\\site-packages\\ipykernel_launcher.py:9: UserWarning: Boolean Series key will be reindexed to match DataFrame index.\n",
      "  if __name__ == '__main__':\n"
     ]
    },
    {
     "data": {
      "text/plain": [
       "(352, 13)"
      ]
     },
     "execution_count": 215,
     "metadata": {},
     "output_type": "execute_result"
    }
   ],
   "source": [
    "newDegList, newDegData = reduceList(degList.copy(), zeroDrugPairs.copy(), predict.copy())\n",
    "# print(newDegList)\n",
    "newDegData.shape"
   ]
  },
  {
   "cell_type": "code",
   "execution_count": 205,
   "metadata": {},
   "outputs": [
    {
     "data": {
      "text/plain": [
       "176.0"
      ]
     },
     "execution_count": 205,
     "metadata": {},
     "output_type": "execute_result"
    }
   ],
   "source": [
    "352/2"
   ]
  },
  {
   "cell_type": "code",
   "execution_count": 216,
   "metadata": {},
   "outputs": [],
   "source": [
    "dropList = list(range(0, newDegData.shape[0], 2))\n",
    "newDegData.iloc[dropList,:].to_csv('suggested Degressive.csv', index=False)"
   ]
  },
  {
   "cell_type": "code",
   "execution_count": 192,
   "metadata": {},
   "outputs": [],
   "source": [
    "predict = pd.read_excel('predict_allTrain_epoch10.xlsx')"
   ]
  },
  {
   "cell_type": "code",
   "execution_count": 217,
   "metadata": {},
   "outputs": [
    {
     "name": "stderr",
     "output_type": "stream",
     "text": [
      "c:\\program files\\python36\\lib\\site-packages\\ipykernel_launcher.py:6: UserWarning: Boolean Series key will be reindexed to match DataFrame index.\n",
      "  \n"
     ]
    },
    {
     "data": {
      "text/plain": [
       "6497"
      ]
     },
     "execution_count": 217,
     "metadata": {},
     "output_type": "execute_result"
    }
   ],
   "source": [
    "# predict = predict.sort_values(by=['2'], ascending=False)\n",
    "# enhList = list(predict[predict['2']>0.99][predict['0']<0.05].index)\n",
    "# len(enhList)\n",
    "# predict = predict.sort_values(by=['inh'], ascending=False).reindex(range(len(predict.iloc[:,0])))\n",
    "# print(predict.head())\n",
    "enhList = list(predict[predict['inh']>0.99][predict['p0']<0.1].index)\n",
    "len(enhList)"
   ]
  },
  {
   "cell_type": "code",
   "execution_count": 218,
   "metadata": {},
   "outputs": [
    {
     "name": "stdout",
     "output_type": "stream",
     "text": [
      "       pMines1        p0        p1        i        j           deg       inh  \\\n",
      "3573  0.001703  0.000527  0.994803  DB00163  DB00968  8.849509e-06  0.993109   \n",
      "3642  0.000281  0.000249  0.992861  DB00163  DB00599  2.003555e-06  0.992583   \n",
      "3669  0.000120  0.000017  0.990726  DB00163  DB00542  1.111883e-06  0.990608   \n",
      "3792  0.000015  0.000010  0.994401  DB00163  DB06288  8.398440e-08  0.994386   \n",
      "3806  0.000009  0.000051  0.993492  DB00163  DB00819  5.648684e-08  0.993484   \n",
      "\n",
      "      degTRUE  degFALSE  degNot Given  inhTRUE  inhFALSE  inhNot Given  \n",
      "3573        0         0             0        0         0             0  \n",
      "3642        0         0             0        0         0             0  \n",
      "3669        0         0             0        0         0             0  \n",
      "3792        0         0             0        0         0             0  \n",
      "3806        0         0             0        0         0             0  \n"
     ]
    },
    {
     "name": "stderr",
     "output_type": "stream",
     "text": [
      "c:\\program files\\python36\\lib\\site-packages\\ipykernel_launcher.py:9: UserWarning: Boolean Series key will be reindexed to match DataFrame index.\n",
      "  if __name__ == '__main__':\n"
     ]
    },
    {
     "data": {
      "text/plain": [
       "(4476, 13)"
      ]
     },
     "execution_count": 218,
     "metadata": {},
     "output_type": "execute_result"
    }
   ],
   "source": [
    "newEnhList, newenhData = reduceList(enhList.copy(), zeroDrugPairs.copy(), predict.copy())\n",
    "# print(newEnhList)\n",
    "newenhData.shape"
   ]
  },
  {
   "cell_type": "code",
   "execution_count": 219,
   "metadata": {},
   "outputs": [],
   "source": [
    "dropList = list(range(1, newenhData.shape[0], 2))\n",
    "newenhData.iloc[dropList,:].to_csv('suggested Enhancive.csv', index=False)"
   ]
  },
  {
   "cell_type": "code",
   "execution_count": 138,
   "metadata": {},
   "outputs": [
    {
     "data": {
      "text/html": [
       "<div>\n",
       "<style scoped>\n",
       "    .dataframe tbody tr th:only-of-type {\n",
       "        vertical-align: middle;\n",
       "    }\n",
       "\n",
       "    .dataframe tbody tr th {\n",
       "        vertical-align: top;\n",
       "    }\n",
       "\n",
       "    .dataframe thead th {\n",
       "        text-align: right;\n",
       "    }\n",
       "</style>\n",
       "<table border=\"1\" class=\"dataframe\">\n",
       "  <thead>\n",
       "    <tr style=\"text-align: right;\">\n",
       "      <th></th>\n",
       "      <th>pMines1</th>\n",
       "      <th>p0</th>\n",
       "      <th>p1</th>\n",
       "      <th>i</th>\n",
       "      <th>j</th>\n",
       "      <th>deg</th>\n",
       "      <th>inh</th>\n",
       "      <th>degTRUE</th>\n",
       "      <th>degFALSE</th>\n",
       "      <th>degNot Given</th>\n",
       "      <th>inhTRUE</th>\n",
       "      <th>inhFALSE</th>\n",
       "      <th>inhNot Given</th>\n",
       "    </tr>\n",
       "  </thead>\n",
       "  <tbody>\n",
       "    <tr>\n",
       "      <th>95450</th>\n",
       "      <td>0.000497</td>\n",
       "      <td>0.020613</td>\n",
       "      <td>0.016688</td>\n",
       "      <td>DB00362</td>\n",
       "      <td>DB00360</td>\n",
       "      <td>0.000489</td>\n",
       "      <td>0.01668</td>\n",
       "      <td>0</td>\n",
       "      <td>0</td>\n",
       "      <td>0</td>\n",
       "      <td>0</td>\n",
       "      <td>0</td>\n",
       "      <td>0</td>\n",
       "    </tr>\n",
       "  </tbody>\n",
       "</table>\n",
       "</div>"
      ],
      "text/plain": [
       "        pMines1        p0        p1        i        j       deg      inh  \\\n",
       "95450  0.000497  0.020613  0.016688  DB00362  DB00360  0.000489  0.01668   \n",
       "\n",
       "       degTRUE  degFALSE  degNot Given  inhTRUE  inhFALSE  inhNot Given  \n",
       "95450        0         0             0        0         0             0  "
      ]
     },
     "execution_count": 138,
     "metadata": {},
     "output_type": "execute_result"
    }
   ],
   "source": [
    "predict.iloc[[159189]]"
   ]
  },
  {
   "cell_type": "code",
   "execution_count": 220,
   "metadata": {},
   "outputs": [
    {
     "data": {
      "text/plain": [
       "2238.0"
      ]
     },
     "execution_count": 220,
     "metadata": {},
     "output_type": "execute_result"
    }
   ],
   "source": [
    "4476/2"
   ]
  },
  {
   "cell_type": "code",
   "execution_count": null,
   "metadata": {},
   "outputs": [],
   "source": []
  }
 ],
 "metadata": {
  "kernelspec": {
   "display_name": "Python 3",
   "language": "python",
   "name": "python3"
  },
  "language_info": {
   "codemirror_mode": {
    "name": "ipython",
    "version": 3
   },
   "file_extension": ".py",
   "mimetype": "text/x-python",
   "name": "python",
   "nbconvert_exporter": "python",
   "pygments_lexer": "ipython3",
   "version": "3.6.8"
  }
 },
 "nbformat": 4,
 "nbformat_minor": 4
}
