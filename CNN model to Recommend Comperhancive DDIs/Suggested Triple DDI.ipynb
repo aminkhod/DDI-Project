{
 "cells": [
  {
   "cell_type": "code",
   "execution_count": 41,
   "metadata": {},
   "outputs": [],
   "source": [
    "import numpy as np\n",
    "import pandas as pd"
   ]
  },
  {
   "cell_type": "code",
   "execution_count": 42,
   "metadata": {},
   "outputs": [],
   "source": [
    "# pd.read_csv('../../triple_cosineSNF(zeros).csv').iloc[:,0:2].to_csv('zero drug pairs.csv', index = False)"
   ]
  },
  {
   "cell_type": "code",
   "execution_count": 48,
   "metadata": {},
   "outputs": [
    {
     "data": {
      "text/html": [
       "<div>\n",
       "<style scoped>\n",
       "    .dataframe tbody tr th:only-of-type {\n",
       "        vertical-align: middle;\n",
       "    }\n",
       "\n",
       "    .dataframe tbody tr th {\n",
       "        vertical-align: top;\n",
       "    }\n",
       "\n",
       "    .dataframe thead th {\n",
       "        text-align: right;\n",
       "    }\n",
       "</style>\n",
       "<table border=\"1\" class=\"dataframe\">\n",
       "  <thead>\n",
       "    <tr style=\"text-align: right;\">\n",
       "      <th></th>\n",
       "      <th>0</th>\n",
       "      <th>1</th>\n",
       "    </tr>\n",
       "  </thead>\n",
       "  <tbody>\n",
       "    <tr>\n",
       "      <th>0</th>\n",
       "      <td>DB00115</td>\n",
       "      <td>DB00130</td>\n",
       "    </tr>\n",
       "    <tr>\n",
       "      <th>1</th>\n",
       "      <td>DB00115</td>\n",
       "      <td>DB00136</td>\n",
       "    </tr>\n",
       "    <tr>\n",
       "      <th>2</th>\n",
       "      <td>DB00115</td>\n",
       "      <td>DB00153</td>\n",
       "    </tr>\n",
       "    <tr>\n",
       "      <th>3</th>\n",
       "      <td>DB00115</td>\n",
       "      <td>DB00158</td>\n",
       "    </tr>\n",
       "    <tr>\n",
       "      <th>4</th>\n",
       "      <td>DB00115</td>\n",
       "      <td>DB00162</td>\n",
       "    </tr>\n",
       "  </tbody>\n",
       "</table>\n",
       "</div>"
      ],
      "text/plain": [
       "         0        1\n",
       "0  DB00115  DB00130\n",
       "1  DB00115  DB00136\n",
       "2  DB00115  DB00153\n",
       "3  DB00115  DB00158\n",
       "4  DB00115  DB00162"
      ]
     },
     "execution_count": 48,
     "metadata": {},
     "output_type": "execute_result"
    }
   ],
   "source": [
    "zeroDrugPairs = pd.read_csv('zero drug pairs.csv')\n",
    "zeroDrugPairs.head()"
   ]
  },
  {
   "cell_type": "code",
   "execution_count": 49,
   "metadata": {},
   "outputs": [
    {
     "data": {
      "text/html": [
       "<div>\n",
       "<style scoped>\n",
       "    .dataframe tbody tr th:only-of-type {\n",
       "        vertical-align: middle;\n",
       "    }\n",
       "\n",
       "    .dataframe tbody tr th {\n",
       "        vertical-align: top;\n",
       "    }\n",
       "\n",
       "    .dataframe thead th {\n",
       "        text-align: right;\n",
       "    }\n",
       "</style>\n",
       "<table border=\"1\" class=\"dataframe\">\n",
       "  <thead>\n",
       "    <tr style=\"text-align: right;\">\n",
       "      <th></th>\n",
       "      <th>0</th>\n",
       "      <th>1</th>\n",
       "      <th>2</th>\n",
       "    </tr>\n",
       "  </thead>\n",
       "  <tbody>\n",
       "    <tr>\n",
       "      <th>0</th>\n",
       "      <td>0.022923</td>\n",
       "      <td>0.334318</td>\n",
       "      <td>0.000578</td>\n",
       "    </tr>\n",
       "    <tr>\n",
       "      <th>1</th>\n",
       "      <td>0.542959</td>\n",
       "      <td>0.085669</td>\n",
       "      <td>0.004757</td>\n",
       "    </tr>\n",
       "    <tr>\n",
       "      <th>2</th>\n",
       "      <td>0.106631</td>\n",
       "      <td>0.523582</td>\n",
       "      <td>0.001686</td>\n",
       "    </tr>\n",
       "    <tr>\n",
       "      <th>3</th>\n",
       "      <td>0.006202</td>\n",
       "      <td>0.116997</td>\n",
       "      <td>0.000022</td>\n",
       "    </tr>\n",
       "    <tr>\n",
       "      <th>4</th>\n",
       "      <td>0.018553</td>\n",
       "      <td>0.237874</td>\n",
       "      <td>0.012697</td>\n",
       "    </tr>\n",
       "  </tbody>\n",
       "</table>\n",
       "</div>"
      ],
      "text/plain": [
       "          0         1         2\n",
       "0  0.022923  0.334318  0.000578\n",
       "1  0.542959  0.085669  0.004757\n",
       "2  0.106631  0.523582  0.001686\n",
       "3  0.006202  0.116997  0.000022\n",
       "4  0.018553  0.237874  0.012697"
      ]
     },
     "execution_count": 49,
     "metadata": {},
     "output_type": "execute_result"
    }
   ],
   "source": [
    "predict = pd.read_csv('predict_All_without softmax.csv')\n",
    "predict.head()"
   ]
  },
  {
   "cell_type": "code",
   "execution_count": 50,
   "metadata": {},
   "outputs": [],
   "source": [
    "degList = list(predict[predict['0']>0.95].index)\n",
    "# degList"
   ]
  },
  {
   "cell_type": "code",
   "execution_count": 51,
   "metadata": {},
   "outputs": [],
   "source": [
    "enhList = list(predict[predict['2']>0.95].index)\n",
    "# enhList"
   ]
  },
  {
   "cell_type": "code",
   "execution_count": 52,
   "metadata": {},
   "outputs": [],
   "source": [
    "# dPairs = zeroDrugPairs.iloc[degList]\n",
    "# dPairs.iloc[0]"
   ]
  },
  {
   "cell_type": "code",
   "execution_count": 54,
   "metadata": {},
   "outputs": [],
   "source": [
    "# buf = dPairs[dPairs['0']=='DB00277'][dPairs['1']=='DB00115']\n",
    "# list(buf.index)[0]"
   ]
  },
  {
   "cell_type": "code",
   "execution_count": 63,
   "metadata": {},
   "outputs": [],
   "source": [
    "def reduceList(pairList, DrugPairs):\n",
    "    dPairs = DrugPairs.iloc[pairList]\n",
    "    i = 0\n",
    "    newList = []\n",
    "    seenList = []\n",
    "    while i < len(pairList):\n",
    "        d1, d2 = dPairs.iloc[i][0], dPairs.iloc[i][1]\n",
    "        buf = dPairs[dPairs['0']==d2][dPairs['0']==d2]\n",
    "        if len(buf) == 1 and (i not in seenList):\n",
    "            newList.append(pairList[i])\n",
    "            newList.append(list(buf.index)[0])\n",
    "            seenList.append(i)\n",
    "            seenList.append(list(buf.index)[0])\n",
    "\n",
    "        else:\n",
    "            seenList.append(i)\n",
    "        i += 1\n",
    "    return newList, DrugPairs.iloc[newList]"
   ]
  },
  {
   "cell_type": "code",
   "execution_count": 64,
   "metadata": {},
   "outputs": [
    {
     "name": "stderr",
     "output_type": "stream",
     "text": [
      "c:\\program files\\python36\\lib\\site-packages\\ipykernel_launcher.py:8: UserWarning: Boolean Series key will be reindexed to match DataFrame index.\n",
      "  \n"
     ]
    },
    {
     "name": "stdout",
     "output_type": "stream",
     "text": [
      "[24291, 34794, 24310, 46011, 24319, 52402, 24352, 70602, 24464, 140741, 24467, 142699, 24634, 243527, 24678, 270346, 65877, 4566, 66250, 202494, 103724, 12076, 103771, 46011, 103792, 61604, 103806, 72825, 103836, 96219, 103837, 96662, 103880, 126645, 103890, 134663, 103927, 163657, 103947, 177864, 103948, 178849, 103966, 192145, 103980, 202494, 103988, 209171, 104008, 228281, 104022, 236923, 104031, 243527, 104049, 256825, 104064, 266528, 104065, 266971, 104077, 278058, 104078, 278517, 122461, 85908, 122574, 149701, 122695, 219665, 123388, 85908, 125223, 50087, 125240, 61604, 125326, 126645, 125372, 163657, 125389, 176843, 125390, 177864, 125424, 206231, 125429, 209171, 125448, 228281, 125469, 243527, 125516, 278517, 198395, 13231, 198422, 28541, 198646, 156726, 208149, 52402, 208183, 72825, 208218, 95927, 208296, 142699, 208405, 209171, 225356, 50087]\n"
     ]
    },
    {
     "data": {
      "text/plain": [
       "(112, 2)"
      ]
     },
     "execution_count": 64,
     "metadata": {},
     "output_type": "execute_result"
    }
   ],
   "source": [
    "newDegList, newDegData = reduceList(degList.copy(), zeroDrugPairs.copy())\n",
    "print(newDegList)\n",
    "newDegData.shape"
   ]
  },
  {
   "cell_type": "code",
   "execution_count": 65,
   "metadata": {},
   "outputs": [
    {
     "name": "stderr",
     "output_type": "stream",
     "text": [
      "c:\\program files\\python36\\lib\\site-packages\\ipykernel_launcher.py:8: UserWarning: Boolean Series key will be reindexed to match DataFrame index.\n",
      "  \n"
     ]
    },
    {
     "name": "stdout",
     "output_type": "stream",
     "text": [
      "[23830, 35554, 54488, 106167, 55946, 191724, 59334, 169032, 77566, 52268, 77654, 108130, 77733, 157532, 77753, 169032, 77755, 169984, 77775, 184539, 77833, 216918, 80495, 108130, 80587, 157532, 81474, 108130, 82864, 52268, 94371, 169032, 94395, 184539, 113335, 105131, 113421, 169032, 113530, 244288, 124538, 184539, 124593, 216918, 131050, 66671, 131136, 108130, 133829, 159786, 133840, 166052, 133890, 196752, 137438, 35554, 137494, 66671, 137720, 191724, 137818, 244288, 137880, 277860, 149049, 35554, 164823, 35554, 165029, 169032, 166729, 52268, 166968, 184539, 182940, 46224, 183164, 173153, 183372, 7622, 183392, 22222, 183399, 26774, 183414, 35554, 183513, 92711, 183528, 100652, 183570, 126051, 183583, 135384, 183628, 159786, 183641, 166052, 183662, 178651, 183721, 216918, 183762, 244288, 183769, 248103, 183821, 277860, 194115, 196752, 199631, 191724, 213688, 35554, 213716, 52268, 213743, 66671, 213763, 76841, 213860, 140089, 214022, 244288, 227091, 76841, 227947, 169032, 238639, 140631, 238858, 262120, 258057, 196752, 262741, 2752, 262744, 4429, 262752, 10352, 262754, 11872, 262763, 18149, 262765, 19092, 262770, 22222, 262777, 26774, 262783, 31337, 262793, 39559, 262794, 40117, 262795, 41564, 262799, 44924, 262802, 46224, 262828, 63369, 262830, 64950, 262837, 71638, 262858, 87264, 262866, 92711, 262873, 97283, 262876, 99680, 262877, 100652, 262881, 102739, 262884, 105131, 262887, 107004, 262890, 108130, 262896, 111820, 262900, 114112, 262915, 126051, 262925, 133542, 262928, 135384, 262929, 135893, 262936, 140631, 262942, 146828, 262945, 148490, 262960, 159786, 262968, 166052, 262971, 169032, 262973, 169984, 262977, 173153, 262985, 178651, 262989, 181968, 262994, 184348, 263003, 190900, 263012, 196752, 263013, 197263, 263024, 207581, 263030, 211332, 263032, 213057, 263040, 221781, 263071, 244288, 263073, 245356, 263074, 246421, 263077, 248103, 263099, 264689, 263115, 277860, 263118, 279323, 267931, 76841, 268020, 135384, 268173, 244288]\n"
     ]
    },
    {
     "data": {
      "text/plain": [
       "(254, 2)"
      ]
     },
     "execution_count": 65,
     "metadata": {},
     "output_type": "execute_result"
    }
   ],
   "source": [
    "newEnhList, newenhData = reduceList(enhList, zeroDrugPairs)\n",
    "print(newEnhList)\n",
    "newenhData.shape"
   ]
  },
  {
   "cell_type": "code",
   "execution_count": 68,
   "metadata": {},
   "outputs": [],
   "source": [
    "newDegData.to_csv('suggestedDegressive.csv', index=False)"
   ]
  },
  {
   "cell_type": "code",
   "execution_count": 69,
   "metadata": {},
   "outputs": [],
   "source": [
    "newenhData.to_csv('suggestedEnhancive.csv', index=False)"
   ]
  },
  {
   "cell_type": "code",
   "execution_count": null,
   "metadata": {},
   "outputs": [],
   "source": []
  }
 ],
 "metadata": {
  "kernelspec": {
   "display_name": "Python 3",
   "language": "python",
   "name": "python3"
  },
  "language_info": {
   "codemirror_mode": {
    "name": "ipython",
    "version": 3
   },
   "file_extension": ".py",
   "mimetype": "text/x-python",
   "name": "python",
   "nbconvert_exporter": "python",
   "pygments_lexer": "ipython3",
   "version": "3.6.8"
  }
 },
 "nbformat": 4,
 "nbformat_minor": 4
}
