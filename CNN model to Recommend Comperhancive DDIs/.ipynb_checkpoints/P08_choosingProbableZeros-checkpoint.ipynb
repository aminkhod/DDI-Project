{
 "cells": [
  {
   "cell_type": "code",
   "execution_count": 6,
   "metadata": {},
   "outputs": [],
   "source": [
    "import pandas as pd\n",
    "import numpy as np\n",
    "import random"
   ]
  },
  {
   "cell_type": "code",
   "execution_count": 7,
   "metadata": {},
   "outputs": [],
   "source": [
    "def reduceList( DrugPairs):\n",
    "#     print(dPairs.head())\n",
    "    i = 0\n",
    "    newList = []\n",
    "    seenList = []\n",
    "    while i < len(DrugPairs.iloc[:,0]):\n",
    "        d1, d2 = DrugPairs.iloc[i][1], DrugPairs.iloc[i][2]\n",
    "        buf = DrugPairs[DrugPairs[1]==d2][DrugPairs[2]==d1]\n",
    "#         print(buf)\n",
    "        if len(buf) == 1 and (i not in seenList) and (list(buf.index)[0] not in seenList):\n",
    "            newList.append(i)\n",
    "            newList.append(list(buf.index)[0])\n",
    "            seenList.append(list(buf.index)[0])\n",
    "            seenList.append(i)\n",
    "        else:\n",
    "            seenList.append(i)\n",
    "        i += 1\n",
    "    return newList"
   ]
  },
  {
   "cell_type": "code",
   "execution_count": 8,
   "metadata": {},
   "outputs": [],
   "source": [
    "data = pd.read_csv('../../triple_cosineSNF(zeros).csv')"
   ]
  },
  {
   "cell_type": "code",
   "execution_count": 9,
   "metadata": {
    "scrolled": true
   },
   "outputs": [
    {
     "data": {
      "text/html": [
       "<div>\n",
       "<style scoped>\n",
       "    .dataframe tbody tr th:only-of-type {\n",
       "        vertical-align: middle;\n",
       "    }\n",
       "\n",
       "    .dataframe tbody tr th {\n",
       "        vertical-align: top;\n",
       "    }\n",
       "\n",
       "    .dataframe thead th {\n",
       "        text-align: right;\n",
       "    }\n",
       "</style>\n",
       "<table border=\"1\" class=\"dataframe\">\n",
       "  <thead>\n",
       "    <tr style=\"text-align: right;\">\n",
       "      <th></th>\n",
       "      <th>0</th>\n",
       "      <th>1</th>\n",
       "    </tr>\n",
       "  </thead>\n",
       "  <tbody>\n",
       "    <tr>\n",
       "      <th>0</th>\n",
       "      <td>0.573989</td>\n",
       "      <td>0.331035</td>\n",
       "    </tr>\n",
       "    <tr>\n",
       "      <th>1</th>\n",
       "      <td>0.672577</td>\n",
       "      <td>0.415239</td>\n",
       "    </tr>\n",
       "    <tr>\n",
       "      <th>2</th>\n",
       "      <td>0.382096</td>\n",
       "      <td>0.521595</td>\n",
       "    </tr>\n",
       "    <tr>\n",
       "      <th>3</th>\n",
       "      <td>0.632586</td>\n",
       "      <td>0.135914</td>\n",
       "    </tr>\n",
       "    <tr>\n",
       "      <th>4</th>\n",
       "      <td>0.748400</td>\n",
       "      <td>0.185273</td>\n",
       "    </tr>\n",
       "  </tbody>\n",
       "</table>\n",
       "</div>"
      ],
      "text/plain": [
       "          0         1\n",
       "0  0.573989  0.331035\n",
       "1  0.672577  0.415239\n",
       "2  0.382096  0.521595\n",
       "3  0.632586  0.135914\n",
       "4  0.748400  0.185273"
      ]
     },
     "execution_count": 9,
     "metadata": {},
     "output_type": "execute_result"
    }
   ],
   "source": [
    "predict = pd.read_csv('predict_(-1 and +1 model)all.csv')\n",
    "predict.head()"
   ]
  },
  {
   "cell_type": "code",
   "execution_count": 10,
   "metadata": {},
   "outputs": [
    {
     "name": "stderr",
     "output_type": "stream",
     "text": [
      "/usr/lib/python3/dist-packages/ipykernel_launcher.py:1: UserWarning: Boolean Series key will be reindexed to match DataFrame index.\n",
      "  \"\"\"Entry point for launching an IPython kernel.\n"
     ]
    },
    {
     "data": {
      "text/plain": [
       "89109"
      ]
     },
     "execution_count": 10,
     "metadata": {},
     "output_type": "execute_result"
    }
   ],
   "source": [
    "zeroList = list(predict[predict['0']<0.4][predict['1']<0.4].index)\n",
    "len(zeroList)"
   ]
  },
  {
   "cell_type": "code",
   "execution_count": 11,
   "metadata": {},
   "outputs": [
    {
     "name": "stdout",
     "output_type": "stream",
     "text": [
      "(89109, 1139)\n"
     ]
    }
   ],
   "source": [
    "probZeroDrug = data.iloc[zeroList,:]\n",
    "probZeroDrug.head()\n",
    "print(probZeroDrug.shape)"
   ]
  },
  {
   "cell_type": "code",
   "execution_count": 12,
   "metadata": {},
   "outputs": [
    {
     "name": "stdout",
     "output_type": "stream",
     "text": [
      "89109 4\n"
     ]
    },
    {
     "data": {
      "text/html": [
       "<div>\n",
       "<style scoped>\n",
       "    .dataframe tbody tr th:only-of-type {\n",
       "        vertical-align: middle;\n",
       "    }\n",
       "\n",
       "    .dataframe tbody tr th {\n",
       "        vertical-align: top;\n",
       "    }\n",
       "\n",
       "    .dataframe thead th {\n",
       "        text-align: right;\n",
       "    }\n",
       "</style>\n",
       "<table border=\"1\" class=\"dataframe\">\n",
       "  <thead>\n",
       "    <tr style=\"text-align: right;\">\n",
       "      <th></th>\n",
       "      <th>0</th>\n",
       "      <th>1</th>\n",
       "      <th>2</th>\n",
       "      <th>3</th>\n",
       "    </tr>\n",
       "  </thead>\n",
       "  <tbody>\n",
       "    <tr>\n",
       "      <th>0</th>\n",
       "      <td>11</td>\n",
       "      <td>DB00115</td>\n",
       "      <td>DB00182</td>\n",
       "      <td>0</td>\n",
       "    </tr>\n",
       "    <tr>\n",
       "      <th>1</th>\n",
       "      <td>12</td>\n",
       "      <td>DB00115</td>\n",
       "      <td>DB00184</td>\n",
       "      <td>0</td>\n",
       "    </tr>\n",
       "    <tr>\n",
       "      <th>2</th>\n",
       "      <td>16</td>\n",
       "      <td>DB00115</td>\n",
       "      <td>DB00191</td>\n",
       "      <td>0</td>\n",
       "    </tr>\n",
       "    <tr>\n",
       "      <th>3</th>\n",
       "      <td>17</td>\n",
       "      <td>DB00115</td>\n",
       "      <td>DB00197</td>\n",
       "      <td>0</td>\n",
       "    </tr>\n",
       "    <tr>\n",
       "      <th>4</th>\n",
       "      <td>18</td>\n",
       "      <td>DB00115</td>\n",
       "      <td>DB00198</td>\n",
       "      <td>0</td>\n",
       "    </tr>\n",
       "  </tbody>\n",
       "</table>\n",
       "</div>"
      ],
      "text/plain": [
       "    0        1        2  3\n",
       "0  11  DB00115  DB00182  0\n",
       "1  12  DB00115  DB00184  0\n",
       "2  16  DB00115  DB00191  0\n",
       "3  17  DB00115  DB00197  0\n",
       "4  18  DB00115  DB00198  0"
      ]
     },
     "execution_count": 12,
     "metadata": {},
     "output_type": "execute_result"
    }
   ],
   "source": [
    "probZeroDrug.iloc[:,0:3].to_csv('probZeroDrugpairs.csv',header = False)\n",
    "drugsPairs = pd.read_csv('probZeroDrugpairs.csv',header=None)\n",
    "r, c = drugsPairs.shape\n",
    "print(r, c)\n",
    "drugsPairs.head()"
   ]
  },
  {
   "cell_type": "code",
   "execution_count": 13,
   "metadata": {},
   "outputs": [
    {
     "name": "stderr",
     "output_type": "stream",
     "text": [
      "/usr/lib/python3/dist-packages/ipykernel_launcher.py:8: UserWarning: Boolean Series key will be reindexed to match DataFrame index.\n",
      "  \n"
     ]
    },
    {
     "data": {
      "text/plain": [
       "32998"
      ]
     },
     "execution_count": 13,
     "metadata": {},
     "output_type": "execute_result"
    }
   ],
   "source": [
    "newList = reduceList(drugsPairs.copy())\n",
    "# print(newDegList)\n",
    "len(newList)"
   ]
  },
  {
   "cell_type": "code",
   "execution_count": 14,
   "metadata": {},
   "outputs": [],
   "source": [
    "probZeroDrug.iloc[newList,:].to_csv('probZeroDrugBothPair.csv',index=False)"
   ]
  },
  {
   "cell_type": "code",
   "execution_count": 15,
   "metadata": {},
   "outputs": [],
   "source": [
    "probZeroDrugBothPair = pd.read_csv('probZeroDrugBothPair.csv')"
   ]
  },
  {
   "cell_type": "code",
   "execution_count": 16,
   "metadata": {},
   "outputs": [
    {
     "name": "stdout",
     "output_type": "stream",
     "text": [
      "32998 3\n"
     ]
    },
    {
     "data": {
      "text/html": [
       "<div>\n",
       "<style scoped>\n",
       "    .dataframe tbody tr th:only-of-type {\n",
       "        vertical-align: middle;\n",
       "    }\n",
       "\n",
       "    .dataframe tbody tr th {\n",
       "        vertical-align: top;\n",
       "    }\n",
       "\n",
       "    .dataframe thead th {\n",
       "        text-align: right;\n",
       "    }\n",
       "</style>\n",
       "<table border=\"1\" class=\"dataframe\">\n",
       "  <thead>\n",
       "    <tr style=\"text-align: right;\">\n",
       "      <th></th>\n",
       "      <th>0</th>\n",
       "      <th>1</th>\n",
       "      <th>2</th>\n",
       "    </tr>\n",
       "  </thead>\n",
       "  <tbody>\n",
       "    <tr>\n",
       "      <th>0</th>\n",
       "      <td>DB00115</td>\n",
       "      <td>DB00182</td>\n",
       "      <td>0</td>\n",
       "    </tr>\n",
       "    <tr>\n",
       "      <th>1</th>\n",
       "      <td>DB00182</td>\n",
       "      <td>DB00115</td>\n",
       "      <td>0</td>\n",
       "    </tr>\n",
       "    <tr>\n",
       "      <th>2</th>\n",
       "      <td>DB00115</td>\n",
       "      <td>DB00184</td>\n",
       "      <td>0</td>\n",
       "    </tr>\n",
       "    <tr>\n",
       "      <th>3</th>\n",
       "      <td>DB00184</td>\n",
       "      <td>DB00115</td>\n",
       "      <td>0</td>\n",
       "    </tr>\n",
       "    <tr>\n",
       "      <th>4</th>\n",
       "      <td>DB00115</td>\n",
       "      <td>DB00191</td>\n",
       "      <td>0</td>\n",
       "    </tr>\n",
       "  </tbody>\n",
       "</table>\n",
       "</div>"
      ],
      "text/plain": [
       "         0        1  2\n",
       "0  DB00115  DB00182  0\n",
       "1  DB00182  DB00115  0\n",
       "2  DB00115  DB00184  0\n",
       "3  DB00184  DB00115  0\n",
       "4  DB00115  DB00191  0"
      ]
     },
     "execution_count": 16,
     "metadata": {},
     "output_type": "execute_result"
    }
   ],
   "source": [
    "drugsPairs = probZeroDrugBothPair.iloc[:,0:3]\n",
    "r, c = drugsPairs.shape\n",
    "print(r, c)\n",
    "drugsPairs.head()"
   ]
  },
  {
   "cell_type": "code",
   "execution_count": 17,
   "metadata": {},
   "outputs": [
    {
     "name": "stdout",
     "output_type": "stream",
     "text": [
      "30000\n"
     ]
    }
   ],
   "source": [
    "indexes = []\n",
    "bufpairs = []\n",
    "for i in range(int(15000)):\n",
    "    candInd = np.random.randint(r/2)\n",
    "\n",
    "    while (int(2 * candInd) in indexes):\n",
    "        candInd = np.random.randint(r/2)\n",
    "    indexes.append(int(2 * candInd))\n",
    "    indexes.append(int(2 * candInd + 1))\n",
    "\n",
    "print(len(indexes))\n"
   ]
  },
  {
   "cell_type": "code",
   "execution_count": 18,
   "metadata": {},
   "outputs": [
    {
     "data": {
      "text/html": [
       "<div>\n",
       "<style scoped>\n",
       "    .dataframe tbody tr th:only-of-type {\n",
       "        vertical-align: middle;\n",
       "    }\n",
       "\n",
       "    .dataframe tbody tr th {\n",
       "        vertical-align: top;\n",
       "    }\n",
       "\n",
       "    .dataframe thead th {\n",
       "        text-align: right;\n",
       "    }\n",
       "</style>\n",
       "<table border=\"1\" class=\"dataframe\">\n",
       "  <thead>\n",
       "    <tr style=\"text-align: right;\">\n",
       "      <th></th>\n",
       "      <th>0</th>\n",
       "      <th>1</th>\n",
       "      <th>2</th>\n",
       "    </tr>\n",
       "  </thead>\n",
       "  <tbody>\n",
       "    <tr>\n",
       "      <th>31832</th>\n",
       "      <td>DB01240</td>\n",
       "      <td>DB01337</td>\n",
       "      <td>0</td>\n",
       "    </tr>\n",
       "    <tr>\n",
       "      <th>31833</th>\n",
       "      <td>DB01337</td>\n",
       "      <td>DB01240</td>\n",
       "      <td>0</td>\n",
       "    </tr>\n",
       "    <tr>\n",
       "      <th>6420</th>\n",
       "      <td>DB00262</td>\n",
       "      <td>DB06802</td>\n",
       "      <td>0</td>\n",
       "    </tr>\n",
       "    <tr>\n",
       "      <th>6421</th>\n",
       "      <td>DB06802</td>\n",
       "      <td>DB00262</td>\n",
       "      <td>0</td>\n",
       "    </tr>\n",
       "    <tr>\n",
       "      <th>12736</th>\n",
       "      <td>DB00384</td>\n",
       "      <td>DB00419</td>\n",
       "      <td>0</td>\n",
       "    </tr>\n",
       "    <tr>\n",
       "      <th>...</th>\n",
       "      <td>...</td>\n",
       "      <td>...</td>\n",
       "      <td>...</td>\n",
       "    </tr>\n",
       "    <tr>\n",
       "      <th>27009</th>\n",
       "      <td>DB01068</td>\n",
       "      <td>DB00920</td>\n",
       "      <td>0</td>\n",
       "    </tr>\n",
       "    <tr>\n",
       "      <th>26294</th>\n",
       "      <td>DB00862</td>\n",
       "      <td>DB01367</td>\n",
       "      <td>0</td>\n",
       "    </tr>\n",
       "    <tr>\n",
       "      <th>26295</th>\n",
       "      <td>DB01367</td>\n",
       "      <td>DB00862</td>\n",
       "      <td>0</td>\n",
       "    </tr>\n",
       "    <tr>\n",
       "      <th>9434</th>\n",
       "      <td>DB00327</td>\n",
       "      <td>DB00795</td>\n",
       "      <td>0</td>\n",
       "    </tr>\n",
       "    <tr>\n",
       "      <th>9435</th>\n",
       "      <td>DB00795</td>\n",
       "      <td>DB00327</td>\n",
       "      <td>0</td>\n",
       "    </tr>\n",
       "  </tbody>\n",
       "</table>\n",
       "<p>30000 rows × 3 columns</p>\n",
       "</div>"
      ],
      "text/plain": [
       "             0        1  2\n",
       "31832  DB01240  DB01337  0\n",
       "31833  DB01337  DB01240  0\n",
       "6420   DB00262  DB06802  0\n",
       "6421   DB06802  DB00262  0\n",
       "12736  DB00384  DB00419  0\n",
       "...        ...      ... ..\n",
       "27009  DB01068  DB00920  0\n",
       "26294  DB00862  DB01367  0\n",
       "26295  DB01367  DB00862  0\n",
       "9434   DB00327  DB00795  0\n",
       "9435   DB00795  DB00327  0\n",
       "\n",
       "[30000 rows x 3 columns]"
      ]
     },
     "execution_count": 18,
     "metadata": {},
     "output_type": "execute_result"
    }
   ],
   "source": [
    "drugsPairs.iloc[indexes,:]"
   ]
  },
  {
   "cell_type": "code",
   "execution_count": 19,
   "metadata": {},
   "outputs": [],
   "source": [
    "# index = drugsPairs.values[:,0]\n",
    "# random.shuffle(index)\n",
    "# drugsPairsShuffled =  drugsPairs.iloc[index]"
   ]
  },
  {
   "cell_type": "code",
   "execution_count": 20,
   "metadata": {
    "scrolled": true
   },
   "outputs": [
    {
     "data": {
      "text/plain": [
       "0"
      ]
     },
     "execution_count": 20,
     "metadata": {},
     "output_type": "execute_result"
    }
   ],
   "source": [
    "checked = False\n",
    "problems = []\n",
    "i = 0\n",
    "while(i +1 < len(indexes)):\n",
    "\n",
    "    if (drugsPairs.iloc[indexes[i],0]==drugsPairs.iloc[indexes[i+1],1])and(drugsPairs.iloc[indexes[i],1]==drugsPairs.iloc[indexes[i+1],0]):\n",
    "        i += 2\n",
    "\n",
    "    else:        \n",
    "        problems.append([i,drugsPairs.iloc[i,:]])\n",
    "\n",
    "        del indexes[i]\n",
    "\n",
    "len(problems)"
   ]
  },
  {
   "cell_type": "code",
   "execution_count": 21,
   "metadata": {},
   "outputs": [],
   "source": [
    "probZeroDrug.iloc[indexes,:].to_csv('probZeroDrug30000.csv',index=False)"
   ]
  },
  {
   "cell_type": "code",
   "execution_count": 22,
   "metadata": {},
   "outputs": [],
   "source": [
    "probZeroDrug.iloc[indexes,:].iloc[:18000,:].to_csv('probZeroDrugTrain.csv',index=False)"
   ]
  },
  {
   "cell_type": "code",
   "execution_count": 23,
   "metadata": {},
   "outputs": [],
   "source": [
    "probZeroDrug.iloc[indexes,:].iloc[18000:,:].to_csv('probZeroDrugTest.csv',index=False)"
   ]
  },
  {
   "cell_type": "code",
   "execution_count": null,
   "metadata": {},
   "outputs": [],
   "source": []
  }
 ],
 "metadata": {
  "kernelspec": {
   "display_name": "Python 3",
   "language": "python",
   "name": "python3"
  },
  "language_info": {
   "codemirror_mode": {
    "name": "ipython",
    "version": 3
   },
   "file_extension": ".py",
   "mimetype": "text/x-python",
   "name": "python",
   "nbconvert_exporter": "python",
   "pygments_lexer": "ipython3",
   "version": "3.6.9"
  }
 },
 "nbformat": 4,
 "nbformat_minor": 2
}
