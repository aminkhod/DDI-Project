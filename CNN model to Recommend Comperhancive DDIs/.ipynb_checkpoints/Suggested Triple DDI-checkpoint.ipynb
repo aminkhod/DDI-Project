{
 "cells": [
  {
   "cell_type": "code",
   "execution_count": 1,
   "metadata": {},
   "outputs": [],
   "source": [
    "import numpy as np\n",
    "import pandas as pd"
   ]
  },
  {
   "cell_type": "code",
   "execution_count": 2,
   "metadata": {},
   "outputs": [],
   "source": [
    "# pd.read_csv('../../triple_cosineSNF(zeros).csv').iloc[:,0:2].to_csv('zero drug pairs.csv', index = False)"
   ]
  },
  {
   "cell_type": "code",
   "execution_count": 3,
   "metadata": {},
   "outputs": [
    {
     "data": {
      "text/html": [
       "<div>\n",
       "<style scoped>\n",
       "    .dataframe tbody tr th:only-of-type {\n",
       "        vertical-align: middle;\n",
       "    }\n",
       "\n",
       "    .dataframe tbody tr th {\n",
       "        vertical-align: top;\n",
       "    }\n",
       "\n",
       "    .dataframe thead th {\n",
       "        text-align: right;\n",
       "    }\n",
       "</style>\n",
       "<table border=\"1\" class=\"dataframe\">\n",
       "  <thead>\n",
       "    <tr style=\"text-align: right;\">\n",
       "      <th></th>\n",
       "      <th>0</th>\n",
       "      <th>1</th>\n",
       "    </tr>\n",
       "  </thead>\n",
       "  <tbody>\n",
       "    <tr>\n",
       "      <th>0</th>\n",
       "      <td>DB00115</td>\n",
       "      <td>DB00130</td>\n",
       "    </tr>\n",
       "    <tr>\n",
       "      <th>1</th>\n",
       "      <td>DB00115</td>\n",
       "      <td>DB00136</td>\n",
       "    </tr>\n",
       "    <tr>\n",
       "      <th>2</th>\n",
       "      <td>DB00115</td>\n",
       "      <td>DB00153</td>\n",
       "    </tr>\n",
       "    <tr>\n",
       "      <th>3</th>\n",
       "      <td>DB00115</td>\n",
       "      <td>DB00158</td>\n",
       "    </tr>\n",
       "    <tr>\n",
       "      <th>4</th>\n",
       "      <td>DB00115</td>\n",
       "      <td>DB00162</td>\n",
       "    </tr>\n",
       "  </tbody>\n",
       "</table>\n",
       "</div>"
      ],
      "text/plain": [
       "         0        1\n",
       "0  DB00115  DB00130\n",
       "1  DB00115  DB00136\n",
       "2  DB00115  DB00153\n",
       "3  DB00115  DB00158\n",
       "4  DB00115  DB00162"
      ]
     },
     "execution_count": 3,
     "metadata": {},
     "output_type": "execute_result"
    }
   ],
   "source": [
    "zeroDrugPairs = pd.read_csv('zero drug pairs.csv')\n",
    "zeroDrugPairs.head()"
   ]
  },
  {
   "cell_type": "code",
   "execution_count": 4,
   "metadata": {},
   "outputs": [
    {
     "data": {
      "text/html": [
       "<div>\n",
       "<style scoped>\n",
       "    .dataframe tbody tr th:only-of-type {\n",
       "        vertical-align: middle;\n",
       "    }\n",
       "\n",
       "    .dataframe tbody tr th {\n",
       "        vertical-align: top;\n",
       "    }\n",
       "\n",
       "    .dataframe thead th {\n",
       "        text-align: right;\n",
       "    }\n",
       "</style>\n",
       "<table border=\"1\" class=\"dataframe\">\n",
       "  <thead>\n",
       "    <tr style=\"text-align: right;\">\n",
       "      <th></th>\n",
       "      <th>0</th>\n",
       "      <th>1</th>\n",
       "      <th>2</th>\n",
       "    </tr>\n",
       "  </thead>\n",
       "  <tbody>\n",
       "    <tr>\n",
       "      <th>0</th>\n",
       "      <td>0.022923</td>\n",
       "      <td>0.334318</td>\n",
       "      <td>0.000578</td>\n",
       "    </tr>\n",
       "    <tr>\n",
       "      <th>1</th>\n",
       "      <td>0.542959</td>\n",
       "      <td>0.085669</td>\n",
       "      <td>0.004757</td>\n",
       "    </tr>\n",
       "    <tr>\n",
       "      <th>2</th>\n",
       "      <td>0.106631</td>\n",
       "      <td>0.523582</td>\n",
       "      <td>0.001686</td>\n",
       "    </tr>\n",
       "    <tr>\n",
       "      <th>3</th>\n",
       "      <td>0.006202</td>\n",
       "      <td>0.116997</td>\n",
       "      <td>0.000022</td>\n",
       "    </tr>\n",
       "    <tr>\n",
       "      <th>4</th>\n",
       "      <td>0.018553</td>\n",
       "      <td>0.237874</td>\n",
       "      <td>0.012697</td>\n",
       "    </tr>\n",
       "  </tbody>\n",
       "</table>\n",
       "</div>"
      ],
      "text/plain": [
       "          0         1         2\n",
       "0  0.022923  0.334318  0.000578\n",
       "1  0.542959  0.085669  0.004757\n",
       "2  0.106631  0.523582  0.001686\n",
       "3  0.006202  0.116997  0.000022\n",
       "4  0.018553  0.237874  0.012697"
      ]
     },
     "execution_count": 4,
     "metadata": {},
     "output_type": "execute_result"
    }
   ],
   "source": [
    "predict = pd.read_csv('predict_All_without softmax.csv')\n",
    "predict.head()"
   ]
  },
  {
   "cell_type": "code",
   "execution_count": 5,
   "metadata": {},
   "outputs": [],
   "source": [
    "degList = list(predict[predict['0']>0.95].index)\n",
    "# degList"
   ]
  },
  {
   "cell_type": "code",
   "execution_count": 24,
   "metadata": {},
   "outputs": [],
   "source": [
    "enhList = list(predict[predict['2']>0.99].index)\n",
    "# enhList"
   ]
  },
  {
   "cell_type": "code",
   "execution_count": 25,
   "metadata": {},
   "outputs": [
    {
     "name": "stdout",
     "output_type": "stream",
     "text": [
      "553 3814\n"
     ]
    }
   ],
   "source": [
    "print(len(degList), len(enhList))"
   ]
  },
  {
   "cell_type": "code",
   "execution_count": 26,
   "metadata": {},
   "outputs": [],
   "source": [
    "# dPairs = zeroDrugPairs.iloc[degList]\n",
    "# dPairs.iloc[0]"
   ]
  },
  {
   "cell_type": "code",
   "execution_count": 27,
   "metadata": {},
   "outputs": [],
   "source": [
    "# i = 150\n",
    "# print(zeroDrugPairs.iloc[i])\n",
    "# d1, d2 = zeroDrugPairs.iloc[i][0], zeroDrugPairs.iloc[i][1]\n",
    "# buf = zeroDrugPairs[zeroDrugPairs['0']==d2][zeroDrugPairs['1']==d1]\n",
    "# # buf = buf[buf['1']==d1]\n",
    "# buf\n",
    "# # list(buf.index)[0]\n",
    "# print(zeroDrugPairs.iloc[3])"
   ]
  },
  {
   "cell_type": "code",
   "execution_count": 28,
   "metadata": {},
   "outputs": [],
   "source": [
    "def reduceList(pairList, DrugPairs):\n",
    "    dPairs = DrugPairs.iloc[pairList]\n",
    "    i = 0\n",
    "    newList = []\n",
    "    seenList = []\n",
    "    while i < len(pairList):\n",
    "        d1, d2 = dPairs.iloc[i][0], dPairs.iloc[i][1]\n",
    "        buf = dPairs[dPairs['0']==d2][dPairs['1']==d1]\n",
    "        if len(buf) == 1 and (pairList[i] not in seenList) and (list(buf.index)[0] not in seenList):\n",
    "            newList.append(pairList[i])\n",
    "            newList.append(list(buf.index)[0])\n",
    "            seenList.append(list(buf.index)[0])\n",
    "            seenList.append(pairList[i])\n",
    "        else:\n",
    "            seenList.append(pairList[i])\n",
    "        i += 1\n",
    "    return newList, DrugPairs.iloc[newList]\n"
   ]
  },
  {
   "cell_type": "code",
   "execution_count": 29,
   "metadata": {},
   "outputs": [
    {
     "name": "stderr",
     "output_type": "stream",
     "text": [
      "c:\\program files\\python36\\lib\\site-packages\\ipykernel_launcher.py:8: UserWarning: Boolean Series key will be reindexed to match DataFrame index.\n",
      "  \n"
     ]
    },
    {
     "name": "stdout",
     "output_type": "stream",
     "text": [
      "[47, 24238, 209, 103708, 253, 125159, 457, 225268, 612, 24239, 818, 125160, 1177, 24240, 1369, 122315, 1540, 208069, 1576, 225270, 1725, 24241, 2097, 208070, 2443, 103710, 2485, 125161, 4566, 65877, 6811, 24249, 6827, 32853, 6888, 65882, 12076, 103724, 13231, 198395, 13513, 103726, 13541, 125177, 13795, 24261, 13803, 28688, 14126, 225292, 18663, 24269, 18705, 48408, 18806, 103734, 22855, 24274, 22958, 103741, 22988, 125191, 23086, 198412, 23100, 208105, 23123, 225307, 24287, 32496, 24290, 34352, 24291, 34794, 24292, 35290, 24293, 35692, 24310, 46011, 24319, 52402, 24330, 57668, 24343, 65018, 24350, 69092, 24351, 70087, 24352, 70602, 24402, 104128, 24403, 104688, 24428, 118718, 24434, 122352, 24442, 127880, 24454, 135454, 24461, 139289, 24464, 140741, 24467, 142699, 24518, 174171, 24531, 181071, 24542, 188902, 24557, 197334, 24575, 210499, 24580, 212627, 24604, 227416, 24633, 242989, 24635, 243865, 24636, 244366, 24678, 270346, 24692, 278839, 25395, 103744, 25436, 125194, 25577, 198416, 25596, 208109, 28541, 198422, 28775, 65923, 28838, 103748, 28870, 122360, 28873, 125198, 29338, 103749, 29381, 125199, 29526, 198424, 32606, 103754, 32634, 125204, 32936, 65931, 32988, 103755, 33016, 123301, 34511, 125207, 35571, 225328, 35840, 103759, 35877, 125208, 36009, 198435, 36057, 225329, 47008, 103773, 47048, 125220, 48588, 122395, 48730, 204540, 50087, 125223, 57806, 103787, 57847, 125235, 57977, 198476, 58025, 225371, 61604, 125240, 65093, 65992, 65162, 103798, 65332, 198490, 65349, 208171, 65381, 225385, 66098, 122426, 66134, 142254, 66154, 153077, 66212, 182555, 66242, 198492, 66255, 205068, 66266, 210553, 69287, 122431, 70233, 103803, 70268, 125250, 70421, 208179, 70457, 225394, 85908, 123388, 89932, 103829, 89972, 125277, 95927, 208218, 96219, 103836, 96662, 103837, 103847, 104291, 103848, 104832, 103880, 126645, 103890, 134663, 103898, 139451, 103915, 153129, 103940, 172836, 103942, 173810, 103943, 174281, 103947, 177864, 103948, 178849, 103950, 181185, 103953, 182606, 103957, 185949, 103962, 189061, 103966, 192145, 103975, 197490, 103980, 202494, 103988, 209171, 103990, 210606, 103991, 211040, 103993, 212769, 104008, 228281, 104022, 236923, 104031, 243527, 104032, 244008, 104033, 244523, 104034, 245058, 104037, 247215, 104049, 256825, 104064, 266528, 104065, 266971, 104077, 278058, 104078, 278517, 104079, 279002, 104334, 125294, 104873, 125295, 105011, 198558, 105030, 208233, 105061, 225452, 105340, 125296, 119043, 198584, 122574, 149701, 122632, 182635, 122658, 198590, 122669, 205163, 122675, 208262, 122695, 219665, 123566, 198592, 125338, 135636, 125344, 139493, 125372, 163657, 125383, 172880, 125385, 173851, 125386, 174309, 125389, 176843, 125394, 181218, 125397, 182638, 125424, 206231, 125431, 211075, 125433, 212803, 125470, 244047, 125472, 245100, 125475, 247259, 125517, 279046, 128239, 208271, 139656, 208291, 142507, 198621, 156726, 198646, 174420, 208348, 174448, 225582, 186107, 204785, 189271, 208374, 197688, 208388, 198759, 225627, 198802, 251100, 204886, 243240, 205332, 225640, 208430, 225645, 208458, 243246, 208461, 244727, 208473, 251116, 225679, 227633, 225708, 243268, 225710, 244223, 225711, 244763]\n"
     ]
    },
    {
     "data": {
      "text/plain": [
       "(418, 2)"
      ]
     },
     "execution_count": 29,
     "metadata": {},
     "output_type": "execute_result"
    }
   ],
   "source": [
    "newDegList, newDegData = reduceList(degList.copy(), zeroDrugPairs.copy())\n",
    "print(newDegList)\n",
    "newDegData.shape"
   ]
  },
  {
   "cell_type": "code",
   "execution_count": null,
   "metadata": {},
   "outputs": [
    {
     "name": "stderr",
     "output_type": "stream",
     "text": [
      "c:\\program files\\python36\\lib\\site-packages\\ipykernel_launcher.py:8: UserWarning: Boolean Series key will be reindexed to match DataFrame index.\n",
      "  \n"
     ]
    }
   ],
   "source": [
    "newEnhList, newenhData = reduceList(enhList, zeroDrugPairs)\n",
    "# print(newEnhList)\n",
    "newenhData.shape"
   ]
  },
  {
   "cell_type": "code",
   "execution_count": null,
   "metadata": {},
   "outputs": [],
   "source": [
    "newDegData.to_csv('suggestedDegressive.csv', index=False)"
   ]
  },
  {
   "cell_type": "code",
   "execution_count": null,
   "metadata": {},
   "outputs": [],
   "source": [
    "newenhData.to_csv('suggestedEnhancive.csv', index=False)"
   ]
  },
  {
   "cell_type": "code",
   "execution_count": null,
   "metadata": {},
   "outputs": [],
   "source": []
  }
 ],
 "metadata": {
  "kernelspec": {
   "display_name": "Python 3",
   "language": "python",
   "name": "python3"
  },
  "language_info": {
   "codemirror_mode": {
    "name": "ipython",
    "version": 3
   },
   "file_extension": ".py",
   "mimetype": "text/x-python",
   "name": "python",
   "nbconvert_exporter": "python",
   "pygments_lexer": "ipython3",
   "version": "3.6.8"
  }
 },
 "nbformat": 4,
 "nbformat_minor": 4
}
