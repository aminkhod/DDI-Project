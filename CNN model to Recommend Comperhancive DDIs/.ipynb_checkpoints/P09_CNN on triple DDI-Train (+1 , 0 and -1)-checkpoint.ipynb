{
 "cells": [
  {
   "cell_type": "code",
   "execution_count": 5,
   "metadata": {},
   "outputs": [],
   "source": [
    "import random\n",
    "import pandas as pd \n",
    "import numpy as np\n",
    "\n",
    "import seaborn as sns\n",
    "import matplotlib.pyplot as plt\n",
    "\n",
    "import confusion_matrix_pretty_print\n",
    "from confusion_matrix_pretty_print import plot_confusion_matrix_from_data\n",
    "\n",
    "from sklearn.metrics import confusion_matrix,classification_report,precision_score, auc, precision_recall_curve, roc_curve\n",
    "\n",
    "import keras\n",
    "from keras.utils import to_categorical\n",
    "from keras.models import Sequential\n",
    "from keras.layers import Dense, Conv2D, Flatten, Softmax, Dropout\n",
    "from keras import optimizers\n",
    "from keras import metrics as kmetr\n",
    "from keras.utils import plot_model\n"
   ]
  },
  {
   "cell_type": "code",
   "execution_count": 6,
   "metadata": {},
   "outputs": [],
   "source": [
    "zeros = pd.read_csv('../../probZeroDrug30000.csv')"
   ]
  },
  {
   "cell_type": "code",
   "execution_count": 7,
   "metadata": {},
   "outputs": [],
   "source": [
    "dataTrain = pd.read_csv('../../tripleTrain42702.csv')\n",
    "dataTest = pd.read_csv('../../tripleTest42702.csv')\n"
   ]
  },
  {
   "cell_type": "code",
   "execution_count": 8,
   "metadata": {},
   "outputs": [],
   "source": [
    "r,c = zeros.shape"
   ]
  },
  {
   "cell_type": "code",
   "execution_count": 9,
   "metadata": {},
   "outputs": [],
   "source": [
    "dataTrain = dataTrain.append(zeros.iloc[:int(0.9*r),:], ignore_index = True) "
   ]
  },
  {
   "cell_type": "code",
   "execution_count": 10,
   "metadata": {},
   "outputs": [],
   "source": [
    "dataTest = dataTest.append(zeros.iloc[int(0.9*r):,:], ignore_index = True) "
   ]
  },
  {
   "cell_type": "code",
   "execution_count": 11,
   "metadata": {},
   "outputs": [],
   "source": [
    "del zeros\n",
    "# del probableZero"
   ]
  },
  {
   "cell_type": "code",
   "execution_count": 12,
   "metadata": {},
   "outputs": [],
   "source": [
    "# Shuffle datasets\n",
    "dataTrain = dataTrain.sample(frac=1).reset_index(drop=True)\n",
    "dataTest = dataTest.sample(frac=1).reset_index(drop=True)"
   ]
  },
  {
   "cell_type": "code",
   "execution_count": 13,
   "metadata": {},
   "outputs": [
    {
     "data": {
      "text/html": [
       "<div>\n",
       "<style scoped>\n",
       "    .dataframe tbody tr th:only-of-type {\n",
       "        vertical-align: middle;\n",
       "    }\n",
       "\n",
       "    .dataframe tbody tr th {\n",
       "        vertical-align: top;\n",
       "    }\n",
       "\n",
       "    .dataframe thead th {\n",
       "        text-align: right;\n",
       "    }\n",
       "</style>\n",
       "<table border=\"1\" class=\"dataframe\">\n",
       "  <thead>\n",
       "    <tr style=\"text-align: right;\">\n",
       "      <th></th>\n",
       "      <th>0</th>\n",
       "      <th>1</th>\n",
       "      <th>2</th>\n",
       "      <th>3</th>\n",
       "      <th>4</th>\n",
       "      <th>5</th>\n",
       "      <th>6</th>\n",
       "      <th>7</th>\n",
       "      <th>8</th>\n",
       "      <th>9</th>\n",
       "      <th>...</th>\n",
       "      <th>1131</th>\n",
       "      <th>1132</th>\n",
       "      <th>1133</th>\n",
       "      <th>1134</th>\n",
       "      <th>1135</th>\n",
       "      <th>1136</th>\n",
       "      <th>1137</th>\n",
       "      <th>1138</th>\n",
       "      <th>1139</th>\n",
       "      <th>1140</th>\n",
       "    </tr>\n",
       "  </thead>\n",
       "  <tbody>\n",
       "    <tr>\n",
       "      <th>0</th>\n",
       "      <td>DB00980</td>\n",
       "      <td>DB00313</td>\n",
       "      <td>1</td>\n",
       "      <td>0.001590</td>\n",
       "      <td>0.001648</td>\n",
       "      <td>0.001679</td>\n",
       "      <td>0.001802</td>\n",
       "      <td>0.001611</td>\n",
       "      <td>0.001764</td>\n",
       "      <td>0.002200</td>\n",
       "      <td>...</td>\n",
       "      <td>0.001630</td>\n",
       "      <td>0.001612</td>\n",
       "      <td>0.001597</td>\n",
       "      <td>0.001634</td>\n",
       "      <td>0.001615</td>\n",
       "      <td>0.001882</td>\n",
       "      <td>0.001720</td>\n",
       "      <td>0.001622</td>\n",
       "      <td>0.001650</td>\n",
       "      <td>0.001595</td>\n",
       "    </tr>\n",
       "    <tr>\n",
       "      <th>1</th>\n",
       "      <td>DB01065</td>\n",
       "      <td>DB00356</td>\n",
       "      <td>1</td>\n",
       "      <td>0.001737</td>\n",
       "      <td>0.001782</td>\n",
       "      <td>0.001662</td>\n",
       "      <td>0.001861</td>\n",
       "      <td>0.001719</td>\n",
       "      <td>0.001912</td>\n",
       "      <td>0.001846</td>\n",
       "      <td>...</td>\n",
       "      <td>0.001600</td>\n",
       "      <td>0.001611</td>\n",
       "      <td>0.001761</td>\n",
       "      <td>0.001595</td>\n",
       "      <td>0.001613</td>\n",
       "      <td>0.001578</td>\n",
       "      <td>0.001590</td>\n",
       "      <td>0.001650</td>\n",
       "      <td>0.001819</td>\n",
       "      <td>0.001601</td>\n",
       "    </tr>\n",
       "    <tr>\n",
       "      <th>2</th>\n",
       "      <td>DB00231</td>\n",
       "      <td>DB01024</td>\n",
       "      <td>0</td>\n",
       "      <td>0.001689</td>\n",
       "      <td>0.001676</td>\n",
       "      <td>0.001871</td>\n",
       "      <td>0.001818</td>\n",
       "      <td>0.001685</td>\n",
       "      <td>0.001836</td>\n",
       "      <td>0.001708</td>\n",
       "      <td>...</td>\n",
       "      <td>0.001586</td>\n",
       "      <td>0.001723</td>\n",
       "      <td>0.001629</td>\n",
       "      <td>0.001688</td>\n",
       "      <td>0.001610</td>\n",
       "      <td>0.001697</td>\n",
       "      <td>0.001636</td>\n",
       "      <td>0.001656</td>\n",
       "      <td>0.001669</td>\n",
       "      <td>0.001698</td>\n",
       "    </tr>\n",
       "    <tr>\n",
       "      <th>3</th>\n",
       "      <td>DB01099</td>\n",
       "      <td>DB07615</td>\n",
       "      <td>1</td>\n",
       "      <td>0.001657</td>\n",
       "      <td>0.001663</td>\n",
       "      <td>0.001659</td>\n",
       "      <td>0.001577</td>\n",
       "      <td>0.001612</td>\n",
       "      <td>0.001577</td>\n",
       "      <td>0.001572</td>\n",
       "      <td>...</td>\n",
       "      <td>0.001826</td>\n",
       "      <td>0.001605</td>\n",
       "      <td>0.001598</td>\n",
       "      <td>0.001603</td>\n",
       "      <td>0.002471</td>\n",
       "      <td>0.002065</td>\n",
       "      <td>0.001828</td>\n",
       "      <td>0.001714</td>\n",
       "      <td>0.539738</td>\n",
       "      <td>0.001628</td>\n",
       "    </tr>\n",
       "    <tr>\n",
       "      <th>4</th>\n",
       "      <td>DB00178</td>\n",
       "      <td>DB00422</td>\n",
       "      <td>-1</td>\n",
       "      <td>0.001599</td>\n",
       "      <td>0.001608</td>\n",
       "      <td>0.001828</td>\n",
       "      <td>0.001673</td>\n",
       "      <td>0.001711</td>\n",
       "      <td>0.001638</td>\n",
       "      <td>0.001632</td>\n",
       "      <td>...</td>\n",
       "      <td>0.001582</td>\n",
       "      <td>0.001633</td>\n",
       "      <td>0.003688</td>\n",
       "      <td>0.001812</td>\n",
       "      <td>0.001694</td>\n",
       "      <td>0.001573</td>\n",
       "      <td>0.001580</td>\n",
       "      <td>0.001600</td>\n",
       "      <td>0.001598</td>\n",
       "      <td>0.001585</td>\n",
       "    </tr>\n",
       "  </tbody>\n",
       "</table>\n",
       "<p>5 rows × 1139 columns</p>\n",
       "</div>"
      ],
      "text/plain": [
       "         0        1  2         3         4         5         6         7  \\\n",
       "0  DB00980  DB00313  1  0.001590  0.001648  0.001679  0.001802  0.001611   \n",
       "1  DB01065  DB00356  1  0.001737  0.001782  0.001662  0.001861  0.001719   \n",
       "2  DB00231  DB01024  0  0.001689  0.001676  0.001871  0.001818  0.001685   \n",
       "3  DB01099  DB07615  1  0.001657  0.001663  0.001659  0.001577  0.001612   \n",
       "4  DB00178  DB00422 -1  0.001599  0.001608  0.001828  0.001673  0.001711   \n",
       "\n",
       "          8         9  ...      1131      1132      1133      1134      1135  \\\n",
       "0  0.001764  0.002200  ...  0.001630  0.001612  0.001597  0.001634  0.001615   \n",
       "1  0.001912  0.001846  ...  0.001600  0.001611  0.001761  0.001595  0.001613   \n",
       "2  0.001836  0.001708  ...  0.001586  0.001723  0.001629  0.001688  0.001610   \n",
       "3  0.001577  0.001572  ...  0.001826  0.001605  0.001598  0.001603  0.002471   \n",
       "4  0.001638  0.001632  ...  0.001582  0.001633  0.003688  0.001812  0.001694   \n",
       "\n",
       "       1136      1137      1138      1139      1140  \n",
       "0  0.001882  0.001720  0.001622  0.001650  0.001595  \n",
       "1  0.001578  0.001590  0.001650  0.001819  0.001601  \n",
       "2  0.001697  0.001636  0.001656  0.001669  0.001698  \n",
       "3  0.002065  0.001828  0.001714  0.539738  0.001628  \n",
       "4  0.001573  0.001580  0.001600  0.001598  0.001585  \n",
       "\n",
       "[5 rows x 1139 columns]"
      ]
     },
     "execution_count": 13,
     "metadata": {},
     "output_type": "execute_result"
    }
   ],
   "source": [
    "dataTrain.head()"
   ]
  },
  {
   "cell_type": "code",
   "execution_count": 14,
   "metadata": {},
   "outputs": [],
   "source": [
    "X_train = dataTrain.values[:,3:]\n",
    "y_train = dataTrain.values[:,2].astype(int)\n",
    "del dataTrain\n",
    "trainNum = len(X_train)\n",
    "X_test = dataTest.values[:,3:]\n",
    "y_test = dataTest.values[:,2].astype(int)\n",
    "# del dataTest\n",
    "testNum = len(X_test)\n",
    "\n",
    "#reshape data to fit model\n",
    "X_train = X_train.reshape(trainNum,16,71,1)\n",
    "X_test = X_test.reshape(testNum,16,71,1)\n",
    "\n",
    "y_train = y_train + 1\n",
    "y_test  = y_test + 1\n",
    "# y_train = y_train / 2\n",
    "# y_test  = y_test / 2\n",
    "# print(y_train[0], y_test[0])\n",
    "\n",
    "#one-hot encode target column\n",
    "y_train = to_categorical(y_train)\n",
    "y_test = to_categorical(y_test)\n",
    "# y_test[0]\n"
   ]
  },
  {
   "cell_type": "code",
   "execution_count": 15,
   "metadata": {},
   "outputs": [
    {
     "name": "stdout",
     "output_type": "stream",
     "text": [
      "[0. 0. 1.] [0. 1. 0.]\n"
     ]
    }
   ],
   "source": [
    "print(y_train[1], y_test[0])"
   ]
  },
  {
   "cell_type": "code",
   "execution_count": 16,
   "metadata": {},
   "outputs": [
    {
     "name": "stdout",
     "output_type": "stream",
     "text": [
      "WARNING:tensorflow:From /home/amin/.local/lib/python3.6/site-packages/keras/backend/tensorflow_backend.py:66: The name tf.get_default_graph is deprecated. Please use tf.compat.v1.get_default_graph instead.\n",
      "\n",
      "WARNING:tensorflow:From /home/amin/.local/lib/python3.6/site-packages/keras/backend/tensorflow_backend.py:541: The name tf.placeholder is deprecated. Please use tf.compat.v1.placeholder instead.\n",
      "\n",
      "WARNING:tensorflow:From /home/amin/.local/lib/python3.6/site-packages/keras/backend/tensorflow_backend.py:4432: The name tf.random_uniform is deprecated. Please use tf.random.uniform instead.\n",
      "\n",
      "WARNING:tensorflow:From /home/amin/.local/lib/python3.6/site-packages/keras/backend/tensorflow_backend.py:148: The name tf.placeholder_with_default is deprecated. Please use tf.compat.v1.placeholder_with_default instead.\n",
      "\n",
      "WARNING:tensorflow:From /home/amin/.local/lib/python3.6/site-packages/keras/backend/tensorflow_backend.py:3733: calling dropout (from tensorflow.python.ops.nn_ops) with keep_prob is deprecated and will be removed in a future version.\n",
      "Instructions for updating:\n",
      "Please use `rate` instead of `keep_prob`. Rate should be set to `rate = 1 - keep_prob`.\n",
      "Model: \"sequential_1\"\n",
      "_________________________________________________________________\n",
      "Layer (type)                 Output Shape              Param #   \n",
      "=================================================================\n",
      "conv2d_1 (Conv2D)            (None, 13, 68, 128)       2176      \n",
      "_________________________________________________________________\n",
      "conv2d_2 (Conv2D)            (None, 10, 65, 32)        65568     \n",
      "_________________________________________________________________\n",
      "conv2d_3 (Conv2D)            (None, 7, 62, 8)          4104      \n",
      "_________________________________________________________________\n",
      "flatten_1 (Flatten)          (None, 3472)              0         \n",
      "_________________________________________________________________\n",
      "dense_1 (Dense)              (None, 64)                222272    \n",
      "_________________________________________________________________\n",
      "dropout_1 (Dropout)          (None, 64)                0         \n",
      "_________________________________________________________________\n",
      "dense_2 (Dense)              (None, 16)                1040      \n",
      "_________________________________________________________________\n",
      "dense_3 (Dense)              (None, 3)                 51        \n",
      "=================================================================\n",
      "Total params: 295,211\n",
      "Trainable params: 295,211\n",
      "Non-trainable params: 0\n",
      "_________________________________________________________________\n",
      "WARNING:tensorflow:From /home/amin/.local/lib/python3.6/site-packages/keras/optimizers.py:793: The name tf.train.Optimizer is deprecated. Please use tf.compat.v1.train.Optimizer instead.\n",
      "\n",
      "WARNING:tensorflow:From /home/amin/.local/lib/python3.6/site-packages/keras/backend/tensorflow_backend.py:3576: The name tf.log is deprecated. Please use tf.math.log instead.\n",
      "\n"
     ]
    }
   ],
   "source": [
    "#create model\n",
    "model = Sequential()\n",
    "#add model layers\n",
    "# kernel_initializer='uniform',\n",
    "# kernel_initializer='uniform',\n",
    "# kernel_initializer='uniform',\n",
    "# kernel_initializer='uniform',\n",
    "model.add(Conv2D(128, kernel_size=4, activation='relu', input_shape=(16,71,1)))\n",
    "# model.add(Conv2D(64, kernel_size=2, activation='relu'))\n",
    "\n",
    "model.add(Conv2D(32, kernel_size=4, activation='relu'))\n",
    "# model.add(Conv2D(16, kernel_size=2, activation='relu'))\n",
    "model.add(Conv2D(8, kernel_size=4, activation='relu'))\n",
    "model.add(Flatten())\n",
    "model.add(Dense( 64, activation='relu'))\n",
    "model.add(Dropout(0.2))\n",
    "model.add(Dense( 16, activation='relu'))\n",
    "model.add(Dense( 3, activation='sigmoid'))\n",
    "# model.add(Softmax(128))\n",
    "model.summary()\n",
    "\n",
    "#compile model using accuracy to measure model performance\n",
    "\n",
    "\n",
    "adam = optimizers.Adam(lr=0.0001, beta_1=0.9, beta_2=0.999)\n",
    "# model.compile(loss='hinge', optimizer=adam, metrics=[kmetr.categorical_accuracy])\n",
    "model.compile(optimizer='adam', loss='categorical_crossentropy', metrics=['accuracy']) ## Minist\n",
    "\n",
    "### Load the model's saved weights.\n",
    "# model.load_weights('model with zeros_3Epoch_revised.h5')"
   ]
  },
  {
   "cell_type": "code",
   "execution_count": 17,
   "metadata": {},
   "outputs": [
    {
     "data": {
      "image/png": "[encoded data removed]",
      "text/plain": [
       "<IPython.core.display.Image object>"
      ]
     },
     "execution_count": 17,
     "metadata": {},
     "output_type": "execute_result"
    }
   ],
   "source": [
    "#### plotting model\n",
    "plot_model(model,show_shapes = True, to_file='modelTripleDDIPrediction.png')"
   ]
  },
  {
   "cell_type": "code",
   "execution_count": null,
   "metadata": {},
   "outputs": [
    {
     "name": "stdout",
     "output_type": "stream",
     "text": [
      "WARNING:tensorflow:From /home/amin/.local/lib/python3.6/site-packages/tensorflow/python/ops/math_grad.py:1250: add_dispatch_support.<locals>.wrapper (from tensorflow.python.ops.array_ops) is deprecated and will be removed in a future version.\n",
      "Instructions for updating:\n",
      "Use tf.where in 2.0, which has the same broadcast rule as np.where\n",
      "Train on 65800 samples, validate on 6902 samples\n",
      "Epoch 1/16\n",
      "28192/65800 [===========>..................] - ETA: 3:10 - loss: 0.7475 - acc: 0.6581"
     ]
    }
   ],
   "source": [
    "# #### train the model\n",
    "model.fit(X_train, y_train, validation_data=(X_test, y_test), epochs=16)\n",
    "# model.fit(X_train, y_train, epochs=10)\n"
   ]
  },
  {
   "cell_type": "code",
   "execution_count": null,
   "metadata": {},
   "outputs": [],
   "source": [
    "### Saveing the Model\n",
    "model.save_weights('modelTripleDDIPrediction_16_Epoch.h5')\n"
   ]
  },
  {
   "cell_type": "code",
   "execution_count": null,
   "metadata": {},
   "outputs": [],
   "source": [
    "predit = model.predict(X_test)\n",
    "#actual results for first 4 images in test set\n",
    "# print(predit[:4],X_test[:4,2])"
   ]
  },
  {
   "cell_type": "code",
   "execution_count": null,
   "metadata": {},
   "outputs": [],
   "source": [
    "print(predit[:4])"
   ]
  },
  {
   "cell_type": "code",
   "execution_count": null,
   "metadata": {},
   "outputs": [],
   "source": [
    "# #from sklearn.metrics import precision_recall_curve, roc_curve\n",
    "\n",
    "prec, rec, thr = precision_recall_curve(y_test[:,0], predit[:,0])\n",
    "aupr_val = auc(rec, prec)\n",
    "fpr, tpr, thr = roc_curve(y_test[:,0], predit[:,0])\n",
    "auc_val = auc(fpr, tpr)\n",
    "print(aupr_val,auc_val, \" -1s AUPR and AUC\")\n",
    "print('''\n",
    "Epoch 03: 72 Aupr\n",
    "Epoch 04: 76 Aupr\n",
    "Epoch 05: 78 Aupr\n",
    "Epoch 06: 79 Aupr\n",
    "Epoch 07: 80 Aupr\n",
    "Epoch 08: 82 Aupr\n",
    "Epoch 09: 81 Aupr\n",
    "Epoch 10: 82 Aupr\n",
    "Epoch 11: 79 Aupr\n",
    "Epoch 12: 79 Aupr\n",
    "Epoch 13: 80 Aupr\n",
    "Epoch 13: 81 Aupr\n",
    "''')"
   ]
  },
  {
   "cell_type": "code",
   "execution_count": null,
   "metadata": {},
   "outputs": [],
   "source": [
    "# #from sklearn.metrics import precision_recall_curve, roc_curve\n",
    "\n",
    "prec, rec, thr = precision_recall_curve(y_test[:,2], predit[:,2])\n",
    "aupr_val = auc(rec, prec)\n",
    "fpr, tpr, thr = roc_curve(y_test[:,2], predit[:,2])\n",
    "auc_val = auc(fpr, tpr)\n",
    "print(aupr_val,auc_val, \" +1s AUPR and AUC\")\n",
    "print('''\n",
    "Epoch 03: 95 Aupr\n",
    "Epoch 04: 96 Aupr\n",
    "Epoch 05: 96 Aupr\n",
    "Epoch 06: 96 Aupr\n",
    "Epoch 07: 96 Aupr\n",
    "Epoch 08: 97 Aupr\n",
    "Epoch 09: 97 Aupr\n",
    "Epoch 10: 97 Aupr\n",
    "Epoch 11: 95 Aupr\n",
    "Epoch 12: 95 Aupr\n",
    "Epoch 13: 95 Aupr\n",
    "''')"
   ]
  },
  {
   "cell_type": "code",
   "execution_count": null,
   "metadata": {},
   "outputs": [],
   "source": [
    "# #from sklearn.metrics import precision_recall_curve, roc_curve\n",
    "\n",
    "prec, rec, thr = precision_recall_curve(y_test[:,1], predit[:,1])\n",
    "aupr_val = auc(rec, prec)\n",
    "fpr, tpr, thr = roc_curve(y_test[:,1], predit[:,1])\n",
    "auc_val = auc(fpr, tpr)\n",
    "print(aupr_val,auc_val, \" 0s AUPR and AUC\")\n",
    "print('''\n",
    "Epoch 03: 95 Aupr\n",
    "Epoch 03: 96 Aupr\n",
    "Epoch 05: 96 Aupr\n",
    "Epoch 06: 96 Aupr\n",
    "Epoch 07: 96 Aupr\n",
    "Epoch 08: 96 Aupr\n",
    "Epoch 09: 97 Aupr\n",
    "Epoch 10: 96 Aupr\n",
    "Epoch 11: 96 Aupr\n",
    "Epoch 12: 96 Aupr\n",
    "Epoch 13: 96 Aupr\n",
    "''')"
   ]
  },
  {
   "cell_type": "code",
   "execution_count": null,
   "metadata": {},
   "outputs": [],
   "source": [
    "model.history.history"
   ]
  },
  {
   "cell_type": "code",
   "execution_count": null,
   "metadata": {
    "scrolled": false
   },
   "outputs": [],
   "source": [
    "\n",
    "# Plot training & validation accuracy values\n",
    "plt.plot(list(range(1,17)),model.history.history['acc'])\n",
    "plt.plot(list(range(1,17)),model.history.history['val_acc'])\n",
    "plt.title('Model accuracy')\n",
    "plt.ylabel('Accuracy')\n",
    "plt.xlabel('Epoch')\n",
    "plt.legend(['Train', 'Test'], loc='upper left')\n",
    "plt.show()\n",
    "\n",
    "# Plot training & validation loss values\n",
    "plt.plot(list(range(1,17)),model.history.history['loss'])\n",
    "plt.plot(list(range(1,17)),model.history.history['val_loss'])\n",
    "plt.title('Model loss')\n",
    "plt.ylabel('Loss')\n",
    "plt.xlabel('Epoch')\n",
    "plt.legend(['Train', 'Test'], loc='upper left')\n",
    "plt.show()"
   ]
  },
  {
   "cell_type": "code",
   "execution_count": null,
   "metadata": {},
   "outputs": [],
   "source": [
    "# # predit\n",
    "# predit[:,0].shape "
   ]
  },
  {
   "cell_type": "code",
   "execution_count": null,
   "metadata": {
    "scrolled": false
   },
   "outputs": [],
   "source": [
    "predicts = []\n",
    "for a,b,c in predit:\n",
    "    if a >b and a>c:\n",
    "        predicts.append(0)\n",
    "    elif c>a and c>b:\n",
    "        predicts.append(2)\n",
    "    else:\n",
    "        predicts.append(1)"
   ]
  },
  {
   "cell_type": "code",
   "execution_count": null,
   "metadata": {},
   "outputs": [],
   "source": [
    "predicts1 = []\n",
    "e = d = z = 0\n",
    "\n",
    "for a,b,c in predit:\n",
    "    if a >=0.95:\n",
    "        predicts1.append(0)\n",
    "        d += 1\n",
    "    elif b>=0.95:\n",
    "        predicts1.append(2)\n",
    "        e += 1\n",
    "    elif a<=0.2 and b<=0.2:\n",
    "        predicts1.append(1)\n",
    "        z += 1\n",
    "    elif c>a and c>b:\n",
    "        predicts1.append(1)\n",
    "        z += 1\n",
    "print('degrassive', d, 'enhancive', e, 'zeros', z)\n",
    "print('''\n",
    "Epoch 03: degrassive 195 enhancive 732 zeros 3609\n",
    "Epoch 04: degrassive 209 enhancive 747 zeros 3649\n",
    "Epoch 05: degrassive 218 enhancive 720 zeros 3663\n",
    "Epoch 06: degrassive 244 enhancive 797 zeros 3722\n",
    "Epoch 07: degrassive 221 enhancive 848 zeros 3721\n",
    "Epoch 08: degrassive 206 enhancive 729 zeros 3821\n",
    "Epoch 09: degrassive 155 enhancive 961 zeros 3838\n",
    "Epoch 10: degrassive 155 enhancive 750 zeros 3960\n",
    "Epoch 11: degrassive 375 enhancive 1254 zeros 3476\n",
    "Epoch 12: degrassive 395 enhancive 1093 zeros 3571\n",
    "Epoch 13: degrassive 273 enhancive 873 zeros 3590\n",
    "''')"
   ]
  },
  {
   "cell_type": "code",
   "execution_count": null,
   "metadata": {},
   "outputs": [],
   "source": [
    "# max(list((dataTest.values[:,2]+1)/2))"
   ]
  },
  {
   "cell_type": "code",
   "execution_count": null,
   "metadata": {
    "scrolled": false
   },
   "outputs": [],
   "source": [
    "\n",
    "cm = confusion_matrix(list(predicts), list((dataTest.values[:,2]+1)))\n",
    "print(cm)\n",
    "\n",
    "CR = classification_report(list((dataTest.values[:,2]+1)),list(predicts))\n",
    "print(CR)\n",
    "# print((92+90+140+67+42+81)/(6950))\n",
    "# i=0\n",
    "# for j in list(data.values[9500:,2]+1):\n",
    "#     if j==1:\n",
    "#         i +=1\n",
    "# print(i)\n",
    "\n",
    "# plt.show()\n",
    "plot_confusion_matrix_from_data(list((dataTest.values[:,2]+1)), list(predicts))\n",
    "plt.show()\n",
    "print(\"\"\"\n",
    "Epoch 03: \n",
    "              precision    recall  f1-score   support\n",
    "\n",
    "           0       0.79      0.67      0.72       914\n",
    "           1       0.93      0.94      0.93      2000\n",
    "           2       0.92      0.95      0.93      3396\n",
    "Epoch 04:\n",
    "              precision    recall  f1-score   support\n",
    "\n",
    "           0       0.84      0.71      0.77       914\n",
    "           1       0.93      0.95      0.94      2000\n",
    "           2       0.93      0.96      0.95      3396\n",
    "Epoch 05:\n",
    "              precision    recall  f1-score   support\n",
    "\n",
    "           0       0.85      0.75      0.80       914\n",
    "           1       0.94      0.97      0.95      2000\n",
    "           2       0.95      0.96      0.95      3396\n",
    "Epoch 06:\n",
    "              precision    recall  f1-score   support\n",
    "\n",
    "           0       0.85      0.77      0.81       914\n",
    "           1       0.94      0.96      0.95      2000\n",
    "           2       0.95      0.96      0.95      3396\n",
    "Epoch 07:\n",
    "              precision    recall  f1-score   support\n",
    "\n",
    "           0       0.87      0.78      0.82       914\n",
    "           1       0.94      0.97      0.95      2000\n",
    "           2       0.96      0.96      0.96      3396\n",
    "Epoch 08: \n",
    "              precision    recall  f1-score   support\n",
    "\n",
    "           0       0.88      0.81      0.84       914\n",
    "           1       0.95      0.97      0.96      2000\n",
    "           2       0.95      0.96      0.96      3396\n",
    "Epoch 09:\n",
    "              precision    recall  f1-score   support\n",
    "\n",
    "           0       0.92      0.76      0.83       914\n",
    "           1       0.93      0.98      0.95      2000\n",
    "           2       0.96      0.97      0.96      3396\n",
    "Epoch 10:\n",
    "              precision    recall  f1-score   support\n",
    "\n",
    "           0       0.90      0.79      0.84       914\n",
    "           1       0.95      0.97      0.96      2000\n",
    "           2       0.96      0.97      0.96      3396\n",
    "\"\"\")"
   ]
  },
  {
   "cell_type": "code",
   "execution_count": null,
   "metadata": {},
   "outputs": [],
   "source": [
    "# print(pd.DataFrame(predit))"
   ]
  },
  {
   "cell_type": "code",
   "execution_count": null,
   "metadata": {},
   "outputs": [],
   "source": [
    "pd.DataFrame(predit).plot.density()\n",
    "plt.show()"
   ]
  },
  {
   "cell_type": "code",
   "execution_count": null,
   "metadata": {},
   "outputs": [],
   "source": [
    "pd.DataFrame(predit).iloc[:,0].plot.density()\n",
    "plt.show()"
   ]
  },
  {
   "cell_type": "code",
   "execution_count": null,
   "metadata": {},
   "outputs": [],
   "source": [
    "pd.DataFrame(predit).iloc[:,1].plot.density()\n",
    "plt.show()"
   ]
  },
  {
   "cell_type": "code",
   "execution_count": null,
   "metadata": {},
   "outputs": [],
   "source": [
    "pd.DataFrame(predit).iloc[:,2].plot.density()\n",
    "plt.show()"
   ]
  },
  {
   "cell_type": "code",
   "execution_count": null,
   "metadata": {},
   "outputs": [],
   "source": [
    "\n",
    "fig, ax = plt.subplots()\n",
    "fig.set_size_inches(16,8)\n",
    "\n",
    "# matplotlib histogram\n",
    "# plt.hist(pd.DataFrame(predit).iloc[:,1], color = 'blue', edgecolor = 'black',\n",
    "#          bins = int(200))\n",
    "\n",
    "# seaborn histogram\n",
    "\n",
    "sns.distplot(pd.DataFrame(predit).iloc[:,0], hist=True, kde=False, \n",
    "             bins=int(100), color = 'red',\n",
    "             hist_kws={'edgecolor':'black'})\n",
    "# sns.distplot(pd.DataFrame(predit).iloc[:,0], hist=True, kde=True, \n",
    "#              bins=int(200), color = 'darkblue', \n",
    "#              hist_kws={'edgecolor':'black'},\n",
    "#              kde_kws={'linewidth': 4})\n",
    "# Add labels\n",
    "plt.title('frequency Histogram of Drugs')\n",
    "plt.xlabel('Degressive drugs Probability')\n",
    "plt.ylabel('frequency distribution')\n",
    "plt.show()"
   ]
  },
  {
   "cell_type": "code",
   "execution_count": null,
   "metadata": {},
   "outputs": [],
   "source": [
    "fig, ax = plt.subplots()\n",
    "fig.set_size_inches(16, 8)\n",
    "\n",
    "# matplotlib histogram\n",
    "# plt.hist(pd.DataFrame(predit).iloc[:,1], color = 'blue', edgecolor = 'black',\n",
    "#          bins = int(200))\n",
    "\n",
    "# seaborn histogram\n",
    "sns.distplot(pd.DataFrame(predit).iloc[:,1], hist=True, kde=False, \n",
    "             bins=int(100), color = 'blue',\n",
    "             hist_kws={'edgecolor':'black'})\n",
    "\n",
    "# sns.distplot(pd.DataFrame(predit).iloc[:,0], hist=True, kde=True, \n",
    "#              bins=int(200), color = 'darkblue', \n",
    "#              hist_kws={'edgecolor':'black'},\n",
    "#              kde_kws={'linewidth': 4})\n",
    "# Add labels\n",
    "plt.title('frequency Histogram of Drugs')\n",
    "plt.xlabel('Enhancive drugs Probability')\n",
    "plt.ylabel('frequency distribution')\n",
    "plt.show()"
   ]
  },
  {
   "cell_type": "code",
   "execution_count": null,
   "metadata": {},
   "outputs": [],
   "source": [
    "\n",
    "fig, ax = plt.subplots()\n",
    "fig.set_size_inches(16,8)\n",
    "\n",
    "# matplotlib histogram\n",
    "# plt.hist(pd.DataFrame(predit).iloc[:,1], color = 'blue', edgecolor = 'black',\n",
    "#          bins = int(200))\n",
    "\n",
    "# seaborn histogram\n",
    "\n",
    "sns.distplot(pd.DataFrame(predit).iloc[:,2], hist=True, kde=False, \n",
    "             bins=int(100), color = 'red',\n",
    "             hist_kws={'edgecolor':'black'})\n",
    "# sns.distplot(pd.DataFrame(predit).iloc[:,0], hist=True, kde=True, \n",
    "#              bins=int(200), color = 'darkblue', \n",
    "#              hist_kws={'edgecolor':'black'},\n",
    "#              kde_kws={'linewidth': 4})\n",
    "# Add labels\n",
    "plt.title('frequency Histogram of Drugs')\n",
    "plt.xlabel('Zero drugs Probability')\n",
    "plt.ylabel('frequency distribution')\n",
    "plt.show()"
   ]
  },
  {
   "cell_type": "code",
   "execution_count": null,
   "metadata": {},
   "outputs": [],
   "source": [
    "\n",
    "fig, ax = plt.subplots()\n",
    "fig.set_size_inches(16,8)\n",
    "\n",
    "# matplotlib histogram\n",
    "# plt.hist(pd.DataFrame(predit).iloc[:,1], color = 'blue', edgecolor = 'black',\n",
    "#          bins = int(200))\n",
    "\n",
    "# seaborn histogram\n",
    "sns.distplot(pd.DataFrame(predit).iloc[:,1], hist=True, kde=False, \n",
    "             bins=int(100), color = 'blue',\n",
    "             hist_kws={'edgecolor':'black'})\n",
    "\n",
    "sns.distplot(pd.DataFrame(predit).iloc[:,0], hist=True, kde=False, \n",
    "             bins=int(100), color = 'red',\n",
    "             hist_kws={'edgecolor':'black'})\n",
    "\n",
    "sns.distplot(pd.DataFrame(predit).iloc[:,2], hist=True, kde=False, \n",
    "             bins=int(100), color = 'red',\n",
    "             hist_kws={'edgecolor':'black'})\n",
    "# sns.distplot(pd.DataFrame(predit).iloc[:,0], hist=True, kde=True, \n",
    "#              bins=int(200), color = 'darkblue', \n",
    "#              hist_kws={'edgecolor':'black'},\n",
    "#              kde_kws={'linewidth': 4})\n",
    "# Add labels\n",
    "plt.title('frequency Histogram of Drugs')\n",
    "plt.xlabel('both of Degressive and Enhancive drugs Probability')\n",
    "plt.ylabel('frequency distribution')\n",
    "plt.show()"
   ]
  },
  {
   "cell_type": "code",
   "execution_count": null,
   "metadata": {},
   "outputs": [],
   "source": []
  }
 ],
 "metadata": {
  "kernelspec": {
   "display_name": "Python 3",
   "language": "python",
   "name": "python3"
  },
  "language_info": {
   "codemirror_mode": {
    "name": "ipython",
    "version": 3
   },
   "file_extension": ".py",
   "mimetype": "text/x-python",
   "name": "python",
   "nbconvert_exporter": "python",
   "pygments_lexer": "ipython3",
   "version": "3.6.9"
  }
 },
 "nbformat": 4,
 "nbformat_minor": 2
}
