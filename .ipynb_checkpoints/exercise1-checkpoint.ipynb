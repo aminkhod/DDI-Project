{
 "cells": [
  {
   "cell_type": "code",
   "execution_count": 1,
   "metadata": {},
   "outputs": [],
   "source": [
    "import numpy as np\n",
    "import pandas as pd"
   ]
  },
  {
   "cell_type": "code",
   "execution_count": 2,
   "metadata": {},
   "outputs": [
    {
     "name": "stderr",
     "output_type": "stream",
     "text": [
      "c:\\program files\\python36\\lib\\site-packages\\IPython\\core\\interactiveshell.py:3020: DtypeWarning: Columns (1,2,3,4,5,6,7,8,9,10,11,12,13,14,15,16,17,18,19,20,21,22,23,24,25,26,27,28,29,30,31,32,33,34,35,36,37,38,39,40,41,42,43,44,45,46,47,48,49,50,51,52,53,54,55,56,57,58,59,60,61,62,63,64,65,66,67,68,69,70,71,72,73,74,75,76,77,78,79,80,81,82,83,84,85,86,87,88,89,90,91,92,93,94,95,96,97,98,99,100,101,102,103,104,105,106,107,108,109,110,111,112,113,114,115,116,117,118,119,120,121,122,123,124,125,126,127,128,129,130,131,132,133,134,135,136,137,138,139,140,141,142,143,144,145,146,147,148,149,150,151,152,153,154,155,156,157,158,159,160,161,162,163,164,165,166,167,168,169,170,171,172,173,174,175,176,177,178,179,180,181,182,183,184,185,186,187,188,189,190,191,192,193,194,195,196,197,198,199,200,201,202,203,204,205,206,207,208,209,210,211,212,213,214,215,216,217,218,219,220,221,222,223,224,225,226,227,228,229,230,231,232,233,234,235,236,237,238,239,240,241,242,243,244,245,246,247,248,249,250,251,252,253,254,255,256,257,258,259,260,261,262,263,264,265,266,267,268,269,270,271,272,273,274,275,276,277,278,279,280,281,282,283,284,285,286,287,288,289,290,291,292,293,294,295,296,297,298,299,300) have mixed types. Specify dtype option on import or set low_memory=False.\n",
      "  interactivity=interactivity, compiler=compiler, result=result)\n"
     ]
    }
   ],
   "source": [
    "excel_file='drug_drug_matrix.csv'\n",
    "drug=pd.read_csv(excel_file,header=None)\n",
    "df='drug_list (1).csv'\n",
    "DF=pd.read_csv(df,header=None)\n",
    "d='drugs.csv'\n",
    "D=pd.read_csv(d,header=None)"
   ]
  },
  {
   "cell_type": "code",
   "execution_count": 3,
   "metadata": {},
   "outputs": [
    {
     "name": "stdout",
     "output_type": "stream",
     "text": [
      "54 DB00659\n",
      "122 DB00200\n",
      "162 DB00194\n",
      "166 DB00558\n",
      "242 DB02379\n",
      "261 DB00873\n",
      "340 DB01260\n",
      "379 DB00874\n",
      "386 DB04441\n",
      "433 DB00538\n",
      "434 DB06151\n",
      "495 DB00225\n",
      "542 DB00878\n",
      "543 DB00632\n",
      "547 DB02530\n"
     ]
    }
   ],
   "source": [
    "import numpy as np\n",
    "druglist=[]\n",
    "mismatch=[]\n",
    "for j in range(2524):\n",
    "    druglist.insert(j,D.loc[j][0])\n",
    "for i in range(548):\n",
    "    if not DF.loc[i][1] in (druglist):\n",
    "            print(i,DF.loc[i][1])\n",
    "            mismatch.insert(i,DF.loc[i][1])\n",
    "            DF=DF.drop([i])\n",
    "            drug=drug.drop([i],axis=0)\n",
    "            drug=drug.drop([i],axis=1)"
   ]
  },
  {
   "cell_type": "code",
   "execution_count": 4,
   "metadata": {},
   "outputs": [],
   "source": [
    "# DF"
   ]
  },
  {
   "cell_type": "code",
   "execution_count": null,
   "metadata": {},
   "outputs": [],
   "source": [
    "# drug"
   ]
  },
  {
   "cell_type": "code",
   "execution_count": null,
   "metadata": {},
   "outputs": [],
   "source": [
    "# D"
   ]
  },
  {
   "cell_type": "code",
   "execution_count": null,
   "metadata": {},
   "outputs": [],
   "source": [
    "DF.to_csv(\"saved DF.csv\",index=False)\n",
    "DF = pd.read_csv(\"saved DF.csv\", header=0)\n",
    "drug.to_csv('saved drug.csv',index=False)\n",
    "drug = pd.read_csv('saved drug.csv', header=0)\n"
   ]
  },
  {
   "cell_type": "code",
   "execution_count": null,
   "metadata": {},
   "outputs": [],
   "source": [
    "finalmatrix=[]\n",
    "for i in range(533):\n",
    "    for j in range(533):\n",
    "        result=[DF.loc[i][1],DF.loc[j][1],drug.loc[i][j]]\n",
    "#         print(result)\n",
    "        finalmatrix.append(result)"
   ]
  },
  {
   "cell_type": "code",
   "execution_count": null,
   "metadata": {},
   "outputs": [],
   "source": [
    "F = pd.DataFrame(finalmatrix)\n",
    "del finalmatrix"
   ]
  },
  {
   "cell_type": "code",
   "execution_count": null,
   "metadata": {},
   "outputs": [],
   "source": [
    "D.shape"
   ]
  },
  {
   "cell_type": "code",
   "execution_count": null,
   "metadata": {},
   "outputs": [],
   "source": [
    "for K in range(1, 301):\n",
    "    F[K+2] = F[1].map(D.set_index(0)[K])\n",
    "    K = K + 1"
   ]
  },
  {
   "cell_type": "code",
   "execution_count": null,
   "metadata": {},
   "outputs": [],
   "source": [
    "# F"
   ]
  },
  {
   "cell_type": "code",
   "execution_count": null,
   "metadata": {},
   "outputs": [],
   "source": [
    "F.to_csv(\"saved F.csv\",index=False)"
   ]
  },
  {
   "cell_type": "code",
   "execution_count": null,
   "metadata": {},
   "outputs": [],
   "source": [
    "F=pd.read_csv('saved F.csv',header=0)\n",
    "F.shape"
   ]
  },
  {
   "cell_type": "code",
   "execution_count": null,
   "metadata": {},
   "outputs": [],
   "source": [
    "i = 0\n",
    "for i in range(0, 284090, 533):\n",
    "    \n",
    "    try:\n",
    "        \n",
    "        F = F.drop([i])\n",
    "        print(i)\n",
    "    except:\n",
    "        1\n",
    "#         print(str(i)+ \" can't be droped\")\n",
    "    i += 1\n",
    "F.shape"
   ]
  },
  {
   "cell_type": "code",
   "execution_count": null,
   "metadata": {},
   "outputs": [],
   "source": [
    "F.to_csv(\"saved F.csv\",index=False)\n",
    "F.shape"
   ]
  },
  {
   "cell_type": "code",
   "execution_count": null,
   "metadata": {},
   "outputs": [],
   "source": []
  }
 ],
 "metadata": {
  "kernelspec": {
   "display_name": "Python 3",
   "language": "python",
   "name": "python3"
  },
  "language_info": {
   "codemirror_mode": {
    "name": "ipython",
    "version": 3
   },
   "file_extension": ".py",
   "mimetype": "text/x-python",
   "name": "python",
   "nbconvert_exporter": "python",
   "pygments_lexer": "ipython3",
   "version": "3.6.7"
  }
 },
 "nbformat": 4,
 "nbformat_minor": 2
}
