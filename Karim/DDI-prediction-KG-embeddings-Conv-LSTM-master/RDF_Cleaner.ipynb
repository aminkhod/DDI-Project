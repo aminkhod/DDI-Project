{
 "cells": [
  {
   "cell_type": "code",
   "execution_count": null,
   "metadata": {},
   "outputs": [],
   "source": [
    "import re\n",
    "\n",
    "pattern = re.compile(r\"(.*)(\\\".*\\\")(.*)\")\n",
    "three_tags_pattern = re.compile(r\"(\\<[^\\>\\<]*\\> \\<[^\\>\\<]*\\> \\<[^\\<\\>]*\\>)(.*)\")\n",
    "\n",
    "\n",
    "with open(\"drugbank_v5.nq\", \"r\") as input_file, open(\"result2.txt\", \"w+\") as output_file:\n",
    "    for line in input_file:\n",
    "        match = pattern.match(line)\n",
    "        if match is None:\n",
    "            new_match = three_tags_pattern.match(line)\n",
    "            result = \"{} .\".format(new_match.group(1).replace(\" \", \"\"))\n",
    "        else:\n",
    "            result = \"{} {}.\".format(match.group(1).replace(\" \", \"\"), match.group(2).strip())\n",
    "        result = result.replace(\"><\", \"> <\")\n",
    "        print(result, file=output_file)"
   ]
  }
 ],
 "metadata": {
  "kernelspec": {
   "display_name": "Python 3",
   "language": "python",
   "name": "python3"
  },
  "language_info": {
   "codemirror_mode": {
    "name": "ipython",
    "version": 3
   },
   "file_extension": ".py",
   "mimetype": "text/x-python",
   "name": "python",
   "nbconvert_exporter": "python",
   "pygments_lexer": "ipython3",
   "version": "3.6.7"
  }
 },
 "nbformat": 4,
 "nbformat_minor": 2
}
