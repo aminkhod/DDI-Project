{
 "cells": [
  {
   "cell_type": "code",
   "execution_count": 23,
   "metadata": {},
   "outputs": [],
   "source": [
    "import csv\n",
    "import numpy as np\n",
    "import sys\n",
    "import pandas as pd\n",
    "import itertools\n",
    "import math\n",
    "import time\n",
    "\n",
    "from sklearn import svm, linear_model, neighbors\n",
    "from sklearn import tree, ensemble\n",
    "from sklearn import metrics\n",
    "from sklearn.naive_bayes import GaussianNB\n",
    "from sklearn.neighbors import KNeighborsClassifier\n",
    "\n",
    "import networkx as nx\n",
    "import random\n",
    "import numbers\n",
    "\n",
    "from sklearn.model_selection import StratifiedKFold\n",
    "\n",
    "from src import ml"
   ]
  },
  {
   "cell_type": "code",
   "execution_count": 2,
   "metadata": {},
   "outputs": [],
   "source": [
    "import findspark\n",
    "findspark.init(\"C:/Users/admin-karim/Downloads/spark-2.2.0-bin-hadoop2.7\")\n",
    "\n",
    "from pyspark import SparkConf, SparkContext"
   ]
  },
  {
   "cell_type": "code",
   "execution_count": 3,
   "metadata": {},
   "outputs": [
    {
     "name": "stdout",
     "output_type": "stream",
     "text": [
      "<SparkContext master=local[5] appName=pyspark-shell>\n"
     ]
    }
   ],
   "source": [
    "if False: \n",
    "    sc.stop()\n",
    "\n",
    "config = SparkConf()\n",
    "config.setMaster(\"local[5]\")\n",
    "config.set(\"spark.executor.memory\", \"8g\")\n",
    "config.set('spark.driver.memory', '12g')\n",
    "config.set(\"spark.memory.offHeap.enabled\",True)\n",
    "config.set(\"spark.memory.offHeap.size\",\"20g\") \n",
    "sc = SparkContext(conf=config)\n",
    "print (sc)"
   ]
  },
  {
   "cell_type": "code",
   "execution_count": 12,
   "metadata": {},
   "outputs": [],
   "source": [
    "def ddiDataGenerator(ddi_list, vectors):\n",
    "    ddi_df = pd.read_csv(ddi_list, sep='\\t')\n",
    "\n",
    "    embedding_df = pd.read_csv(vectors, delimiter = '\\t') \n",
    "\n",
    "    embedding_df.Entity = embedding_df.Entity.str[-8:-1]\n",
    "    embedding_df.rename(columns = {'Entity':'Drug'}, inplace = True)\n",
    "\n",
    "    len(set(ddi_df.Drug1.unique()).union(ddi_df.Drug2.unique()) )\n",
    "    pairs, classes = ml.generatePairs(ddi_df, embedding_df)\n",
    "    \n",
    "    return pairs, classes, embedding_df"
   ]
  },
  {
   "cell_type": "markdown",
   "metadata": {},
   "source": [
    "# Drugbank v5  RDF2Vec SG "
   ]
  },
  {
   "cell_type": "code",
   "execution_count": 17,
   "metadata": {},
   "outputs": [
    {
     "data": {
      "text/html": [
       "<div>\n",
       "<style scoped>\n",
       "    .dataframe tbody tr th:only-of-type {\n",
       "        vertical-align: middle;\n",
       "    }\n",
       "\n",
       "    .dataframe tbody tr th {\n",
       "        vertical-align: top;\n",
       "    }\n",
       "\n",
       "    .dataframe thead th {\n",
       "        text-align: right;\n",
       "    }\n",
       "</style>\n",
       "<table border=\"1\" class=\"dataframe\">\n",
       "  <thead>\n",
       "    <tr style=\"text-align: right;\">\n",
       "      <th></th>\n",
       "      <th>Drug1</th>\n",
       "      <th>Drug2</th>\n",
       "    </tr>\n",
       "  </thead>\n",
       "  <tbody>\n",
       "    <tr>\n",
       "      <th>0</th>\n",
       "      <td>DB04868</td>\n",
       "      <td>DB09199</td>\n",
       "    </tr>\n",
       "    <tr>\n",
       "      <th>1</th>\n",
       "      <td>DB01623</td>\n",
       "      <td>DB00804</td>\n",
       "    </tr>\n",
       "    <tr>\n",
       "      <th>2</th>\n",
       "      <td>DB01021</td>\n",
       "      <td>DB08931</td>\n",
       "    </tr>\n",
       "    <tr>\n",
       "      <th>3</th>\n",
       "      <td>DB01208</td>\n",
       "      <td>DB09321</td>\n",
       "    </tr>\n",
       "    <tr>\n",
       "      <th>4</th>\n",
       "      <td>DB06754</td>\n",
       "      <td>DB07477</td>\n",
       "    </tr>\n",
       "  </tbody>\n",
       "</table>\n",
       "</div>"
      ],
      "text/plain": [
       "      Drug1     Drug2\n",
       "0  DB04868    DB09199\n",
       "1  DB01623    DB00804\n",
       "2  DB01021    DB08931\n",
       "3  DB01208    DB09321\n",
       "4  DB06754    DB07477"
      ]
     },
     "execution_count": 17,
     "metadata": {},
     "output_type": "execute_result"
    }
   ],
   "source": [
    "ddi_list = 'input/full_DDI.txt'\n",
    "vectors = 'vectors/RDF2Vec_cbow_300_5_5_2_500_d5_uniform.txt'\n",
    "\n",
    "ddi_df = pd.read_csv(ddi_list, sep='\\t')\n",
    "ddi_df.head()"
   ]
  },
  {
   "cell_type": "code",
   "execution_count": 18,
   "metadata": {},
   "outputs": [],
   "source": [
    "pairs, classes, embedding_df = ddiDataGenerator(ddi_list, vectors)"
   ]
  },
  {
   "cell_type": "code",
   "execution_count": 19,
   "metadata": {},
   "outputs": [
    {
     "name": "stdout",
     "output_type": "stream",
     "text": [
      "[['DB00005' 'DB00007']\n",
      " ['DB00005' 'DB00009']\n",
      " ['DB00005' 'DB00014']\n",
      " ...\n",
      " ['DB08811' 'DB08816']\n",
      " ['DB08811' 'DB08819']\n",
      " ['DB08816' 'DB08819']]\n"
     ]
    }
   ],
   "source": [
    "print(pairs)"
   ]
  },
  {
   "cell_type": "code",
   "execution_count": 20,
   "metadata": {},
   "outputs": [
    {
     "name": "stdout",
     "output_type": "stream",
     "text": [
      "[0 0 0 ... 0 0 0]\n"
     ]
    }
   ],
   "source": [
    "print(classes)"
   ]
  },
  {
   "cell_type": "code",
   "execution_count": 21,
   "metadata": {},
   "outputs": [
    {
     "name": "stdout",
     "output_type": "stream",
     "text": [
      "      Drug  feature0  feature1  feature2  feature3  feature4  feature5  \\\n",
      "0  DB00001 -0.903437 -0.331749 -0.369652  0.439574  1.541132 -1.336791   \n",
      "1  DB08860  1.384768  0.363517  0.557544  2.626180  2.502104  1.148705   \n",
      "2  DB06605 -0.113727 -0.203172  1.686063  2.237446  1.583634  0.420009   \n",
      "3  DB06695  1.553845 -1.943734  0.040946  0.987024 -1.168784  0.878595   \n",
      "4  DB01254  1.605805 -0.298084  0.441323  2.509530  2.398917 -1.055412   \n",
      "\n",
      "   feature6  feature7  feature8     ...      feature290  feature291  \\\n",
      "0 -1.635298 -0.560466  0.000102     ...       -0.694317   -0.008376   \n",
      "1 -3.365903 -1.807856 -1.510181     ...        1.365525   -0.723049   \n",
      "2 -1.796523 -1.203906 -2.252901     ...        0.673704   -0.146191   \n",
      "3 -0.538334  0.557914 -0.010863     ...        0.997751   -0.345845   \n",
      "4  0.433553 -2.312896 -0.097910     ...        2.142729   -0.245621   \n",
      "\n",
      "   feature292  feature293  feature294  feature295  feature296  feature297  \\\n",
      "0    0.411577    0.432441    0.777116    0.081497    0.870548    0.428174   \n",
      "1    1.239299   -0.514180   -0.051110    0.627170    2.924956    1.248235   \n",
      "2    1.719473   -1.306523    0.696576   -1.050315    2.090180    1.084697   \n",
      "3   -0.232929   -1.119504   -0.570450   -0.270374    1.786494    0.915425   \n",
      "4    2.198764    0.150174    1.664038    0.031736    1.193334    1.351188   \n",
      "\n",
      "   feature298  feature299  \n",
      "0   -0.388969    0.991831  \n",
      "1   -3.177874   -1.141148  \n",
      "2   -1.466035    0.911414  \n",
      "3   -0.208451   -1.183845  \n",
      "4   -1.815744   -0.674143  \n",
      "\n",
      "[5 rows x 301 columns]\n"
     ]
    }
   ],
   "source": [
    "print(embedding_df.head())"
   ]
  },
  {
   "cell_type": "code",
   "execution_count": 25,
   "metadata": {},
   "outputs": [],
   "source": [
    "KNN = KNeighborsClassifier(n_neighbors = 3)\n",
    "NB = GaussianNB()\n",
    "SVM = svm.SVC()\n",
    "LR = linear_model.LogisticRegression(C = 0.01)\n",
    "RF = ensemble.RandomForestClassifier(n_estimators = 5, n_jobs = -1)\n",
    "GBT = ensemble.GradientBoostingClassifier(n_estimators = 5, max_leaf_nodes = 3, max_depth = 3)\n",
    "\n",
    "clfs = [('LR',LR),('SVM',SVM),('NB',NB),('KNN',KNN),('GBT',GBT),('RF',LR)]"
   ]
  },
  {
   "cell_type": "code",
   "execution_count": null,
   "metadata": {},
   "outputs": [],
   "source": [
    "n_seed =100\n",
    "n_fold =5\n",
    "n_run =2\n",
    "n_proportion = 1\n",
    "scoreDF  = ml.kfoldCV(sc, pairs, classes, embedding_df, clfs, n_run, n_fold, n_proportion, n_seed)"
   ]
  },
  {
   "cell_type": "code",
   "execution_count": 52,
   "metadata": {},
   "outputs": [
    {
     "data": {
      "text/html": [
       "<div>\n",
       "<style scoped>\n",
       "    .dataframe tbody tr th:only-of-type {\n",
       "        vertical-align: middle;\n",
       "    }\n",
       "\n",
       "    .dataframe tbody tr th {\n",
       "        vertical-align: top;\n",
       "    }\n",
       "\n",
       "    .dataframe thead th {\n",
       "        text-align: right;\n",
       "    }\n",
       "</style>\n",
       "<table border=\"1\" class=\"dataframe\">\n",
       "  <thead>\n",
       "    <tr style=\"text-align: right;\">\n",
       "      <th></th>\n",
       "      <th>accuracy</th>\n",
       "      <th>average_precision</th>\n",
       "      <th>f1</th>\n",
       "      <th>fold</th>\n",
       "      <th>precision</th>\n",
       "      <th>recall</th>\n",
       "      <th>roc_auc</th>\n",
       "    </tr>\n",
       "    <tr>\n",
       "      <th>method</th>\n",
       "      <th></th>\n",
       "      <th></th>\n",
       "      <th></th>\n",
       "      <th></th>\n",
       "      <th></th>\n",
       "      <th></th>\n",
       "      <th></th>\n",
       "    </tr>\n",
       "  </thead>\n",
       "  <tbody>\n",
       "    <tr>\n",
       "      <th>Logistic Regression</th>\n",
       "      <td>0.708657</td>\n",
       "      <td>0.777289</td>\n",
       "      <td>0.708382</td>\n",
       "      <td>2.0</td>\n",
       "      <td>0.709047</td>\n",
       "      <td>0.707720</td>\n",
       "      <td>0.778547</td>\n",
       "    </tr>\n",
       "    <tr>\n",
       "      <th>Naive Bayes</th>\n",
       "      <td>0.649174</td>\n",
       "      <td>0.681024</td>\n",
       "      <td>0.633555</td>\n",
       "      <td>2.0</td>\n",
       "      <td>0.663073</td>\n",
       "      <td>0.606556</td>\n",
       "      <td>0.697719</td>\n",
       "    </tr>\n",
       "    <tr>\n",
       "      <th>Random Forest</th>\n",
       "      <td>0.837881</td>\n",
       "      <td>0.912630</td>\n",
       "      <td>0.842488</td>\n",
       "      <td>2.0</td>\n",
       "      <td>0.819206</td>\n",
       "      <td>0.867133</td>\n",
       "      <td>0.919453</td>\n",
       "    </tr>\n",
       "  </tbody>\n",
       "</table>\n",
       "</div>"
      ],
      "text/plain": [
       "                     accuracy  average_precision        f1  fold  precision  \\\n",
       "method                                                                        \n",
       "Logistic Regression  0.708657           0.777289  0.708382   2.0   0.709047   \n",
       "Naive Bayes          0.649174           0.681024  0.633555   2.0   0.663073   \n",
       "Random Forest        0.837881           0.912630  0.842488   2.0   0.819206   \n",
       "\n",
       "                       recall   roc_auc  \n",
       "method                                   \n",
       "Logistic Regression  0.707720  0.778547  \n",
       "Naive Bayes          0.606556  0.697719  \n",
       "Random Forest        0.867133  0.919453  "
      ]
     },
     "execution_count": 52,
     "metadata": {},
     "output_type": "execute_result"
    }
   ],
   "source": [
    "scoreDF .groupby(['method','run']).mean().groupby('method').mean()"
   ]
  },
  {
   "cell_type": "code",
   "execution_count": 53,
   "metadata": {},
   "outputs": [],
   "source": [
    "scoreDF .to_csv('Results/results/traditional/DB5/DBv5_TCV_run_cbow.csv',sep=',', index=False)"
   ]
  }
 ],
 "metadata": {
  "kernelspec": {
   "display_name": "Python 3",
   "language": "python",
   "name": "python3"
  },
  "language_info": {
   "codemirror_mode": {
    "name": "ipython",
    "version": 3
   },
   "file_extension": ".py",
   "mimetype": "text/x-python",
   "name": "python",
   "nbconvert_exporter": "python",
   "pygments_lexer": "ipython3",
   "version": "3.6.7"
  }
 },
 "nbformat": 4,
 "nbformat_minor": 2
}
